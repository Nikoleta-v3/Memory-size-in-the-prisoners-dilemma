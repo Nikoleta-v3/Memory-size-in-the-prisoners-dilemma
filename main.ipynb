{
 "cells": [
  {
   "cell_type": "code",
   "execution_count": 1,
   "metadata": {},
   "outputs": [],
   "source": [
    "import main"
   ]
  },
  {
   "cell_type": "markdown",
   "metadata": {},
   "source": [
    "**optimal memory one.**"
   ]
  },
  {
   "cell_type": "code",
   "execution_count": 2,
   "metadata": {},
   "outputs": [],
   "source": [
    "main.optimal_memory_one?"
   ]
  },
  {
   "cell_type": "code",
   "execution_count": 3,
   "metadata": {},
   "outputs": [],
   "source": [
    "p = [[0, 0, 0, 0], [1, 1, 1, 1]]\n",
    "turns, repetitions = 10, 2"
   ]
  },
  {
   "cell_type": "code",
   "execution_count": 4,
   "metadata": {},
   "outputs": [
    {
     "data": {
      "text/plain": [
       "([0.3976328337410643, 0.26334359096721843, 0.0, 0.0], 3.0, 2.95)"
      ]
     },
     "execution_count": 4,
     "metadata": {},
     "output_type": "execute_result"
    }
   ],
   "source": [
    "main.optimal_memory_one(opponents=p, turns=turns, repetitions=repetitions)"
   ]
  },
  {
   "cell_type": "markdown",
   "metadata": {},
   "source": [
    "**optimal gambler**"
   ]
  },
  {
   "cell_type": "code",
   "execution_count": 5,
   "metadata": {},
   "outputs": [],
   "source": [
    "main.optimal_gambler?"
   ]
  },
  {
   "cell_type": "code",
   "execution_count": 6,
   "metadata": {},
   "outputs": [
    {
     "data": {
      "text/plain": [
       "([0.0,\n",
       "  0.0,\n",
       "  0.0,\n",
       "  0.9460747026179566,\n",
       "  0.9634246327928588,\n",
       "  0.0,\n",
       "  0.613267232056333,\n",
       "  0.0,\n",
       "  0.0],\n",
       " 3.2)"
      ]
     },
     "execution_count": 6,
     "metadata": {},
     "output_type": "execute_result"
    }
   ],
   "source": [
    "main.optimal_gambler(opponents=p, turns=turns, repetitions=repetitions, params=[1, 1, 1])"
   ]
  },
  {
   "cell_type": "markdown",
   "metadata": {},
   "source": [
    "**writting file**"
   ]
  },
  {
   "cell_type": "code",
   "execution_count": 7,
   "metadata": {},
   "outputs": [],
   "source": [
    "index, folder = 0, 'matches'"
   ]
  },
  {
   "cell_type": "code",
   "execution_count": 8,
   "metadata": {},
   "outputs": [],
   "source": [
    "main.write_results(list_opponents=p, index=index, folder=folder, params=[1, 1, 1], turns=turns,\n",
    "                   repetitions=repetitions)"
   ]
  },
  {
   "cell_type": "code",
   "execution_count": 9,
   "metadata": {},
   "outputs": [],
   "source": [
    "import pandas as pd"
   ]
  },
  {
   "cell_type": "code",
   "execution_count": 10,
   "metadata": {},
   "outputs": [
    {
     "data": {
      "text/html": [
       "<div>\n",
       "<style scoped>\n",
       "    .dataframe tbody tr th:only-of-type {\n",
       "        vertical-align: middle;\n",
       "    }\n",
       "\n",
       "    .dataframe tbody tr th {\n",
       "        vertical-align: top;\n",
       "    }\n",
       "\n",
       "    .dataframe thead th {\n",
       "        text-align: right;\n",
       "    }\n",
       "</style>\n",
       "<table border=\"1\" class=\"dataframe\">\n",
       "  <thead>\n",
       "    <tr style=\"text-align: right;\">\n",
       "      <th></th>\n",
       "      <th>$q_1$</th>\n",
       "      <th>$q_2$</th>\n",
       "      <th>$q_3$</th>\n",
       "      <th>$q_4$</th>\n",
       "      <th>$\\bar{q}_1$</th>\n",
       "      <th>$\\bar{q}_2$</th>\n",
       "      <th>$\\bar{q}_3$</th>\n",
       "      <th>$\\bar{q}_4$</th>\n",
       "      <th>$p_1$</th>\n",
       "      <th>$p_2$</th>\n",
       "      <th>$p_3$</th>\n",
       "      <th>$p_4$</th>\n",
       "      <th>$u_q$</th>\n",
       "      <th>$U_q$</th>\n",
       "      <th>Differential evol. time</th>\n",
       "      <th>gambler</th>\n",
       "      <th>$U_{G}$</th>\n",
       "      <th>Gambler train time</th>\n",
       "    </tr>\n",
       "  </thead>\n",
       "  <tbody>\n",
       "    <tr>\n",
       "      <th>0</th>\n",
       "      <td>0</td>\n",
       "      <td>0</td>\n",
       "      <td>0</td>\n",
       "      <td>0</td>\n",
       "      <td>1</td>\n",
       "      <td>1</td>\n",
       "      <td>1</td>\n",
       "      <td>1</td>\n",
       "      <td>0.397633</td>\n",
       "      <td>0.263344</td>\n",
       "      <td>0.0</td>\n",
       "      <td>0.0</td>\n",
       "      <td>3.0</td>\n",
       "      <td>2.875</td>\n",
       "      <td>9.008441</td>\n",
       "      <td>[0.0, 0.674493607603967, 0.0, 0.0, 1.0, 0.0, 1...</td>\n",
       "      <td>3.2</td>\n",
       "      <td>114.309953</td>\n",
       "    </tr>\n",
       "  </tbody>\n",
       "</table>\n",
       "</div>"
      ],
      "text/plain": [
       "   $q_1$  $q_2$  $q_3$  $q_4$  $\\bar{q}_1$  $\\bar{q}_2$  $\\bar{q}_3$  \\\n",
       "0      0      0      0      0            1            1            1   \n",
       "\n",
       "   $\\bar{q}_4$     $p_1$     $p_2$  $p_3$  $p_4$  $u_q$  $U_q$  \\\n",
       "0            1  0.397633  0.263344    0.0    0.0    3.0  2.875   \n",
       "\n",
       "   Differential evol. time                                            gambler  \\\n",
       "0                 9.008441  [0.0, 0.674493607603967, 0.0, 0.0, 1.0, 0.0, 1...   \n",
       "\n",
       "   $U_{G}$  Gambler train time  \n",
       "0      3.2          114.309953  "
      ]
     },
     "execution_count": 10,
     "metadata": {},
     "output_type": "execute_result"
    }
   ],
   "source": [
    "pd.read_csv('data/random_numerical_experiments/matches.csv')"
   ]
  },
  {
   "cell_type": "markdown",
   "metadata": {},
   "source": [
    "**filename**"
   ]
  },
  {
   "cell_type": "code",
   "execution_count": 4,
   "metadata": {},
   "outputs": [],
   "source": [
    "location = '../data/numerical_experiments/'\n",
    "folder = 'matches'\n",
    "params = [1, 1, 1]"
   ]
  },
  {
   "cell_type": "code",
   "execution_count": 5,
   "metadata": {},
   "outputs": [
    {
     "data": {
      "text/plain": [
       "'../data/numerical_experiments/gambler1_1_1/matches/'"
      ]
     },
     "execution_count": 5,
     "metadata": {},
     "output_type": "execute_result"
    }
   ],
   "source": [
    "main.get_filename(location, folder, params)"
   ]
  }
 ],
 "metadata": {
  "kernelspec": {
   "display_name": "opt-mo",
   "language": "python",
   "name": "opt-mo"
  },
  "language_info": {
   "codemirror_mode": {
    "name": "ipython",
    "version": 3
   },
   "file_extension": ".py",
   "mimetype": "text/x-python",
   "name": "python",
   "nbconvert_exporter": "python",
   "pygments_lexer": "ipython3",
   "version": "3.5.5"
  }
 },
 "nbformat": 4,
 "nbformat_minor": 2
}
