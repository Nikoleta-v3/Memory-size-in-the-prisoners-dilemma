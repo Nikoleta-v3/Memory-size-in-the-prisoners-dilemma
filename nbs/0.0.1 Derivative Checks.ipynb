{
 "cells": [
  {
   "cell_type": "markdown",
   "metadata": {},
   "source": [
    "**Check derivative of**  $$\\sum\\limits_{i=1} ^ {N} Q_{N}^{(i)} \\prod_{\\substack{j=1 \\\\ j \\neq i}} ^ N Q_{D}^{(i)}$$"
   ]
  },
  {
   "cell_type": "code",
   "execution_count": null,
   "metadata": {},
   "outputs": [],
   "source": [
    "def get_utility_numerator(player, opponents):\n",
    "    expr = 0\n",
    "    for opponent in opponents:\n",
    "        products = [get_Q_D(player, op) for op in opponents if op != opponent]\n",
    "        expr += get_Q_N(player, opponent) * np.prod(products)\n",
    "    return expr"
   ]
  },
  {
   "cell_type": "code",
   "execution_count": null,
   "metadata": {},
   "outputs": [],
   "source": [
    "def get_utility_denominator(player, opponents):\n",
    "    return np.prod([get_Q_D(player, opponent) for opponent in opponents])"
   ]
  },
  {
   "cell_type": "markdown",
   "metadata": {},
   "source": [
    "**check the utility**"
   ]
  },
  {
   "cell_type": "code",
   "execution_count": null,
   "metadata": {},
   "outputs": [],
   "source": [
    "for seed in range(1000):\n",
    "    num_players = 5\n",
    "    np.random.seed(seed)\n",
    "    opponents = [[np.random.random() for _ in range(4)] for _ in range(num_players)]\n",
    "    \n",
    "    np.random.seed(seed + 1000)\n",
    "    player = [np.random.random() for _ in range(4)]\n",
    "    \n",
    "    lhs = get_utility_numerator(player, opponents) / (get_utility_denominator(player, opponents) * num_players)\n",
    "    rhs = opt_mo.tournament_utility(player, opponents)\n",
    "    \n",
    "    assert np.isclose(lhs, rhs)"
   ]
  },
  {
   "cell_type": "markdown",
   "metadata": {},
   "source": [
    "**check the derivative of the numerator**"
   ]
  },
  {
   "cell_type": "code",
   "execution_count": null,
   "metadata": {},
   "outputs": [],
   "source": [
    "utility_numerator = get_utility_numerator(p, [q, k]).expand()"
   ]
  },
  {
   "cell_type": "code",
   "execution_count": null,
   "metadata": {},
   "outputs": [],
   "source": [
    "derivative_utility_numerator = [sym.diff(utility_numerator, i) for i in p]"
   ]
  },
  {
   "cell_type": "code",
   "execution_count": null,
   "metadata": {},
   "outputs": [],
   "source": [
    "derivative_utility_numerator = [expr.expand() for expr in derivative_utility_numerator]"
   ]
  },
  {
   "cell_type": "code",
   "execution_count": null,
   "metadata": {},
   "outputs": [],
   "source": [
    "def get_lhs_numerator_derivative(player, opponents):\n",
    "    first_element = 0\n",
    "    for opponent in opponents:\n",
    "        products = [get_Q_D(player, op) for op in opponents if op != opponent]\n",
    "        first_element += get_Q_N_derivative(player, opponent) * np.prod(products)\n",
    "        \n",
    "    second_element = 0\n",
    "    for opponent in opponents:\n",
    "        temp = [op for op in opponents if op != opponent]\n",
    "        sums = [get_Q_D_derivative(player, op) * np.prod([get_Q_D(player, o) for o in temp if o != op])\n",
    "                     for op in temp]\n",
    "        second_element += get_Q_N(player, opponent) * sum(sums)\n",
    "    \n",
    "    return (first_element + second_element)"
   ]
  },
  {
   "cell_type": "code",
   "execution_count": null,
   "metadata": {},
   "outputs": [],
   "source": [
    "written_derivative = get_lhs_numerator_derivative(p, [q, k])"
   ]
  },
  {
   "cell_type": "code",
   "execution_count": null,
   "metadata": {},
   "outputs": [],
   "source": [
    "written_derivative = [der.expand() for der in written_derivative]"
   ]
  },
  {
   "cell_type": "code",
   "execution_count": null,
   "metadata": {},
   "outputs": [],
   "source": [
    "for i in tqdm.tqdm(range(4)):\n",
    "    assert (written_derivative[i] - derivative_utility_numerator[i]).simplify() == 0"
   ]
  },
  {
   "cell_type": "markdown",
   "metadata": {},
   "source": [
    "**Check derivative of**  $$ \\prod_{\\substack{i= 1}} ^ N Q_{D}^{(i)}$$"
   ]
  },
  {
   "cell_type": "code",
   "execution_count": null,
   "metadata": {},
   "outputs": [],
   "source": [
    "def get_denominator_derivative(player, opponents):\n",
    "    expr = 0\n",
    "    for opponent in opponents:\n",
    "        products = [get_Q_D(player, op) for op in opponents if op != opponent]\n",
    "        expr += get_Q_D_derivative(player, opponent) * np.prod(products)\n",
    "    \n",
    "    return expr"
   ]
  },
  {
   "cell_type": "code",
   "execution_count": null,
   "metadata": {},
   "outputs": [],
   "source": [
    "denominator = np.prod([get_Q_D(p, opponent) for opponent in [q, k]])"
   ]
  },
  {
   "cell_type": "code",
   "execution_count": null,
   "metadata": {},
   "outputs": [],
   "source": [
    "derivative_of_denominator = [sym.diff(denominator, i).expand() for i in p]"
   ]
  },
  {
   "cell_type": "code",
   "execution_count": null,
   "metadata": {},
   "outputs": [],
   "source": [
    "written_denominator_derivative = get_denominator_derivative(p, [q, k])"
   ]
  },
  {
   "cell_type": "code",
   "execution_count": null,
   "metadata": {},
   "outputs": [],
   "source": [
    "written_denominator_derivative = [expr.expand() for expr in written_denominator_derivative]"
   ]
  },
  {
   "cell_type": "code",
   "execution_count": null,
   "metadata": {},
   "outputs": [],
   "source": [
    "for i in tqdm.tqdm(range(4)):\n",
    "    assert (derivative_of_denominator[i] - written_denominator_derivative[i]).simplify() == 0"
   ]
  },
  {
   "cell_type": "code",
   "execution_count": 3,
   "metadata": {},
   "outputs": [],
   "source": [
    "def get_rhs_numerator_derivative_written(player, opponents):\n",
    "    \n",
    "    first_element = get_utility_numerator(player, opponents)\n",
    "    second_element = get_denominator_derivative(player, opponents)\n",
    "    \n",
    "    return first_element * second_element"
   ]
  },
  {
   "cell_type": "code",
   "execution_count": null,
   "metadata": {},
   "outputs": [],
   "source": [
    "for seed in range(100):\n",
    "    num_players = 5\n",
    "    np.random.seed(seed)\n",
    "    opponents = [[np.random.random() for _ in range(4)] for _ in range(num_players)]\n",
    "    \n",
    "    np.random.seed(seed + 1000)\n",
    "    player = [np.random.random() for _ in range(4)]\n",
    "    \n",
    "    written_derivative = get_written_derivative(player, opponents) * (1 / num_players)\n",
    "    \n",
    "    utility = opt_mo.tournament_utility(p, opponents)\n",
    "    utility_derivative = [sym.diff(utility, i) for i in p]\n",
    "    utility_derivative = [expr.subs({p_1: player[0], p_2: player[1], p_3: player[2], p_4: player[3]}) for expr\n",
    "                          in utility_derivative]\n",
    "    \n",
    "    differences = written_derivative - utility_derivative\n",
    "    for difference in differences:\n",
    "        assert np.isclose(round(difference, 10), 0)"
   ]
  }
 ],
 "metadata": {
  "kernelspec": {
   "display_name": "opt-mo",
   "language": "python",
   "name": "opt-mo"
  },
  "language_info": {
   "codemirror_mode": {
    "name": "ipython",
    "version": 3
   },
   "file_extension": ".py",
   "mimetype": "text/x-python",
   "name": "python",
   "nbconvert_exporter": "python",
   "pygments_lexer": "ipython3",
   "version": "3.6.7"
  }
 },
 "nbformat": 4,
 "nbformat_minor": 2
}
