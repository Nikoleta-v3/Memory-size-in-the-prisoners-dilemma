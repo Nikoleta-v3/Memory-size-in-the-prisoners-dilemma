{
 "cells": [
  {
   "cell_type": "markdown",
   "metadata": {
    "collapsed": true
   },
   "source": [
    "# Convexity\n",
    "\n",
    "A convex function is a continuous function whose value at the midpoint of every interval in its domain does not exceed the arithmetic mean of its values at the ends of the interval. The mathematical definition is as follow *(see reference: http://mathworld.wolfram.com/ConvexFunction.html)*:\n",
    "\n",
    "A function $f(x)$ is convex on an interval $[a, b]$ if for any two points $x_1$ and $x_2$ in $[a,b]$ and any $\\lambda$ where $0 < \\lambda < 1$,\n",
    "\n",
    " $$f[ \\lambda x_1 + (1 - \\lambda) x_2] \\leq \\lambda f(x_1) + (1 - \\lambda) f(x_2)$$ \n",
    " \n",
    "From a game theorist perspective this mean that a combined player for a given set of opponents $X$ and $Y$ has a lower utility than the combined payoffs of $X$ and $Y$.\n",
    "\n",
    "In this notebook we check if the utility function is indeed convex.\n",
    "\n",
    "Though there is a lot of work in ratio of quadratic forms $\\frac{f(1)}{f(2)}$, it's mainly done for the case where both $f(1)$ and $f(2)$ are convex, in 1, 2 they argue that the quotient of convex functions is not convex in most cases.\n",
    "\n",
    "In order for a quadratic form to be convex the $Q$ matrix must be proven to be positive semi definite. Here is the proof:\n",
    "\n",
    "If $f(x)=x^{T}Qx$:\n",
    "\n",
    "$$\n",
    "(\\lambda x_{1} + (1 − \\lambda)x_{2})^{T}Q(\\lambda x_{1} + (1 − \\lambda)x_{2}) \\leq \\lambda{x_{1}}^{T}Qx_{1} + (1 − \\lambda){x_{2}}^{T}Qx_{2}\n",
    "$$\n",
    "\n",
    "by simplifing the inequality *(I did it by hand)* we show that:\n",
    "\n",
    "$$\n",
    "{(x_{1} − x_{2})}^{T} Q (x_{1} − x_{2}) \\geq 0\n",
    "$$\n",
    "\n",
    "which is true for $Q \\geq 0$, thus when $Q$ is positive semi definite.\n",
    "\n",
    "Our utility function is the ratio of two quadratic forms. Here we will prove that neither are convex. When a matrix $Q$ is semi positive definite, every leading principal sub matrix of $Q$ is semi positive definite too. *https://math.stackexchange.com/questions/811387/characterization-of-positive-definite-matrix-with-principal-minors*\n",
    "\n",
    "Thus we will calculate the determinants of the sub matrices for both the numerator and denominator to prove that our functions are not convex. "
   ]
  },
  {
   "cell_type": "code",
   "execution_count": 1,
   "metadata": {},
   "outputs": [],
   "source": [
    "import sympy as sym\n",
    "\n",
    "sym.init_printing()\n"
   ]
  },
  {
   "cell_type": "code",
   "execution_count": 3,
   "metadata": {},
   "outputs": [],
   "source": [
    "import opt_mo\n"
   ]
  },
  {
   "cell_type": "code",
   "execution_count": 4,
   "metadata": {},
   "outputs": [],
   "source": [
    "import numpy as np\n",
    "import axelrod as axl\n"
   ]
  },
  {
   "cell_type": "code",
   "execution_count": 16,
   "metadata": {},
   "outputs": [],
   "source": [
    "p_1, p_2, p_3, p_4 = sym.symbols(\"p_1, p_2, p_3, p_4\", positive=True, real=True)\n"
   ]
  },
  {
   "cell_type": "code",
   "execution_count": 17,
   "metadata": {},
   "outputs": [],
   "source": [
    "p = (p_1, p_2, p_3, p_4)\n"
   ]
  },
  {
   "cell_type": "code",
   "execution_count": 18,
   "metadata": {},
   "outputs": [],
   "source": [
    "utility = opt_mo.match_utility(p, (1 / 3, 1 / 3, 1 / 3, 1 / 3))\n"
   ]
  },
  {
   "cell_type": "code",
   "execution_count": 19,
   "metadata": {},
   "outputs": [],
   "source": [
    "u = sym.lambdify(p, utility)\n"
   ]
  },
  {
   "cell_type": "code",
   "execution_count": 35,
   "metadata": {},
   "outputs": [],
   "source": [
    "def rhs(x_1, x_2, l=0.1):\n",
    "    return l * u(*x_1) + (1 - l) * u(*x_2)\n",
    "\n",
    "\n",
    "def lhs(x_1, x_2, l=0.1):\n",
    "    vector = l * x_1 + (1 - l) * x_2\n",
    "    return u(*vector)\n"
   ]
  },
  {
   "cell_type": "code",
   "execution_count": 36,
   "metadata": {},
   "outputs": [],
   "source": [
    "x_1 = np.array([1 / 4, 1 / 2, 1 / 5, 1 / 2])\n"
   ]
  },
  {
   "cell_type": "code",
   "execution_count": 37,
   "metadata": {},
   "outputs": [],
   "source": [
    "axl.seed(4)\n",
    "x_2 = np.random.random(4)\n"
   ]
  },
  {
   "cell_type": "code",
   "execution_count": 38,
   "metadata": {},
   "outputs": [],
   "source": [
    "x_2 = np.array([8 / 10, 1 / 2, 9 / 10, 7 / 10])\n"
   ]
  },
  {
   "cell_type": "code",
   "execution_count": 39,
   "metadata": {},
   "outputs": [
    {
     "data": {
      "image/png": "[encoded data removed]",
      "text/latex": [
       "$$\\left ( 1.4905246166263062, \\quad 1.4857281083696126\\right )$$"
      ],
      "text/plain": [
       "(1.4905246166263062, 1.4857281083696126)"
      ]
     },
     "execution_count": 39,
     "metadata": {},
     "output_type": "execute_result"
    }
   ],
   "source": [
    "rhs(x_1, x_2), lhs(x_1, x_2)\n"
   ]
  },
  {
   "cell_type": "code",
   "execution_count": 40,
   "metadata": {},
   "outputs": [
    {
     "name": "stdout",
     "output_type": "stream",
     "text": [
      "1.5305582438952945 1.5328098826099477\n",
      "1.863703748576778 1.8590179608503679\n",
      "1.845685721827129 1.8470879749171525\n",
      "1.6075571401150133 1.6121655009539195\n",
      "1.4162007433253723 1.4117647686254302\n",
      "1.4828803167057147 1.4815697989651286\n",
      "1.8167288752984028 1.8160844594690893\n",
      "1.5827979158192478 1.5808632897036246\n",
      "1.1863341329029913 1.2090994496967786\n",
      "1.9458782013777471 1.944755545142358\n"
     ]
    }
   ],
   "source": [
    "for i in range(10):\n",
    "    axl.seed(i)\n",
    "    x_2 = np.random.random(4)\n",
    "    print(rhs(x_1, x_2), lhs(x_1, x_2))\n"
   ]
  },
  {
   "cell_type": "code",
   "execution_count": null,
   "metadata": {
    "collapsed": true
   },
   "outputs": [],
   "source": []
  },
  {
   "cell_type": "code",
   "execution_count": 111,
   "metadata": {},
   "outputs": [
    {
     "data": {
      "text/plain": [
       "(array([0.25, 0.5 , 0.2 , 0.5 ]),\n",
       " array([0.96702984, 0.54723225, 0.97268436, 0.71481599]))"
      ]
     },
     "execution_count": 111,
     "metadata": {},
     "output_type": "execute_result"
    }
   ],
   "source": [
    "x_1, x_2\n"
   ]
  },
  {
   "cell_type": "code",
   "execution_count": 4,
   "metadata": {
    "collapsed": true
   },
   "outputs": [],
   "source": [
    "q_1, q_2, q_3, q_4 = sym.symbols(\"q_1, q_2, q_3, q_4\", positive=True, real=True)\n"
   ]
  },
  {
   "cell_type": "code",
   "execution_count": 7,
   "metadata": {
    "collapsed": true
   },
   "outputs": [],
   "source": [
    "q = (q_1, q_2, q_3, q_4)\n"
   ]
  },
  {
   "cell_type": "markdown",
   "metadata": {},
   "source": [
    "For the numerator $Q$."
   ]
  },
  {
   "cell_type": "code",
   "execution_count": 12,
   "metadata": {
    "collapsed": true
   },
   "outputs": [],
   "source": [
    "Q = sym.Matrix(opt_mo.mem_quadratic_numerator(q))\n"
   ]
  },
  {
   "cell_type": "code",
   "execution_count": 13,
   "metadata": {},
   "outputs": [
    {
     "data": {
      "image/png": "[encoded data removed]",
      "text/latex": [
       "$$0$$"
      ],
      "text/plain": [
       "0"
      ]
     },
     "execution_count": 13,
     "metadata": {},
     "output_type": "execute_result"
    }
   ],
   "source": [
    "det_1 = Q[0]\n",
    "det_1\n"
   ]
  },
  {
   "cell_type": "code",
   "execution_count": 14,
   "metadata": {},
   "outputs": [
    {
     "data": {
      "image/png": "[encoded data removed]",
      "text/latex": [
       "$$- \\left(q_{1} - q_{3}\\right)^{2} \\left(q_{2} - 5 q_{4} - 1\\right)^{2}$$"
      ],
      "text/plain": [
       "          2                2\n",
       "-(q₁ - q₃) ⋅(q₂ - 5⋅q₄ - 1) "
      ]
     },
     "execution_count": 14,
     "metadata": {},
     "output_type": "execute_result"
    }
   ],
   "source": [
    "det_2 = sym.Matrix([[Q[0], Q[1]], [Q[4], Q[5]]]).det()\n",
    "det_2.factor()\n"
   ]
  },
  {
   "cell_type": "code",
   "execution_count": 15,
   "metadata": {},
   "outputs": [
    {
     "data": {
      "image/png": "[encoded data removed]",
      "text/latex": [
       "$$- 2 q_{3} \\left(q_{1} - q_{2}\\right) \\left(q_{1} - q_{3}\\right) \\left(q_{2} - q_{3}\\right) \\left(q_{1} - 3 q_{4} - 1\\right) \\left(q_{2} - 5 q_{4} - 1\\right)$$"
      ],
      "text/plain": [
       "-2⋅q₃⋅(q₁ - q₂)⋅(q₁ - q₃)⋅(q₂ - q₃)⋅(q₁ - 3⋅q₄ - 1)⋅(q₂ - 5⋅q₄ - 1)"
      ]
     },
     "execution_count": 15,
     "metadata": {},
     "output_type": "execute_result"
    }
   ],
   "source": [
    "det_3 = sym.Matrix([[Q[0], Q[1], Q[2]], [Q[4], Q[5], Q[6]], [Q[8], Q[9], Q[10]]]).det()\n",
    "det_3.factor()\n"
   ]
  },
  {
   "cell_type": "code",
   "execution_count": 16,
   "metadata": {
    "collapsed": true
   },
   "outputs": [],
   "source": [
    "det = Q.det()\n"
   ]
  },
  {
   "cell_type": "code",
   "execution_count": 17,
   "metadata": {},
   "outputs": [
    {
     "data": {
      "image/png": "[encoded data removed]",
      "text/latex": [
       "$$q_{3}^{2} \\left(5 q_{1}^{2} q_{2} - 5 q_{1}^{2} q_{4} - 3 q_{1} q_{2}^{2} - 2 q_{1} q_{2} q_{3} - 2 q_{1} q_{2} - 10 q_{1} q_{3} q_{4} - 3 q_{1} q_{3} + 15 q_{1} q_{4}^{2} + 5 q_{1} q_{4} + 3 q_{2}^{2} q_{4} + 12 q_{2} q_{3} q_{4} + 5 q_{2} q_{3} - 15 q_{2} q_{4}^{2} - 3 q_{2} q_{4} - 2 q_{3} q_{4}\\right)^{2}$$"
      ],
      "text/plain": [
       "                                                                              \n",
       "  2 ⎛    2          2             2                                           \n",
       "q₃ ⋅⎝5⋅q₁ ⋅q₂ - 5⋅q₁ ⋅q₄ - 3⋅q₁⋅q₂  - 2⋅q₁⋅q₂⋅q₃ - 2⋅q₁⋅q₂ - 10⋅q₁⋅q₃⋅q₄ - 3⋅q\n",
       "\n",
       "                                                                              \n",
       "               2                 2                                      2     \n",
       "₁⋅q₃ + 15⋅q₁⋅q₄  + 5⋅q₁⋅q₄ + 3⋅q₂ ⋅q₄ + 12⋅q₂⋅q₃⋅q₄ + 5⋅q₂⋅q₃ - 15⋅q₂⋅q₄  - 3⋅\n",
       "\n",
       "                2\n",
       "               ⎞ \n",
       "q₂⋅q₄ - 2⋅q₃⋅q₄⎠ "
      ]
     },
     "execution_count": 17,
     "metadata": {},
     "output_type": "execute_result"
    }
   ],
   "source": [
    "det.factor()\n"
   ]
  },
  {
   "cell_type": "markdown",
   "metadata": {},
   "source": [
    "For the denominator  $ \\bar{Q}$."
   ]
  },
  {
   "cell_type": "code",
   "execution_count": 21,
   "metadata": {
    "collapsed": true
   },
   "outputs": [],
   "source": [
    "Q_den = sym.Matrix(opt_mo.mem_quadratic_denominator(q))\n"
   ]
  },
  {
   "cell_type": "code",
   "execution_count": 23,
   "metadata": {},
   "outputs": [
    {
     "data": {
      "image/png": "[encoded data removed]",
      "text/latex": [
       "$$0$$"
      ],
      "text/plain": [
       "0"
      ]
     },
     "execution_count": 23,
     "metadata": {},
     "output_type": "execute_result"
    }
   ],
   "source": [
    "det_1 = Q_den[0]\n",
    "det_1\n"
   ]
  },
  {
   "cell_type": "code",
   "execution_count": 24,
   "metadata": {},
   "outputs": [
    {
     "data": {
      "image/png": "[encoded data removed]",
      "text/latex": [
       "$$- \\left(q_{1} - q_{3}\\right)^{2} \\left(q_{2} - q_{4} - 1\\right)^{2}$$"
      ],
      "text/plain": [
       "          2              2\n",
       "-(q₁ - q₃) ⋅(q₂ - q₄ - 1) "
      ]
     },
     "execution_count": 24,
     "metadata": {},
     "output_type": "execute_result"
    }
   ],
   "source": [
    "det_2 = sym.Matrix([[Q_den[0], Q_den[1]], [Q_den[4], Q_den[5]]]).det()\n",
    "det_2.factor()\n"
   ]
  },
  {
   "cell_type": "code",
   "execution_count": 25,
   "metadata": {},
   "outputs": [
    {
     "data": {
      "image/png": "[encoded data removed]",
      "text/latex": [
       "$$- 2 \\left(q_{1} - q_{2}\\right) \\left(q_{1} - q_{3}\\right) \\left(q_{2} - q_{3}\\right) \\left(q_{3} - q_{4}\\right) \\left(q_{1} - q_{4} - 1\\right) \\left(q_{2} - q_{4} - 1\\right)$$"
      ],
      "text/plain": [
       "-2⋅(q₁ - q₂)⋅(q₁ - q₃)⋅(q₂ - q₃)⋅(q₃ - q₄)⋅(q₁ - q₄ - 1)⋅(q₂ - q₄ - 1)"
      ]
     },
     "execution_count": 25,
     "metadata": {},
     "output_type": "execute_result"
    }
   ],
   "source": [
    "det_3 = sym.Matrix(\n",
    "    [\n",
    "        [Q_den[0], Q_den[1], Q_den[2]],\n",
    "        [Q_den[4], Q_den[5], Q_den[6]],\n",
    "        [Q_den[8], Q_den[9], Q_den[10]],\n",
    "    ]\n",
    ").det()\n",
    "det_3.factor()\n"
   ]
  },
  {
   "cell_type": "code",
   "execution_count": 26,
   "metadata": {},
   "outputs": [
    {
     "data": {
      "image/png": "[encoded data removed]",
      "text/latex": [
       "$$\\left(q_{1} - q_{2}\\right)^{2} \\left(q_{3} - q_{4}\\right)^{2} \\left(q_{1} + q_{2} - q_{3} - q_{4} - 1\\right)^{2}$$"
      ],
      "text/plain": [
       "         2          2                        2\n",
       "(q₁ - q₂) ⋅(q₃ - q₄) ⋅(q₁ + q₂ - q₃ - q₄ - 1) "
      ]
     },
     "execution_count": 26,
     "metadata": {},
     "output_type": "execute_result"
    }
   ],
   "source": [
    "det = Q_den.det()\n",
    "det.factor()\n"
   ]
  },
  {
   "cell_type": "markdown",
   "metadata": {},
   "source": [
    "Conclusion\n",
    "----------\n",
    "\n",
    "Because at least one of the determinats is negative neither the numerator or the denominator are proven to be convex.\n",
    "\n",
    "\n",
    "There is only a single article on non convex ratio of non convex function but it does not seem to generilize anything for a non convex ratio, 3. A general rule for the ratio of two non convex functions and whether their ratio is convex can not be given. \n",
    "\n",
    "Ratio's of two non convex function that is convex exists. Example $\\frac{x^5}{x^3}$\n",
    "\n"
   ]
  }
 ],
 "metadata": {
  "anaconda-cloud": {},
  "kernelspec": {
   "display_name": "opt-mo",
   "language": "python",
   "name": "opt-mo"
  },
  "language_info": {
   "codemirror_mode": {
    "name": "ipython",
    "version": 3
   },
   "file_extension": ".py",
   "mimetype": "text/x-python",
   "name": "python",
   "nbconvert_exporter": "python",
   "pygments_lexer": "ipython3",
   "version": "3.6.7"
  }
 },
 "nbformat": 4,
 "nbformat_minor": 1
}
