{
 "cells": [
  {
   "cell_type": "code",
   "execution_count": 8,
   "metadata": {},
   "outputs": [],
   "source": [
    "import axelrod as axl\n",
    "import numpy as np\n",
    "\n",
    "import opt_mo\n",
    "import pandas as pd\n",
    "import matplotlib.pyplot as plt\n",
    "import matplotlib\n",
    "\n",
    "import sqlalchemy as sa"
   ]
  },
  {
   "cell_type": "code",
   "execution_count": 9,
   "metadata": {},
   "outputs": [],
   "source": [
    "##import seaborn as sns\n",
    "from scipy import stats"
   ]
  },
  {
   "cell_type": "code",
   "execution_count": 10,
   "metadata": {},
   "outputs": [],
   "source": [
    "import pandas as pd\n",
    "from scipy import stats"
   ]
  },
  {
   "cell_type": "code",
   "execution_count": 11,
   "metadata": {},
   "outputs": [],
   "source": [
    "def read_sql_data_frame(path):\n",
    "    engine = sa.create_engine(\"sqlite:///%s\" % path)\n",
    "    connection = engine.connect()\n",
    "\n",
    "    return pd.read_sql(\"experiments\", connection)"
   ]
  },
  {
   "cell_type": "markdown",
   "metadata": {},
   "source": [
    "font = {\"size\": 10, \"weight\": \"bold\"}\n",
    "matplotlib.rc(\"font\", **font)"
   ]
  },
  {
   "cell_type": "code",
   "execution_count": 12,
   "metadata": {},
   "outputs": [],
   "source": [
    "df = read_sql_data_frame('../data/without_gambler/main.db')"
   ]
  },
  {
   "cell_type": "code",
   "execution_count": 13,
   "metadata": {},
   "outputs": [],
   "source": [
    "#df_with_g = opt_mo.tools.read_sql_data_frame('../data/with_gambler/main.db')"
   ]
  },
  {
   "cell_type": "code",
   "execution_count": 14,
   "metadata": {},
   "outputs": [
    {
     "data": {
      "text/html": [
       "<div>\n",
       "<style scoped>\n",
       "    .dataframe tbody tr th:only-of-type {\n",
       "        vertical-align: middle;\n",
       "    }\n",
       "\n",
       "    .dataframe tbody tr th {\n",
       "        vertical-align: top;\n",
       "    }\n",
       "\n",
       "    .dataframe thead th {\n",
       "        text-align: right;\n",
       "    }\n",
       "</style>\n",
       "<table border=\"1\" class=\"dataframe\">\n",
       "  <thead>\n",
       "    <tr style=\"text-align: right;\">\n",
       "      <th></th>\n",
       "      <th>exp_index</th>\n",
       "      <th>first_opponent_q_1</th>\n",
       "      <th>first_opponent_q_2</th>\n",
       "      <th>first_opponent_q_3</th>\n",
       "      <th>first_opponent_q_4</th>\n",
       "      <th>second_opponent_q_1</th>\n",
       "      <th>second_opponent_q_2</th>\n",
       "      <th>second_opponent_q_3</th>\n",
       "      <th>second_opponent_q_4</th>\n",
       "      <th>mem_one_p_1</th>\n",
       "      <th>...</th>\n",
       "      <th>mem_one_cycle_length</th>\n",
       "      <th>reactive_p_1</th>\n",
       "      <th>reactive_p_2</th>\n",
       "      <th>reactive_p_3</th>\n",
       "      <th>reactive_p_4</th>\n",
       "      <th>evol_reactive_p_1</th>\n",
       "      <th>evol_reactive_p_2</th>\n",
       "      <th>evol_reactive_p_3</th>\n",
       "      <th>evol_reactive_p_4</th>\n",
       "      <th>reactive_cycle_length</th>\n",
       "    </tr>\n",
       "  </thead>\n",
       "  <tbody>\n",
       "    <tr>\n",
       "      <th>count</th>\n",
       "      <td>382.000000</td>\n",
       "      <td>382.000000</td>\n",
       "      <td>382.000000</td>\n",
       "      <td>382.000000</td>\n",
       "      <td>382.000000</td>\n",
       "      <td>382.000000</td>\n",
       "      <td>382.000000</td>\n",
       "      <td>382.000000</td>\n",
       "      <td>382.000000</td>\n",
       "      <td>382.000000</td>\n",
       "      <td>...</td>\n",
       "      <td>382.000000</td>\n",
       "      <td>382.000000</td>\n",
       "      <td>382.000000</td>\n",
       "      <td>382.000000</td>\n",
       "      <td>382.000000</td>\n",
       "      <td>382.000000</td>\n",
       "      <td>382.000000</td>\n",
       "      <td>382.000000</td>\n",
       "      <td>382.000000</td>\n",
       "      <td>382.000000</td>\n",
       "    </tr>\n",
       "    <tr>\n",
       "      <th>mean</th>\n",
       "      <td>195.356021</td>\n",
       "      <td>0.480099</td>\n",
       "      <td>0.502505</td>\n",
       "      <td>0.508802</td>\n",
       "      <td>0.488233</td>\n",
       "      <td>0.507916</td>\n",
       "      <td>0.515518</td>\n",
       "      <td>0.499353</td>\n",
       "      <td>0.488913</td>\n",
       "      <td>0.255501</td>\n",
       "      <td>...</td>\n",
       "      <td>1.963351</td>\n",
       "      <td>0.044713</td>\n",
       "      <td>0.103631</td>\n",
       "      <td>0.044713</td>\n",
       "      <td>0.103631</td>\n",
       "      <td>0.044661</td>\n",
       "      <td>0.032924</td>\n",
       "      <td>0.044661</td>\n",
       "      <td>0.032924</td>\n",
       "      <td>1.492147</td>\n",
       "    </tr>\n",
       "    <tr>\n",
       "      <th>std</th>\n",
       "      <td>118.810902</td>\n",
       "      <td>0.285097</td>\n",
       "      <td>0.279084</td>\n",
       "      <td>0.307653</td>\n",
       "      <td>0.295131</td>\n",
       "      <td>0.282112</td>\n",
       "      <td>0.275211</td>\n",
       "      <td>0.285727</td>\n",
       "      <td>0.280182</td>\n",
       "      <td>0.408110</td>\n",
       "      <td>...</td>\n",
       "      <td>3.961590</td>\n",
       "      <td>0.204484</td>\n",
       "      <td>0.218418</td>\n",
       "      <td>0.204484</td>\n",
       "      <td>0.218418</td>\n",
       "      <td>0.206444</td>\n",
       "      <td>0.099245</td>\n",
       "      <td>0.206444</td>\n",
       "      <td>0.099245</td>\n",
       "      <td>5.973141</td>\n",
       "    </tr>\n",
       "    <tr>\n",
       "      <th>min</th>\n",
       "      <td>0.000000</td>\n",
       "      <td>0.001510</td>\n",
       "      <td>0.000426</td>\n",
       "      <td>0.001315</td>\n",
       "      <td>0.001682</td>\n",
       "      <td>0.000452</td>\n",
       "      <td>0.000210</td>\n",
       "      <td>0.000403</td>\n",
       "      <td>0.001457</td>\n",
       "      <td>0.000000</td>\n",
       "      <td>...</td>\n",
       "      <td>1.000000</td>\n",
       "      <td>0.000000</td>\n",
       "      <td>0.000000</td>\n",
       "      <td>0.000000</td>\n",
       "      <td>0.000000</td>\n",
       "      <td>0.000000</td>\n",
       "      <td>0.000000</td>\n",
       "      <td>0.000000</td>\n",
       "      <td>0.000000</td>\n",
       "      <td>1.000000</td>\n",
       "    </tr>\n",
       "    <tr>\n",
       "      <th>25%</th>\n",
       "      <td>95.250000</td>\n",
       "      <td>0.238499</td>\n",
       "      <td>0.252807</td>\n",
       "      <td>0.220597</td>\n",
       "      <td>0.226465</td>\n",
       "      <td>0.257962</td>\n",
       "      <td>0.276702</td>\n",
       "      <td>0.270177</td>\n",
       "      <td>0.236932</td>\n",
       "      <td>0.000000</td>\n",
       "      <td>...</td>\n",
       "      <td>1.000000</td>\n",
       "      <td>0.000000</td>\n",
       "      <td>0.000000</td>\n",
       "      <td>0.000000</td>\n",
       "      <td>0.000000</td>\n",
       "      <td>0.000000</td>\n",
       "      <td>0.000000</td>\n",
       "      <td>0.000000</td>\n",
       "      <td>0.000000</td>\n",
       "      <td>1.000000</td>\n",
       "    </tr>\n",
       "    <tr>\n",
       "      <th>50%</th>\n",
       "      <td>190.500000</td>\n",
       "      <td>0.479413</td>\n",
       "      <td>0.515978</td>\n",
       "      <td>0.533688</td>\n",
       "      <td>0.464321</td>\n",
       "      <td>0.509397</td>\n",
       "      <td>0.531545</td>\n",
       "      <td>0.494710</td>\n",
       "      <td>0.497235</td>\n",
       "      <td>0.000000</td>\n",
       "      <td>...</td>\n",
       "      <td>1.000000</td>\n",
       "      <td>0.000000</td>\n",
       "      <td>0.000000</td>\n",
       "      <td>0.000000</td>\n",
       "      <td>0.000000</td>\n",
       "      <td>0.000000</td>\n",
       "      <td>0.000000</td>\n",
       "      <td>0.000000</td>\n",
       "      <td>0.000000</td>\n",
       "      <td>1.000000</td>\n",
       "    </tr>\n",
       "    <tr>\n",
       "      <th>75%</th>\n",
       "      <td>285.750000</td>\n",
       "      <td>0.712003</td>\n",
       "      <td>0.741535</td>\n",
       "      <td>0.772155</td>\n",
       "      <td>0.753512</td>\n",
       "      <td>0.751597</td>\n",
       "      <td>0.734230</td>\n",
       "      <td>0.739260</td>\n",
       "      <td>0.736440</td>\n",
       "      <td>0.525522</td>\n",
       "      <td>...</td>\n",
       "      <td>2.000000</td>\n",
       "      <td>0.000000</td>\n",
       "      <td>0.090544</td>\n",
       "      <td>0.000000</td>\n",
       "      <td>0.090544</td>\n",
       "      <td>0.000000</td>\n",
       "      <td>0.000000</td>\n",
       "      <td>0.000000</td>\n",
       "      <td>0.000000</td>\n",
       "      <td>1.000000</td>\n",
       "    </tr>\n",
       "    <tr>\n",
       "      <th>max</th>\n",
       "      <td>434.000000</td>\n",
       "      <td>0.993368</td>\n",
       "      <td>0.996174</td>\n",
       "      <td>0.999550</td>\n",
       "      <td>0.998631</td>\n",
       "      <td>0.998260</td>\n",
       "      <td>0.999020</td>\n",
       "      <td>0.999129</td>\n",
       "      <td>0.998740</td>\n",
       "      <td>1.000000</td>\n",
       "      <td>...</td>\n",
       "      <td>55.000000</td>\n",
       "      <td>1.000000</td>\n",
       "      <td>1.000000</td>\n",
       "      <td>1.000000</td>\n",
       "      <td>1.000000</td>\n",
       "      <td>1.000000</td>\n",
       "      <td>0.999771</td>\n",
       "      <td>1.000000</td>\n",
       "      <td>0.999771</td>\n",
       "      <td>117.000000</td>\n",
       "    </tr>\n",
       "  </tbody>\n",
       "</table>\n",
       "<p>8 rows × 27 columns</p>\n",
       "</div>"
      ],
      "text/plain": [
       "        exp_index  first_opponent_q_1  first_opponent_q_2  first_opponent_q_3  \\\n",
       "count  382.000000          382.000000          382.000000          382.000000   \n",
       "mean   195.356021            0.480099            0.502505            0.508802   \n",
       "std    118.810902            0.285097            0.279084            0.307653   \n",
       "min      0.000000            0.001510            0.000426            0.001315   \n",
       "25%     95.250000            0.238499            0.252807            0.220597   \n",
       "50%    190.500000            0.479413            0.515978            0.533688   \n",
       "75%    285.750000            0.712003            0.741535            0.772155   \n",
       "max    434.000000            0.993368            0.996174            0.999550   \n",
       "\n",
       "       first_opponent_q_4  second_opponent_q_1  second_opponent_q_2  \\\n",
       "count          382.000000           382.000000           382.000000   \n",
       "mean             0.488233             0.507916             0.515518   \n",
       "std              0.295131             0.282112             0.275211   \n",
       "min              0.001682             0.000452             0.000210   \n",
       "25%              0.226465             0.257962             0.276702   \n",
       "50%              0.464321             0.509397             0.531545   \n",
       "75%              0.753512             0.751597             0.734230   \n",
       "max              0.998631             0.998260             0.999020   \n",
       "\n",
       "       second_opponent_q_3  second_opponent_q_4  mem_one_p_1  \\\n",
       "count           382.000000           382.000000   382.000000   \n",
       "mean              0.499353             0.488913     0.255501   \n",
       "std               0.285727             0.280182     0.408110   \n",
       "min               0.000403             0.001457     0.000000   \n",
       "25%               0.270177             0.236932     0.000000   \n",
       "50%               0.494710             0.497235     0.000000   \n",
       "75%               0.739260             0.736440     0.525522   \n",
       "max               0.999129             0.998740     1.000000   \n",
       "\n",
       "               ...            mem_one_cycle_length  reactive_p_1  \\\n",
       "count          ...                      382.000000    382.000000   \n",
       "mean           ...                        1.963351      0.044713   \n",
       "std            ...                        3.961590      0.204484   \n",
       "min            ...                        1.000000      0.000000   \n",
       "25%            ...                        1.000000      0.000000   \n",
       "50%            ...                        1.000000      0.000000   \n",
       "75%            ...                        2.000000      0.000000   \n",
       "max            ...                       55.000000      1.000000   \n",
       "\n",
       "       reactive_p_2  reactive_p_3  reactive_p_4  evol_reactive_p_1  \\\n",
       "count    382.000000    382.000000    382.000000         382.000000   \n",
       "mean       0.103631      0.044713      0.103631           0.044661   \n",
       "std        0.218418      0.204484      0.218418           0.206444   \n",
       "min        0.000000      0.000000      0.000000           0.000000   \n",
       "25%        0.000000      0.000000      0.000000           0.000000   \n",
       "50%        0.000000      0.000000      0.000000           0.000000   \n",
       "75%        0.090544      0.000000      0.090544           0.000000   \n",
       "max        1.000000      1.000000      1.000000           1.000000   \n",
       "\n",
       "       evol_reactive_p_2  evol_reactive_p_3  evol_reactive_p_4  \\\n",
       "count         382.000000         382.000000         382.000000   \n",
       "mean            0.032924           0.044661           0.032924   \n",
       "std             0.099245           0.206444           0.099245   \n",
       "min             0.000000           0.000000           0.000000   \n",
       "25%             0.000000           0.000000           0.000000   \n",
       "50%             0.000000           0.000000           0.000000   \n",
       "75%             0.000000           0.000000           0.000000   \n",
       "max             0.999771           1.000000           0.999771   \n",
       "\n",
       "       reactive_cycle_length  \n",
       "count             382.000000  \n",
       "mean                1.492147  \n",
       "std                 5.973141  \n",
       "min                 1.000000  \n",
       "25%                 1.000000  \n",
       "50%                 1.000000  \n",
       "75%                 1.000000  \n",
       "max               117.000000  \n",
       "\n",
       "[8 rows x 27 columns]"
      ]
     },
     "execution_count": 14,
     "metadata": {},
     "output_type": "execute_result"
    }
   ],
   "source": [
    "df.describe()"
   ]
  },
  {
   "cell_type": "code",
   "execution_count": 15,
   "metadata": {},
   "outputs": [],
   "source": [
    "color = matplotlib.cm.viridis(0.3)"
   ]
  },
  {
   "cell_type": "code",
   "execution_count": 16,
   "metadata": {},
   "outputs": [
    {
     "data": {
      "text/html": [
       "<div>\n",
       "<style scoped>\n",
       "    .dataframe tbody tr th:only-of-type {\n",
       "        vertical-align: middle;\n",
       "    }\n",
       "\n",
       "    .dataframe tbody tr th {\n",
       "        vertical-align: top;\n",
       "    }\n",
       "\n",
       "    .dataframe thead th {\n",
       "        text-align: right;\n",
       "    }\n",
       "</style>\n",
       "<table border=\"1\" class=\"dataframe\">\n",
       "  <thead>\n",
       "    <tr style=\"text-align: right;\">\n",
       "      <th></th>\n",
       "      <th>exp_index</th>\n",
       "      <th>first_opponent_q_1</th>\n",
       "      <th>first_opponent_q_2</th>\n",
       "      <th>first_opponent_q_3</th>\n",
       "      <th>first_opponent_q_4</th>\n",
       "      <th>second_opponent_q_1</th>\n",
       "      <th>second_opponent_q_2</th>\n",
       "      <th>second_opponent_q_3</th>\n",
       "      <th>second_opponent_q_4</th>\n",
       "      <th>mem_one_p_1</th>\n",
       "      <th>...</th>\n",
       "      <th>mem_one_cycle_length</th>\n",
       "      <th>reactive_p_1</th>\n",
       "      <th>reactive_p_2</th>\n",
       "      <th>reactive_p_3</th>\n",
       "      <th>reactive_p_4</th>\n",
       "      <th>evol_reactive_p_1</th>\n",
       "      <th>evol_reactive_p_2</th>\n",
       "      <th>evol_reactive_p_3</th>\n",
       "      <th>evol_reactive_p_4</th>\n",
       "      <th>reactive_cycle_length</th>\n",
       "    </tr>\n",
       "  </thead>\n",
       "  <tbody>\n",
       "    <tr>\n",
       "      <th>count</th>\n",
       "      <td>382.000000</td>\n",
       "      <td>382.000000</td>\n",
       "      <td>382.000000</td>\n",
       "      <td>382.000000</td>\n",
       "      <td>382.000000</td>\n",
       "      <td>382.000000</td>\n",
       "      <td>382.000000</td>\n",
       "      <td>382.000000</td>\n",
       "      <td>382.000000</td>\n",
       "      <td>382.000000</td>\n",
       "      <td>...</td>\n",
       "      <td>382.000000</td>\n",
       "      <td>382.000000</td>\n",
       "      <td>382.000000</td>\n",
       "      <td>382.000000</td>\n",
       "      <td>382.000000</td>\n",
       "      <td>382.000000</td>\n",
       "      <td>382.000000</td>\n",
       "      <td>382.000000</td>\n",
       "      <td>382.000000</td>\n",
       "      <td>382.000000</td>\n",
       "    </tr>\n",
       "    <tr>\n",
       "      <th>mean</th>\n",
       "      <td>195.356021</td>\n",
       "      <td>0.480099</td>\n",
       "      <td>0.502505</td>\n",
       "      <td>0.508802</td>\n",
       "      <td>0.488233</td>\n",
       "      <td>0.507916</td>\n",
       "      <td>0.515518</td>\n",
       "      <td>0.499353</td>\n",
       "      <td>0.488913</td>\n",
       "      <td>0.255501</td>\n",
       "      <td>...</td>\n",
       "      <td>1.963351</td>\n",
       "      <td>0.044713</td>\n",
       "      <td>0.103631</td>\n",
       "      <td>0.044713</td>\n",
       "      <td>0.103631</td>\n",
       "      <td>0.044661</td>\n",
       "      <td>0.032924</td>\n",
       "      <td>0.044661</td>\n",
       "      <td>0.032924</td>\n",
       "      <td>1.492147</td>\n",
       "    </tr>\n",
       "    <tr>\n",
       "      <th>std</th>\n",
       "      <td>118.810902</td>\n",
       "      <td>0.285097</td>\n",
       "      <td>0.279084</td>\n",
       "      <td>0.307653</td>\n",
       "      <td>0.295131</td>\n",
       "      <td>0.282112</td>\n",
       "      <td>0.275211</td>\n",
       "      <td>0.285727</td>\n",
       "      <td>0.280182</td>\n",
       "      <td>0.408110</td>\n",
       "      <td>...</td>\n",
       "      <td>3.961590</td>\n",
       "      <td>0.204484</td>\n",
       "      <td>0.218418</td>\n",
       "      <td>0.204484</td>\n",
       "      <td>0.218418</td>\n",
       "      <td>0.206444</td>\n",
       "      <td>0.099245</td>\n",
       "      <td>0.206444</td>\n",
       "      <td>0.099245</td>\n",
       "      <td>5.973141</td>\n",
       "    </tr>\n",
       "    <tr>\n",
       "      <th>min</th>\n",
       "      <td>0.000000</td>\n",
       "      <td>0.001510</td>\n",
       "      <td>0.000426</td>\n",
       "      <td>0.001315</td>\n",
       "      <td>0.001682</td>\n",
       "      <td>0.000452</td>\n",
       "      <td>0.000210</td>\n",
       "      <td>0.000403</td>\n",
       "      <td>0.001457</td>\n",
       "      <td>0.000000</td>\n",
       "      <td>...</td>\n",
       "      <td>1.000000</td>\n",
       "      <td>0.000000</td>\n",
       "      <td>0.000000</td>\n",
       "      <td>0.000000</td>\n",
       "      <td>0.000000</td>\n",
       "      <td>0.000000</td>\n",
       "      <td>0.000000</td>\n",
       "      <td>0.000000</td>\n",
       "      <td>0.000000</td>\n",
       "      <td>1.000000</td>\n",
       "    </tr>\n",
       "    <tr>\n",
       "      <th>25%</th>\n",
       "      <td>95.250000</td>\n",
       "      <td>0.238499</td>\n",
       "      <td>0.252807</td>\n",
       "      <td>0.220597</td>\n",
       "      <td>0.226465</td>\n",
       "      <td>0.257962</td>\n",
       "      <td>0.276702</td>\n",
       "      <td>0.270177</td>\n",
       "      <td>0.236932</td>\n",
       "      <td>0.000000</td>\n",
       "      <td>...</td>\n",
       "      <td>1.000000</td>\n",
       "      <td>0.000000</td>\n",
       "      <td>0.000000</td>\n",
       "      <td>0.000000</td>\n",
       "      <td>0.000000</td>\n",
       "      <td>0.000000</td>\n",
       "      <td>0.000000</td>\n",
       "      <td>0.000000</td>\n",
       "      <td>0.000000</td>\n",
       "      <td>1.000000</td>\n",
       "    </tr>\n",
       "    <tr>\n",
       "      <th>50%</th>\n",
       "      <td>190.500000</td>\n",
       "      <td>0.479413</td>\n",
       "      <td>0.515978</td>\n",
       "      <td>0.533688</td>\n",
       "      <td>0.464321</td>\n",
       "      <td>0.509397</td>\n",
       "      <td>0.531545</td>\n",
       "      <td>0.494710</td>\n",
       "      <td>0.497235</td>\n",
       "      <td>0.000000</td>\n",
       "      <td>...</td>\n",
       "      <td>1.000000</td>\n",
       "      <td>0.000000</td>\n",
       "      <td>0.000000</td>\n",
       "      <td>0.000000</td>\n",
       "      <td>0.000000</td>\n",
       "      <td>0.000000</td>\n",
       "      <td>0.000000</td>\n",
       "      <td>0.000000</td>\n",
       "      <td>0.000000</td>\n",
       "      <td>1.000000</td>\n",
       "    </tr>\n",
       "    <tr>\n",
       "      <th>75%</th>\n",
       "      <td>285.750000</td>\n",
       "      <td>0.712003</td>\n",
       "      <td>0.741535</td>\n",
       "      <td>0.772155</td>\n",
       "      <td>0.753512</td>\n",
       "      <td>0.751597</td>\n",
       "      <td>0.734230</td>\n",
       "      <td>0.739260</td>\n",
       "      <td>0.736440</td>\n",
       "      <td>0.525522</td>\n",
       "      <td>...</td>\n",
       "      <td>2.000000</td>\n",
       "      <td>0.000000</td>\n",
       "      <td>0.090544</td>\n",
       "      <td>0.000000</td>\n",
       "      <td>0.090544</td>\n",
       "      <td>0.000000</td>\n",
       "      <td>0.000000</td>\n",
       "      <td>0.000000</td>\n",
       "      <td>0.000000</td>\n",
       "      <td>1.000000</td>\n",
       "    </tr>\n",
       "    <tr>\n",
       "      <th>max</th>\n",
       "      <td>434.000000</td>\n",
       "      <td>0.993368</td>\n",
       "      <td>0.996174</td>\n",
       "      <td>0.999550</td>\n",
       "      <td>0.998631</td>\n",
       "      <td>0.998260</td>\n",
       "      <td>0.999020</td>\n",
       "      <td>0.999129</td>\n",
       "      <td>0.998740</td>\n",
       "      <td>1.000000</td>\n",
       "      <td>...</td>\n",
       "      <td>55.000000</td>\n",
       "      <td>1.000000</td>\n",
       "      <td>1.000000</td>\n",
       "      <td>1.000000</td>\n",
       "      <td>1.000000</td>\n",
       "      <td>1.000000</td>\n",
       "      <td>0.999771</td>\n",
       "      <td>1.000000</td>\n",
       "      <td>0.999771</td>\n",
       "      <td>117.000000</td>\n",
       "    </tr>\n",
       "  </tbody>\n",
       "</table>\n",
       "<p>8 rows × 27 columns</p>\n",
       "</div>"
      ],
      "text/plain": [
       "        exp_index  first_opponent_q_1  first_opponent_q_2  first_opponent_q_3  \\\n",
       "count  382.000000          382.000000          382.000000          382.000000   \n",
       "mean   195.356021            0.480099            0.502505            0.508802   \n",
       "std    118.810902            0.285097            0.279084            0.307653   \n",
       "min      0.000000            0.001510            0.000426            0.001315   \n",
       "25%     95.250000            0.238499            0.252807            0.220597   \n",
       "50%    190.500000            0.479413            0.515978            0.533688   \n",
       "75%    285.750000            0.712003            0.741535            0.772155   \n",
       "max    434.000000            0.993368            0.996174            0.999550   \n",
       "\n",
       "       first_opponent_q_4  second_opponent_q_1  second_opponent_q_2  \\\n",
       "count          382.000000           382.000000           382.000000   \n",
       "mean             0.488233             0.507916             0.515518   \n",
       "std              0.295131             0.282112             0.275211   \n",
       "min              0.001682             0.000452             0.000210   \n",
       "25%              0.226465             0.257962             0.276702   \n",
       "50%              0.464321             0.509397             0.531545   \n",
       "75%              0.753512             0.751597             0.734230   \n",
       "max              0.998631             0.998260             0.999020   \n",
       "\n",
       "       second_opponent_q_3  second_opponent_q_4  mem_one_p_1  \\\n",
       "count           382.000000           382.000000   382.000000   \n",
       "mean              0.499353             0.488913     0.255501   \n",
       "std               0.285727             0.280182     0.408110   \n",
       "min               0.000403             0.001457     0.000000   \n",
       "25%               0.270177             0.236932     0.000000   \n",
       "50%               0.494710             0.497235     0.000000   \n",
       "75%               0.739260             0.736440     0.525522   \n",
       "max               0.999129             0.998740     1.000000   \n",
       "\n",
       "               ...            mem_one_cycle_length  reactive_p_1  \\\n",
       "count          ...                      382.000000    382.000000   \n",
       "mean           ...                        1.963351      0.044713   \n",
       "std            ...                        3.961590      0.204484   \n",
       "min            ...                        1.000000      0.000000   \n",
       "25%            ...                        1.000000      0.000000   \n",
       "50%            ...                        1.000000      0.000000   \n",
       "75%            ...                        2.000000      0.000000   \n",
       "max            ...                       55.000000      1.000000   \n",
       "\n",
       "       reactive_p_2  reactive_p_3  reactive_p_4  evol_reactive_p_1  \\\n",
       "count    382.000000    382.000000    382.000000         382.000000   \n",
       "mean       0.103631      0.044713      0.103631           0.044661   \n",
       "std        0.218418      0.204484      0.218418           0.206444   \n",
       "min        0.000000      0.000000      0.000000           0.000000   \n",
       "25%        0.000000      0.000000      0.000000           0.000000   \n",
       "50%        0.000000      0.000000      0.000000           0.000000   \n",
       "75%        0.090544      0.000000      0.090544           0.000000   \n",
       "max        1.000000      1.000000      1.000000           1.000000   \n",
       "\n",
       "       evol_reactive_p_2  evol_reactive_p_3  evol_reactive_p_4  \\\n",
       "count         382.000000         382.000000         382.000000   \n",
       "mean            0.032924           0.044661           0.032924   \n",
       "std             0.099245           0.206444           0.099245   \n",
       "min             0.000000           0.000000           0.000000   \n",
       "25%             0.000000           0.000000           0.000000   \n",
       "50%             0.000000           0.000000           0.000000   \n",
       "75%             0.000000           0.000000           0.000000   \n",
       "max             0.999771           1.000000           0.999771   \n",
       "\n",
       "       reactive_cycle_length  \n",
       "count             382.000000  \n",
       "mean                1.492147  \n",
       "std                 5.973141  \n",
       "min                 1.000000  \n",
       "25%                 1.000000  \n",
       "50%                 1.000000  \n",
       "75%                 1.000000  \n",
       "max               117.000000  \n",
       "\n",
       "[8 rows x 27 columns]"
      ]
     },
     "execution_count": 16,
     "metadata": {},
     "output_type": "execute_result"
    }
   ],
   "source": [
    "df.describe()"
   ]
  },
  {
   "cell_type": "markdown",
   "metadata": {},
   "source": [
    "**Is ZD code**"
   ]
  },
  {
   "cell_type": "code",
   "execution_count": 17,
   "metadata": {},
   "outputs": [],
   "source": [
    "vector = [0.8888888888888888, 0.5, 0.3333333333333333, 0.0]"
   ]
  },
  {
   "cell_type": "code",
   "execution_count": 18,
   "metadata": {},
   "outputs": [
    {
     "data": {
      "image/png": "[encoded data removed]",
      "text/plain": [
       "<Figure size 720x468 with 4 Axes>"
      ]
     },
     "metadata": {
      "needs_background": "light"
     },
     "output_type": "display_data"
    }
   ],
   "source": [
    "fig, axes = plt.subplots(nrows=2, ncols=2, figsize=(10, 6.5))\n",
    "\n",
    "for i in range(4):\n",
    "    index = (int(i / 2), i % 2)\n",
    "    axes[index].hist(df['first_opponent_q_{}'.format(i + 1)], color=color)\n",
    "    \n",
    "    axes[index].set_title('Distribution of $q^{(1)}_%s$' % (i + 1))\n",
    "\n",
    "plt.savefig('../img/first_opponent_probabilities.pdf')"
   ]
  },
  {
   "cell_type": "code",
   "execution_count": 19,
   "metadata": {},
   "outputs": [],
   "source": [
    "df[\"SSerror\"] = df.apply(\n",
    "    lambda row: opt_mo.tools.get_least_squares(\n",
    "        vector=[\n",
    "            row[\"mem_one_p_1\"],\n",
    "            row[\"mem_one_p_2\"],\n",
    "            row[\"mem_one_p_3\"],\n",
    "            row[\"mem_one_p_4\"],\n",
    "        ]\n",
    "    ),\n",
    "    axis=1,\n",
    ")"
   ]
  },
  {
   "cell_type": "markdown",
   "metadata": {},
   "source": [
    "**Number of best responses that are ZD**"
   ]
  },
  {
   "cell_type": "code",
   "execution_count": 22,
   "metadata": {},
   "outputs": [
    {
     "name": "stderr",
     "output_type": "stream",
     "text": [
      "/home/nightwing/rsc/Memory-size-in-the-prisoners-dilemma/src/opt_mo/tools.py:98: RuntimeWarning: invalid value encountered in double_scalars\n",
      "  + T * tilde_vector[2]\n"
     ]
    }
   ],
   "source": [
    "df[\"is_ZD\"] = df.apply(\n",
    "    lambda row: opt_mo.tools.is_ZD(\n",
    "        vector=[\n",
    "            row[\"mem_one_p_1\"],\n",
    "            row[\"mem_one_p_2\"],\n",
    "            row[\"mem_one_p_3\"],\n",
    "            row[\"mem_one_p_4\"],\n",
    "        ]\n",
    "    ),\n",
    "    axis=1,\n",
    ")\n",
    "df[\"SSerror\"] = df.apply(\n",
    "    lambda row: opt_mo.tools.get_least_squares(\n",
    "        vector=[\n",
    "            row[\"mem_one_p_1\"],\n",
    "            row[\"mem_one_p_2\"],\n",
    "            row[\"mem_one_p_3\"],\n",
    "            row[\"mem_one_p_4\"],\n",
    "        ]\n",
    "    ),\n",
    "    axis=1,\n",
    ")\n"
   ]
  },
  {
   "cell_type": "code",
   "execution_count": 23,
   "metadata": {},
   "outputs": [
    {
     "data": {
      "text/plain": [
       "(0, 2.4705882352941178, 4.058768550141423e-07)"
      ]
     },
     "execution_count": 23,
     "metadata": {},
     "output_type": "execute_result"
    }
   ],
   "source": [
    "sum(df[\"is_ZD\"]), max(df[\"SSerror\"]), min(df[\"SSerror\"])"
   ]
  },
  {
   "cell_type": "code",
   "execution_count": 24,
   "metadata": {},
   "outputs": [
    {
     "name": "stderr",
     "output_type": "stream",
     "text": [
      "/home/nightwing/rsc/Memory-size-in-the-prisoners-dilemma/src/opt_mo/tools.py:98: RuntimeWarning: invalid value encountered in double_scalars\n",
      "  + T * tilde_vector[2]\n"
     ]
    }
   ],
   "source": [
    "df[\"evol_is_ZD\"] = df.apply(\n",
    "    lambda row: opt_mo.tools.is_ZD(\n",
    "        vector=[\n",
    "            row[\"evol_mem_one_p_1\"],\n",
    "            row[\"evol_mem_one_p_2\"],\n",
    "            row[\"evol_mem_one_p_3\"],\n",
    "            row[\"evol_mem_one_p_4\"],\n",
    "        ]\n",
    "    ),\n",
    "    axis=1,\n",
    ")\n",
    "df[\"evol_SSerror\"] = df.apply(\n",
    "    lambda row: opt_mo.tools.get_least_squares(\n",
    "        vector=[\n",
    "            row[\"evol_mem_one_p_1\"],\n",
    "            row[\"evol_mem_one_p_2\"],\n",
    "            row[\"evol_mem_one_p_3\"],\n",
    "            row[\"evol_mem_one_p_4\"],\n",
    "        ]\n",
    "    ),\n",
    "    axis=1,\n",
    ")\n"
   ]
  },
  {
   "cell_type": "code",
   "execution_count": 27,
   "metadata": {},
   "outputs": [
    {
     "data": {
      "image/png": "[encoded data removed]",
      "text/plain": [
       "<Figure size 576x324 with 1 Axes>"
      ]
     },
     "metadata": {
      "needs_background": "light"
     },
     "output_type": "display_data"
    }
   ],
   "source": [
    "fig, axes = plt.subplots(figsize=(8, 4.5))\n",
    "\n",
    "axes.hist(df[\"SSerror\"], bins=20,);\n",
    "axes.axvline(\n",
    "    np.mean(df[\"SSerror\"]), color=\"red\", linestyle=\"dashed\", linewidth=3,\n",
    "    label=\"mean=%s\" % round(np.mean(df[\"SSerror\"]), 3)\n",
    ")\n",
    "axes.set_xticks(np.linspace(0, 2.5, 6))\n",
    "\n",
    "axes.axvline(\n",
    "    np.median(df[\"SSerror\"]),\n",
    "    color=\"black\",\n",
    "    linestyle=\"dashed\",\n",
    "    linewidth=3,\n",
    "    label=\"median=%s\" % round(np.median(df[\"SSerror\"]), 3),\n",
    ")\n",
    "axes.legend();\n",
    "\n",
    "plt.savefig('../img/best_respones_sserror.pdf')"
   ]
  },
  {
   "cell_type": "code",
   "execution_count": 28,
   "metadata": {},
   "outputs": [],
   "source": [
    "def describe(df, stats):\n",
    "    d = df.describe(percentiles=[.05, .25, .30, .35, .5, .95])\n",
    "    return d.append(df.reindex_axis(d.columns, 1).agg(stats))"
   ]
  },
  {
   "cell_type": "code",
   "execution_count": 32,
   "metadata": {},
   "outputs": [
    {
     "name": "stderr",
     "output_type": "stream",
     "text": [
      "/home/nightwing/anaconda3/envs/opt-mo/lib/python3.6/site-packages/ipykernel_launcher.py:3: FutureWarning: '.reindex_axis' is deprecated and will be removed in a future version. Use '.reindex' instead.\n",
      "  This is separate from the ipykernel package so we can avoid doing imports until\n"
     ]
    }
   ],
   "source": [
    "sserror_table = pd.DataFrame(describe(df, ['median', 'skew', 'kurt'])['SSerror'])\n",
    "with open(\"../tex/sserror_table.tex\", \"w\") as f:\n",
    "    f.write(sserror_table.to_latex())"
   ]
  },
  {
   "cell_type": "markdown",
   "metadata": {},
   "source": [
    "This analysis can be repeated for reactive strategies. It has been carried out but there were no interesting results."
   ]
  },
  {
   "cell_type": "markdown",
   "metadata": {},
   "source": [
    "**Best response Evolutionary memory one (Evo)**"
   ]
  },
  {
   "cell_type": "code",
   "execution_count": null,
   "metadata": {},
   "outputs": [],
   "source": [
    "df[\"Evo SSerror\"] = df.apply(\n",
    "    lambda row: opt_mo.tools.get_least_squares(\n",
    "        vector=[\n",
    "            row[\"evol_mem_one_p_1\"],\n",
    "            row[\"evol_mem_one_p_2\"],\n",
    "            row[\"evol_mem_one_p_3\"],\n",
    "            row[\"evol_mem_one_p_4\"],\n",
    "        ]\n",
    "    ),\n",
    "    axis=1,\n",
    ")"
   ]
  },
  {
   "cell_type": "code",
   "execution_count": null,
   "metadata": {},
   "outputs": [],
   "source": [
    "error_columns = [\"SSerror\", \"evol_SSerror\", \"reactive_SSerror\", \"evol_reactive_SSerror\"]"
   ]
  },
  {
   "cell_type": "code",
   "execution_count": null,
   "metadata": {
    "scrolled": true
   },
   "outputs": [],
   "source": [
    "fig, axes = plt.subplots(figsize=(8, 4.5))\n",
    "\n",
    "axes.hist(df[\"Evo SSerror\"], bins=20, color=color);\n",
    "axes.axvline(\n",
    "    np.mean(df[\"Evo SSerror\"]), color=\"red\", linestyle=\"dashed\", linewidth=3,\n",
    "    label=\"mean=%s\" % round(np.mean(df[\"Evo SSerror\"]), 3)\n",
    ")\n",
    "axes.set_xticks(np.linspace(0, 1.5, 6))\n",
    "axes.axvline(\n",
    "    np.median(df[\"Evo SSerror\"]),\n",
    "    color=\"black\",\n",
    "    linestyle=\"dashed\",\n",
    "    linewidth=3,\n",
    "    label=\"median=%s\" % round(np.median(df[\"Evo SSerror\"]), 3)\n",
    ")\n",
    "axes.legend();\n",
    "\n",
    "plt.savefig('../img/evo_sserror.pdf')"
   ]
  },
  {
   "cell_type": "code",
   "execution_count": null,
   "metadata": {},
   "outputs": [],
   "source": [
    "tol = 10 ** -2"
   ]
  },
  {
   "cell_type": "code",
   "execution_count": null,
   "metadata": {},
   "outputs": [],
   "source": [
    "tolerances = [10 ** -i for i in range(2, 5)]\n",
    "percentages = []\n",
    "for tol in tolerances:\n",
    "    results = [len([x for x in df[column].values if x < tol]) / len(df[column].values)\n",
    "               for column in error_columns]\n",
    "    results = [np.round(100 * x) for x in results]\n",
    "    percentages.append(results)"
   ]
  },
  {
   "cell_type": "code",
   "execution_count": null,
   "metadata": {},
   "outputs": [],
   "source": [
    "table = pd.DataFrame(percentages, columns=error_columns)\n",
    "table['tolerance'] = tolerances"
   ]
  },
  {
   "cell_type": "code",
   "execution_count": null,
   "metadata": {},
   "outputs": [],
   "source": [
    "table.set_index('tolerance')"
   ]
  },
  {
   "cell_type": "code",
   "execution_count": null,
   "metadata": {},
   "outputs": [],
   "source": [
    "for i in range(9):\n",
    "    index = (i % 4, int(i / 4))\n",
    "    print(index)"
   ]
  },
  {
   "cell_type": "code",
   "execution_count": null,
   "metadata": {},
   "outputs": [],
   "source": [
    "fig, axes = plt.subplots(nrows=2, ncols=2, figsize=(10, 6.5))\n",
    "\n",
    "for i, column in enumerate(error_columns):\n",
    "    index = (int(i / 2), i % 2)\n",
    "    axes[index].hist(df[column], bins=20);\n",
    "    axes[index].axvline(\n",
    "        np.mean(df[column]), color=\"red\", linestyle=\"dashed\", linewidth=3, label=\"mean\"\n",
    "    )\n",
    "    axes[index].set_xticks(np.linspace(0, 2.8, 6))\n",
    "    axes[index].axvline(\n",
    "        np.median(df[column]),\n",
    "        color=\"black\",\n",
    "        linestyle=\"dashed\",\n",
    "        linewidth=3,\n",
    "        label=\"median\",\n",
    "    )\n",
    "    axes[index].legend()\n",
    "    axes[index].set_title(column)"
   ]
  },
  {
   "cell_type": "code",
   "execution_count": null,
   "metadata": {},
   "outputs": [],
   "source": [
    "evo_sserror_table"
   ]
  },
  {
   "cell_type": "code",
   "execution_count": null,
   "metadata": {},
   "outputs": [],
   "source": [
    "F, p = stats.f_oneway(df['SSerror'], df['evol_SSerror'], df['reactive_SSerror'], df['evol_reactive_SSerror'])"
   ]
  },
  {
   "cell_type": "code",
   "execution_count": null,
   "metadata": {},
   "outputs": [],
   "source": [
    "F, p"
   ]
  },
  {
   "cell_type": "code",
   "execution_count": null,
   "metadata": {},
   "outputs": [],
   "source": [
    "data = [df[column] for column in error_columns[:2]]\n",
    "plt.violinplot(data, showmedians=True);\n",
    "plt.boxplot(data);"
   ]
  },
  {
   "cell_type": "code",
   "execution_count": null,
   "metadata": {},
   "outputs": [],
   "source": [
    "fig = plt.figure()\n",
    "data = [df[column] for column in error_columns[2:]]\n",
    "plt.violinplot(data, showmedians=True);\n",
    "plt.boxplot(data);"
   ]
  },
  {
   "cell_type": "code",
   "execution_count": null,
   "metadata": {},
   "outputs": [],
   "source": [
    "data = [df[column] for column in error_columns[:2]]\n",
    "plt.boxplot(data, showfliers=False);"
   ]
  },
  {
   "cell_type": "code",
   "execution_count": null,
   "metadata": {},
   "outputs": [],
   "source": [
    "from scipy import stats"
   ]
  },
  {
   "cell_type": "markdown",
   "metadata": {},
   "source": [
    "- Sample distributions are equal. **Fail to Reject $h_0$**\n",
    "\n",
    "- Sample distributions are not equal. **Reject $h_0$** "
   ]
  },
  {
   "cell_type": "code",
   "execution_count": null,
   "metadata": {},
   "outputs": [],
   "source": [
    "def t_test(sample_one, sample_two, alpha=0.05):\n",
    "    t, p = stats.ttest_ind(sample_one, sample_two)\n",
    "    \n",
    "    if p > alpha:\n",
    "        print(r'Fail to reject $h_0$')\n",
    "    else:\n",
    "        print(r'Reject $h_0$')\n",
    "        \n",
    "    return p"
   ]
  },
  {
   "cell_type": "code",
   "execution_count": null,
   "metadata": {},
   "outputs": [],
   "source": [
    "def test_ranksum(sample_one, sample_two, alpha=0.05):\n",
    "    _, p = stats.ranksums(df['SSerror'], df['Evo SSerror'])\n",
    "    \n",
    "    if p > alpha:\n",
    "        print(r'Fail to reject $h_0$')\n",
    "    else:\n",
    "        print(r'Reject $h_0$')\n",
    "    return p"
   ]
  },
  {
   "cell_type": "code",
   "execution_count": null,
   "metadata": {},
   "outputs": [],
   "source": [
    "p = t_test(df['SSerror'], df['Evo SSerror'])"
   ]
  },
  {
   "cell_type": "code",
   "execution_count": null,
   "metadata": {},
   "outputs": [],
   "source": [
    "round(p, 10)"
   ]
  },
  {
   "cell_type": "code",
   "execution_count": null,
   "metadata": {},
   "outputs": [],
   "source": [
    "p = test_ranksum(df['SSerror'], df['Evo SSerror'])"
   ]
  },
  {
   "cell_type": "code",
   "execution_count": null,
   "metadata": {},
   "outputs": [],
   "source": [
    "round(p, 12)"
   ]
  },
  {
   "cell_type": "markdown",
   "metadata": {},
   "source": [
    "**The actual behaviour**"
   ]
  },
  {
   "cell_type": "code",
   "execution_count": null,
   "metadata": {},
   "outputs": [],
   "source": [
    "fig, axes = plt.subplots(nrows=2, ncols=2, figsize=(10, 6.5), facecolor=bg_color)\n",
    "\n",
    "for i in range(4):\n",
    "    index = (int(i / 2), i % 2)\n",
    "\n",
    "    axes[index].violinplot(\n",
    "        [df[\"mem_one_p_{}\".format(i + 1)], df[\"evol_mem_one_p_{}\".format(i + 1)]],\n",
    "        showmeans=True,\n",
    "    )\n",
    "    boxes = axes[index].boxplot(\n",
    "        [df[\"mem_one_p_{}\".format(i + 1)], df[\"evol_mem_one_p_{}\".format(i + 1)]], showfliers=False\n",
    "    )\n",
    "    for bp in boxes['medians']:\n",
    "        bp.set_color('red')\n",
    "        bp.set_linewidth(2)\n",
    "    for bp in boxes['caps']:\n",
    "        bp.set_color(color)\n",
    "        bp.set_linewidth(2)\n",
    "    for bp in boxes['whiskers']:\n",
    "        bp.set_color(color)\n",
    "        bp.set_linewidth(2)\n",
    "    for bp in boxes['boxes']:\n",
    "        bp.set_color(color)\n",
    "        bp.set_linewidth(2)\n",
    "\n",
    "    axes[index].set_title('Distribution of $p_%s$' % (i + 1), fontweight= 'medium', color=color)\n",
    "    axes[index].set_ylabel('Probability of cooperating', fontweight= 'medium', color=color)\n",
    "    matplotlib.pyplot.subplots_adjust(wspace = 0.2, hspace = 0.3)\n",
    "\n",
    "    plt.setp(axes[index], xticks=[1, 2], xticklabels=[\"best resp.\", \"best resp. with self interaction\"])\n",
    "    \n",
    "\n",
    "    axes[index].spines['bottom'].set_color(color)\n",
    "    axes[index].spines['top'].set_color(color)\n",
    "    axes[index].spines['right'].set_color(color)\n",
    "    axes[index].spines['left'].set_color(color)\n",
    "    axes[index].xaxis.label.set_color(color)\n",
    "    axes[index].tick_params(axis='x', colors=color)\n",
    "    axes[index].tick_params(axis='y', colors=color)\n",
    "\n",
    "fig.savefig(\"/Users/silversurfer/Documents/src/talks/talks/social dilemmas talk/static/result_self_interactions.pdf\",\n",
    "            transparent=True, facecolor=fig.get_facecolor())"
   ]
  },
  {
   "cell_type": "code",
   "execution_count": null,
   "metadata": {},
   "outputs": [],
   "source": [
    "fig, axes = plt.subplots(nrows=2, ncols=2, figsize=(10, 6.5))\n",
    "\n",
    "for i in range(4):\n",
    "    index = (int(i / 2), i % 2)\n",
    "\n",
    "    axes[index].violinplot(\n",
    "        [df[\"mem_one_p_{}\".format(i + 1)], df[\"evol_mem_one_p_{}\".format(i + 1)]],\n",
    "        showmeans=True,\n",
    "    )\n",
    "    boxes = axes[index].boxplot(\n",
    "        [df[\"mem_one_p_{}\".format(i + 1)], df[\"evol_mem_one_p_{}\".format(i + 1)]], showfliers=False\n",
    "    )\n",
    "    for bp in boxes['medians']:\n",
    "        bp.set_color('red')\n",
    "        bp.set_linewidth(2)\n",
    "    for bp in boxes['caps']:\n",
    "        bp.set_color('black')\n",
    "        bp.set_linewidth(2)\n",
    "    for bp in boxes['whiskers']:\n",
    "        bp.set_color('black')\n",
    "        bp.set_linewidth(2)\n",
    "    for bp in boxes['boxes']:\n",
    "        bp.set_color('black')\n",
    "        bp.set_linewidth(2)\n",
    "\n",
    "    axes[index].set_title('Distribution of $p_%s$' % (i + 1), fontweight= 'medium')\n",
    "    axes[index].set_ylabel('Probability of cooperating', fontweight= 'medium')\n",
    "    matplotlib.pyplot.subplots_adjust(wspace = 0.2, hspace = 0.3)\n",
    "\n",
    "    plt.setp(axes[index], xticks=[1, 2], xticklabels=[\"best response\", \"evo\"])\n",
    "    \n",
    "plt.savefig('../img/behaviour_violin_plots.pdf')"
   ]
  },
  {
   "cell_type": "code",
   "execution_count": null,
   "metadata": {},
   "outputs": [],
   "source": [
    "means = []\n",
    "for i in range(4):\n",
    "    means.append((np.median(df['mem_one_p_{}'.format(i + 1)]),\n",
    "                  np.median(df['evol_mem_one_p_{}'.format(i + 1)]),\n",
    "                  round(test_ranksum(df['mem_one_p_{}'.format(i + 1)], df['evol_mem_one_p_{}'.format(i + 1)]), 3)))"
   ]
  },
  {
   "cell_type": "code",
   "execution_count": null,
   "metadata": {},
   "outputs": [],
   "source": [
    "tests_table = pd.DataFrame(means, columns=['Memory one Median', 'Evo Median', 'p-values'])"
   ]
  },
  {
   "cell_type": "code",
   "execution_count": null,
   "metadata": {},
   "outputs": [],
   "source": [
    "# ANOVA and removing outliers"
   ]
  },
  {
   "cell_type": "code",
   "execution_count": null,
   "metadata": {},
   "outputs": [],
   "source": [
    "tests_table"
   ]
  },
  {
   "cell_type": "code",
   "execution_count": null,
   "metadata": {},
   "outputs": [],
   "source": [
    "with open(\"../tex/medians_tests.tex\", \"w\") as f:\n",
    "    f.write(tests_table.to_latex().replace('\\$', '$').replace('\\_', '_'))"
   ]
  },
  {
   "cell_type": "code",
   "execution_count": null,
   "metadata": {},
   "outputs": [],
   "source": [
    "distances = [\n",
    "    [\n",
    "        (row[\"evol_mem_one_p_{}\".format(p + 1)] - row[\"mem_one_p_{}\".format(p + 1)])\n",
    "        for _, row in df.iterrows()\n",
    "    ]\n",
    "    for p in range(4)\n",
    "]"
   ]
  },
  {
   "cell_type": "code",
   "execution_count": null,
   "metadata": {},
   "outputs": [],
   "source": [
    "labels = [\"$p_1$\", \"$p_2$\", \"$p_3$\", \"$p_4$\"]"
   ]
  },
  {
   "cell_type": "code",
   "execution_count": null,
   "metadata": {},
   "outputs": [],
   "source": [
    "fig, axes = plt.subplots(nrows=2, ncols=2, figsize=(12, 8.5))\n",
    "for i, distance in enumerate(distances):\n",
    "    index = (int(i / 2), i % 2)\n",
    "\n",
    "    axes[index].hist(distance, color=color)\n",
    "    axes[index].axvline(\n",
    "        np.mean(distance), color=\"red\", linestyle=\"dashed\", linewidth=3,\n",
    "        label=\"mean=%s\" % round(np.mean(distance), 3)\n",
    "    )\n",
    "    axes[index].axvline(\n",
    "        np.median(distance),\n",
    "        color=\"black\",\n",
    "        linestyle=\"dashed\",\n",
    "        linewidth=3,\n",
    "        label=\"median=%s\" % round(np.median(distance), 3),\n",
    "    )\n",
    "    axes[index].set_title(\"Difference in %s\" %labels[i])\n",
    "    axes[index].legend()\n",
    "    matplotlib.pyplot.subplots_adjust(wspace = 0.2, hspace = 0.3)\n",
    "    \n",
    "plt.savefig('../img/distances.pdf')"
   ]
  },
  {
   "cell_type": "code",
   "execution_count": null,
   "metadata": {},
   "outputs": [],
   "source": [
    "skew = []\n",
    "kurt = []\n",
    "for distance in distances:\n",
    "    skew.append(stats.skew(distance))\n",
    "    kurt.append(stats.kurtosis(distance))\n",
    "    \n"
   ]
  },
  {
   "cell_type": "code",
   "execution_count": null,
   "metadata": {},
   "outputs": [],
   "source": [
    "skew_table = pd.DataFrame({'Skewness': skew, 'Kurtosis': kurt})\n",
    "skew_table.index = [r'Difference in $p_1$', r'Difference in $p_2$', r'Difference in $p_3$',\n",
    "                    r'Difference in $p_4$']"
   ]
  },
  {
   "cell_type": "code",
   "execution_count": null,
   "metadata": {},
   "outputs": [],
   "source": [
    "skew_table "
   ]
  },
  {
   "cell_type": "code",
   "execution_count": null,
   "metadata": {},
   "outputs": [],
   "source": [
    "with open(\"../tex/skew_table.tex\", \"w\") as f:\n",
    "    f.write(skew_table.to_latex().replace('\\$', '$').replace('\\_', '_'))"
   ]
  },
  {
   "cell_type": "markdown",
   "metadata": {},
   "source": [
    "**Regression**"
   ]
  },
  {
   "cell_type": "code",
   "execution_count": null,
   "metadata": {},
   "outputs": [],
   "source": [
    "import seaborn as sbn\n",
    "from sklearn.linear_model import LinearRegression"
   ]
  },
  {
   "cell_type": "code",
   "execution_count": null,
   "metadata": {},
   "outputs": [],
   "source": [
    "correlation = df[df.columns[1:-16]].corr().round(2)"
   ]
  },
  {
   "cell_type": "code",
   "execution_count": null,
   "metadata": {},
   "outputs": [],
   "source": [
    "fig, ax = plt.subplots(1, figsize=(15, 9))\n",
    "\n",
    "sbn.heatmap(\n",
    "    correlation.replace(1, np.nan), square=True, cmap='viridis', vmin=-1, vmax=1,\n",
    "    lw=0.1, annot=True, annot_kws={'fontsize': 8}, ax=ax)\n",
    "\n",
    "for label in ax.get_xticklabels():\n",
    "    label.set_rotation(60)\n",
    "    label.set_horizontalalignment('right')\n",
    "\n",
    "plt.tight_layout()\n",
    "\n",
    "plt.savefig('../img/best_response_correlation.pdf')"
   ]
  },
  {
   "cell_type": "code",
   "execution_count": null,
   "metadata": {},
   "outputs": [],
   "source": [
    "columns = list(df.columns[1:-20]) + list(df.columns[13:17])"
   ]
  },
  {
   "cell_type": "code",
   "execution_count": null,
   "metadata": {},
   "outputs": [],
   "source": [
    "correlation = df[columns].corr().round(2)"
   ]
  },
  {
   "cell_type": "code",
   "execution_count": null,
   "metadata": {
    "scrolled": true
   },
   "outputs": [],
   "source": [
    "fig, ax = plt.subplots(1, figsize=(15, 9))\n",
    "\n",
    "sbn.heatmap(\n",
    "    correlation.replace(1, np.nan), square=True, cmap='viridis', vmin=-1, vmax=1,\n",
    "    lw=0.1, annot=True, annot_kws={'fontsize': 8}, ax=ax)\n",
    "\n",
    "for label in ax.get_xticklabels():\n",
    "    label.set_rotation(60)\n",
    "    label.set_horizontalalignment('right')\n",
    "\n",
    "plt.tight_layout()\n",
    "\n",
    "plt.savefig('../img/evo_correlation.pdf')"
   ]
  },
  {
   "cell_type": "code",
   "execution_count": null,
   "metadata": {},
   "outputs": [],
   "source": [
    "x = df['second_opponent_q_1']\n",
    "y = df['mem_one_p_1']\n",
    "\n",
    "slope, intercept, r_value, p_value, std_err = stats.linregress(x, y)\n",
    "line = slope * x + intercept\n",
    "\n",
    "plt.plot(x, y, 'o', color='black')\n",
    "plt.plot(x, line, '--', color='red', linewidth=3);\n",
    "\n",
    "plt.title(r'$p_1 = %.4f q^{(2)}_{1} + %.4f$' % (slope, intercept));"
   ]
  },
  {
   "cell_type": "code",
   "execution_count": null,
   "metadata": {},
   "outputs": [],
   "source": [
    "x = df['first_opponent_q_4']\n",
    "y = df['mem_one_p_2']\n",
    "\n",
    "slope, intercept, r_value, p_value, std_err = stats.linregress(x, y)\n",
    "line = slope * x + intercept\n",
    "\n",
    "plt.plot(x, y, 'o', color='black')\n",
    "plt.plot(x, line, '--', color='red', linewidth=3);\n",
    "\n",
    "plt.title(r'$p_2 = %.4f q^{(1)}_{4} + %.4f$' % (slope, intercept));\n"
   ]
  },
  {
   "cell_type": "code",
   "execution_count": null,
   "metadata": {},
   "outputs": [],
   "source": [
    "y = df['mem_one_p_4']\n",
    "\n",
    "fig, axes = plt.subplots(nrows=2, ncols=2, figsize=(10, 6.5))\n",
    "\n",
    "for i in range(4):\n",
    "    index = (int(i / 2), i % 2)\n",
    "    x = df['first_opponent_q_{}'.format(i + 1)]\n",
    "\n",
    "\n",
    "    slope, intercept, r_value, p_value, std_err = stats.linregress(x, y)\n",
    "    line = slope * x + intercept\n",
    "\n",
    "    axes[index].plot(x, y, 'o', color='black')\n",
    "    axes[index].plot(x, line, '--', color='red', linewidth=3);\n",
    "\n",
    "    axes[index].set_title(r'$p_3 = %.4f q^{(2)}_{1} + %.4f$' % (slope, intercept));"
   ]
  },
  {
   "cell_type": "markdown",
   "metadata": {},
   "source": [
    "Arcooding to (Knight 2019), a method for testing for extortionate behaviour has been given. Though there is a n exact condition that must hold regarding a player transition probabilities. A more slacked definition is also given. Regarding the slack defitition the error of being a ZD strategy is defined."
   ]
  },
  {
   "cell_type": "code",
   "execution_count": null,
   "metadata": {},
   "outputs": [],
   "source": [
    "# ratios = []\n",
    "# for p in range(4):\n",
    "#     ratio = []\n",
    "#     for _, row in df.iterrows():\n",
    "#         try:\n",
    "#             ratio.append(\n",
    "#                 row[\"mem_one_p_{}\".format(p + 1)]\n",
    "#                 / row[\"evol_mem_one_p_{}\".format(p + 1)]\n",
    "#             )\n",
    "#         except ZeroDivisionError:\n",
    "#             pass\n",
    "#     ratios.append(ratio)"
   ]
  },
  {
   "cell_type": "code",
   "execution_count": null,
   "metadata": {},
   "outputs": [],
   "source": [
    "# fig, axes = plt.subplots(nrows=2, ncols=2, figsize=(10, 6.5))\n",
    "# for i, ratio in enumerate(ratios):\n",
    "#     index = (int(i / 2), i % 2)\n",
    "\n",
    "#     axes[index].hist(ratio)\n",
    "#     axes[index].axvline(\n",
    "#         1, color=\"red\", linestyle=\"dashed\", linewidth=2, label=\"ratio=1\"\n",
    "#     )\n",
    "#     axes[index].set_title(labels[i])\n",
    "#     axes[index].legend()"
   ]
  },
  {
   "cell_type": "code",
   "execution_count": null,
   "metadata": {},
   "outputs": [],
   "source": []
  },
  {
   "cell_type": "code",
   "execution_count": null,
   "metadata": {},
   "outputs": [],
   "source": []
  }
 ],
 "metadata": {
  "kernelspec": {
   "display_name": "opt-mo",
   "language": "python",
   "name": "opt-mo"
  },
  "language_info": {
   "codemirror_mode": {
    "name": "ipython",
    "version": 3
   },
   "file_extension": ".py",
   "mimetype": "text/x-python",
   "name": "python",
   "nbconvert_exporter": "python",
   "pygments_lexer": "ipython3",
   "version": "3.6.7"
  }
 },
 "nbformat": 4,
 "nbformat_minor": 2
}
