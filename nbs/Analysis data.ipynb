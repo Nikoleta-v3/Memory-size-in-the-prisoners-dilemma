{
 "cells": [
  {
   "cell_type": "code",
   "execution_count": 1,
   "metadata": {},
   "outputs": [],
   "source": [
    "import pandas as pd\n",
    "import sqlalchemy as sa"
   ]
  },
  {
   "cell_type": "code",
   "execution_count": 2,
   "metadata": {},
   "outputs": [],
   "source": [
    "import axelrod as axl"
   ]
  },
  {
   "cell_type": "code",
   "execution_count": 3,
   "metadata": {},
   "outputs": [],
   "source": [
    "import numpy as np"
   ]
  },
  {
   "cell_type": "code",
   "execution_count": 4,
   "metadata": {},
   "outputs": [],
   "source": [
    "import opt_mo"
   ]
  },
  {
   "cell_type": "code",
   "execution_count": 5,
   "metadata": {},
   "outputs": [],
   "source": [
    "import matplotlib.pyplot as plt"
   ]
  },
  {
   "cell_type": "markdown",
   "metadata": {},
   "source": [
    "**Read in data**"
   ]
  },
  {
   "cell_type": "code",
   "execution_count": 6,
   "metadata": {},
   "outputs": [],
   "source": [
    "engine = sa.create_engine('sqlite:///../data/with_gambler/main.db')"
   ]
  },
  {
   "cell_type": "code",
   "execution_count": 7,
   "metadata": {},
   "outputs": [],
   "source": [
    "connection = engine.connect()"
   ]
  },
  {
   "cell_type": "code",
   "execution_count": 8,
   "metadata": {},
   "outputs": [],
   "source": [
    "df_with_gambler = pd.read_sql('experiments', connection)"
   ]
  },
  {
   "cell_type": "code",
   "execution_count": 9,
   "metadata": {},
   "outputs": [
    {
     "data": {
      "text/html": [
       "<div>\n",
       "<style scoped>\n",
       "    .dataframe tbody tr th:only-of-type {\n",
       "        vertical-align: middle;\n",
       "    }\n",
       "\n",
       "    .dataframe tbody tr th {\n",
       "        vertical-align: top;\n",
       "    }\n",
       "\n",
       "    .dataframe thead th {\n",
       "        text-align: right;\n",
       "    }\n",
       "</style>\n",
       "<table border=\"1\" class=\"dataframe\">\n",
       "  <thead>\n",
       "    <tr style=\"text-align: right;\">\n",
       "      <th></th>\n",
       "      <th>exp_index</th>\n",
       "      <th>first_opponent_q_1</th>\n",
       "      <th>first_opponent_q_2</th>\n",
       "      <th>first_opponent_q_3</th>\n",
       "      <th>first_opponent_q_4</th>\n",
       "      <th>second_opponent_q_1</th>\n",
       "      <th>second_opponent_q_2</th>\n",
       "      <th>second_opponent_q_3</th>\n",
       "      <th>second_opponent_q_4</th>\n",
       "      <th>mem_one_p_1</th>\n",
       "      <th>...</th>\n",
       "      <th>gambler_paramater_p_8</th>\n",
       "      <th>gambler_paramater_p_9</th>\n",
       "      <th>gambler_paramater_p_10</th>\n",
       "      <th>gambler_paramater_p_11</th>\n",
       "      <th>gambler_paramater_p_12</th>\n",
       "      <th>gambler_paramater_p_13</th>\n",
       "      <th>gambler_paramater_p_14</th>\n",
       "      <th>gambler_paramater_p_15</th>\n",
       "      <th>gambler_paramater_p_16</th>\n",
       "      <th>gambler_utility</th>\n",
       "    </tr>\n",
       "  </thead>\n",
       "  <tbody>\n",
       "    <tr>\n",
       "      <th>count</th>\n",
       "      <td>37.000000</td>\n",
       "      <td>37.000000</td>\n",
       "      <td>37.000000</td>\n",
       "      <td>37.000000</td>\n",
       "      <td>37.000000</td>\n",
       "      <td>37.000000</td>\n",
       "      <td>37.000000</td>\n",
       "      <td>37.000000</td>\n",
       "      <td>37.000000</td>\n",
       "      <td>37.000000</td>\n",
       "      <td>...</td>\n",
       "      <td>37.000000</td>\n",
       "      <td>37.000000</td>\n",
       "      <td>37.000000</td>\n",
       "      <td>37.000000</td>\n",
       "      <td>37.000000</td>\n",
       "      <td>37.000000</td>\n",
       "      <td>37.000000</td>\n",
       "      <td>37.000000</td>\n",
       "      <td>37.000000</td>\n",
       "      <td>37.000000</td>\n",
       "    </tr>\n",
       "    <tr>\n",
       "      <th>mean</th>\n",
       "      <td>18.000000</td>\n",
       "      <td>0.489601</td>\n",
       "      <td>0.573224</td>\n",
       "      <td>0.559920</td>\n",
       "      <td>0.501420</td>\n",
       "      <td>0.412807</td>\n",
       "      <td>0.534458</td>\n",
       "      <td>0.490980</td>\n",
       "      <td>0.500700</td>\n",
       "      <td>0.148203</td>\n",
       "      <td>...</td>\n",
       "      <td>0.362720</td>\n",
       "      <td>0.027027</td>\n",
       "      <td>0.054054</td>\n",
       "      <td>0.355837</td>\n",
       "      <td>0.612470</td>\n",
       "      <td>0.216216</td>\n",
       "      <td>0.271817</td>\n",
       "      <td>0.549619</td>\n",
       "      <td>0.419682</td>\n",
       "      <td>3.265829</td>\n",
       "    </tr>\n",
       "    <tr>\n",
       "      <th>std</th>\n",
       "      <td>10.824355</td>\n",
       "      <td>0.279429</td>\n",
       "      <td>0.288541</td>\n",
       "      <td>0.288466</td>\n",
       "      <td>0.321450</td>\n",
       "      <td>0.292843</td>\n",
       "      <td>0.269286</td>\n",
       "      <td>0.317477</td>\n",
       "      <td>0.274092</td>\n",
       "      <td>0.328211</td>\n",
       "      <td>...</td>\n",
       "      <td>0.406049</td>\n",
       "      <td>0.164399</td>\n",
       "      <td>0.229243</td>\n",
       "      <td>0.423723</td>\n",
       "      <td>0.420402</td>\n",
       "      <td>0.417342</td>\n",
       "      <td>0.428751</td>\n",
       "      <td>0.424017</td>\n",
       "      <td>0.410095</td>\n",
       "      <td>0.629157</td>\n",
       "    </tr>\n",
       "    <tr>\n",
       "      <th>min</th>\n",
       "      <td>0.000000</td>\n",
       "      <td>0.012278</td>\n",
       "      <td>0.011655</td>\n",
       "      <td>0.023616</td>\n",
       "      <td>0.072436</td>\n",
       "      <td>0.000452</td>\n",
       "      <td>0.016881</td>\n",
       "      <td>0.000403</td>\n",
       "      <td>0.041736</td>\n",
       "      <td>0.000000</td>\n",
       "      <td>...</td>\n",
       "      <td>0.000000</td>\n",
       "      <td>0.000000</td>\n",
       "      <td>0.000000</td>\n",
       "      <td>0.000000</td>\n",
       "      <td>0.000000</td>\n",
       "      <td>0.000000</td>\n",
       "      <td>0.000000</td>\n",
       "      <td>0.000000</td>\n",
       "      <td>0.000000</td>\n",
       "      <td>1.925565</td>\n",
       "    </tr>\n",
       "    <tr>\n",
       "      <th>25%</th>\n",
       "      <td>9.000000</td>\n",
       "      <td>0.237965</td>\n",
       "      <td>0.345832</td>\n",
       "      <td>0.369955</td>\n",
       "      <td>0.206098</td>\n",
       "      <td>0.184254</td>\n",
       "      <td>0.364696</td>\n",
       "      <td>0.231802</td>\n",
       "      <td>0.225163</td>\n",
       "      <td>0.000000</td>\n",
       "      <td>...</td>\n",
       "      <td>0.000000</td>\n",
       "      <td>0.000000</td>\n",
       "      <td>0.000000</td>\n",
       "      <td>0.000000</td>\n",
       "      <td>0.167284</td>\n",
       "      <td>0.000000</td>\n",
       "      <td>0.000000</td>\n",
       "      <td>0.097050</td>\n",
       "      <td>0.000000</td>\n",
       "      <td>2.868345</td>\n",
       "    </tr>\n",
       "    <tr>\n",
       "      <th>50%</th>\n",
       "      <td>18.000000</td>\n",
       "      <td>0.521984</td>\n",
       "      <td>0.661431</td>\n",
       "      <td>0.635000</td>\n",
       "      <td>0.465650</td>\n",
       "      <td>0.409516</td>\n",
       "      <td>0.502782</td>\n",
       "      <td>0.479773</td>\n",
       "      <td>0.508927</td>\n",
       "      <td>0.000000</td>\n",
       "      <td>...</td>\n",
       "      <td>0.224698</td>\n",
       "      <td>0.000000</td>\n",
       "      <td>0.000000</td>\n",
       "      <td>0.096253</td>\n",
       "      <td>0.819039</td>\n",
       "      <td>0.000000</td>\n",
       "      <td>0.000000</td>\n",
       "      <td>0.640767</td>\n",
       "      <td>0.411937</td>\n",
       "      <td>3.235320</td>\n",
       "    </tr>\n",
       "    <tr>\n",
       "      <th>75%</th>\n",
       "      <td>27.000000</td>\n",
       "      <td>0.677126</td>\n",
       "      <td>0.784911</td>\n",
       "      <td>0.795194</td>\n",
       "      <td>0.865045</td>\n",
       "      <td>0.625720</td>\n",
       "      <td>0.735970</td>\n",
       "      <td>0.764411</td>\n",
       "      <td>0.757592</td>\n",
       "      <td>0.014327</td>\n",
       "      <td>...</td>\n",
       "      <td>0.751289</td>\n",
       "      <td>0.000000</td>\n",
       "      <td>0.000000</td>\n",
       "      <td>0.846509</td>\n",
       "      <td>1.000000</td>\n",
       "      <td>0.000000</td>\n",
       "      <td>0.768426</td>\n",
       "      <td>1.000000</td>\n",
       "      <td>0.831916</td>\n",
       "      <td>3.563655</td>\n",
       "    </tr>\n",
       "    <tr>\n",
       "      <th>max</th>\n",
       "      <td>36.000000</td>\n",
       "      <td>0.965242</td>\n",
       "      <td>0.983214</td>\n",
       "      <td>0.960495</td>\n",
       "      <td>0.998631</td>\n",
       "      <td>0.986339</td>\n",
       "      <td>0.996817</td>\n",
       "      <td>0.999129</td>\n",
       "      <td>0.973859</td>\n",
       "      <td>1.000000</td>\n",
       "      <td>...</td>\n",
       "      <td>1.000000</td>\n",
       "      <td>1.000000</td>\n",
       "      <td>1.000000</td>\n",
       "      <td>1.000000</td>\n",
       "      <td>1.000000</td>\n",
       "      <td>1.000000</td>\n",
       "      <td>1.000000</td>\n",
       "      <td>1.000000</td>\n",
       "      <td>1.000000</td>\n",
       "      <td>4.638720</td>\n",
       "    </tr>\n",
       "  </tbody>\n",
       "</table>\n",
       "<p>8 rows × 45 columns</p>\n",
       "</div>"
      ],
      "text/plain": [
       "       exp_index  first_opponent_q_1  first_opponent_q_2  first_opponent_q_3  \\\n",
       "count  37.000000           37.000000           37.000000           37.000000   \n",
       "mean   18.000000            0.489601            0.573224            0.559920   \n",
       "std    10.824355            0.279429            0.288541            0.288466   \n",
       "min     0.000000            0.012278            0.011655            0.023616   \n",
       "25%     9.000000            0.237965            0.345832            0.369955   \n",
       "50%    18.000000            0.521984            0.661431            0.635000   \n",
       "75%    27.000000            0.677126            0.784911            0.795194   \n",
       "max    36.000000            0.965242            0.983214            0.960495   \n",
       "\n",
       "       first_opponent_q_4  second_opponent_q_1  second_opponent_q_2  \\\n",
       "count           37.000000            37.000000            37.000000   \n",
       "mean             0.501420             0.412807             0.534458   \n",
       "std              0.321450             0.292843             0.269286   \n",
       "min              0.072436             0.000452             0.016881   \n",
       "25%              0.206098             0.184254             0.364696   \n",
       "50%              0.465650             0.409516             0.502782   \n",
       "75%              0.865045             0.625720             0.735970   \n",
       "max              0.998631             0.986339             0.996817   \n",
       "\n",
       "       second_opponent_q_3  second_opponent_q_4  mem_one_p_1       ...         \\\n",
       "count            37.000000            37.000000    37.000000       ...          \n",
       "mean              0.490980             0.500700     0.148203       ...          \n",
       "std               0.317477             0.274092     0.328211       ...          \n",
       "min               0.000403             0.041736     0.000000       ...          \n",
       "25%               0.231802             0.225163     0.000000       ...          \n",
       "50%               0.479773             0.508927     0.000000       ...          \n",
       "75%               0.764411             0.757592     0.014327       ...          \n",
       "max               0.999129             0.973859     1.000000       ...          \n",
       "\n",
       "       gambler_paramater_p_8  gambler_paramater_p_9  gambler_paramater_p_10  \\\n",
       "count              37.000000              37.000000               37.000000   \n",
       "mean                0.362720               0.027027                0.054054   \n",
       "std                 0.406049               0.164399                0.229243   \n",
       "min                 0.000000               0.000000                0.000000   \n",
       "25%                 0.000000               0.000000                0.000000   \n",
       "50%                 0.224698               0.000000                0.000000   \n",
       "75%                 0.751289               0.000000                0.000000   \n",
       "max                 1.000000               1.000000                1.000000   \n",
       "\n",
       "       gambler_paramater_p_11  gambler_paramater_p_12  gambler_paramater_p_13  \\\n",
       "count               37.000000               37.000000               37.000000   \n",
       "mean                 0.355837                0.612470                0.216216   \n",
       "std                  0.423723                0.420402                0.417342   \n",
       "min                  0.000000                0.000000                0.000000   \n",
       "25%                  0.000000                0.167284                0.000000   \n",
       "50%                  0.096253                0.819039                0.000000   \n",
       "75%                  0.846509                1.000000                0.000000   \n",
       "max                  1.000000                1.000000                1.000000   \n",
       "\n",
       "       gambler_paramater_p_14  gambler_paramater_p_15  gambler_paramater_p_16  \\\n",
       "count               37.000000               37.000000               37.000000   \n",
       "mean                 0.271817                0.549619                0.419682   \n",
       "std                  0.428751                0.424017                0.410095   \n",
       "min                  0.000000                0.000000                0.000000   \n",
       "25%                  0.000000                0.097050                0.000000   \n",
       "50%                  0.000000                0.640767                0.411937   \n",
       "75%                  0.768426                1.000000                0.831916   \n",
       "max                  1.000000                1.000000                1.000000   \n",
       "\n",
       "       gambler_utility  \n",
       "count        37.000000  \n",
       "mean          3.265829  \n",
       "std           0.629157  \n",
       "min           1.925565  \n",
       "25%           2.868345  \n",
       "50%           3.235320  \n",
       "75%           3.563655  \n",
       "max           4.638720  \n",
       "\n",
       "[8 rows x 45 columns]"
      ]
     },
     "execution_count": 9,
     "metadata": {},
     "output_type": "execute_result"
    }
   ],
   "source": [
    "df_with_gambler.describe()"
   ]
  },
  {
   "cell_type": "code",
   "execution_count": 10,
   "metadata": {},
   "outputs": [],
   "source": [
    "engine = sa.create_engine('sqlite:///../data/without_gambler/main.db')"
   ]
  },
  {
   "cell_type": "code",
   "execution_count": 11,
   "metadata": {},
   "outputs": [],
   "source": [
    "connection = engine.connect()"
   ]
  },
  {
   "cell_type": "code",
   "execution_count": 12,
   "metadata": {},
   "outputs": [],
   "source": [
    "df = pd.read_sql('experiments', connection)"
   ]
  },
  {
   "cell_type": "code",
   "execution_count": 13,
   "metadata": {},
   "outputs": [
    {
     "data": {
      "text/html": [
       "<div>\n",
       "<style scoped>\n",
       "    .dataframe tbody tr th:only-of-type {\n",
       "        vertical-align: middle;\n",
       "    }\n",
       "\n",
       "    .dataframe tbody tr th {\n",
       "        vertical-align: top;\n",
       "    }\n",
       "\n",
       "    .dataframe thead th {\n",
       "        text-align: right;\n",
       "    }\n",
       "</style>\n",
       "<table border=\"1\" class=\"dataframe\">\n",
       "  <thead>\n",
       "    <tr style=\"text-align: right;\">\n",
       "      <th></th>\n",
       "      <th>exp_index</th>\n",
       "      <th>first_opponent_q_1</th>\n",
       "      <th>first_opponent_q_2</th>\n",
       "      <th>first_opponent_q_3</th>\n",
       "      <th>first_opponent_q_4</th>\n",
       "      <th>second_opponent_q_1</th>\n",
       "      <th>second_opponent_q_2</th>\n",
       "      <th>second_opponent_q_3</th>\n",
       "      <th>second_opponent_q_4</th>\n",
       "      <th>mem_one_p_1</th>\n",
       "      <th>...</th>\n",
       "      <th>mem_one_cycle_length</th>\n",
       "      <th>reactive_p_1</th>\n",
       "      <th>reactive_p_2</th>\n",
       "      <th>reactive_p_3</th>\n",
       "      <th>reactive_p_4</th>\n",
       "      <th>evol_reactive_p_1</th>\n",
       "      <th>evol_reactive_p_2</th>\n",
       "      <th>evol_reactive_p_3</th>\n",
       "      <th>evol_reactive_p_4</th>\n",
       "      <th>reactive_cycle_length</th>\n",
       "    </tr>\n",
       "  </thead>\n",
       "  <tbody>\n",
       "    <tr>\n",
       "      <th>count</th>\n",
       "      <td>100.000000</td>\n",
       "      <td>100.000000</td>\n",
       "      <td>100.000000</td>\n",
       "      <td>100.000000</td>\n",
       "      <td>100.000000</td>\n",
       "      <td>100.000000</td>\n",
       "      <td>100.000000</td>\n",
       "      <td>100.000000</td>\n",
       "      <td>100.000000</td>\n",
       "      <td>100.000000</td>\n",
       "      <td>...</td>\n",
       "      <td>100.000000</td>\n",
       "      <td>100.000000</td>\n",
       "      <td>100.000000</td>\n",
       "      <td>100.000000</td>\n",
       "      <td>100.000000</td>\n",
       "      <td>100.000000</td>\n",
       "      <td>100.000000</td>\n",
       "      <td>100.000000</td>\n",
       "      <td>100.000000</td>\n",
       "      <td>100.000000</td>\n",
       "    </tr>\n",
       "    <tr>\n",
       "      <th>mean</th>\n",
       "      <td>49.500000</td>\n",
       "      <td>0.465369</td>\n",
       "      <td>0.504752</td>\n",
       "      <td>0.511140</td>\n",
       "      <td>0.497352</td>\n",
       "      <td>0.499797</td>\n",
       "      <td>0.528246</td>\n",
       "      <td>0.502436</td>\n",
       "      <td>0.468291</td>\n",
       "      <td>0.244706</td>\n",
       "      <td>...</td>\n",
       "      <td>1.780000</td>\n",
       "      <td>0.070020</td>\n",
       "      <td>0.125518</td>\n",
       "      <td>0.070020</td>\n",
       "      <td>0.125518</td>\n",
       "      <td>0.079974</td>\n",
       "      <td>0.040106</td>\n",
       "      <td>0.079974</td>\n",
       "      <td>0.040106</td>\n",
       "      <td>1.290000</td>\n",
       "    </tr>\n",
       "    <tr>\n",
       "      <th>std</th>\n",
       "      <td>29.011492</td>\n",
       "      <td>0.277173</td>\n",
       "      <td>0.280757</td>\n",
       "      <td>0.305147</td>\n",
       "      <td>0.293344</td>\n",
       "      <td>0.312052</td>\n",
       "      <td>0.268276</td>\n",
       "      <td>0.278872</td>\n",
       "      <td>0.275244</td>\n",
       "      <td>0.398870</td>\n",
       "      <td>...</td>\n",
       "      <td>2.780088</td>\n",
       "      <td>0.256416</td>\n",
       "      <td>0.266964</td>\n",
       "      <td>0.256416</td>\n",
       "      <td>0.266964</td>\n",
       "      <td>0.272511</td>\n",
       "      <td>0.105970</td>\n",
       "      <td>0.272511</td>\n",
       "      <td>0.105970</td>\n",
       "      <td>0.956583</td>\n",
       "    </tr>\n",
       "    <tr>\n",
       "      <th>min</th>\n",
       "      <td>0.000000</td>\n",
       "      <td>0.012278</td>\n",
       "      <td>0.011655</td>\n",
       "      <td>0.008480</td>\n",
       "      <td>0.004392</td>\n",
       "      <td>0.000452</td>\n",
       "      <td>0.011036</td>\n",
       "      <td>0.000403</td>\n",
       "      <td>0.008806</td>\n",
       "      <td>0.000000</td>\n",
       "      <td>...</td>\n",
       "      <td>1.000000</td>\n",
       "      <td>0.000000</td>\n",
       "      <td>0.000000</td>\n",
       "      <td>0.000000</td>\n",
       "      <td>0.000000</td>\n",
       "      <td>0.000000</td>\n",
       "      <td>0.000000</td>\n",
       "      <td>0.000000</td>\n",
       "      <td>0.000000</td>\n",
       "      <td>1.000000</td>\n",
       "    </tr>\n",
       "    <tr>\n",
       "      <th>25%</th>\n",
       "      <td>24.750000</td>\n",
       "      <td>0.233713</td>\n",
       "      <td>0.257310</td>\n",
       "      <td>0.203881</td>\n",
       "      <td>0.247797</td>\n",
       "      <td>0.222873</td>\n",
       "      <td>0.352089</td>\n",
       "      <td>0.287986</td>\n",
       "      <td>0.207675</td>\n",
       "      <td>0.000000</td>\n",
       "      <td>...</td>\n",
       "      <td>1.000000</td>\n",
       "      <td>0.000000</td>\n",
       "      <td>0.000000</td>\n",
       "      <td>0.000000</td>\n",
       "      <td>0.000000</td>\n",
       "      <td>0.000000</td>\n",
       "      <td>0.000000</td>\n",
       "      <td>0.000000</td>\n",
       "      <td>0.000000</td>\n",
       "      <td>1.000000</td>\n",
       "    </tr>\n",
       "    <tr>\n",
       "      <th>50%</th>\n",
       "      <td>49.500000</td>\n",
       "      <td>0.451612</td>\n",
       "      <td>0.514548</td>\n",
       "      <td>0.557020</td>\n",
       "      <td>0.461747</td>\n",
       "      <td>0.510810</td>\n",
       "      <td>0.515368</td>\n",
       "      <td>0.498104</td>\n",
       "      <td>0.461888</td>\n",
       "      <td>0.000000</td>\n",
       "      <td>...</td>\n",
       "      <td>1.000000</td>\n",
       "      <td>0.000000</td>\n",
       "      <td>0.000000</td>\n",
       "      <td>0.000000</td>\n",
       "      <td>0.000000</td>\n",
       "      <td>0.000000</td>\n",
       "      <td>0.000000</td>\n",
       "      <td>0.000000</td>\n",
       "      <td>0.000000</td>\n",
       "      <td>1.000000</td>\n",
       "    </tr>\n",
       "    <tr>\n",
       "      <th>75%</th>\n",
       "      <td>74.250000</td>\n",
       "      <td>0.678346</td>\n",
       "      <td>0.712386</td>\n",
       "      <td>0.764458</td>\n",
       "      <td>0.777694</td>\n",
       "      <td>0.797417</td>\n",
       "      <td>0.730129</td>\n",
       "      <td>0.711546</td>\n",
       "      <td>0.696529</td>\n",
       "      <td>0.395951</td>\n",
       "      <td>...</td>\n",
       "      <td>1.250000</td>\n",
       "      <td>0.000000</td>\n",
       "      <td>0.068671</td>\n",
       "      <td>0.000000</td>\n",
       "      <td>0.068671</td>\n",
       "      <td>0.000000</td>\n",
       "      <td>0.000000</td>\n",
       "      <td>0.000000</td>\n",
       "      <td>0.000000</td>\n",
       "      <td>1.000000</td>\n",
       "    </tr>\n",
       "    <tr>\n",
       "      <th>max</th>\n",
       "      <td>99.000000</td>\n",
       "      <td>0.978355</td>\n",
       "      <td>0.983214</td>\n",
       "      <td>0.997728</td>\n",
       "      <td>0.998631</td>\n",
       "      <td>0.995061</td>\n",
       "      <td>0.999020</td>\n",
       "      <td>0.999129</td>\n",
       "      <td>0.973859</td>\n",
       "      <td>1.000000</td>\n",
       "      <td>...</td>\n",
       "      <td>25.000000</td>\n",
       "      <td>1.000000</td>\n",
       "      <td>1.000000</td>\n",
       "      <td>1.000000</td>\n",
       "      <td>1.000000</td>\n",
       "      <td>0.999962</td>\n",
       "      <td>0.739442</td>\n",
       "      <td>0.999962</td>\n",
       "      <td>0.739442</td>\n",
       "      <td>6.000000</td>\n",
       "    </tr>\n",
       "  </tbody>\n",
       "</table>\n",
       "<p>8 rows × 27 columns</p>\n",
       "</div>"
      ],
      "text/plain": [
       "        exp_index  first_opponent_q_1  first_opponent_q_2  first_opponent_q_3  \\\n",
       "count  100.000000          100.000000          100.000000          100.000000   \n",
       "mean    49.500000            0.465369            0.504752            0.511140   \n",
       "std     29.011492            0.277173            0.280757            0.305147   \n",
       "min      0.000000            0.012278            0.011655            0.008480   \n",
       "25%     24.750000            0.233713            0.257310            0.203881   \n",
       "50%     49.500000            0.451612            0.514548            0.557020   \n",
       "75%     74.250000            0.678346            0.712386            0.764458   \n",
       "max     99.000000            0.978355            0.983214            0.997728   \n",
       "\n",
       "       first_opponent_q_4  second_opponent_q_1  second_opponent_q_2  \\\n",
       "count          100.000000           100.000000           100.000000   \n",
       "mean             0.497352             0.499797             0.528246   \n",
       "std              0.293344             0.312052             0.268276   \n",
       "min              0.004392             0.000452             0.011036   \n",
       "25%              0.247797             0.222873             0.352089   \n",
       "50%              0.461747             0.510810             0.515368   \n",
       "75%              0.777694             0.797417             0.730129   \n",
       "max              0.998631             0.995061             0.999020   \n",
       "\n",
       "       second_opponent_q_3  second_opponent_q_4  mem_one_p_1  \\\n",
       "count           100.000000           100.000000   100.000000   \n",
       "mean              0.502436             0.468291     0.244706   \n",
       "std               0.278872             0.275244     0.398870   \n",
       "min               0.000403             0.008806     0.000000   \n",
       "25%               0.287986             0.207675     0.000000   \n",
       "50%               0.498104             0.461888     0.000000   \n",
       "75%               0.711546             0.696529     0.395951   \n",
       "max               0.999129             0.973859     1.000000   \n",
       "\n",
       "               ...            mem_one_cycle_length  reactive_p_1  \\\n",
       "count          ...                      100.000000    100.000000   \n",
       "mean           ...                        1.780000      0.070020   \n",
       "std            ...                        2.780088      0.256416   \n",
       "min            ...                        1.000000      0.000000   \n",
       "25%            ...                        1.000000      0.000000   \n",
       "50%            ...                        1.000000      0.000000   \n",
       "75%            ...                        1.250000      0.000000   \n",
       "max            ...                       25.000000      1.000000   \n",
       "\n",
       "       reactive_p_2  reactive_p_3  reactive_p_4  evol_reactive_p_1  \\\n",
       "count    100.000000    100.000000    100.000000         100.000000   \n",
       "mean       0.125518      0.070020      0.125518           0.079974   \n",
       "std        0.266964      0.256416      0.266964           0.272511   \n",
       "min        0.000000      0.000000      0.000000           0.000000   \n",
       "25%        0.000000      0.000000      0.000000           0.000000   \n",
       "50%        0.000000      0.000000      0.000000           0.000000   \n",
       "75%        0.068671      0.000000      0.068671           0.000000   \n",
       "max        1.000000      1.000000      1.000000           0.999962   \n",
       "\n",
       "       evol_reactive_p_2  evol_reactive_p_3  evol_reactive_p_4  \\\n",
       "count         100.000000         100.000000         100.000000   \n",
       "mean            0.040106           0.079974           0.040106   \n",
       "std             0.105970           0.272511           0.105970   \n",
       "min             0.000000           0.000000           0.000000   \n",
       "25%             0.000000           0.000000           0.000000   \n",
       "50%             0.000000           0.000000           0.000000   \n",
       "75%             0.000000           0.000000           0.000000   \n",
       "max             0.739442           0.999962           0.739442   \n",
       "\n",
       "       reactive_cycle_length  \n",
       "count             100.000000  \n",
       "mean                1.290000  \n",
       "std                 0.956583  \n",
       "min                 1.000000  \n",
       "25%                 1.000000  \n",
       "50%                 1.000000  \n",
       "75%                 1.000000  \n",
       "max                 6.000000  \n",
       "\n",
       "[8 rows x 27 columns]"
      ]
     },
     "execution_count": 13,
     "metadata": {},
     "output_type": "execute_result"
    }
   ],
   "source": [
    "df.describe()"
   ]
  },
  {
   "cell_type": "markdown",
   "metadata": {},
   "source": [
    "**Is ZD code**"
   ]
  },
  {
   "cell_type": "code",
   "execution_count": 14,
   "metadata": {},
   "outputs": [],
   "source": [
    "def is_ZD(vector, game=axl.game.Game(), p_c=(1 / 2)):\n",
    "    \"\"\"\n",
    "    Check is a strategy p is ZD.\n",
    "    \"\"\"\n",
    "    R, P, S, T = game.RPST()\n",
    "    tilde_vector = np.array([vector[0] - 1, vector[1] - 1, vector[2], vector[3]])\n",
    "    \n",
    "    expected_tilde_vector1 = (\n",
    "        P * tilde_vector[1] + P * tilde_vector[2] - R * tilde_vector[1] - R * tilde_vector[2]\n",
    "    ) / (2 * P - S - T)\n",
    "    chi = (\n",
    "        P * tilde_vector[1] - P * tilde_vector[2] + S * tilde_vector[2] - T * tilde_vector[1]\n",
    "    ) / (P * tilde_vector[1] - P * tilde_vector[2] - S * tilde_vector[1] + T * tilde_vector[2])\n",
    "\n",
    "    return np.isclose(expected_tilde_vector1, tilde_vector[0]) and chi > 1 and vector[3] == 0\n"
   ]
  },
  {
   "cell_type": "code",
   "execution_count": 15,
   "metadata": {},
   "outputs": [],
   "source": [
    "vector = [0.8888888888888888, 0.5, 0.3333333333333333, 0.0]"
   ]
  },
  {
   "cell_type": "code",
   "execution_count": 16,
   "metadata": {},
   "outputs": [
    {
     "data": {
      "text/plain": [
       "True"
      ]
     },
     "execution_count": 16,
     "metadata": {},
     "output_type": "execute_result"
    }
   ],
   "source": [
    "is_ZD(vector)"
   ]
  },
  {
   "cell_type": "markdown",
   "metadata": {},
   "source": [
    "**Number of best responses that are ZD**"
   ]
  },
  {
   "cell_type": "code",
   "execution_count": 17,
   "metadata": {},
   "outputs": [
    {
     "data": {
      "text/html": [
       "<div>\n",
       "<style scoped>\n",
       "    .dataframe tbody tr th:only-of-type {\n",
       "        vertical-align: middle;\n",
       "    }\n",
       "\n",
       "    .dataframe tbody tr th {\n",
       "        vertical-align: top;\n",
       "    }\n",
       "\n",
       "    .dataframe thead th {\n",
       "        text-align: right;\n",
       "    }\n",
       "</style>\n",
       "<table border=\"1\" class=\"dataframe\">\n",
       "  <thead>\n",
       "    <tr style=\"text-align: right;\">\n",
       "      <th></th>\n",
       "      <th>exp_index</th>\n",
       "      <th>first_opponent_q_1</th>\n",
       "      <th>first_opponent_q_2</th>\n",
       "      <th>first_opponent_q_3</th>\n",
       "      <th>first_opponent_q_4</th>\n",
       "      <th>second_opponent_q_1</th>\n",
       "      <th>second_opponent_q_2</th>\n",
       "      <th>second_opponent_q_3</th>\n",
       "      <th>second_opponent_q_4</th>\n",
       "      <th>mem_one_p_1</th>\n",
       "      <th>...</th>\n",
       "      <th>mem_one_cycle_length</th>\n",
       "      <th>reactive_p_1</th>\n",
       "      <th>reactive_p_2</th>\n",
       "      <th>reactive_p_3</th>\n",
       "      <th>reactive_p_4</th>\n",
       "      <th>evol_reactive_p_1</th>\n",
       "      <th>evol_reactive_p_2</th>\n",
       "      <th>evol_reactive_p_3</th>\n",
       "      <th>evol_reactive_p_4</th>\n",
       "      <th>reactive_cycle_length</th>\n",
       "    </tr>\n",
       "  </thead>\n",
       "  <tbody>\n",
       "    <tr>\n",
       "      <th>0</th>\n",
       "      <td>0</td>\n",
       "      <td>0.844422</td>\n",
       "      <td>0.757954</td>\n",
       "      <td>0.420572</td>\n",
       "      <td>0.258917</td>\n",
       "      <td>0.511275</td>\n",
       "      <td>0.404934</td>\n",
       "      <td>0.783799</td>\n",
       "      <td>0.303313</td>\n",
       "      <td>0.0</td>\n",
       "      <td>...</td>\n",
       "      <td>1</td>\n",
       "      <td>0.000078</td>\n",
       "      <td>0.114397</td>\n",
       "      <td>0.000078</td>\n",
       "      <td>0.114397</td>\n",
       "      <td>0.0</td>\n",
       "      <td>0.0</td>\n",
       "      <td>0.0</td>\n",
       "      <td>0.0</td>\n",
       "      <td>1</td>\n",
       "    </tr>\n",
       "    <tr>\n",
       "      <th>1</th>\n",
       "      <td>1</td>\n",
       "      <td>0.134364</td>\n",
       "      <td>0.847434</td>\n",
       "      <td>0.763775</td>\n",
       "      <td>0.255069</td>\n",
       "      <td>0.495435</td>\n",
       "      <td>0.449491</td>\n",
       "      <td>0.651593</td>\n",
       "      <td>0.788723</td>\n",
       "      <td>0.0</td>\n",
       "      <td>...</td>\n",
       "      <td>1</td>\n",
       "      <td>0.000000</td>\n",
       "      <td>0.000000</td>\n",
       "      <td>0.000000</td>\n",
       "      <td>0.000000</td>\n",
       "      <td>0.0</td>\n",
       "      <td>0.0</td>\n",
       "      <td>0.0</td>\n",
       "      <td>0.0</td>\n",
       "      <td>1</td>\n",
       "    </tr>\n",
       "    <tr>\n",
       "      <th>2</th>\n",
       "      <td>2</td>\n",
       "      <td>0.956034</td>\n",
       "      <td>0.947827</td>\n",
       "      <td>0.056551</td>\n",
       "      <td>0.084872</td>\n",
       "      <td>0.835499</td>\n",
       "      <td>0.735970</td>\n",
       "      <td>0.669730</td>\n",
       "      <td>0.308136</td>\n",
       "      <td>0.0</td>\n",
       "      <td>...</td>\n",
       "      <td>1</td>\n",
       "      <td>0.000000</td>\n",
       "      <td>0.000000</td>\n",
       "      <td>0.000000</td>\n",
       "      <td>0.000000</td>\n",
       "      <td>0.0</td>\n",
       "      <td>0.0</td>\n",
       "      <td>0.0</td>\n",
       "      <td>0.0</td>\n",
       "      <td>1</td>\n",
       "    </tr>\n",
       "    <tr>\n",
       "      <th>3</th>\n",
       "      <td>3</td>\n",
       "      <td>0.237965</td>\n",
       "      <td>0.544229</td>\n",
       "      <td>0.369955</td>\n",
       "      <td>0.603920</td>\n",
       "      <td>0.625720</td>\n",
       "      <td>0.065529</td>\n",
       "      <td>0.013168</td>\n",
       "      <td>0.837469</td>\n",
       "      <td>0.0</td>\n",
       "      <td>...</td>\n",
       "      <td>1</td>\n",
       "      <td>0.000000</td>\n",
       "      <td>0.000000</td>\n",
       "      <td>0.000000</td>\n",
       "      <td>0.000000</td>\n",
       "      <td>0.0</td>\n",
       "      <td>0.0</td>\n",
       "      <td>0.0</td>\n",
       "      <td>0.0</td>\n",
       "      <td>1</td>\n",
       "    </tr>\n",
       "    <tr>\n",
       "      <th>4</th>\n",
       "      <td>4</td>\n",
       "      <td>0.236048</td>\n",
       "      <td>0.103166</td>\n",
       "      <td>0.396058</td>\n",
       "      <td>0.154972</td>\n",
       "      <td>0.066515</td>\n",
       "      <td>0.401591</td>\n",
       "      <td>0.917955</td>\n",
       "      <td>0.800452</td>\n",
       "      <td>0.0</td>\n",
       "      <td>...</td>\n",
       "      <td>1</td>\n",
       "      <td>0.000000</td>\n",
       "      <td>0.000000</td>\n",
       "      <td>0.000000</td>\n",
       "      <td>0.000000</td>\n",
       "      <td>0.0</td>\n",
       "      <td>0.0</td>\n",
       "      <td>0.0</td>\n",
       "      <td>0.0</td>\n",
       "      <td>1</td>\n",
       "    </tr>\n",
       "  </tbody>\n",
       "</table>\n",
       "<p>5 rows × 27 columns</p>\n",
       "</div>"
      ],
      "text/plain": [
       "   exp_index  first_opponent_q_1  first_opponent_q_2  first_opponent_q_3  \\\n",
       "0          0            0.844422            0.757954            0.420572   \n",
       "1          1            0.134364            0.847434            0.763775   \n",
       "2          2            0.956034            0.947827            0.056551   \n",
       "3          3            0.237965            0.544229            0.369955   \n",
       "4          4            0.236048            0.103166            0.396058   \n",
       "\n",
       "   first_opponent_q_4  second_opponent_q_1  second_opponent_q_2  \\\n",
       "0            0.258917             0.511275             0.404934   \n",
       "1            0.255069             0.495435             0.449491   \n",
       "2            0.084872             0.835499             0.735970   \n",
       "3            0.603920             0.625720             0.065529   \n",
       "4            0.154972             0.066515             0.401591   \n",
       "\n",
       "   second_opponent_q_3  second_opponent_q_4  mem_one_p_1  \\\n",
       "0             0.783799             0.303313          0.0   \n",
       "1             0.651593             0.788723          0.0   \n",
       "2             0.669730             0.308136          0.0   \n",
       "3             0.013168             0.837469          0.0   \n",
       "4             0.917955             0.800452          0.0   \n",
       "\n",
       "           ...            mem_one_cycle_length  reactive_p_1  reactive_p_2  \\\n",
       "0          ...                               1      0.000078      0.114397   \n",
       "1          ...                               1      0.000000      0.000000   \n",
       "2          ...                               1      0.000000      0.000000   \n",
       "3          ...                               1      0.000000      0.000000   \n",
       "4          ...                               1      0.000000      0.000000   \n",
       "\n",
       "   reactive_p_3  reactive_p_4  evol_reactive_p_1  evol_reactive_p_2  \\\n",
       "0      0.000078      0.114397                0.0                0.0   \n",
       "1      0.000000      0.000000                0.0                0.0   \n",
       "2      0.000000      0.000000                0.0                0.0   \n",
       "3      0.000000      0.000000                0.0                0.0   \n",
       "4      0.000000      0.000000                0.0                0.0   \n",
       "\n",
       "   evol_reactive_p_3  evol_reactive_p_4  reactive_cycle_length  \n",
       "0                0.0                0.0                      1  \n",
       "1                0.0                0.0                      1  \n",
       "2                0.0                0.0                      1  \n",
       "3                0.0                0.0                      1  \n",
       "4                0.0                0.0                      1  \n",
       "\n",
       "[5 rows x 27 columns]"
      ]
     },
     "execution_count": 17,
     "metadata": {},
     "output_type": "execute_result"
    }
   ],
   "source": [
    "df.head()"
   ]
  },
  {
   "cell_type": "code",
   "execution_count": 18,
   "metadata": {},
   "outputs": [],
   "source": [
    "df['is_ZD'] = df.apply(lambda row: is_ZD(vector=[row['mem_one_p_1'],\n",
    "                                                 row['mem_one_p_2'],\n",
    "                                                 row['mem_one_p_3'],\n",
    "                                                 row['mem_one_p_4']]), axis=1)"
   ]
  },
  {
   "cell_type": "code",
   "execution_count": 19,
   "metadata": {},
   "outputs": [
    {
     "data": {
      "text/plain": [
       "0"
      ]
     },
     "execution_count": 19,
     "metadata": {},
     "output_type": "execute_result"
    }
   ],
   "source": [
    "sum(df['is_ZD'])"
   ]
  },
  {
   "cell_type": "code",
   "execution_count": 20,
   "metadata": {},
   "outputs": [],
   "source": [
    "df['evol_is_ZD'] = df.apply(lambda row: is_ZD(vector=[row['evol_mem_one_p_1'],\n",
    "                                                 row['evol_mem_one_p_2'],\n",
    "                                                 row['evol_mem_one_p_3'],\n",
    "                                                 row['evol_mem_one_p_4']]), axis=1)"
   ]
  },
  {
   "cell_type": "code",
   "execution_count": 21,
   "metadata": {},
   "outputs": [
    {
     "data": {
      "text/plain": [
       "0"
      ]
     },
     "execution_count": 21,
     "metadata": {},
     "output_type": "execute_result"
    }
   ],
   "source": [
    "sum(df['evol_is_ZD'])"
   ]
  },
  {
   "cell_type": "code",
   "execution_count": 22,
   "metadata": {},
   "outputs": [],
   "source": [
    "df['reactive_is_ZD'] = df.apply(lambda row: is_ZD(vector=[row['reactive_p_1'],\n",
    "                                                          row['reactive_p_2'],\n",
    "                                                          row['reactive_p_3'],\n",
    "                                                          row['reactive_p_4']]), axis=1)"
   ]
  },
  {
   "cell_type": "code",
   "execution_count": 23,
   "metadata": {},
   "outputs": [
    {
     "data": {
      "text/plain": [
       "2"
      ]
     },
     "execution_count": 23,
     "metadata": {},
     "output_type": "execute_result"
    }
   ],
   "source": [
    "sum(df['reactive_is_ZD'])"
   ]
  },
  {
   "cell_type": "code",
   "execution_count": 24,
   "metadata": {},
   "outputs": [],
   "source": [
    "df['evol_reactive_is_ZD'] = df.apply(lambda row: is_ZD(vector=[row['evol_reactive_p_1'],\n",
    "                                                               row['evol_reactive_p_2'],\n",
    "                                                               row['evol_reactive_p_3'],\n",
    "                                                               row['evol_reactive_p_4']]), axis=1)"
   ]
  },
  {
   "cell_type": "code",
   "execution_count": 25,
   "metadata": {},
   "outputs": [
    {
     "data": {
      "text/plain": [
       "0"
      ]
     },
     "execution_count": 25,
     "metadata": {},
     "output_type": "execute_result"
    }
   ],
   "source": [
    "sum(df['evol_reactive_is_ZD'])"
   ]
  },
  {
   "cell_type": "markdown",
   "metadata": {},
   "source": [
    "**Finger print best responses and their evolutionary selfs**"
   ]
  },
  {
   "cell_type": "code",
   "execution_count": 26,
   "metadata": {},
   "outputs": [],
   "source": [
    "probe = axl.TitForTat"
   ]
  },
  {
   "cell_type": "code",
   "execution_count": 77,
   "metadata": {},
   "outputs": [],
   "source": [
    "for index, row in df.iterrows():\n",
    "    best_response = axl.MemoryOnePlayer([row['mem_one_p_1'],\n",
    "                                         row['mem_one_p_2'],\n",
    "                                         row['mem_one_p_3'],\n",
    "                                         row['mem_one_p_4']])\n",
    "    af = axl.AshlockFingerprint(best_response, probe)\n",
    "    data = af.fingerprint(turns=10, repetitions=2, step=0.05, progress_bar=False)\n",
    "    p = af.plot()\n",
    "    p.savefig('../img/Fingerprints/AshlockFingerprint_best_response_index_%s' % index)\n",
    "    \n",
    "    ev_best_response = axl.MemoryOnePlayer([row['evol_mem_one_p_1'],\n",
    "                                            row['evol_mem_one_p_2'],\n",
    "                                            row['evol_mem_one_p_3'],\n",
    "                                            row['evol_mem_one_p_4']])\n",
    "\n",
    "    af = axl.AshlockFingerprint(ev_best_response, probe)\n",
    "    data = af.fingerprint(turns=10, repetitions=2, step=0.05, progress_bar=False)\n",
    "    p = af.plot()\n",
    "    p.savefig('../img/Fingerprints/AshlockFingerprint_evolutionary_best_response_index_%s' % index)"
   ]
  },
  {
   "cell_type": "markdown",
   "metadata": {},
   "source": [
    "**Distance between cooperation best response and evolutionary best response**"
   ]
  },
  {
   "cell_type": "code",
   "execution_count": 76,
   "metadata": {},
   "outputs": [],
   "source": [
    "dimension = len(df)"
   ]
  },
  {
   "cell_type": "code",
   "execution_count": 115,
   "metadata": {},
   "outputs": [],
   "source": [
    "matrix_distances = [np.eye(dimension) for _ in range(4)]\n",
    "distances = []"
   ]
  },
  {
   "cell_type": "code",
   "execution_count": 116,
   "metadata": {},
   "outputs": [],
   "source": [
    "for i in range(dimension):\n",
    "    row = df.loc[i]\n",
    "    for p in range(4):\n",
    "        matrix_distances[p][i][i] = (row['evol_mem_one_p_{}'.format(p + 1)] -\n",
    "                                     row['mem_one_p_{}'.format(p + 1)])"
   ]
  },
  {
   "cell_type": "code",
   "execution_count": 117,
   "metadata": {},
   "outputs": [],
   "source": [
    "distances = []\n",
    "for p in range(4):\n",
    "    distance = []\n",
    "    for i in range(dimension):\n",
    "        row = df.loc[i]\n",
    "        distance.append(row['evol_mem_one_p_{}'.format(p + 1)] -\n",
    "                        row['mem_one_p_{}'.format(p + 1)])\n",
    "    distances.append(distance)"
   ]
  },
  {
   "cell_type": "code",
   "execution_count": 105,
   "metadata": {},
   "outputs": [
    {
     "data": {
      "image/png": "[encoded data removed]",
      "text/plain": [
       "<Figure size 504x360 with 2 Axes>"
      ]
     },
     "metadata": {
      "needs_background": "light"
     },
     "output_type": "display_data"
    },
    {
     "data": {
      "image/png": "[encoded data removed]",
      "text/plain": [
       "<Figure size 504x360 with 2 Axes>"
      ]
     },
     "metadata": {
      "needs_background": "light"
     },
     "output_type": "display_data"
    },
    {
     "data": {
      "image/png": "[encoded data removed]",
      "text/plain": [
       "<Figure size 504x360 with 2 Axes>"
      ]
     },
     "metadata": {
      "needs_background": "light"
     },
     "output_type": "display_data"
    },
    {
     "data": {
      "image/png": "[encoded data removed]",
      "text/plain": [
       "<Figure size 504x360 with 2 Axes>"
      ]
     },
     "metadata": {
      "needs_background": "light"
     },
     "output_type": "display_data"
    }
   ],
   "source": [
    "for distance in matrix_distances:\n",
    "    fig, ax = plt.subplots(figsize=(7,5))\n",
    "    im = ax.matshow(distance, aspect='auto');\n",
    "    plt.colorbar(im);"
   ]
  },
  {
   "cell_type": "markdown",
   "metadata": {},
   "source": [
    "**Violin plots**"
   ]
  },
  {
   "cell_type": "code",
   "execution_count": 102,
   "metadata": {},
   "outputs": [
    {
     "data": {
      "image/png": "[encoded data removed]",
      "text/plain": [
       "<Figure size 432x288 with 1 Axes>"
      ]
     },
     "metadata": {
      "needs_background": "light"
     },
     "output_type": "display_data"
    }
   ],
   "source": [
    "plt.violinplot([df['mem_one_p_1'], df['evol_mem_one_p_1']]);"
   ]
  },
  {
   "cell_type": "code",
   "execution_count": 90,
   "metadata": {},
   "outputs": [
    {
     "data": {
      "image/png": "[encoded data removed]",
      "text/plain": [
       "<Figure size 432x288 with 1 Axes>"
      ]
     },
     "metadata": {
      "needs_background": "light"
     },
     "output_type": "display_data"
    }
   ],
   "source": [
    "plt.violinplot([df['mem_one_p_2'], df['evol_mem_one_p_2']]);"
   ]
  },
  {
   "cell_type": "code",
   "execution_count": 91,
   "metadata": {},
   "outputs": [
    {
     "data": {
      "image/png": "[encoded data removed]",
      "text/plain": [
       "<Figure size 432x288 with 1 Axes>"
      ]
     },
     "metadata": {
      "needs_background": "light"
     },
     "output_type": "display_data"
    }
   ],
   "source": [
    "plt.violinplot([df['mem_one_p_3'], df['evol_mem_one_p_3']]);"
   ]
  },
  {
   "cell_type": "code",
   "execution_count": 92,
   "metadata": {},
   "outputs": [
    {
     "data": {
      "image/png": "[encoded data removed]",
      "text/plain": [
       "<Figure size 432x288 with 1 Axes>"
      ]
     },
     "metadata": {
      "needs_background": "light"
     },
     "output_type": "display_data"
    }
   ],
   "source": [
    "plt.violinplot([df['mem_one_p_4'], df['evol_mem_one_p_4']]);"
   ]
  },
  {
   "cell_type": "code",
   "execution_count": 131,
   "metadata": {},
   "outputs": [],
   "source": [
    "labels = ['$p_1$', '$p_2$', '$p_3$', '$p_4$']"
   ]
  },
  {
   "cell_type": "code",
   "execution_count": 134,
   "metadata": {},
   "outputs": [
    {
     "data": {
      "image/png": "[encoded data removed]",
      "text/plain": [
       "<Figure size 720x468 with 4 Axes>"
      ]
     },
     "metadata": {
      "needs_background": "light"
     },
     "output_type": "display_data"
    }
   ],
   "source": [
    "fig, axes = plt.subplots(nrows=2, ncols=2, figsize=(10, 6.5))\n",
    "for i, distance in enumerate(distances):\n",
    "    index = (int(i / 2), i % 2)\n",
    "   \n",
    "    axes[index].hist(distance);\n",
    "    axes[index].set_title(labels[i])"
   ]
  },
  {
   "cell_type": "markdown",
   "metadata": {},
   "source": [
    "**Compare to longer memory**"
   ]
  },
  {
   "cell_type": "code",
   "execution_count": 135,
   "metadata": {},
   "outputs": [],
   "source": [
    "utility = []\n",
    "x = []\n",
    "for i, row in df_with_gambler.iterrows():\n",
    "    x.append(i)\n",
    "    p = (row['mem_one_p_1'], row['mem_one_p_2'], row['mem_one_p_3'], row['mem_one_p_4'])\n",
    "    q_1 = (row['first_opponent_q_1'], row['first_opponent_q_2'], row['first_opponent_q_3'], row['first_opponent_q_4'])\n",
    "    q_2 = (row['second_opponent_q_1'], row['second_opponent_q_2'], row['second_opponent_q_3'], row['second_opponent_q_4'])\n",
    "    utility.append(opt_mo.tournament_utility(p, [q_1, q_2]))"
   ]
  },
  {
   "cell_type": "code",
   "execution_count": 136,
   "metadata": {},
   "outputs": [],
   "source": [
    "df_with_gambler['mem_one_utility'] = utility"
   ]
  },
  {
   "cell_type": "code",
   "execution_count": 138,
   "metadata": {},
   "outputs": [],
   "source": [
    "import matplotlib"
   ]
  },
  {
   "cell_type": "code",
   "execution_count": 139,
   "metadata": {},
   "outputs": [],
   "source": [
    "font = {'size'   : 10,\n",
    "        'weight': 'bold'}\n",
    "matplotlib.rc('font', **font)"
   ]
  },
  {
   "cell_type": "code",
   "execution_count": 143,
   "metadata": {},
   "outputs": [],
   "source": [
    "x = range(len(df_with_gambler['gambler_utility']))"
   ]
  },
  {
   "cell_type": "code",
   "execution_count": 148,
   "metadata": {},
   "outputs": [
    {
     "data": {
      "image/png": "[encoded data removed]",
      "text/plain": [
       "<Figure size 432x288 with 1 Axes>"
      ]
     },
     "metadata": {
      "needs_background": "light"
     },
     "output_type": "display_data"
    }
   ],
   "source": [
    "fig, ax = plt.subplots()\n",
    "\n",
    "plt.scatter(x, df_with_gambler['gambler_utility'], label='Gambler(2, 1, 1)', color='black');\n",
    "plt.scatter(x, df_with_gambler['mem_one_utility'], marker='x',label='Best response memory-one', color='red', s=90);\n",
    "\n",
    "plt.ylabel('Utility', fontsize=10, color=color, fontweight='bold')\n",
    "plt.xlabel('Pair of opponents', fontsize=10, color=color, fontweight='bold')\n",
    "lgd = plt.legend(bbox_to_anchor=(0., 1.02, 1., .102), loc=3,\n",
    "          ncol=2, mode=\"expand\", borderaxespad=0.)\n",
    "\n",
    "fig.tight_layout()"
   ]
  },
  {
   "cell_type": "code",
   "execution_count": null,
   "metadata": {},
   "outputs": [],
   "source": []
  },
  {
   "cell_type": "code",
   "execution_count": null,
   "metadata": {},
   "outputs": [],
   "source": []
  }
 ],
 "metadata": {
  "kernelspec": {
   "display_name": "opt-mo",
   "language": "python",
   "name": "opt-mo"
  },
  "language_info": {
   "codemirror_mode": {
    "name": "ipython",
    "version": 3
   },
   "file_extension": ".py",
   "mimetype": "text/x-python",
   "name": "python",
   "nbconvert_exporter": "python",
   "pygments_lexer": "ipython3",
   "version": "3.6.7"
  }
 },
 "nbformat": 4,
 "nbformat_minor": 2
}
