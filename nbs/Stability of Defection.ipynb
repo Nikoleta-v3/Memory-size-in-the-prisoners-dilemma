{
 "cells": [
  {
   "cell_type": "markdown",
   "metadata": {},
   "source": [
    "Stability of Defection\n",
    "----------------------"
   ]
  },
  {
   "cell_type": "code",
   "execution_count": 1,
   "metadata": {},
   "outputs": [],
   "source": [
    "import opt_mo\n",
    "import sympy as sym"
   ]
  },
  {
   "cell_type": "code",
   "execution_count": 2,
   "metadata": {
    "collapsed": true
   },
   "outputs": [],
   "source": [
    "import numpy as np\n",
    "import itertools\n",
    "import axelrod as axl"
   ]
  },
  {
   "cell_type": "code",
   "execution_count": 3,
   "metadata": {
    "collapsed": true
   },
   "outputs": [],
   "source": [
    "sym.init_printing()"
   ]
  },
  {
   "cell_type": "code",
   "execution_count": 4,
   "metadata": {
    "collapsed": true
   },
   "outputs": [],
   "source": [
    "p_1, p_2, p_3, p_4 = sym.symbols('p_1, p_2, p_3, p_4')\n",
    "q_1, q_2, q_3, q_4 = sym.symbols('q_1, q_2, q_3, q_4')"
   ]
  },
  {
   "cell_type": "code",
   "execution_count": 5,
   "metadata": {
    "collapsed": true
   },
   "outputs": [],
   "source": [
    "p, q = (p_1, p_2, p_3, p_4), (q_1, q_2, q_3, q_4)"
   ]
  },
  {
   "cell_type": "code",
   "execution_count": 6,
   "metadata": {
    "collapsed": true
   },
   "outputs": [],
   "source": [
    "c_num = opt_mo.mem_linear_numerator(q)\n",
    "c_den = opt_mo.mem_linear_denominator(q)"
   ]
  },
  {
   "cell_type": "code",
   "execution_count": 7,
   "metadata": {
    "collapsed": true
   },
   "outputs": [],
   "source": [
    "constant_num = opt_mo.mem_constant_numerator(q)\n",
    "constant_den = opt_mo.mem_constant_denominator(q)"
   ]
  },
  {
   "cell_type": "code",
   "execution_count": 8,
   "metadata": {
    "collapsed": true
   },
   "outputs": [],
   "source": [
    "expr = c_num * constant_den - c_den * constant_num"
   ]
  },
  {
   "cell_type": "code",
   "execution_count": 9,
   "metadata": {
    "collapsed": true
   },
   "outputs": [],
   "source": [
    "expr = [expr.factor() for expr in expr]"
   ]
  },
  {
   "cell_type": "code",
   "execution_count": 10,
   "metadata": {
    "collapsed": true
   },
   "outputs": [],
   "source": [
    "matrix = sym.Matrix(expr)"
   ]
  },
  {
   "cell_type": "code",
   "execution_count": 11,
   "metadata": {},
   "outputs": [
    {
     "data": {
      "image/png": "[encoded data removed]",
      "text/latex": [
       "$$\\left[\\begin{matrix}0\\\\0\\\\q_{4} \\left(4 q_{1} q_{2} - 3 q_{2}^{2} - 4 q_{2} q_{3} + 3 q_{2} q_{4} + 4 q_{3} - 5 q_{4} - 1\\right)\\\\- \\left(q_{2} - 1\\right) \\left(4 q_{1} q_{4} - 3 q_{2} q_{4} + q_{2} - 4 q_{3} q_{4} + 4 q_{3} + 3 q_{4}^{2} - 6 q_{4} - 1\\right)\\end{matrix}\\right]$$"
      ],
      "text/plain": [
       "⎡                                  0                                   ⎤\n",
       "⎢                                                                      ⎥\n",
       "⎢                                  0                                   ⎥\n",
       "⎢                                                                      ⎥\n",
       "⎢         ⎛              2                                      ⎞      ⎥\n",
       "⎢      q₄⋅⎝4⋅q₁⋅q₂ - 3⋅q₂  - 4⋅q₂⋅q₃ + 3⋅q₂⋅q₄ + 4⋅q₃ - 5⋅q₄ - 1⎠      ⎥\n",
       "⎢                                                                      ⎥\n",
       "⎢          ⎛                                              2           ⎞⎥\n",
       "⎣-(q₂ - 1)⋅⎝4⋅q₁⋅q₄ - 3⋅q₂⋅q₄ + q₂ - 4⋅q₃⋅q₄ + 4⋅q₃ + 3⋅q₄  - 6⋅q₄ - 1⎠⎦"
      ]
     },
     "execution_count": 11,
     "metadata": {},
     "output_type": "execute_result"
    }
   ],
   "source": [
    "matrix"
   ]
  },
  {
   "cell_type": "code",
   "execution_count": 12,
   "metadata": {
    "collapsed": true
   },
   "outputs": [],
   "source": [
    "with open('../tex/defection_matrix.txt', 'w') as textfile:\n",
    "    textfile.write(sym.latex(matrix))"
   ]
  },
  {
   "cell_type": "code",
   "execution_count": 13,
   "metadata": {
    "collapsed": true
   },
   "outputs": [],
   "source": [
    "with open('../tex/defection_condition_one.txt', 'w') as textfile:\n",
    "    textfile.write(sym.latex(matrix[2]))"
   ]
  },
  {
   "cell_type": "code",
   "execution_count": 14,
   "metadata": {
    "collapsed": true
   },
   "outputs": [],
   "source": [
    "with open('../tex/defection_condition_two.txt', 'w') as textfile:\n",
    "    textfile.write(sym.latex(matrix[3]))"
   ]
  },
  {
   "cell_type": "code",
   "execution_count": null,
   "metadata": {
    "collapsed": true
   },
   "outputs": [],
   "source": [
    "for x, y, z, u in itertools.combinations(np.linspace(0, 1, 100), 4):\n",
    "    condition_one = sym.lambdify((q_1, q_2, q_3, q_4), expr[2])\n",
    "    condition_two = sym.lambdify((q_1, q_2, q_3, q_4), expr[3])\n",
    "    if condition_one(x, y, z, u) > 0 and condition_two(x, y, z, u) >= 0:\n",
    "        print(x, y, z, u)"
   ]
  },
  {
   "cell_type": "code",
   "execution_count": 61,
   "metadata": {},
   "outputs": [
    {
     "data": {
      "text/plain": [
       "[Fraction(13, 88), Fraction(21, 92), Fraction(21, 26), Fraction(20, 67)]"
      ]
     },
     "execution_count": 61,
     "metadata": {},
     "output_type": "execute_result"
    }
   ],
   "source": [
    "from fractions import Fraction\n",
    "[Fraction('{}'.format(i)).limit_denominator(100) for i in [0.14792062434808473, \n",
    "                                              0.22829835699996648,\n",
    "                                              0.8074933620503766,\n",
    "                                              0.29847457554008316]]\n"
   ]
  },
  {
   "cell_type": "code",
   "execution_count": 62,
   "metadata": {},
   "outputs": [
    {
     "name": "stdout",
     "output_type": "stream",
     "text": [
      "0.07028000000000001 1.03292\n",
      "-0.039583333333333415 0.18124999999999997\n",
      "-0.136 -0.504\n",
      "0.054853370618203924 -0.04408577621892863\n"
     ]
    }
   ],
   "source": [
    "for x, y, z, u in [[3/10, 3/20, 13/20, 7/100], \n",
    "                   [17/20, 3/4, 2/3, 1/4], \n",
    "                   [11/25, 3/10, 9/10, 1/2], \n",
    "                   [13/88, 21/92, 21/26, 20/67]]:\n",
    "    print(condition_one(x, y, z, u), condition_two(x, y, z, u))"
   ]
  },
  {
   "cell_type": "code",
   "execution_count": null,
   "metadata": {
    "collapsed": true
   },
   "outputs": [],
   "source": []
  },
  {
   "cell_type": "code",
   "execution_count": 57,
   "metadata": {},
   "outputs": [
    {
     "name": "stdout",
     "output_type": "stream",
     "text": [
      "0.14792062434808473 0.22829835699996648 0.8074933620503766 0.29847457554008316\n",
      "0.07433086780644194 0.027945433698811972 0.7006664519688256 0.2762637388709063\n",
      "0.38045297748481355 0.16267662635491698 0.6731275274644691 0.27228540842425386\n",
      "0.08953424929144593 0.07865189505426873 0.8183489496771018 0.3847794366100209\n",
      "0.41946043939387 0.17104314143466204 0.7579267618630342 0.3358655328729947\n"
     ]
    }
   ],
   "source": [
    "for i in range(1000):\n",
    "    axl.seed(i)\n",
    "    x, y, z, u = np.random.random(4)\n",
    "    if (condition_one(x, y, z, u) > 0) and condition_two(x, y, z, u) < 0:\n",
    "        print(x, y, z, u)"
   ]
  },
  {
   "cell_type": "code",
   "execution_count": null,
   "metadata": {
    "collapsed": true
   },
   "outputs": [],
   "source": []
  }
 ],
 "metadata": {
  "kernelspec": {
   "display_name": "opt-mo",
   "language": "python",
   "name": "opt-mo"
  },
  "language_info": {
   "codemirror_mode": {
    "name": "ipython",
    "version": 3
   },
   "file_extension": ".py",
   "mimetype": "text/x-python",
   "name": "python",
   "nbconvert_exporter": "python",
   "pygments_lexer": "ipython3",
   "version": "3.5.5"
  }
 },
 "nbformat": 4,
 "nbformat_minor": 2
}
