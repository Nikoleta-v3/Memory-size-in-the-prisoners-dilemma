{
 "cells": [
  {
   "cell_type": "markdown",
   "metadata": {},
   "source": [
    "# Validation\n",
    "\n",
    "In this notebook we validate our formulation of the utility."
   ]
  },
  {
   "cell_type": "code",
   "execution_count": 1,
   "metadata": {
    "collapsed": true
   },
   "outputs": [],
   "source": [
    "import itertools\n",
    "import numpy as np\n",
    "import axelrod as axl\n",
    "\n",
    "from fractions import Fraction"
   ]
  },
  {
   "cell_type": "code",
   "execution_count": 2,
   "metadata": {
    "collapsed": true
   },
   "outputs": [],
   "source": [
    "import opt_mo"
   ]
  },
  {
   "cell_type": "code",
   "execution_count": 3,
   "metadata": {
    "collapsed": true
   },
   "outputs": [],
   "source": [
    "import matplotlib.pyplot as plt\n",
    "import matplotlib "
   ]
  },
  {
   "cell_type": "code",
   "execution_count": 4,
   "metadata": {
    "collapsed": true
   },
   "outputs": [],
   "source": [
    "font = {'size'   : 15,\n",
    "        'weight': 'bold'}\n",
    "matplotlib.rc('font', **font)"
   ]
  },
  {
   "cell_type": "code",
   "execution_count": 50,
   "metadata": {
    "collapsed": true
   },
   "outputs": [],
   "source": [
    "def play_match(player, opponent, repetitions=500):\n",
    "    total = 0 \n",
    "    players = [axl.MemoryOnePlayer(i) for i in [player, opponent]]\n",
    "    for rep in range(repetitions):\n",
    "        match = axl.Match(players=players, turns=500)\n",
    "        _ = match.play()\n",
    "        \n",
    "        total += match.final_score_per_turn()[0]\n",
    "        \n",
    "    return total / repetitions"
   ]
  },
  {
   "cell_type": "code",
   "execution_count": 51,
   "metadata": {
    "collapsed": true
   },
   "outputs": [],
   "source": [
    "ps = itertools.product(*[np.linspace(0, 1, num=4)  for _ in range(4)])"
   ]
  },
  {
   "cell_type": "code",
   "execution_count": 52,
   "metadata": {
    "collapsed": true
   },
   "outputs": [],
   "source": [
    "qs = [(1/3, 1/3 , 1/3, i) for i in np.linspace(0, 1, 20)]"
   ]
  },
  {
   "cell_type": "code",
   "execution_count": 53,
   "metadata": {},
   "outputs": [
    {
     "data": {
      "image/png": "[encoded data removed]",
      "text/plain": [
       "<Figure size 648x432 with 1 Axes>"
      ]
     },
     "metadata": {},
     "output_type": "display_data"
    }
   ],
   "source": [
    "count = 0\n",
    "for p in [[0, 1, 0, 1]]: #ps:\n",
    "    \n",
    "    theoritical = [opt_mo.utility(p, q) for q in qs]\n",
    "    simulated = [play_match(p, q) for q in qs]\n",
    "    \n",
    "    # labels\n",
    "    xlabels = [str(Fraction(i).limit_denominator()) for i in np.linspace(0, 1, 20)]\n",
    "    xlabels[1:-1] = [r'$\\frac{' + i.split('/')[0] + '}{' + i.split('/')[1] + '}$' for i in xlabels[1:-1]]\n",
    "    # title\n",
    "    title = str([str(Fraction(i).limit_denominator()) for i in p])\n",
    "    title = title.replace('[','(').replace(']', ')').replace(\"'\", '')\n",
    "    \n",
    "    plt.figure(figsize=(9, 6))\n",
    "    plt.plot(range(len(theoritical)), theoritical, linestyle='-', color='maroon', linewidth=2,\n",
    "             zorder=1, label='$u_q(p)$')\n",
    "    plt.scatter(range(len(simulated)), simulated, marker='o', s=120, color='darkgreen', zorder=2,\n",
    "               label='$U_q(p)$', linewidth='2')\n",
    "    plt.title(r'$p={}$'.format(title))\n",
    "    plt.legend()\n",
    "\n",
    "    plt.xticks(range(len(theoritical)), xlabels, rotation=0, fontsize=15)\n",
    "    plt.xlabel(r'$q_4$')\n",
    "\n",
    "    plt.tight_layout()\n",
    "    plt.savefig('../img/validation_img_three.png');# .format(count));\n",
    "    count += 1"
   ]
  },
  {
   "cell_type": "code",
   "execution_count": null,
   "metadata": {
    "collapsed": true
   },
   "outputs": [],
   "source": []
  }
 ],
 "metadata": {
  "anaconda-cloud": {},
  "kernelspec": {
   "display_name": "opt-mo",
   "language": "python",
   "name": "opt-mo"
  },
  "language_info": {
   "codemirror_mode": {
    "name": "ipython",
    "version": 3
   },
   "file_extension": ".py",
   "mimetype": "text/x-python",
   "name": "python",
   "nbconvert_exporter": "python",
   "pygments_lexer": "ipython3",
   "version": "3.5.5"
  }
 },
 "nbformat": 4,
 "nbformat_minor": 2
}
