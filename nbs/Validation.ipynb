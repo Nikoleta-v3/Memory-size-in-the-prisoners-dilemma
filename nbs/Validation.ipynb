{
 "cells": [
  {
   "cell_type": "markdown",
   "metadata": {},
   "source": [
    "# Validation\n",
    "\n",
    "In this notebook we validate our formulation of the utility."
   ]
  },
  {
   "cell_type": "code",
   "execution_count": 1,
   "metadata": {
    "collapsed": true
   },
   "outputs": [],
   "source": [
    "import itertools\n",
    "import numpy as np\n",
    "import axelrod as axl\n",
    "\n",
    "from fractions import Fraction"
   ]
  },
  {
   "cell_type": "code",
   "execution_count": 2,
   "metadata": {
    "collapsed": true
   },
   "outputs": [],
   "source": [
    "import opt_mo"
   ]
  },
  {
   "cell_type": "code",
   "execution_count": 3,
   "metadata": {
    "collapsed": true
   },
   "outputs": [],
   "source": [
    "import matplotlib.pyplot as plt\n",
    "import matplotlib "
   ]
  },
  {
   "cell_type": "code",
   "execution_count": 4,
   "metadata": {
    "collapsed": true
   },
   "outputs": [],
   "source": [
    "font = {'size'   : 15,\n",
    "        'weight': 'bold'}\n",
    "matplotlib.rc('font', **font)"
   ]
  },
  {
   "cell_type": "code",
   "execution_count": 5,
   "metadata": {
    "collapsed": true
   },
   "outputs": [],
   "source": [
    "def play_match(player, opponent, repetitions=200):\n",
    "    total = 0 \n",
    "    players = [axl.MemoryOnePlayer(i) for i in [player, opponent]]\n",
    "    for rep in range(repetitions):\n",
    "        match = axl.Match(players=players, turns=200)\n",
    "        _ = match.play()\n",
    "        \n",
    "        total += match.final_score_per_turn()[0]\n",
    "        \n",
    "    return total / repetitions"
   ]
  },
  {
   "cell_type": "code",
   "execution_count": 6,
   "metadata": {
    "collapsed": true
   },
   "outputs": [],
   "source": [
    "ps = itertools.product(*[np.linspace(0, 1, num=4)  for _ in range(4)])"
   ]
  },
  {
   "cell_type": "code",
   "execution_count": 7,
   "metadata": {
    "collapsed": true
   },
   "outputs": [],
   "source": [
    "qs = [(1/3, 1/3 , 1/3, i) for i in np.linspace(0, 1, 20)]"
   ]
  },
  {
   "cell_type": "code",
   "execution_count": 7,
   "metadata": {
    "collapsed": true
   },
   "outputs": [],
   "source": [
    "count = 0\n",
    "for p in ps:\n",
    "    \n",
    "    theoritical = [opt_mo.utility(p, q) for q in qs]\n",
    "    simulated = [play_match(p, q) for q in qs]\n",
    "    \n",
    "    # labels\n",
    "    xlables = [[str(Fraction(i).limit_denominator()) for i in q] for q in qs]\n",
    "    # title\n",
    "    title = str([str(Fraction(i).limit_denominator()) for i in p])\n",
    "    title = title.replace('[','(').replace(']', ')').replace(\"'\", '')\n",
    "    \n",
    "    plt.figure(figsize=(9, 7))\n",
    "    plt.plot(range(len(theoritical)), theoritical, linestyle='-', color='maroon', linewidth=2,\n",
    "             zorder=1, label='theoretical')\n",
    "    plt.scatter(range(len(simulated)), simulated, marker='o', s=120, color='darkgreen', zorder=2,\n",
    "               label='simulated', linewidth='2')\n",
    "    plt.title(r'p={}'.format(title))\n",
    "    plt.legend()\n",
    "\n",
    "    plt.ylabel(r'$u_q(p)$')\n",
    "    plt.xticks(range(len(theoritical)), xlables, rotation=90, fontsize=10)\n",
    "    plt.xlabel(r'$q$s')\n",
    "\n",
    "    plt.tight_layout()\n",
    "    plt.savefig('../img/analytical_vs_simulated/{}.png'.format(count));\n",
    "    count += 1"
   ]
  },
  {
   "cell_type": "code",
   "execution_count": null,
   "metadata": {
    "collapsed": true
   },
   "outputs": [],
   "source": []
  }
 ],
 "metadata": {
  "anaconda-cloud": {},
  "kernelspec": {
   "display_name": "opt-mo",
   "language": "python",
   "name": "opt-mo"
  },
  "language_info": {
   "codemirror_mode": {
    "name": "ipython",
    "version": 3
   },
   "file_extension": ".py",
   "mimetype": "text/x-python",
   "name": "python",
   "nbconvert_exporter": "python",
   "pygments_lexer": "ipython3",
   "version": "3.5.5"
  }
 },
 "nbformat": 4,
 "nbformat_minor": 2
}
