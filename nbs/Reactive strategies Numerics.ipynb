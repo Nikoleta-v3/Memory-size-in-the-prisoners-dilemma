{
 "cells": [
  {
   "cell_type": "code",
   "execution_count": 1,
   "metadata": {
    "collapsed": true
   },
   "outputs": [],
   "source": [
    "import opt_mo\n",
    "import axelrod as axl"
   ]
  },
  {
   "cell_type": "code",
   "execution_count": 2,
   "metadata": {
    "collapsed": true
   },
   "outputs": [],
   "source": [
    "import warnings\n",
    "warnings.filterwarnings('ignore')"
   ]
  },
  {
   "cell_type": "code",
   "execution_count": 3,
   "metadata": {
    "collapsed": true
   },
   "outputs": [],
   "source": [
    "import numpy as np\n",
    "import sympy as sym"
   ]
  },
  {
   "cell_type": "code",
   "execution_count": 4,
   "metadata": {
    "collapsed": true
   },
   "outputs": [],
   "source": [
    "sym.init_printing()"
   ]
  },
  {
   "cell_type": "code",
   "execution_count": 5,
   "metadata": {
    "collapsed": true
   },
   "outputs": [],
   "source": [
    "import itertools"
   ]
  },
  {
   "cell_type": "code",
   "execution_count": 6,
   "metadata": {
    "collapsed": true
   },
   "outputs": [],
   "source": [
    "import matplotlib.pyplot as plt\n",
    "import matplotlib"
   ]
  },
  {
   "cell_type": "code",
   "execution_count": 7,
   "metadata": {
    "collapsed": true
   },
   "outputs": [],
   "source": [
    "font = {'size'   : 15,\n",
    "        'weight': 'bold'}\n",
    "matplotlib.rc('font', **font)"
   ]
  },
  {
   "cell_type": "code",
   "execution_count": 8,
   "metadata": {
    "collapsed": true
   },
   "outputs": [],
   "source": [
    "solutions = []\n",
    "for i in [21]:#range(40):\n",
    "    axl.seed(i)\n",
    "    opponents = [np.random.random(4) for _ in range(1)]\n",
    "    \n",
    "    solution_set = opt_mo.reactive_set(opponents)\n",
    "    solutions.append(opt_mo.argmax(opponents, solution_set))"
   ]
  },
  {
   "cell_type": "markdown",
   "metadata": {},
   "source": [
    "**Visualise**"
   ]
  },
  {
   "cell_type": "code",
   "execution_count": 9,
   "metadata": {
    "collapsed": true
   },
   "outputs": [],
   "source": [
    "def plot_argmax(opponents, solution, filename):\n",
    "    p_1, p_2 = sym.symbols('p_1, p_2')\n",
    "    p = (p_1, p_2, p_1, p_2)\n",
    "    \n",
    "    p_one, p_two = np.linspace(0, 1, 50), np.linspace(0, 1, 50)\n",
    "    utility = -opt_mo.tournament_utility(p, opponents)\n",
    "    \n",
    "    expr = sym.lambdify((p_1, p_2), utility.simplify())\n",
    "    \n",
    "    plt.figure()\n",
    "    X, Y = np.meshgrid(p_one, p_two)\n",
    "    Z = expr(X, Y)\n",
    "    \n",
    "    plt.contourf(X, Y, Z);\n",
    "    plt.colorbar();\n",
    "    plt.plot(solution[0], solution[1], marker='x', color='r', markersize=20, markeredgewidth=5)\n",
    "    plt.ylabel(r'$p_2$')\n",
    "    plt.xlabel(r'$p_1$')\n",
    "    plt.tight_layout()\n",
    "    plt.savefig(filename);"
   ]
  },
  {
   "cell_type": "code",
   "execution_count": 11,
   "metadata": {},
   "outputs": [
    {
     "data": {
      "image/png": "[encoded data removed]",
      "text/plain": [
       "<Figure size 432x288 with 2 Axes>"
      ]
     },
     "metadata": {},
     "output_type": "display_data"
    }
   ],
   "source": [
    "for i in [21]:#range(40):\n",
    "    axl.seed(i)\n",
    "    opponents = [np.random.random(4) for _ in range(1)]\n",
    "    \n",
    "    plot_argmax(opponents, solutions[0], '../img/reactive/reactive_pairwise_{}.pdf'.format(i))"
   ]
  },
  {
   "cell_type": "code",
   "execution_count": 12,
   "metadata": {
    "collapsed": true
   },
   "outputs": [],
   "source": [
    "from sympy.polys import subresultants_qq_zz"
   ]
  },
  {
   "cell_type": "code",
   "execution_count": 13,
   "metadata": {
    "collapsed": true
   },
   "outputs": [],
   "source": [
    "axl.seed(21)\n",
    "opponent = [np.random.random(4)]"
   ]
  },
  {
   "cell_type": "code",
   "execution_count": 14,
   "metadata": {
    "collapsed": true
   },
   "outputs": [],
   "source": [
    "solution_set = opt_mo.reactive_set(opponent)"
   ]
  },
  {
   "cell_type": "code",
   "execution_count": 17,
   "metadata": {},
   "outputs": [],
   "source": [
    "k = [1, 2, 3, 4, 5]\n",
    "k = k[:1] + k[3:]"
   ]
  },
  {
   "cell_type": "code",
   "execution_count": 18,
   "metadata": {},
   "outputs": [
    {
     "data": {
      "image/png": "[encoded data removed]",
      "text/latex": [
       "$$\\left [ 1, \\quad 4, \\quad 5\\right ]$$"
      ],
      "text/plain": [
       "[1, 4, 5]"
      ]
     },
     "execution_count": 18,
     "metadata": {},
     "output_type": "execute_result"
    }
   ],
   "source": [
    "k"
   ]
  },
  {
   "cell_type": "code",
   "execution_count": 22,
   "metadata": {},
   "outputs": [
    {
     "data": {
      "text/plain": [
       "['index', '$q_1$', '$q_2$', '$q_3$', '$\\\\bar{q}_1$']"
      ]
     },
     "execution_count": 22,
     "metadata": {},
     "output_type": "execute_result"
    }
   ],
   "source": [
    "cols[:5]"
   ]
  },
  {
   "cell_type": "code",
   "execution_count": 19,
   "metadata": {},
   "outputs": [],
   "source": [
    "    cols = ['index', '$q_1$', '$q_2$', '$q_3$', r'$\\bar{q}_1$', r'$\\bar{q}_2$',\n",
    "            r'$\\bar{q}_3$', r'$\\bar{q}_4$', '$p_1 ^ *$', '$p_2 ^ *$', '$u_q$',\n",
    "             'Optimisation time']"
   ]
  },
  {
   "cell_type": "code",
   "execution_count": 53,
   "metadata": {},
   "outputs": [],
   "source": [
    "p_1, p_2 = sym.symbols('p_1, p_2')\n",
    "utility = -opt_mo.tournament_utility((p_1, p_2, p_1, p_2), opponents)\n",
    "    \n",
    "# derivatives\n",
    "derivatives = [sym.diff(utility, i) for i in [p_1, p_2]]\n",
    "derivatives = [expr.factor() for expr in derivatives]\n",
    "    \n",
    "# numerator\n",
    "fractions = [sym.fraction(expr) for expr in derivatives]\n",
    "num = [expr[0] for expr in fractions]\n",
    "den = [expr[1] for expr in fractions]"
   ]
  },
  {
   "cell_type": "code",
   "execution_count": 55,
   "metadata": {},
   "outputs": [],
   "source": [
    "matrix = subresultants_qq_zz.sylvester(num[0], num[1], p_2)\n",
    "matrix = opt_mo.round_matrix_expressions(matrix, 8, p_1)\n",
    "\n",
    "resultant = matrix.det()"
   ]
  },
  {
   "cell_type": "code",
   "execution_count": 62,
   "metadata": {},
   "outputs": [],
   "source": [
    "x = sym.fraction(resultant)[0].factor()"
   ]
  },
  {
   "cell_type": "code",
   "execution_count": 63,
   "metadata": {},
   "outputs": [],
   "source": [
    "coeffs = sym.Poly(x, p_1).all_coeffs()\n",
    "roots = list(np.roots(coeffs))"
   ]
  },
  {
   "cell_type": "code",
   "execution_count": 68,
   "metadata": {},
   "outputs": [
    {
     "data": {
      "image/png": "[encoded data removed]",
      "text/latex": [
       "$$-0.0408582442826595$$"
      ],
      "text/plain": [
       "-0.0408582442826595"
      ]
     },
     "execution_count": 68,
     "metadata": {},
     "output_type": "execute_result"
    }
   ],
   "source": [
    "x.subs({p_1:1})"
   ]
  },
  {
   "cell_type": "code",
   "execution_count": 46,
   "metadata": {},
   "outputs": [],
   "source": [
    "p_one_roots = opt_mo.get_roots_of_first_unknown(num, p_1, p_2)"
   ]
  },
  {
   "cell_type": "code",
   "execution_count": 47,
   "metadata": {},
   "outputs": [
    {
     "data": {
      "image/png": "[encoded data removed]",
      "text/latex": [
       "$$\\left [ \\right ]$$"
      ],
      "text/plain": [
       "[]"
      ]
     },
     "execution_count": 47,
     "metadata": {},
     "output_type": "execute_result"
    }
   ],
   "source": [
    "p_one_roots"
   ]
  },
  {
   "cell_type": "code",
   "execution_count": null,
   "metadata": {
    "collapsed": true
   },
   "outputs": [],
   "source": []
  },
  {
   "cell_type": "code",
   "execution_count": 31,
   "metadata": {},
   "outputs": [
    {
     "data": {
      "image/png": "[encoded data removed]",
      "text/latex": [
       "$$\\left ( 0.455854710336408 p_{2}^{3} - 1.21421517857643 p_{2}^{2} - 0.798333237692442 p_{2} - 0.100003033913797, \\quad - 0.367032120676003 p_{2}^{2} - 0.466415012757329 p_{2} + 0.39737431458169\\right )$$"
      ],
      "text/plain": [
       "⎛                    3                      2                                 \n",
       "⎝0.455854710336408⋅p₂  - 1.21421517857643⋅p₂  - 0.798333237692442⋅p₂ - 0.10000\n",
       "\n",
       "                                  2                                          ⎞\n",
       "3033913797, - 0.367032120676003⋅p₂  - 0.466415012757329⋅p₂ + 0.39737431458169⎠"
      ]
     },
     "execution_count": 31,
     "metadata": {},
     "output_type": "execute_result"
    }
   ],
   "source": [
    "num[0].factor().subs({p_1: 0}), num[1].factor().subs({p_1: 0})"
   ]
  },
  {
   "cell_type": "code",
   "execution_count": 15,
   "metadata": {},
   "outputs": [
    {
     "data": {
      "text/plain": [
       "{0, 1}"
      ]
     },
     "execution_count": 15,
     "metadata": {},
     "output_type": "execute_result"
    }
   ],
   "source": [
    "solution_set"
   ]
  },
  {
   "cell_type": "code",
   "execution_count": null,
   "metadata": {
    "collapsed": true
   },
   "outputs": [],
   "source": []
  }
 ],
 "metadata": {
  "kernelspec": {
   "display_name": "opt-mo",
   "language": "python",
   "name": "opt-mo"
  },
  "language_info": {
   "codemirror_mode": {
    "name": "ipython",
    "version": 3
   },
   "file_extension": ".py",
   "mimetype": "text/x-python",
   "name": "python",
   "nbconvert_exporter": "python",
   "pygments_lexer": "ipython3",
   "version": "3.5.5"
  }
 },
 "nbformat": 4,
 "nbformat_minor": 2
}
