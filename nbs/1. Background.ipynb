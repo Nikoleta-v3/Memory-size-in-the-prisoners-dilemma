{
 "cells": [
  {
   "cell_type": "markdown",
   "metadata": {},
   "source": [
    "# Background\n",
    "\n",
    "In 1990 a framework was introduced by Nowak in order to study memory one strategies. The paper models a match between players \\(p\\) and \\(q\\) as a stochastic process. This allow us to easily calculate the outcome of the match, the scores, without simulating the interactions.\n",
    "\n",
    "In this notebook we go through Nowak's formulation and even compare it to the Press and Dyson formulation and reassure that they are equivalent."
   ]
  },
  {
   "cell_type": "code",
   "execution_count": 1,
   "metadata": {},
   "outputs": [],
   "source": [
    "import opt_mo\n",
    "import sympy as sym\n",
    "\n",
    "sym.init_printing()"
   ]
  },
  {
   "cell_type": "code",
   "execution_count": 2,
   "metadata": {},
   "outputs": [],
   "source": [
    "p_1, p_2, p_3, p_4 = sym.symbols(\"p_1, p_2, p_3, p_4\")\n",
    "q_1, q_2, q_3, q_4 = sym.symbols(\"q_1, q_2, q_3, q_4\")"
   ]
  },
  {
   "cell_type": "code",
   "execution_count": 4,
   "metadata": {},
   "outputs": [],
   "source": [
    "p = (p_1, p_2, p_3, p_4)\n",
    "q = (q_1, q_2, q_3, q_4)"
   ]
  },
  {
   "cell_type": "markdown",
   "metadata": {},
   "source": [
    "The markov chain $M$."
   ]
  },
  {
   "cell_type": "code",
   "execution_count": 5,
   "metadata": {},
   "outputs": [],
   "source": [
    "M = opt_mo.mem_one_match_markov_chain(player=p, opponent=q)"
   ]
  },
  {
   "cell_type": "code",
   "execution_count": 6,
   "metadata": {},
   "outputs": [],
   "source": [
    "# with open(\"../tex/m_matrix.tex\", \"w\") as f:\n",
    "#    f.write(\"M = {}\".format(sym.latex(M)))"
   ]
  },
  {
   "cell_type": "markdown",
   "metadata": {},
   "source": [
    "Let $v$ be the stationary vector of $M$, where $M$ is the transition matrix $M(p,q)$."
   ]
  },
  {
   "cell_type": "code",
   "execution_count": 7,
   "metadata": {},
   "outputs": [],
   "source": [
    "pi_1, pi_2, pi_3, pi_4 = sym.symbols('pi_1, pi_2, pi_3, pi_4')\n",
    "pi = (pi_1, pi_2, pi_3, pi_4)"
   ]
  },
  {
   "cell_type": "code",
   "execution_count": 8,
   "metadata": {},
   "outputs": [],
   "source": [
    "ss = opt_mo.steady_states(M, pi)"
   ]
  },
  {
   "cell_type": "code",
   "execution_count": 9,
   "metadata": {},
   "outputs": [
    {
     "data": {
      "image/png": "[encoded data removed]",
      "text/latex": [
       "$$\\frac{0.0085 p_{2} p_{3} - 0.004 p_{2} p_{4} - 0.0445 p_{3} p_{4} - 0.009 p_{3} - 0.001 p_{4}}{- 0.0165 p_{1} p_{2} + 0.028 p_{1} p_{3} + 0.0285 p_{1} p_{4} + 0.022 p_{1} + 0.6885 p_{2} p_{3} + 0.028 p_{2} p_{4} + 0.1045 p_{2} - 0.7565 p_{3} p_{4} - 0.725 p_{3} - 0.1415 p_{4} - 0.11}$$"
      ],
      "text/plain": [
       "                                      0.0085⋅p₂⋅p₃ - 0.004⋅p₂⋅p₄ - 0.0445⋅p₃⋅p\n",
       "──────────────────────────────────────────────────────────────────────────────\n",
       "-0.0165⋅p₁⋅p₂ + 0.028⋅p₁⋅p₃ + 0.0285⋅p₁⋅p₄ + 0.022⋅p₁ + 0.6885⋅p₂⋅p₃ + 0.028⋅p\n",
       "\n",
       "₄ - 0.009⋅p₃ - 0.001⋅p₄                                      \n",
       "─────────────────────────────────────────────────────────────\n",
       "₂⋅p₄ + 0.1045⋅p₂ - 0.7565⋅p₃⋅p₄ - 0.725⋅p₃ - 0.1415⋅p₄ - 0.11"
      ]
     },
     "execution_count": 9,
     "metadata": {},
     "output_type": "execute_result"
    }
   ],
   "source": [
    "transitions = {'q_1': 0.2, 'q_2': 0.9, 'q_3': 0.05, 'q_4': 0.01}\n",
    "ss[pi_1].subs(transitions)"
   ]
  },
  {
   "cell_type": "markdown",
   "metadata": {},
   "source": [
    "Once the markovian matrix is defined we can calculate the stable states of the matrix. \n",
    "The stable states multiplied  by the scores of each state return the score of a player. The payoff matrices for $X$ and $Y$ equivilant are: $S_{p} = (R, S, T, P)$ & $S_{q} = (R, S, T, P)$"
   ]
  },
  {
   "cell_type": "code",
   "execution_count": 10,
   "metadata": {},
   "outputs": [],
   "source": [
    "v = sym.Matrix([[ss[pi_1]], [ss[pi_2]], [ss[pi_3]], [ss[pi_4]]])"
   ]
  },
  {
   "cell_type": "code",
   "execution_count": 11,
   "metadata": {},
   "outputs": [],
   "source": [
    "R, S, T, P = sym.symbols(\"R, S, T, P\")\n",
    "payoffs = (R, S, T, P)"
   ]
  },
  {
   "cell_type": "code",
   "execution_count": 12,
   "metadata": {},
   "outputs": [],
   "source": [
    "utility = v[0] * payoffs[0] + v[1] * payoffs[1] + v[2] * payoffs[2] + v[3] * payoffs[3]"
   ]
  },
  {
   "cell_type": "markdown",
   "metadata": {},
   "source": [
    "To test this we can have a defector play against a defector. We know that the score should be 1. Similar for two cooperators the score should be 3."
   ]
  },
  {
   "cell_type": "code",
   "execution_count": 13,
   "metadata": {},
   "outputs": [
    {
     "data": {
      "image/png": "[encoded data removed]",
      "text/latex": [
       "$$P$$"
      ],
      "text/plain": [
       "P"
      ]
     },
     "execution_count": 13,
     "metadata": {},
     "output_type": "execute_result"
    }
   ],
   "source": [
    "utility.subs({p_1:0, p_2:0, p_3:0, p_4:0, q_1:0, q_2:0, q_3:0, q_4:0})"
   ]
  },
  {
   "cell_type": "code",
   "execution_count": 14,
   "metadata": {},
   "outputs": [
    {
     "data": {
      "image/png": "[encoded data removed]",
      "text/latex": [
       "$$T$$"
      ],
      "text/plain": [
       "T"
      ]
     },
     "execution_count": 14,
     "metadata": {},
     "output_type": "execute_result"
    }
   ],
   "source": [
    "utility.subs({p_1:0, p_2:0, p_3:0, p_4:0, q_1:1, q_2:1, q_3:1, q_4:1})"
   ]
  },
  {
   "cell_type": "code",
   "execution_count": 15,
   "metadata": {},
   "outputs": [
    {
     "data": {
      "image/png": "[encoded data removed]",
      "text/latex": [
       "$$R$$"
      ],
      "text/plain": [
       "R"
      ]
     },
     "execution_count": 15,
     "metadata": {},
     "output_type": "execute_result"
    }
   ],
   "source": [
    "utility.simplify().subs({p_1:1, p_2:1, p_3:1, p_4:1, q_1:1, q_2:1, q_3:1, q_4:1})"
   ]
  },
  {
   "cell_type": "markdown",
   "metadata": {},
   "source": [
    "**Comparison to Press and Dyson formulation.**"
   ]
  },
  {
   "cell_type": "markdown",
   "metadata": {},
   "source": [
    "In Press and Dyson's work on their 2012 article. They have managed to prove\n",
    "that:\n",
    "\n",
    " $$v \\times S_{p} = \\frac{D (p, q, S_{p})} {D (p, q, 1)}$$\n",
    "\n",
    "where $D$ is a $4 \\times 4$ determinant as shown below.\n",
    "\n",
    "Matrix M will be named to A to use the same notion as the article."
   ]
  },
  {
   "cell_type": "code",
   "execution_count": 16,
   "metadata": {},
   "outputs": [
    {
     "data": {
      "text/plain": [
       "array([[p_1*q_1, p_1*(-q_1 + 1), q_1*(-p_1 + 1), (-p_1 + 1)*(-q_1 + 1)],\n",
       "       [p_2*q_3, p_2*(-q_3 + 1), q_3*(-p_2 + 1), (-p_2 + 1)*(-q_3 + 1)],\n",
       "       [p_3*q_2, p_3*(-q_2 + 1), q_2*(-p_3 + 1), (-p_3 + 1)*(-q_2 + 1)],\n",
       "       [p_4*q_4, p_4*(-q_4 + 1), q_4*(-p_4 + 1), (-p_4 + 1)*(-q_4 + 1)]],\n",
       "      dtype=object)"
      ]
     },
     "execution_count": 16,
     "metadata": {},
     "output_type": "execute_result"
    }
   ],
   "source": [
    "A = M\n",
    "A"
   ]
  },
  {
   "cell_type": "code",
   "execution_count": 17,
   "metadata": {},
   "outputs": [],
   "source": [
    "S_p = sym.Matrix([[3, 0, 5, 1]])"
   ]
  },
  {
   "cell_type": "code",
   "execution_count": 44,
   "metadata": {},
   "outputs": [
    {
     "data": {
      "image/png": "[encoded data removed]",
      "text/latex": [
       "$$\\left[\\begin{matrix}p_{1} q_{1} - 1 & p_{1} - 1 & q_{1} - 1 & 3\\\\p_{2} q_{3} & p_{2} - 1 & q_{3} & 0\\\\p_{3} q_{2} & p_{3} & q_{2} - 1 & 5\\\\p_{4} q_{4} & p_{4} & q_{4} & 1\\end{matrix}\\right]$$"
      ],
      "text/plain": [
       "⎡p₁⋅q₁ - 1  p₁ - 1  q₁ - 1  3⎤\n",
       "⎢                            ⎥\n",
       "⎢  p₂⋅q₃    p₂ - 1    q₃    0⎥\n",
       "⎢                            ⎥\n",
       "⎢  p₃⋅q₂      p₃    q₂ - 1  5⎥\n",
       "⎢                            ⎥\n",
       "⎣  p₄⋅q₄      p₄      q₄    1⎦"
      ]
     },
     "execution_count": 44,
     "metadata": {},
     "output_type": "execute_result"
    }
   ],
   "source": [
    "B = opt_mo.make_B(S_p, (p_1, p_2, p_3, p_4), (q_1, q_2, q_3, q_4))\n",
    "sym.Matrix(B)"
   ]
  },
  {
   "cell_type": "code",
   "execution_count": 33,
   "metadata": {},
   "outputs": [],
   "source": [
    "def pd_utility(S_p, x, y):\n",
    "    \"\"\"\n",
    "    Returns the utility as a function\n",
    "    of p, q vectors. Based on Press and Dyson, 2012.\n",
    "    \"\"\"\n",
    "    B = sym.Matrix(opt_mo.make_B(S_p, x, y))\n",
    "    unit = sym.Matrix(opt_mo.make_B((1, 1, 1, 1), x, y))\n",
    "    return  B.det() / unit.det()"
   ]
  },
  {
   "cell_type": "code",
   "execution_count": 34,
   "metadata": {},
   "outputs": [],
   "source": [
    "x = (0, 0, 0, 0)"
   ]
  },
  {
   "cell_type": "code",
   "execution_count": 35,
   "metadata": {},
   "outputs": [],
   "source": [
    "u = pd_utility(S_p, x, (q_1, q_2, q_3, q_4))"
   ]
  },
  {
   "cell_type": "code",
   "execution_count": 50,
   "metadata": {},
   "outputs": [
    {
     "data": {
      "text/plain": [
       "True"
      ]
     },
     "execution_count": 50,
     "metadata": {},
     "output_type": "execute_result"
    }
   ],
   "source": [
    "u == utility.subs({S:0, R:3, T:5, P:1, p_1:0, p_2:0, p_3:0, p_4:0}).factor()"
   ]
  }
 ],
 "metadata": {
  "anaconda-cloud": {},
  "kernelspec": {
   "display_name": "opt-mo",
   "language": "python",
   "name": "opt-mo"
  },
  "language_info": {
   "codemirror_mode": {
    "name": "ipython",
    "version": 3
   },
   "file_extension": ".py",
   "mimetype": "text/x-python",
   "name": "python",
   "nbconvert_exporter": "python",
   "pygments_lexer": "ipython3",
   "version": "3.6.7"
  }
 },
 "nbformat": 4,
 "nbformat_minor": 1
}
