{
 "cells": [
  {
   "cell_type": "code",
   "execution_count": 1,
   "metadata": {},
   "outputs": [],
   "source": [
    "import numpy as np\n",
    "import axelrod as axl\n",
    "import opt_mo\n",
    "\n",
    "import sympy as sym"
   ]
  },
  {
   "cell_type": "code",
   "execution_count": 2,
   "metadata": {},
   "outputs": [],
   "source": [
    "import matplotlib.pyplot as plt\n",
    "%matplotlib inline"
   ]
  },
  {
   "cell_type": "code",
   "execution_count": 3,
   "metadata": {},
   "outputs": [],
   "source": [
    "p_1, p_2, p_3, p_4 = sym.symbols('p_1, p_2, p_3, p_4')\n",
    "p = (p_1, p_2, p_3, p_4)"
   ]
  },
  {
   "cell_type": "markdown",
   "metadata": {},
   "source": [
    "Let's look at a reactive case. Where two random opponents are choosen."
   ]
  },
  {
   "cell_type": "code",
   "execution_count": 29,
   "metadata": {},
   "outputs": [],
   "source": [
    "axl.seed(16)\n",
    "random_opponents = [np.random.random(4) for _ in range(1)]"
   ]
  },
  {
   "cell_type": "markdown",
   "metadata": {},
   "source": [
    "The best response to that enviroment can be calculted exactly."
   ]
  },
  {
   "cell_type": "code",
   "execution_count": 30,
   "metadata": {},
   "outputs": [],
   "source": [
    "solution_set = opt_mo.reactive_set(random_opponents)\n",
    "solution = opt_mo.argmax(random_opponents, solution_set)"
   ]
  },
  {
   "cell_type": "code",
   "execution_count": 31,
   "metadata": {},
   "outputs": [
    {
     "data": {
      "text/plain": [
       "(0, 0.4687337764230536, 1.7582225406868621)"
      ]
     },
     "execution_count": 31,
     "metadata": {},
     "output_type": "execute_result"
    }
   ],
   "source": [
    "solution"
   ]
  },
  {
   "cell_type": "markdown",
   "metadata": {},
   "source": [
    "The plot validates the results."
   ]
  },
  {
   "cell_type": "code",
   "execution_count": 34,
   "metadata": {},
   "outputs": [
    {
     "data": {
      "text/plain": [
       "(<matplotlib.contour.QuadContourSet at 0x7f19b189c128>,\n",
       " <matplotlib.colorbar.Colorbar at 0x7f19b184f7b8>)"
      ]
     },
     "execution_count": 34,
     "metadata": {},
     "output_type": "execute_result"
    },
    {
     "data": {
      "image/png": "[encoded data removed]",
      "text/plain": [
       "<Figure size 432x288 with 2 Axes>"
      ]
     },
     "metadata": {
      "needs_background": "light"
     },
     "output_type": "display_data"
    }
   ],
   "source": [
    "opt_mo.plot_argmax(random_opponents, solution)"
   ]
  },
  {
   "cell_type": "markdown",
   "metadata": {},
   "source": [
    "Now for the best response dynamics the self interaction of the strategy will be added in the utility. This will not break the quadratic assumption as it will be added as a constant."
   ]
  },
  {
   "cell_type": "markdown",
   "metadata": {},
   "source": [
    "We will high jack the `reactive_set` function."
   ]
  },
  {
   "cell_type": "code",
   "execution_count": 63,
   "metadata": {},
   "outputs": [],
   "source": [
    "opt_mo.utility?"
   ]
  },
  {
   "cell_type": "code",
   "execution_count": 72,
   "metadata": {},
   "outputs": [],
   "source": [
    "def reactive_set_dynamics(opponents, sub_player):\n",
    "    p_1, p_2 = sym.symbols(\"p_1, p_2\")\n",
    "    # line that changes\n",
    "    utility = -opt_mo.tournament_utility((p_1, p_2, p_1, p_2), opponents) + opt_mo.utility((p_1, p_2, p_1, p_2), sub_player)\n",
    "\n",
    "    derivatives = [sym.diff(utility, i) for i in [p_1, p_2]]\n",
    "    derivatives = [expr.factor() for expr in derivatives]\n",
    "\n",
    "    fractions = [sym.fraction(expr) for expr in derivatives]\n",
    "    num = [expr[0] for expr in fractions]\n",
    "    den = [expr[1] for expr in fractions]\n",
    "\n",
    "    # roots p_1 for derivative\n",
    "    p_one_roots = opt_mo.eliminator_method(num, p_1, p_2)\n",
    "\n",
    "    p_two_roots = set()\n",
    "    if p_one_roots:\n",
    "        p_two_roots.update(opt_mo.solve_system(num, p_2, p_one_roots, p_1))\n",
    "\n",
    "    # roots of p_2 for edges\n",
    "    for p_one_edge in [0, 1]:\n",
    "        coeffs = sym.Poly(num[1].subs({p_1: p_one_edge}), p_2).all_coeffs()\n",
    "        roots = opt_mo.feasible_roots(coeffs)\n",
    "        p_two_roots.update(roots)\n",
    "\n",
    "    solution_set = p_one_roots | p_two_roots | set([0, 1])\n",
    "    return solution_set"
   ]
  },
  {
   "cell_type": "code",
   "execution_count": 73,
   "metadata": {},
   "outputs": [],
   "source": [
    "axl.seed(18)\n",
    "random_opponents = [np.random.random(4) for _ in range(1)]"
   ]
  },
  {
   "cell_type": "code",
   "execution_count": null,
   "metadata": {},
   "outputs": [
    {
     "name": "stdout",
     "output_type": "stream",
     "text": [
      "1\n"
     ]
    }
   ],
   "source": [
    "iterations = 0\n",
    "p_sub =  (0, 0, 0, 0)\n",
    "p_optimal = (1, 1, 1, 1)\n",
    "while np.isclose(p_sub, p_optimal, atol=10 ** -2).all() == False:\n",
    "    p_sub = p_optimal\n",
    "    \n",
    "    solution_set = reactive_set_dynamics(opponents=random_opponents, sub_player=p_sub)\n",
    "    solution = opt_mo.argmax(random_opponents, solution_set)\n",
    "    \n",
    "    p_optimal = (solution[0], solution[1], solution[0], solution[1])\n",
    "    \n",
    "    iterations += 1\n",
    "    print(iterations)"
   ]
  },
  {
   "cell_type": "code",
   "execution_count": 71,
   "metadata": {},
   "outputs": [
    {
     "data": {
      "text/plain": [
       "2"
      ]
     },
     "execution_count": 71,
     "metadata": {},
     "output_type": "execute_result"
    }
   ],
   "source": [
    "iterations"
   ]
  },
  {
   "cell_type": "code",
   "execution_count": null,
   "metadata": {},
   "outputs": [],
   "source": []
  },
  {
   "cell_type": "code",
   "execution_count": null,
   "metadata": {},
   "outputs": [],
   "source": []
  }
 ],
 "metadata": {
  "kernelspec": {
   "display_name": "opt-mo",
   "language": "python",
   "name": "opt-mo"
  },
  "language_info": {
   "codemirror_mode": {
    "name": "ipython",
    "version": 3
   },
   "file_extension": ".py",
   "mimetype": "text/x-python",
   "name": "python",
   "nbconvert_exporter": "python",
   "pygments_lexer": "ipython3",
   "version": "3.6.7"
  }
 },
 "nbformat": 4,
 "nbformat_minor": 2
}
