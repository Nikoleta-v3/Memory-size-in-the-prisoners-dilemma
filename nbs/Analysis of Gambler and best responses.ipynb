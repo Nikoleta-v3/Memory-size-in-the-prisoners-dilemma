{
 "cells": [
  {
   "cell_type": "code",
   "execution_count": 1,
   "metadata": {},
   "outputs": [],
   "source": [
    "import axelrod as axl\n",
    "import numpy as np\n",
    "\n",
    "from axelrod.action import Action\n",
    "from axelrod.strategies.lookerup import Plays\n",
    "\n",
    "import opt_mo\n",
    "import pandas as pd\n",
    "C, D = Action.C, Action.D"
   ]
  },
  {
   "cell_type": "code",
   "execution_count": 2,
   "metadata": {},
   "outputs": [],
   "source": [
    "import matplotlib.pyplot as plt\n",
    "import matplotlib"
   ]
  },
  {
   "cell_type": "code",
   "execution_count": 3,
   "metadata": {},
   "outputs": [],
   "source": [
    "font = {\"size\": 10, \"weight\": \"bold\"}\n",
    "matplotlib.rc(\"font\", **font)"
   ]
  },
  {
   "cell_type": "code",
   "execution_count": 4,
   "metadata": {},
   "outputs": [],
   "source": [
    "params = [1, 1, 2]"
   ]
  },
  {
   "cell_type": "code",
   "execution_count": 5,
   "metadata": {},
   "outputs": [
    {
     "data": {
      "text/plain": [
       "16"
      ]
     },
     "execution_count": 5,
     "metadata": {},
     "output_type": "execute_result"
    }
   ],
   "source": [
    "size = opt_mo.get_lookup_table_size(params)\n",
    "size"
   ]
  },
  {
   "cell_type": "code",
   "execution_count": 6,
   "metadata": {},
   "outputs": [],
   "source": [
    "df_with_g = opt_mo.tools.read_sql_data_frame('../data/with_gambler/main_seed_two.db')"
   ]
  },
  {
   "cell_type": "code",
   "execution_count": 7,
   "metadata": {},
   "outputs": [
    {
     "data": {
      "text/html": [
       "<div>\n",
       "<style scoped>\n",
       "    .dataframe tbody tr th:only-of-type {\n",
       "        vertical-align: middle;\n",
       "    }\n",
       "\n",
       "    .dataframe tbody tr th {\n",
       "        vertical-align: top;\n",
       "    }\n",
       "\n",
       "    .dataframe thead th {\n",
       "        text-align: right;\n",
       "    }\n",
       "</style>\n",
       "<table border=\"1\" class=\"dataframe\">\n",
       "  <thead>\n",
       "    <tr style=\"text-align: right;\">\n",
       "      <th></th>\n",
       "      <th>exp_index</th>\n",
       "      <th>first_opponent_q_1</th>\n",
       "      <th>first_opponent_q_2</th>\n",
       "      <th>first_opponent_q_3</th>\n",
       "      <th>first_opponent_q_4</th>\n",
       "      <th>second_opponent_q_1</th>\n",
       "      <th>second_opponent_q_2</th>\n",
       "      <th>second_opponent_q_3</th>\n",
       "      <th>second_opponent_q_4</th>\n",
       "      <th>mem_one_p_1</th>\n",
       "      <th>...</th>\n",
       "      <th>gambler_paramater_p_8</th>\n",
       "      <th>gambler_paramater_p_9</th>\n",
       "      <th>gambler_paramater_p_10</th>\n",
       "      <th>gambler_paramater_p_11</th>\n",
       "      <th>gambler_paramater_p_12</th>\n",
       "      <th>gambler_paramater_p_13</th>\n",
       "      <th>gambler_paramater_p_14</th>\n",
       "      <th>gambler_paramater_p_15</th>\n",
       "      <th>gambler_paramater_p_16</th>\n",
       "      <th>gambler_utility</th>\n",
       "    </tr>\n",
       "  </thead>\n",
       "  <tbody>\n",
       "    <tr>\n",
       "      <th>count</th>\n",
       "      <td>50.00000</td>\n",
       "      <td>50.000000</td>\n",
       "      <td>50.000000</td>\n",
       "      <td>50.000000</td>\n",
       "      <td>50.000000</td>\n",
       "      <td>50.000000</td>\n",
       "      <td>50.000000</td>\n",
       "      <td>50.000000</td>\n",
       "      <td>50.000000</td>\n",
       "      <td>50.000000</td>\n",
       "      <td>...</td>\n",
       "      <td>50.000000</td>\n",
       "      <td>50.000000</td>\n",
       "      <td>50.000000</td>\n",
       "      <td>50.000000</td>\n",
       "      <td>50.000000</td>\n",
       "      <td>50.000000</td>\n",
       "      <td>50.000000</td>\n",
       "      <td>50.000000</td>\n",
       "      <td>50.000000</td>\n",
       "      <td>50.000000</td>\n",
       "    </tr>\n",
       "    <tr>\n",
       "      <th>mean</th>\n",
       "      <td>124.50000</td>\n",
       "      <td>0.507698</td>\n",
       "      <td>0.462442</td>\n",
       "      <td>0.605849</td>\n",
       "      <td>0.477383</td>\n",
       "      <td>0.543166</td>\n",
       "      <td>0.520013</td>\n",
       "      <td>0.488749</td>\n",
       "      <td>0.434477</td>\n",
       "      <td>0.304099</td>\n",
       "      <td>...</td>\n",
       "      <td>0.397445</td>\n",
       "      <td>0.080240</td>\n",
       "      <td>0.110366</td>\n",
       "      <td>0.563694</td>\n",
       "      <td>0.510710</td>\n",
       "      <td>0.186826</td>\n",
       "      <td>0.281398</td>\n",
       "      <td>0.572572</td>\n",
       "      <td>0.544815</td>\n",
       "      <td>3.016801</td>\n",
       "    </tr>\n",
       "    <tr>\n",
       "      <th>std</th>\n",
       "      <td>14.57738</td>\n",
       "      <td>0.311418</td>\n",
       "      <td>0.246798</td>\n",
       "      <td>0.296507</td>\n",
       "      <td>0.324686</td>\n",
       "      <td>0.253389</td>\n",
       "      <td>0.313140</td>\n",
       "      <td>0.285593</td>\n",
       "      <td>0.271763</td>\n",
       "      <td>0.429794</td>\n",
       "      <td>...</td>\n",
       "      <td>0.395712</td>\n",
       "      <td>0.266489</td>\n",
       "      <td>0.308286</td>\n",
       "      <td>0.368641</td>\n",
       "      <td>0.403738</td>\n",
       "      <td>0.351726</td>\n",
       "      <td>0.449055</td>\n",
       "      <td>0.408400</td>\n",
       "      <td>0.404553</td>\n",
       "      <td>0.587725</td>\n",
       "    </tr>\n",
       "    <tr>\n",
       "      <th>min</th>\n",
       "      <td>100.00000</td>\n",
       "      <td>0.001510</td>\n",
       "      <td>0.030188</td>\n",
       "      <td>0.016764</td>\n",
       "      <td>0.001682</td>\n",
       "      <td>0.024474</td>\n",
       "      <td>0.001633</td>\n",
       "      <td>0.015054</td>\n",
       "      <td>0.016723</td>\n",
       "      <td>0.000000</td>\n",
       "      <td>...</td>\n",
       "      <td>0.000000</td>\n",
       "      <td>0.000000</td>\n",
       "      <td>0.000000</td>\n",
       "      <td>0.000000</td>\n",
       "      <td>0.000000</td>\n",
       "      <td>0.000000</td>\n",
       "      <td>0.000000</td>\n",
       "      <td>0.000000</td>\n",
       "      <td>0.000000</td>\n",
       "      <td>1.657485</td>\n",
       "    </tr>\n",
       "    <tr>\n",
       "      <th>25%</th>\n",
       "      <td>112.25000</td>\n",
       "      <td>0.240311</td>\n",
       "      <td>0.215205</td>\n",
       "      <td>0.401697</td>\n",
       "      <td>0.185087</td>\n",
       "      <td>0.359201</td>\n",
       "      <td>0.240951</td>\n",
       "      <td>0.263657</td>\n",
       "      <td>0.190530</td>\n",
       "      <td>0.000000</td>\n",
       "      <td>...</td>\n",
       "      <td>0.000000</td>\n",
       "      <td>0.000000</td>\n",
       "      <td>0.000000</td>\n",
       "      <td>0.189190</td>\n",
       "      <td>0.028714</td>\n",
       "      <td>0.000000</td>\n",
       "      <td>0.000000</td>\n",
       "      <td>0.102779</td>\n",
       "      <td>0.124089</td>\n",
       "      <td>2.560880</td>\n",
       "    </tr>\n",
       "    <tr>\n",
       "      <th>50%</th>\n",
       "      <td>124.50000</td>\n",
       "      <td>0.516129</td>\n",
       "      <td>0.457789</td>\n",
       "      <td>0.708506</td>\n",
       "      <td>0.486964</td>\n",
       "      <td>0.556834</td>\n",
       "      <td>0.565621</td>\n",
       "      <td>0.487832</td>\n",
       "      <td>0.499482</td>\n",
       "      <td>0.000000</td>\n",
       "      <td>...</td>\n",
       "      <td>0.258347</td>\n",
       "      <td>0.000000</td>\n",
       "      <td>0.000000</td>\n",
       "      <td>0.638805</td>\n",
       "      <td>0.504242</td>\n",
       "      <td>0.000000</td>\n",
       "      <td>0.000000</td>\n",
       "      <td>0.660296</td>\n",
       "      <td>0.582974</td>\n",
       "      <td>3.039180</td>\n",
       "    </tr>\n",
       "    <tr>\n",
       "      <th>75%</th>\n",
       "      <td>136.75000</td>\n",
       "      <td>0.808916</td>\n",
       "      <td>0.625077</td>\n",
       "      <td>0.818243</td>\n",
       "      <td>0.756953</td>\n",
       "      <td>0.743878</td>\n",
       "      <td>0.782732</td>\n",
       "      <td>0.712032</td>\n",
       "      <td>0.613182</td>\n",
       "      <td>0.780403</td>\n",
       "      <td>...</td>\n",
       "      <td>0.832699</td>\n",
       "      <td>0.000000</td>\n",
       "      <td>0.000000</td>\n",
       "      <td>0.876300</td>\n",
       "      <td>1.000000</td>\n",
       "      <td>0.075371</td>\n",
       "      <td>0.970505</td>\n",
       "      <td>1.000000</td>\n",
       "      <td>1.000000</td>\n",
       "      <td>3.392209</td>\n",
       "    </tr>\n",
       "    <tr>\n",
       "      <th>max</th>\n",
       "      <td>149.00000</td>\n",
       "      <td>0.979050</td>\n",
       "      <td>0.901108</td>\n",
       "      <td>0.990255</td>\n",
       "      <td>0.965490</td>\n",
       "      <td>0.978199</td>\n",
       "      <td>0.977985</td>\n",
       "      <td>0.991445</td>\n",
       "      <td>0.998740</td>\n",
       "      <td>1.000000</td>\n",
       "      <td>...</td>\n",
       "      <td>1.000000</td>\n",
       "      <td>1.000000</td>\n",
       "      <td>1.000000</td>\n",
       "      <td>1.000000</td>\n",
       "      <td>1.000000</td>\n",
       "      <td>1.000000</td>\n",
       "      <td>1.000000</td>\n",
       "      <td>1.000000</td>\n",
       "      <td>1.000000</td>\n",
       "      <td>4.376960</td>\n",
       "    </tr>\n",
       "  </tbody>\n",
       "</table>\n",
       "<p>8 rows × 45 columns</p>\n",
       "</div>"
      ],
      "text/plain": [
       "       exp_index  first_opponent_q_1  first_opponent_q_2  first_opponent_q_3  \\\n",
       "count   50.00000           50.000000           50.000000           50.000000   \n",
       "mean   124.50000            0.507698            0.462442            0.605849   \n",
       "std     14.57738            0.311418            0.246798            0.296507   \n",
       "min    100.00000            0.001510            0.030188            0.016764   \n",
       "25%    112.25000            0.240311            0.215205            0.401697   \n",
       "50%    124.50000            0.516129            0.457789            0.708506   \n",
       "75%    136.75000            0.808916            0.625077            0.818243   \n",
       "max    149.00000            0.979050            0.901108            0.990255   \n",
       "\n",
       "       first_opponent_q_4  second_opponent_q_1  second_opponent_q_2  \\\n",
       "count           50.000000            50.000000            50.000000   \n",
       "mean             0.477383             0.543166             0.520013   \n",
       "std              0.324686             0.253389             0.313140   \n",
       "min              0.001682             0.024474             0.001633   \n",
       "25%              0.185087             0.359201             0.240951   \n",
       "50%              0.486964             0.556834             0.565621   \n",
       "75%              0.756953             0.743878             0.782732   \n",
       "max              0.965490             0.978199             0.977985   \n",
       "\n",
       "       second_opponent_q_3  second_opponent_q_4  mem_one_p_1       ...         \\\n",
       "count            50.000000            50.000000    50.000000       ...          \n",
       "mean              0.488749             0.434477     0.304099       ...          \n",
       "std               0.285593             0.271763     0.429794       ...          \n",
       "min               0.015054             0.016723     0.000000       ...          \n",
       "25%               0.263657             0.190530     0.000000       ...          \n",
       "50%               0.487832             0.499482     0.000000       ...          \n",
       "75%               0.712032             0.613182     0.780403       ...          \n",
       "max               0.991445             0.998740     1.000000       ...          \n",
       "\n",
       "       gambler_paramater_p_8  gambler_paramater_p_9  gambler_paramater_p_10  \\\n",
       "count              50.000000              50.000000               50.000000   \n",
       "mean                0.397445               0.080240                0.110366   \n",
       "std                 0.395712               0.266489                0.308286   \n",
       "min                 0.000000               0.000000                0.000000   \n",
       "25%                 0.000000               0.000000                0.000000   \n",
       "50%                 0.258347               0.000000                0.000000   \n",
       "75%                 0.832699               0.000000                0.000000   \n",
       "max                 1.000000               1.000000                1.000000   \n",
       "\n",
       "       gambler_paramater_p_11  gambler_paramater_p_12  gambler_paramater_p_13  \\\n",
       "count               50.000000               50.000000               50.000000   \n",
       "mean                 0.563694                0.510710                0.186826   \n",
       "std                  0.368641                0.403738                0.351726   \n",
       "min                  0.000000                0.000000                0.000000   \n",
       "25%                  0.189190                0.028714                0.000000   \n",
       "50%                  0.638805                0.504242                0.000000   \n",
       "75%                  0.876300                1.000000                0.075371   \n",
       "max                  1.000000                1.000000                1.000000   \n",
       "\n",
       "       gambler_paramater_p_14  gambler_paramater_p_15  gambler_paramater_p_16  \\\n",
       "count               50.000000               50.000000               50.000000   \n",
       "mean                 0.281398                0.572572                0.544815   \n",
       "std                  0.449055                0.408400                0.404553   \n",
       "min                  0.000000                0.000000                0.000000   \n",
       "25%                  0.000000                0.102779                0.124089   \n",
       "50%                  0.000000                0.660296                0.582974   \n",
       "75%                  0.970505                1.000000                1.000000   \n",
       "max                  1.000000                1.000000                1.000000   \n",
       "\n",
       "       gambler_utility  \n",
       "count        50.000000  \n",
       "mean          3.016801  \n",
       "std           0.587725  \n",
       "min           1.657485  \n",
       "25%           2.560880  \n",
       "50%           3.039180  \n",
       "75%           3.392209  \n",
       "max           4.376960  \n",
       "\n",
       "[8 rows x 45 columns]"
      ]
     },
     "execution_count": 7,
     "metadata": {},
     "output_type": "execute_result"
    }
   ],
   "source": [
    "df_with_g.describe()"
   ]
  },
  {
   "cell_type": "code",
   "execution_count": 46,
   "metadata": {},
   "outputs": [],
   "source": [
    "def get_results(row):\n",
    "    op_one = row[1:5].values\n",
    "    op_two = row[5:9].values\n",
    "    \n",
    "    opponents = [axl.MemoryOnePlayer(p) for p in [op_one, op_two]]\n",
    "\n",
    "    ps = row[9:13].values\n",
    "    best_response = axl.MemoryOnePlayer(ps)\n",
    "    \n",
    "    pattern = row[27:-1].values\n",
    "    \n",
    "    parameters = Plays(\n",
    "    self_plays=params[0], op_plays=params[1], op_openings=params[2]\n",
    "    )\n",
    "    size = opt_mo.get_lookup_table_size(params)\n",
    "\n",
    "    initial_action = [\n",
    "        np.random.choice([C, D], p=[pattern[0], 1 - pattern[0]])\n",
    "        for _ in range(size)\n",
    "    ]\n",
    "\n",
    "    gambler = axl.Gambler(\n",
    "        pattern=pattern[1:],\n",
    "        parameters=parameters,\n",
    "        initial_actions=initial_action,\n",
    "    )\n",
    "    \n",
    "    edges = [(0, 2), (0, 3), (1, 2), (1, 3)]\n",
    "    \n",
    "    players = [best_response, gambler] + opponents\n",
    "    \n",
    "    tournament = axl.Tournament(\n",
    "        players=players, turns=500, edges=edges, repetitions=1000\n",
    "    )\n",
    "    results = tournament.play(progress_bar=False)\n",
    "    \n",
    "    return results"
   ]
  },
  {
   "cell_type": "code",
   "execution_count": 47,
   "metadata": {},
   "outputs": [
    {
     "name": "stderr",
     "output_type": "stream",
     "text": [
      "/anaconda3/envs/opt-mo/lib/python3.6/site-packages/axelrod/result_set.py:413: RuntimeWarning: invalid value encountered in true_divide\n",
      "  / sum(map(np.array, self.match_lengths))\n"
     ]
    }
   ],
   "source": [
    "results = []\n",
    "for i, row in df_with_g.iterrows():\n",
    "    result = get_results(row)\n",
    "    \n",
    "    results.append(result)"
   ]
  },
  {
   "cell_type": "code",
   "execution_count": null,
   "metadata": {},
   "outputs": [],
   "source": [
    "# dfs = []\n",
    "# for result in results:\n",
    "#     dfs.append(pd.DataFrame(result.summarise()))\n",
    "    \n",
    "# df = pd.concat(dfs)\n",
    "# df.to_csv('../data/tournament_results.csv')"
   ]
  },
  {
   "cell_type": "code",
   "execution_count": 9,
   "metadata": {},
   "outputs": [],
   "source": [
    "df = pd.read_csv('../data/tournament_results.csv')"
   ]
  },
  {
   "cell_type": "code",
   "execution_count": 10,
   "metadata": {},
   "outputs": [],
   "source": [
    "coop = [result.cooperating_rating[:2] for result in results]\n",
    "best_coop, gambler_coop = zip(*coop)"
   ]
  },
  {
   "cell_type": "code",
   "execution_count": 11,
   "metadata": {},
   "outputs": [],
   "source": [
    "x = len(gambler_coop)"
   ]
  },
  {
   "cell_type": "code",
   "execution_count": 12,
   "metadata": {},
   "outputs": [
    {
     "data": {
      "image/png": "[encoded data removed]",
      "text/plain": [
       "<Figure size 432x288 with 1 Axes>"
      ]
     },
     "metadata": {
      "needs_background": "light"
     },
     "output_type": "display_data"
    }
   ],
   "source": [
    "fig, ax = plt.subplots()\n",
    "\n",
    "plt.scatter(range(x), gambler_coop, label=\"Gambler(2, 1, 1)\", color=\"black\")\n",
    "plt.scatter(\n",
    "    range(x),\n",
    "    best_coop,\n",
    "    marker=\"x\",\n",
    "    label=\"Best response memory-one\",\n",
    "    color=\"red\",\n",
    "    s=70,\n",
    ")\n",
    "\n",
    "plt.ylabel(\"Cooperating Ratio\", fontsize=10, fontweight=\"bold\")\n",
    "lgd = plt.legend(\n",
    "    bbox_to_anchor=(0.0, 1.02, 1.0, 0.102),\n",
    "    loc=3,\n",
    "    ncol=2,\n",
    "    mode=\"expand\",\n",
    "    borderaxespad=0.0,\n",
    ")\n",
    "\n",
    "fig.tight_layout()"
   ]
  },
  {
   "cell_type": "code",
   "execution_count": 13,
   "metadata": {},
   "outputs": [],
   "source": [
    "ps_columns = [\"CC_to_C_rate\",\n",
    "              \"CD_to_C_rate\",\n",
    "              \"DC_to_C_rate\",\n",
    "              \"DD_to_C_rate\"]"
   ]
  },
  {
   "cell_type": "code",
   "execution_count": 10,
   "metadata": {},
   "outputs": [],
   "source": [
    "gamblers_results = df[df['Name'].str.contains('Gambler')]"
   ]
  },
  {
   "cell_type": "code",
   "execution_count": 11,
   "metadata": {},
   "outputs": [],
   "source": [
    "color = '#fdf6e3'\n",
    "background_color = '#222222'"
   ]
  },
  {
   "cell_type": "code",
   "execution_count": 25,
   "metadata": {},
   "outputs": [
    {
     "data": {
      "image/png": "[encoded data removed]",
      "text/plain": [
       "<Figure size 720x468 with 4 Axes>"
      ]
     },
     "metadata": {
      "needs_background": "light"
     },
     "output_type": "display_data"
    }
   ],
   "source": [
    "fig, axes = plt.subplots(nrows=2, ncols=2, figsize=(10, 6.5))\n",
    "\n",
    "for i, p in enumerate(ps_columns):\n",
    "    index = (int(i / 2), i % 2)\n",
    "\n",
    "    axes[index].violinplot(\n",
    "        [df_with_g[\"mem_one_p_{}\".format(i + 1)], gamblers_results[p].values],\n",
    "        showmeans=True,\n",
    "    )\n",
    "\n",
    "    boxes = axes[index].boxplot(\n",
    "        [df_with_g[\"mem_one_p_{}\".format(i + 1)], gamblers_results[p].values], showfliers=False\n",
    "    )\n",
    "    for bp in boxes['medians']:\n",
    "        bp.set_color('red')\n",
    "        bp.set_linewidth(2)\n",
    "    for bp in boxes['caps']:\n",
    "        bp.set_color('black')\n",
    "        bp.set_linewidth(2)\n",
    "    for bp in boxes['whiskers']:\n",
    "        bp.set_color('black')\n",
    "        bp.set_linewidth(2)\n",
    "    for bp in boxes['boxes']:\n",
    "        bp.set_color('black')\n",
    "        bp.set_linewidth(2)\n",
    "\n",
    "    axes[index].set_title('Distribution of $p_%s$' % (i + 1), fontweight= 'medium')\n",
    "    axes[index].set_ylabel('Probability of cooperating', fontweight= 'medium')\n",
    "    matplotlib.pyplot.subplots_adjust(wspace = 0.2, hspace = 0.3)\n",
    "\n",
    "    plt.setp(axes[index], xticks=[1, 2], xticklabels=[\"best response\", \"Gambler\"])\n",
    "\n",
    "\n",
    "    \n",
    "plt.savefig('../img/gambler_vs_mem_violinplot.pdf')"
   ]
  },
  {
   "cell_type": "code",
   "execution_count": 17,
   "metadata": {},
   "outputs": [],
   "source": [
    "for q_one, q_two, gambler in zip(df_with_g.loc[:, df_with_g.columns.str.contains('first')].values,\n",
    "                                    df_with_g.loc[:, df_with_g.columns.str.contains('second')].values,\n",
    "                                    df_with_g.loc[:, df_with_g.columns.str.contains('gambler_paramater')].values):\n",
    "    pass"
   ]
  },
  {
   "cell_type": "code",
   "execution_count": 18,
   "metadata": {},
   "outputs": [],
   "source": [
    "utility = []\n",
    "x = []\n",
    "for i, row in df_with_g.iterrows():\n",
    "    x.append(i)\n",
    "    p = (row[\"mem_one_p_1\"], row[\"mem_one_p_2\"], row[\"mem_one_p_3\"], row[\"mem_one_p_4\"])\n",
    "    q_1 = (\n",
    "        row[\"first_opponent_q_1\"],\n",
    "        row[\"first_opponent_q_2\"],\n",
    "        row[\"first_opponent_q_3\"],\n",
    "        row[\"first_opponent_q_4\"],\n",
    "    )\n",
    "    q_2 = (\n",
    "        row[\"second_opponent_q_1\"],\n",
    "        row[\"second_opponent_q_2\"],\n",
    "        row[\"second_opponent_q_3\"],\n",
    "        row[\"second_opponent_q_4\"],\n",
    "    )\n",
    "    utility.append(opt_mo.tournament_utility(p, [q_1, q_2]))\n"
   ]
  },
  {
   "cell_type": "code",
   "execution_count": 19,
   "metadata": {},
   "outputs": [],
   "source": [
    "df_with_g[\"mem_one_utility\"] = utility\n",
    "x = range(len(df_with_g[\"gambler_utility\"]))"
   ]
  },
  {
   "cell_type": "code",
   "execution_count": 21,
   "metadata": {},
   "outputs": [
    {
     "data": {
      "image/png": "[encoded data removed]",
      "text/plain": [
       "<Figure size 432x288 with 1 Axes>"
      ]
     },
     "metadata": {
      "needs_background": "light"
     },
     "output_type": "display_data"
    }
   ],
   "source": [
    "fig, ax = plt.subplots()\n",
    "\n",
    "plt.scatter(x, df_with_g[\"gambler_utility\"], label=\"Gambler(2, 1, 1)\", color=\"black\")\n",
    "plt.scatter(\n",
    "    x,\n",
    "    df_with_g[\"mem_one_utility\"],\n",
    "    marker=\"x\",\n",
    "    label=\"Best response memory-one\",\n",
    "    color=\"red\",\n",
    "    s=70,\n",
    ")\n",
    "\n",
    "plt.ylabel(\"Utility\", fontsize=10, fontweight=\"bold\")\n",
    "plt.xlabel(\"Pair of opponents\", fontsize=10, fontweight=\"bold\")\n",
    "lgd = plt.legend(\n",
    "    bbox_to_anchor=(0.0, 1.02, 1.0, 0.102),\n",
    "    loc=3,\n",
    "    ncol=2,\n",
    "    mode=\"expand\",\n",
    "    borderaxespad=0.0,\n",
    ")\n",
    "\n",
    "fig.tight_layout()\n",
    "\n",
    "plt.savefig('../img/gambler_performance_against_mem_one.pdf')"
   ]
  },
  {
   "cell_type": "code",
   "execution_count": null,
   "metadata": {},
   "outputs": [],
   "source": []
  }
 ],
 "metadata": {
  "kernelspec": {
   "display_name": "opt-mo",
   "language": "python",
   "name": "opt-mo"
  },
  "language_info": {
   "codemirror_mode": {
    "name": "ipython",
    "version": 3
   },
   "file_extension": ".py",
   "mimetype": "text/x-python",
   "name": "python",
   "nbconvert_exporter": "python",
   "pygments_lexer": "ipython3",
   "version": "3.6.7"
  }
 },
 "nbformat": 4,
 "nbformat_minor": 2
}
