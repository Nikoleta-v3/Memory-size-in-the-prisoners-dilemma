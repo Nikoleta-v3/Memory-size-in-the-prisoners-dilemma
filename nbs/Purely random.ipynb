{
 "cells": [
  {
   "cell_type": "markdown",
   "metadata": {},
   "source": [
    "Purely random strategies\n",
    "------------------------\n",
    "\n",
    "Optimizing a non convex problem is rather tricky, and furthermore the \n",
    "individual functions of the problem (numerator, denominator) do not seem to be\n",
    "convex either. The problem is a 16 variables problem, thus looking at the \n",
    "utility function is not possible. \n",
    "\n",
    "For the above reasons, it was decided that sub group of memory one strategies \n",
    "will be studied individually. Initially, the most non complex set is analyzed\n",
    "here. A set of memory one strategies where the cooperation probabilities will \n",
    "always be the same for each states, are called **purely random\n",
    "strategies** here."
   ]
  },
  {
   "cell_type": "code",
   "execution_count": 1,
   "metadata": {},
   "outputs": [],
   "source": [
    "import sympy as sym\n",
    "import numpy as np\n",
    "\n",
    "sym.init_printing()"
   ]
  },
  {
   "cell_type": "code",
   "execution_count": 2,
   "metadata": {},
   "outputs": [],
   "source": [
    "import opt_mo"
   ]
  },
  {
   "cell_type": "code",
   "execution_count": 3,
   "metadata": {},
   "outputs": [],
   "source": [
    "import matplotlib.pyplot as plt\n",
    "\n",
    "%matplotlib inline"
   ]
  },
  {
   "cell_type": "code",
   "execution_count": 4,
   "metadata": {},
   "outputs": [],
   "source": [
    "# the players probabilities\n",
    "p, q_1, q_2, q_3, q_4 = sym.symbols(\"p, q_1, q_2, q_3, q_4\", positive=True)"
   ]
  },
  {
   "cell_type": "code",
   "execution_count": 12,
   "metadata": {},
   "outputs": [],
   "source": [
    "utility = opt_mo.utility((p, p, p, p), (q_1, q_2, q_3, q_4))"
   ]
  },
  {
   "cell_type": "code",
   "execution_count": 13,
   "metadata": {},
   "outputs": [],
   "source": [
    "utility_den = sym.fraction(utility)[1]\n",
    "utility_num = sym.fraction(utility)[0]"
   ]
  },
  {
   "cell_type": "markdown",
   "metadata": {},
   "source": [
    "Thus the utility of a purely random strategy is the following:\n",
    "\n",
    "$$ u = \\frac{- p^{2} (q_{1} - q_{2} - 2 q_{3} + 2 q_{4}) - p (- q_{1} + 2 q_{2} + 5 q_{3} - 7 q_{4} - 1) + q_{2} - 5 q_{4} - 1}{p (q_{1} - q_{2} - q_{3} + q_{4}) + q_{2} - q_{4} - 1}$$\n",
    "\n",
    "Here we will check the possible forms the utility function can have. Because is a ratio of order 2 and order 1, it can never be a function of an order greater than 2 and it can never be less that -1.\n",
    "\n",
    "The cases that we have indenitfied are:\n",
    "\n",
    "- linear\n",
    "- quadratic\n",
    "- constant\n",
    "- hyperbolic polynomial\n",
    "\n",
    "and the following analysis is going to be held for each case.\n",
    "We will set the utility equal to the case, solve the equality and indentify the condition. Then check the condition based on the plots."
   ]
  },
  {
   "cell_type": "code",
   "execution_count": 14,
   "metadata": {},
   "outputs": [],
   "source": [
    "ns = sym.Poly(utility_num, p).coeffs()\n",
    "ds = sym.Poly(utility_den, p).coeffs()"
   ]
  },
  {
   "cell_type": "code",
   "execution_count": 15,
   "metadata": {},
   "outputs": [],
   "source": [
    "# creating all the symbols that will be used\n",
    "a_2, a_1, a_0  = sym.symbols(\"a_2, a_1, a_0\")"
   ]
  },
  {
   "cell_type": "code",
   "execution_count": 16,
   "metadata": {},
   "outputs": [],
   "source": [
    "values = {'n_2': ns[0], 'n_1': ns[1], 'n_0': ns[2]}"
   ]
  },
  {
   "cell_type": "code",
   "execution_count": 17,
   "metadata": {},
   "outputs": [
    {
     "data": {
      "text/plain": [
       "{'d_0': -q_2 + q_4 + 1,\n",
       " 'd_1': -q_1 + q_2 + q_3 - q_4,\n",
       " 'n_0': -q_2 + 5*q_4 + 1,\n",
       " 'n_1': -q_1 + 2*q_2 + 5*q_3 - 7*q_4 - 1,\n",
       " 'n_2': q_1 - q_2 - 2*q_3 + 2*q_4}"
      ]
     },
     "execution_count": 17,
     "metadata": {},
     "output_type": "execute_result"
    }
   ],
   "source": [
    "values.update({'d_1': ds[0], 'd_0': ds[1]})\n",
    "values"
   ]
  },
  {
   "cell_type": "markdown",
   "metadata": {},
   "source": [
    "Constant\n",
    "--------"
   ]
  },
  {
   "cell_type": "markdown",
   "metadata": {},
   "source": [
    "If our utility is a constant then the following argument must hold:\n",
    "\n",
    "$$ u = \\frac{N}{D}= a_0$$\n",
    "\n",
    "which implies\n",
    "\n",
    "$$N = a_0 \\times D $$"
   ]
  },
  {
   "cell_type": "code",
   "execution_count": 18,
   "metadata": {},
   "outputs": [
    {
     "data": {
      "image/png": "[encoded data removed]",
      "text/latex": [
       "$$\\left [ - a_{0} q_{1} + a_{0} q_{2} + a_{0} q_{3} - a_{0} q_{4}, \\quad - a_{0} q_{2} + a_{0} q_{4} + a_{0}\\right ]$$"
      ],
      "text/plain": [
       "[-a₀⋅q₁ + a₀⋅q₂ + a₀⋅q₃ - a₀⋅q₄, -a₀⋅q₂ + a₀⋅q₄ + a₀]"
      ]
     },
     "execution_count": 18,
     "metadata": {},
     "output_type": "execute_result"
    }
   ],
   "source": [
    "rhs = sym.Poly((utility_den * (a_0)), p)\n",
    "rhs_coeffs = rhs.coeffs()\n",
    "rhs_coeffs"
   ]
  },
  {
   "cell_type": "code",
   "execution_count": 19,
   "metadata": {},
   "outputs": [
    {
     "data": {
      "image/png": "[encoded data removed]",
      "text/latex": [
       "$$\\left [ q_{1} - q_{2} - 2 q_{3} + 2 q_{4}, \\quad - q_{1} + 2 q_{2} + 5 q_{3} - 7 q_{4} - 1, \\quad - q_{2} + 5 q_{4} + 1\\right ]$$"
      ],
      "text/plain": [
       "[q₁ - q₂ - 2⋅q₃ + 2⋅q₄, -q₁ + 2⋅q₂ + 5⋅q₃ - 7⋅q₄ - 1, -q₂ + 5⋅q₄ + 1]"
      ]
     },
     "execution_count": 19,
     "metadata": {},
     "output_type": "execute_result"
    }
   ],
   "source": [
    "lhs = sym.Poly(utility_num, p)\n",
    "lhs_coeffs = lhs.coeffs()\n",
    "lhs_coeffs"
   ]
  },
  {
   "cell_type": "code",
   "execution_count": 20,
   "metadata": {},
   "outputs": [
    {
     "data": {
      "image/png": "[encoded data removed]",
      "text/latex": [
       "$$\\frac{q_{2} - 5 q_{4} - 1}{q_{2} - q_{4} - 1}$$"
      ],
      "text/plain": [
       "q₂ - 5⋅q₄ - 1\n",
       "─────────────\n",
       " q₂ - q₄ - 1 "
      ]
     },
     "execution_count": 20,
     "metadata": {},
     "output_type": "execute_result"
    }
   ],
   "source": [
    "a_nought_con = list(sym.solveset(rhs_coeffs[1] - lhs_coeffs[2], a_0))[0]\n",
    "a_nought_con"
   ]
  },
  {
   "cell_type": "code",
   "execution_count": 21,
   "metadata": {},
   "outputs": [],
   "source": [
    "rhs_fraction = sym.fraction(rhs_coeffs[0].subs({a_0: a_nought_con}).simplify())\n",
    "lhs_fraction = sym.fraction(lhs_coeffs[1].simplify())"
   ]
  },
  {
   "cell_type": "code",
   "execution_count": 22,
   "metadata": {},
   "outputs": [
    {
     "data": {
      "image/png": "[encoded data removed]",
      "text/latex": [
       "$$- 4 q_{1} q_{4} + q_{2}^{2} + 4 q_{2} q_{3} - 3 q_{2} q_{4} - 2 q_{2} - 4 q_{3} + 2 q_{4}^{2} + 7 q_{4} + 1$$"
      ],
      "text/plain": [
       "             2                                         2           \n",
       "-4⋅q₁⋅q₄ + q₂  + 4⋅q₂⋅q₃ - 3⋅q₂⋅q₄ - 2⋅q₂ - 4⋅q₃ + 2⋅q₄  + 7⋅q₄ + 1"
      ]
     },
     "execution_count": 22,
     "metadata": {},
     "output_type": "execute_result"
    }
   ],
   "source": [
    "constant_condition = (rhs_fraction[0] * lhs_fraction[1] - rhs_fraction[1] * lhs_fraction[0]).factor()\n",
    "constant_condition.factor()"
   ]
  },
  {
   "cell_type": "markdown",
   "metadata": {},
   "source": [
    "Thus for the constant case:\n",
    "- $ -q_1 + q_2 + 2q_3 - 2q_4 = 0$\n",
    "- $4q_1q_4 - q_2^2 - 4q_2q_3 + 3q_2q_4 + 2q_2 + 4q_3 - 2q_4^2 - 7q_4 -1 = 0$"
   ]
  },
  {
   "cell_type": "markdown",
   "metadata": {},
   "source": [
    "Linear case\n",
    "-----------"
   ]
  },
  {
   "cell_type": "markdown",
   "metadata": {},
   "source": [
    "If our utility is linear then the following argument must hold:\n",
    "\n",
    "$$ u = \\frac{N}{D}= a_1 \\times p +  a_0$$\n",
    "\n",
    "which implies\n",
    "\n",
    "$$N = (a_1 \\times p + a_0) \\times D $$"
   ]
  },
  {
   "cell_type": "code",
   "execution_count": 23,
   "metadata": {},
   "outputs": [
    {
     "data": {
      "image/png": "[encoded data removed]",
      "text/latex": [
       "$$\\left [ - a_{1} q_{1} + a_{1} q_{2} + a_{1} q_{3} - a_{1} q_{4}, \\quad - a_{0} q_{1} + a_{0} q_{2} + a_{0} q_{3} - a_{0} q_{4} - a_{1} q_{2} + a_{1} q_{4} + a_{1}, \\quad - a_{0} q_{2} + a_{0} q_{4} + a_{0}\\right ]$$"
      ],
      "text/plain": [
       "[-a₁⋅q₁ + a₁⋅q₂ + a₁⋅q₃ - a₁⋅q₄, -a₀⋅q₁ + a₀⋅q₂ + a₀⋅q₃ - a₀⋅q₄ - a₁⋅q₂ + a₁⋅q\n",
       "₄ + a₁, -a₀⋅q₂ + a₀⋅q₄ + a₀]"
      ]
     },
     "execution_count": 23,
     "metadata": {},
     "output_type": "execute_result"
    }
   ],
   "source": [
    "# the rhs (Denominator * linear equation)\n",
    "rhs = sym.Poly((utility_den * (a_1 * p + a_0)), p)\n",
    "rhs_coeffs = rhs.coeffs()\n",
    "rhs_coeffs"
   ]
  },
  {
   "cell_type": "code",
   "execution_count": 24,
   "metadata": {},
   "outputs": [
    {
     "data": {
      "image/png": "[encoded data removed]",
      "text/latex": [
       "$$\\left [ q_{1} - q_{2} - 2 q_{3} + 2 q_{4}, \\quad - q_{1} + 2 q_{2} + 5 q_{3} - 7 q_{4} - 1, \\quad - q_{2} + 5 q_{4} + 1\\right ]$$"
      ],
      "text/plain": [
       "[q₁ - q₂ - 2⋅q₃ + 2⋅q₄, -q₁ + 2⋅q₂ + 5⋅q₃ - 7⋅q₄ - 1, -q₂ + 5⋅q₄ + 1]"
      ]
     },
     "execution_count": 24,
     "metadata": {},
     "output_type": "execute_result"
    }
   ],
   "source": [
    "# the lhs (Numerator)\n",
    "lhs = sym.Poly(utility_num, p)\n",
    "lhs_coeffs = lhs.coeffs()\n",
    "lhs_coeffs"
   ]
  },
  {
   "cell_type": "markdown",
   "metadata": {},
   "source": [
    "We solve our condition in order to retrive $a_1$. "
   ]
  },
  {
   "cell_type": "code",
   "execution_count": 25,
   "metadata": {},
   "outputs": [
    {
     "data": {
      "image/png": "[encoded data removed]",
      "text/latex": [
       "$$- \\frac{q_{1} - q_{2} - 2 q_{3} + 2 q_{4}}{q_{1} - q_{2} - q_{3} + q_{4}}$$"
      ],
      "text/plain": [
       "-(q₁ - q₂ - 2⋅q₃ + 2⋅q₄) \n",
       "─────────────────────────\n",
       "    q₁ - q₂ - q₃ + q₄    "
      ]
     },
     "execution_count": 25,
     "metadata": {},
     "output_type": "execute_result"
    }
   ],
   "source": [
    "a_one_lin = list(sym.solveset(rhs_coeffs[0] - lhs_coeffs[0], a_1))[0]\n",
    "a_one_lin"
   ]
  },
  {
   "cell_type": "markdown",
   "metadata": {},
   "source": [
    "We solve our condition in order to retrive $a_0$. "
   ]
  },
  {
   "cell_type": "code",
   "execution_count": 26,
   "metadata": {},
   "outputs": [
    {
     "data": {
      "image/png": "[encoded data removed]",
      "text/latex": [
       "$$\\frac{q_{2} - 5 q_{4} - 1}{q_{2} - q_{4} - 1}$$"
      ],
      "text/plain": [
       "q₂ - 5⋅q₄ - 1\n",
       "─────────────\n",
       " q₂ - q₄ - 1 "
      ]
     },
     "execution_count": 26,
     "metadata": {},
     "output_type": "execute_result"
    }
   ],
   "source": [
    "a_nought_lin = list(sym.solveset(rhs_coeffs[2] - lhs_coeffs[2], a_0))[0]\n",
    "a_nought_lin"
   ]
  },
  {
   "cell_type": "markdown",
   "metadata": {},
   "source": [
    "Now we will solve to get the condition for linearity. "
   ]
  },
  {
   "cell_type": "code",
   "execution_count": 27,
   "metadata": {},
   "outputs": [],
   "source": [
    "rhs_fraction = sym.fraction(rhs_coeffs[1].subs({a_1: a_one_lin, a_0: a_nought_lin}).simplify())\n",
    "lhs_fraction = sym.fraction(lhs_coeffs[1].subs({a_1: a_one_lin, a_0: a_nought_lin}).simplify())"
   ]
  },
  {
   "cell_type": "code",
   "execution_count": 28,
   "metadata": {},
   "outputs": [],
   "source": [
    "condition = (rhs_fraction[0] * lhs_fraction[1] - rhs_fraction[1] * lhs_fraction[0]).factor()"
   ]
  },
  {
   "cell_type": "code",
   "execution_count": 29,
   "metadata": {},
   "outputs": [
    {
     "data": {
      "image/png": "[encoded data removed]",
      "text/latex": [
       "$$- \\left(q_{1} q_{4} - q_{2} q_{3} + q_{3} - q_{4}\\right) \\left(4 q_{1} - 3 q_{2} - 4 q_{3} + 3 q_{4} - 1\\right)$$"
      ],
      "text/plain": [
       "-(q₁⋅q₄ - q₂⋅q₃ + q₃ - q₄)⋅(4⋅q₁ - 3⋅q₂ - 4⋅q₃ + 3⋅q₄ - 1)"
      ]
     },
     "execution_count": 29,
     "metadata": {},
     "output_type": "execute_result"
    }
   ],
   "source": [
    "condition"
   ]
  },
  {
   "cell_type": "code",
   "execution_count": 30,
   "metadata": {},
   "outputs": [
    {
     "data": {
      "image/png": "[encoded data removed]",
      "text/latex": [
       "$$q_{2}^{2} + q_{2} \\left(4 q_{3} - 2\\right) - 4 q_{3} + 2 q_{4}^{2} + q_{4} \\left(- 4 q_{1} - 3 q_{2} + 7\\right) + 1$$"
      ],
      "text/plain": [
       "  2                              2                            \n",
       "q₂  + q₂⋅(4⋅q₃ - 2) - 4⋅q₃ + 2⋅q₄  + q₄⋅(-4⋅q₁ - 3⋅q₂ + 7) + 1"
      ]
     },
     "execution_count": 30,
     "metadata": {},
     "output_type": "execute_result"
    }
   ],
   "source": [
    "constant_condition.collect((q_4, q_2))"
   ]
  },
  {
   "cell_type": "markdown",
   "metadata": {},
   "source": [
    "**Optimisation**"
   ]
  },
  {
   "cell_type": "code",
   "execution_count": null,
   "metadata": {},
   "outputs": [],
   "source": []
  }
 ],
 "metadata": {
  "anaconda-cloud": {},
  "kernelspec": {
   "display_name": "opt-mo",
   "language": "python",
   "name": "opt-mo"
  },
  "language_info": {
   "codemirror_mode": {
    "name": "ipython",
    "version": 3
   },
   "file_extension": ".py",
   "mimetype": "text/x-python",
   "name": "python",
   "nbconvert_exporter": "python",
   "pygments_lexer": "ipython3",
   "version": "3.6.0"
  }
 },
 "nbformat": 4,
 "nbformat_minor": 1
}
