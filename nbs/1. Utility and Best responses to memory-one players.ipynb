{
 "cells": [
  {
   "cell_type": "markdown",
   "metadata": {},
   "source": [
    "Stability of defection, optimisation of strategies and the limits of memory in the PD.\n",
    "-----------------------"
   ]
  },
  {
   "cell_type": "markdown",
   "metadata": {},
   "source": [
    "## 1. Utility and Best responses to memory-one players"
   ]
  },
  {
   "cell_type": "code",
   "execution_count": 1,
   "metadata": {},
   "outputs": [],
   "source": [
    "import opt_mo\n",
    "import numpy as np\n",
    "import sympy as sym\n",
    "\n",
    "sym.init_printing()\n"
   ]
  },
  {
   "cell_type": "code",
   "execution_count": 2,
   "metadata": {},
   "outputs": [],
   "source": [
    "import itertools\n",
    "import axelrod as axl\n",
    "\n",
    "from fractions import Fraction\n"
   ]
  },
  {
   "cell_type": "code",
   "execution_count": 3,
   "metadata": {},
   "outputs": [],
   "source": [
    "import pandas as pd\n"
   ]
  },
  {
   "cell_type": "code",
   "execution_count": 4,
   "metadata": {},
   "outputs": [],
   "source": [
    "import matplotlib.pyplot as plt\n",
    "import matplotlib\n"
   ]
  },
  {
   "cell_type": "code",
   "execution_count": 5,
   "metadata": {},
   "outputs": [],
   "source": [
    "font = {\"size\": 10, \"weight\": \"bold\"}\n",
    "matplotlib.rc(\"font\", **font)\n"
   ]
  },
  {
   "cell_type": "code",
   "execution_count": 6,
   "metadata": {},
   "outputs": [],
   "source": [
    "p_1, p_2, p_3, p_4 = sym.symbols(\"p_1, p_2, p_3, p_4\")\n",
    "q_1, q_2, q_3, q_4 = sym.symbols(\"q_1, q_2, q_3, q_4\")\n"
   ]
  },
  {
   "cell_type": "code",
   "execution_count": 7,
   "metadata": {},
   "outputs": [],
   "source": [
    "p = (p_1, p_2, p_3, p_4)\n",
    "q = (q_1, q_2, q_3, q_4)\n"
   ]
  },
  {
   "cell_type": "markdown",
   "metadata": {},
   "source": [
    "Utility\n",
    "-------"
   ]
  },
  {
   "cell_type": "markdown",
   "metadata": {},
   "source": [
    "The markov chain $M$."
   ]
  },
  {
   "cell_type": "code",
   "execution_count": 11,
   "metadata": {},
   "outputs": [],
   "source": [
    "M = opt_mo.mem_one_match_markov_chain(player=p, opponent=q)\n"
   ]
  },
  {
   "cell_type": "code",
   "execution_count": 15,
   "metadata": {},
   "outputs": [],
   "source": [
    "with open(\"../tex/m_matrix.tex\", \"w\") as f:\n",
    "    f.write(\"M = {}\".format(sym.latex(sym.Matrix(M))))\n"
   ]
  },
  {
   "cell_type": "markdown",
   "metadata": {},
   "source": [
    "Let $v$ be the stationary vector of $M$, where $M$ is the transition matrix $M(p,q)$."
   ]
  },
  {
   "cell_type": "code",
   "execution_count": 12,
   "metadata": {},
   "outputs": [],
   "source": [
    "pi_1, pi_2, pi_3, pi_4 = sym.symbols(\"pi_1, pi_2, pi_3, pi_4\")\n",
    "pi = (pi_1, pi_2, pi_3, pi_4)\n"
   ]
  },
  {
   "cell_type": "code",
   "execution_count": 13,
   "metadata": {},
   "outputs": [],
   "source": [
    "ss = opt_mo.steady_states(M, pi)\n"
   ]
  },
  {
   "cell_type": "markdown",
   "metadata": {},
   "source": [
    "Once the markovian matrix is defined we can calculate the stable states of the matrix. \n",
    "The stable states multiplied  by the scores of each state return the score of a player. The payoff matrices for $X$ and $Y$ equivilant are: $S_{p} = (R, S, T, P)$ & $S_{q} = (R, S, T, P)$"
   ]
  },
  {
   "cell_type": "code",
   "execution_count": 14,
   "metadata": {},
   "outputs": [],
   "source": [
    "v = sym.Matrix([[ss[pi_1]], [ss[pi_2]], [ss[pi_3]], [ss[pi_4]]])\n"
   ]
  },
  {
   "cell_type": "code",
   "execution_count": 15,
   "metadata": {},
   "outputs": [],
   "source": [
    "R, S, T, P = sym.symbols(\"R, S, T, P\")\n",
    "payoffs = np.array([R, S, T, P])\n"
   ]
  },
  {
   "cell_type": "code",
   "execution_count": null,
   "metadata": {},
   "outputs": [],
   "source": [
    "utility = v.dot(np.array([3, 1, 5, 0]))"
   ]
  },
  {
   "cell_type": "markdown",
   "metadata": {},
   "source": [
    "To test this we can have a defector play against a defector. We know that the score should be 1. Similar for two cooperators the score should be 3."
   ]
  },
  {
   "cell_type": "code",
   "execution_count": 93,
   "metadata": {},
   "outputs": [],
   "source": [
    "assert (\n",
    "    utility.subs({p_1: 0, p_2: 0, p_3: 0, p_4: 0, q_1: 0, q_2: 0, q_3: 0, q_4: 0}) == P\n",
    ")\n",
    "assert (\n",
    "    utility.subs({p_1: 0, p_2: 0, p_3: 0, p_4: 0, q_1: 1, q_2: 1, q_3: 1, q_4: 1}) == T\n",
    ")\n",
    "assert (\n",
    "    utility.simplify().subs(\n",
    "        {p_1: 1, p_2: 1, p_3: 1, p_4: 1, q_1: 1, q_2: 1, q_3: 1, q_4: 1}\n",
    "    )\n",
    "    == R\n",
    ")\n"
   ]
  },
  {
   "cell_type": "markdown",
   "metadata": {},
   "source": [
    "**Comparison to Press and Dyson formulation.**"
   ]
  },
  {
   "cell_type": "markdown",
   "metadata": {},
   "source": [
    "In Press and Dyson's work on their 2012 article. They have managed to prove\n",
    "that:\n",
    "\n",
    " $$v \\times S_{p} = \\frac{D (p, q, S_{p})} {D (p, q, 1)}$$\n",
    "\n",
    "where $D$ is a $4 \\times 4$ the determinant of a defined matrix $B$."
   ]
  },
  {
   "cell_type": "code",
   "execution_count": 8,
   "metadata": {},
   "outputs": [],
   "source": [
    "S_p = sym.Matrix([[3, 0, 5, 1]])\n",
    "B = opt_mo.make_B(S_p, (p_1, p_2, p_3, p_4), (q_1, q_2, q_3, q_4))\n"
   ]
  },
  {
   "cell_type": "code",
   "execution_count": 9,
   "metadata": {},
   "outputs": [],
   "source": [
    "def pd_utility(S_p, x, y):\n",
    "    \"\"\"\n",
    "    Returns the utility as a function\n",
    "    of p, q vectors. Based on Press and Dyson, 2012.\n",
    "    \"\"\"\n",
    "    B = sym.Matrix(opt_mo.make_B(S_p, x, y))\n",
    "    unit = sym.Matrix(opt_mo.make_B((1, 1, 1, 1), x, y))\n",
    "    return B.det() / unit.det()\n"
   ]
  },
  {
   "cell_type": "code",
   "execution_count": 10,
   "metadata": {},
   "outputs": [],
   "source": [
    "x = (0, 0, 0, 0)\n",
    "u = pd_utility(S_p, x, (q_1, q_2, q_3, q_4))\n"
   ]
  },
  {
   "cell_type": "code",
   "execution_count": 12,
   "metadata": {},
   "outputs": [],
   "source": [
    "assert (\n",
    "    u == utility.subs({S: 0, R: 3, T: 5, P: 1, p_1: 0, p_2: 0, p_3: 0, p_4: 0}).factor()\n",
    ")\n"
   ]
  },
  {
   "cell_type": "markdown",
   "metadata": {},
   "source": [
    "\n",
    "We have studied the numerator and the denominator of $u$ separately. \n",
    "Both the numerator and the denominator can be written as a general quadratic\n",
    "form: \n",
    "\n",
    " $$\\frac{1}{2}pQp^T + c p^T + a$$\n",
    "\n",
    "\n",
    "where $p$ is an $n \\times 1$ column vector of variables, $Q$ is a symetric $n \\times n$ matrix and a real-valued, $n$-dimensional vector $c$.\n",
    "\n",
    "Thus the objective function $u$ is the fraction/ratio of the two quadratic forms.\n",
    "\n",
    "Information on quadratic programming can be found [here](https://neos-guide.org/content/quadratic-programming,http://www.numerical.rl.ac.uk/people/nimg/qp/qp.html)."
   ]
  },
  {
   "cell_type": "markdown",
   "metadata": {},
   "source": [
    "**Our formulation.**"
   ]
  },
  {
   "cell_type": "code",
   "execution_count": 13,
   "metadata": {},
   "outputs": [],
   "source": [
    "utility = pd_utility(S_p, p, q)\n"
   ]
  },
  {
   "cell_type": "code",
   "execution_count": 14,
   "metadata": {},
   "outputs": [],
   "source": [
    "numerator = sym.fraction(utility.simplify())[0]\n",
    "denominator = sym.fraction(utility.simplify())[1]\n"
   ]
  },
  {
   "cell_type": "markdown",
   "metadata": {},
   "source": [
    "**Numerator**"
   ]
  },
  {
   "cell_type": "code",
   "execution_count": 16,
   "metadata": {},
   "outputs": [],
   "source": [
    "numerator"
   ]
  },
  {
   "cell_type": "code",
   "execution_count": 100,
   "metadata": {},
   "outputs": [],
   "source": [
    "ps = np.array(p)\n",
    "Q_num = np.array([[numerator.coeff(f1 * f2) for f2 in p] for f1 in p])\n",
    "c_num = np.array(\n",
    "    [\n",
    "        numerator.subs({p_2: 0, p_3: 0, p_4: 0}).coeff(p_1),\n",
    "        numerator.subs({p_1: 0, p_3: 0, p_4: 0}).coeff(p_2),\n",
    "        numerator.subs({p_1: 0, p_2: 0, p_4: 0}).coeff(p_3),\n",
    "        numerator.subs({p_1: 0, p_2: 0, p_3: 0}).coeff(p_4),\n",
    "    ]\n",
    ")\n"
   ]
  },
  {
   "cell_type": "code",
   "execution_count": 101,
   "metadata": {},
   "outputs": [],
   "source": [
    "expr = np.dot(ps, Q_num.dot(ps.T) * 1 / 2) + np.dot(c_num, ps.T)\n",
    "constant = numerator.expand() - expr\n"
   ]
  },
  {
   "cell_type": "code",
   "execution_count": 102,
   "metadata": {},
   "outputs": [
    {
     "data": {
      "image/png": "[encoded data removed]",
      "text/latex": [
       "$$- q_{2} + 5 q_{4} + 1$$"
      ],
      "text/plain": [
       "-q₂ + 5⋅q₄ + 1"
      ]
     },
     "execution_count": 102,
     "metadata": {},
     "output_type": "execute_result"
    }
   ],
   "source": [
    "constant.factor()\n"
   ]
  },
  {
   "cell_type": "code",
   "execution_count": 103,
   "metadata": {},
   "outputs": [],
   "source": [
    "assert (expr + constant).subs(\n",
    "    {p_1: 0, p_2: 0, p_3: 0, p_4: 0, q_1: 1, q_2: 1, q_3: 1, q_4: 1}\n",
    ") == 5\n"
   ]
  },
  {
   "cell_type": "code",
   "execution_count": 104,
   "metadata": {},
   "outputs": [],
   "source": [
    "Q_num = sym.Matrix([[element.factor() for element in row] for row in Q_num])\n",
    "c_num = sym.Matrix([element.factor() for element in c_num])\n"
   ]
  },
  {
   "cell_type": "code",
   "execution_count": 27,
   "metadata": {},
   "outputs": [],
   "source": [
    "for file, name in zip(\n",
    "    [Q_num, c_num, constant.simplify()],\n",
    "    [\"q_numerator\", \"c_numerator\", \"numerator_constant\"],\n",
    "):\n",
    "\n",
    "    with open(\"../tex/{}.tex\".format(name), \"w\") as f:\n",
    "        f.write(\"{}\".format(sym.latex(file)))\n"
   ]
  },
  {
   "cell_type": "markdown",
   "metadata": {},
   "source": [
    "**Denominator**"
   ]
  },
  {
   "cell_type": "code",
   "execution_count": 105,
   "metadata": {},
   "outputs": [],
   "source": [
    "Q_den = np.array([[denominator.coeff(f1 * f2) for f2 in p] for f1 in p])\n",
    "c_den = np.array(\n",
    "    [\n",
    "        denominator.subs({p_2: 0, p_3: 0, p_4: 0}).coeff(p_1),\n",
    "        denominator.subs({p_1: 0, p_3: 0, p_4: 0}).coeff(p_2),\n",
    "        denominator.subs({p_1: 0, p_2: 0, p_4: 0}).coeff(p_3),\n",
    "        denominator.subs({p_1: 0, p_2: 0, p_3: 0}).coeff(p_4),\n",
    "    ]\n",
    ")\n"
   ]
  },
  {
   "cell_type": "code",
   "execution_count": 106,
   "metadata": {},
   "outputs": [],
   "source": [
    "expr = np.dot(ps, Q_den.dot(ps.T) * 1 / 2) + np.dot(c_den, ps.T)\n",
    "den_constant = denominator.expand() - expr\n"
   ]
  },
  {
   "cell_type": "code",
   "execution_count": 107,
   "metadata": {},
   "outputs": [],
   "source": [
    "assert (expr + den_constant).subs(\n",
    "    {p_1: 0, p_2: 0, p_3: 0, p_4: 0, q_1: 1, q_2: 1, q_3: 1, q_4: 1}\n",
    ") == 1\n"
   ]
  },
  {
   "cell_type": "code",
   "execution_count": 108,
   "metadata": {},
   "outputs": [],
   "source": [
    "Q_den = sym.Matrix([[element.factor() for element in row] for row in Q_den])\n",
    "c_den = sym.Matrix([element.factor() for element in c_den])\n"
   ]
  },
  {
   "cell_type": "code",
   "execution_count": 32,
   "metadata": {},
   "outputs": [],
   "source": [
    "for file, name in zip(\n",
    "    [sym.Matrix(Q_den), sym.Matrix(c_den), den_constant.simplify()],\n",
    "    [\"q_denominator\", \"c_denominator\", \"denominator_constant\"],\n",
    "):\n",
    "\n",
    "    with open(\"../tex/{}.tex\".format(name), \"w\") as f:\n",
    "        f.write(\"{}\".format(sym.latex(file)))\n"
   ]
  },
  {
   "cell_type": "markdown",
   "metadata": {},
   "source": [
    "**Validation**"
   ]
  },
  {
   "cell_type": "code",
   "execution_count": 109,
   "metadata": {},
   "outputs": [],
   "source": [
    "qs = [(1 / 3, 1 / 3, 1 / 3, i) for i in np.linspace(0, 1, 20)]\n"
   ]
  },
  {
   "cell_type": "code",
   "execution_count": 26,
   "metadata": {},
   "outputs": [
    {
     "data": {
      "image/png": "[encoded data removed]",
      "text/plain": [
       "<Figure size 489.6x288 with 1 Axes>"
      ]
     },
     "metadata": {
      "needs_background": "light"
     },
     "output_type": "display_data"
    },
    {
     "data": {
      "image/png": "[encoded data removed]",
      "text/plain": [
       "<Figure size 489.6x288 with 1 Axes>"
      ]
     },
     "metadata": {
      "needs_background": "light"
     },
     "output_type": "display_data"
    }
   ],
   "source": [
    "for p, filename in zip(\n",
    "    [[0, 1, 0, 1], [0, 2 / 3, 1 / 3, 0]], [\"against_player_one\", \"against_player_two\"]\n",
    "):\n",
    "\n",
    "    theoritical = [opt_mo.match_utility(p, q) for q in qs]\n",
    "    simulated = [opt_mo.simulate_match_utility(p, q) for q in qs]\n",
    "\n",
    "    xlabels = [str(Fraction(i).limit_denominator()) for i in np.linspace(0, 1, 20)]\n",
    "    xlabels[1:-1] = [\n",
    "        r\"$\\frac{\" + i.split(\"/\")[0] + \"}{\" + i.split(\"/\")[1] + \"}$\"\n",
    "        for i in xlabels[1:-1]\n",
    "    ]\n",
    "\n",
    "    title = str([str(Fraction(i).limit_denominator()) for i in p])\n",
    "    title = title.replace(\"[\", \"(\").replace(\"]\", \")\").replace(\"'\", \"\")\n",
    "\n",
    "    plt.figure(figsize=[6.8, 4])\n",
    "    plt.plot(\n",
    "        range(len(theoritical)),\n",
    "        theoritical,\n",
    "        linestyle=\"--\",\n",
    "        color=\"red\",\n",
    "        linewidth=2,\n",
    "        zorder=1,\n",
    "        label=\"$u_q(p)$\",\n",
    "    )\n",
    "    plt.scatter(\n",
    "        range(len(simulated)),\n",
    "        simulated,\n",
    "        marker=\"o\",\n",
    "        s=60,\n",
    "        color=\"black\",\n",
    "        zorder=2,\n",
    "        label=\"$U_q(p)$\",\n",
    "        linewidth=\"2\",\n",
    "    )\n",
    "    plt.title(r\"$p={}$\".format(title)), plt.legend()\n",
    "\n",
    "    plt.xticks(range(len(theoritical)), xlabels, rotation=0, fontsize=15), plt.xlabel(\n",
    "        r\"$q_4$\"\n",
    "    )\n",
    "\n",
    "    plt.savefig(\"../img/validation_{}.pdf\".format(filename), bbox_inches=\"tight\")\n"
   ]
  },
  {
   "cell_type": "markdown",
   "metadata": {},
   "source": [
    "**Tournament Utility**"
   ]
  },
  {
   "cell_type": "code",
   "execution_count": 32,
   "metadata": {},
   "outputs": [],
   "source": [
    "opponents = [(0, 0, 0, 0), (1, 0, 1, 0)]\n"
   ]
  },
  {
   "cell_type": "code",
   "execution_count": 33,
   "metadata": {},
   "outputs": [
    {
     "data": {
      "image/png": "[encoded data removed]",
      "text/latex": [
       "$$1.5$$"
      ],
      "text/plain": [
       "1.5"
      ]
     },
     "execution_count": 33,
     "metadata": {},
     "output_type": "execute_result"
    }
   ],
   "source": [
    "-opt_mo.tournament_utility([1, 1, 1, 1], opponents)\n"
   ]
  },
  {
   "cell_type": "markdown",
   "metadata": {},
   "source": [
    "**Stewart \\& Plotkin tournament**"
   ]
  },
  {
   "cell_type": "code",
   "execution_count": 110,
   "metadata": {},
   "outputs": [],
   "source": [
    "transitions = [\n",
    "    (1, 1, 1, 1),\n",
    "    (0, 0, 0, 0),\n",
    "    (1 / 2, 1 / 2, 1 / 2, 1 / 2),\n",
    "    (1, 0, 1, 0),\n",
    "    (1, 0, 0, 0),\n",
    "    (1, 1 / 3, 1, 1 / 3),\n",
    "    (1, 0, 0, 1),\n",
    "    (1, 1 / 8, 1, 1 / 4),\n",
    "    (8 / 9, 1 / 2, 1 / 3, 0),\n",
    "    (0.9, 0, 0.9, 0),\n",
    "]\n"
   ]
  },
  {
   "cell_type": "code",
   "execution_count": 111,
   "metadata": {},
   "outputs": [],
   "source": [
    "ps = [(1 / 3, 1 / 3, 1 / 3, i) for i in np.linspace(0, 1, 20)]\n"
   ]
  },
  {
   "cell_type": "code",
   "execution_count": null,
   "metadata": {},
   "outputs": [
    {
     "name": "stderr",
     "output_type": "stream",
     "text": [
      "/home/nightwing/anaconda3/envs/opt-mo/lib/python3.6/site-packages/axelrod/result_set.py:413: RuntimeWarning: invalid value encountered in true_divide\n",
      "  / sum(map(np.array, self.match_lengths))\n",
      "/home/nightwing/anaconda3/envs/opt-mo/lib/python3.6/site-packages/axelrod/result_set.py:413: RuntimeWarning: invalid value encountered in true_divide\n",
      "  / sum(map(np.array, self.match_lengths))\n",
      "/home/nightwing/anaconda3/envs/opt-mo/lib/python3.6/site-packages/axelrod/result_set.py:413: RuntimeWarning: invalid value encountered in true_divide\n",
      "  / sum(map(np.array, self.match_lengths))\n",
      "/home/nightwing/anaconda3/envs/opt-mo/lib/python3.6/site-packages/axelrod/result_set.py:413: RuntimeWarning: invalid value encountered in true_divide\n",
      "  / sum(map(np.array, self.match_lengths))\n"
     ]
    }
   ],
   "source": [
    "simulated_scores = []\n",
    "for player in ps:\n",
    "    score = opt_mo.simulate_tournament_utility(\n",
    "        player, transitions, turns=1000, repetitions=2000\n",
    "    )\n",
    "    simulated_scores.append(score)\n"
   ]
  },
  {
   "cell_type": "code",
   "execution_count": 113,
   "metadata": {},
   "outputs": [],
   "source": [
    "theoretical_values = []\n",
    "for player in ps:\n",
    "    utility = opt_mo.tournament_utility(player, transitions)\n",
    "    theoretical_values.append(utility)\n"
   ]
  },
  {
   "cell_type": "code",
   "execution_count": 114,
   "metadata": {},
   "outputs": [
    {
     "data": {
      "image/png": "[encoded data removed]",
      "text/plain": [
       "<Figure size 489.6x288 with 1 Axes>"
      ]
     },
     "metadata": {
      "needs_background": "light"
     },
     "output_type": "display_data"
    }
   ],
   "source": [
    "plt.figure(figsize=[6.8, 4])\n",
    "plt.plot(\n",
    "    theoretical_values,\n",
    "    linestyle=\"--\",\n",
    "    color=\"red\",\n",
    "    linewidth=2,\n",
    "    zorder=1,\n",
    "    label=\"$u_q(p)$\",\n",
    ")\n",
    "plt.scatter(\n",
    "    range(len(simulated_scores)),\n",
    "    simulated_scores,\n",
    "    marker=\"o\",\n",
    "    s=60,\n",
    "    color=\"black\",\n",
    "    zorder=2,\n",
    "    label=\"$U_q(p)$\",\n",
    "    linewidth=\"2\",\n",
    ")\n",
    "plt.legend()\n",
    "\n",
    "plt.title(\"Tournament of $N=10$\"), plt.legend()\n",
    "\n",
    "xlabels = [str(Fraction(i).limit_denominator()) for i in np.linspace(0, 1, 20)]\n",
    "xlabels[1:-1] = [\n",
    "    r\"$\\frac{\" + i.split(\"/\")[0] + \"}{\" + i.split(\"/\")[1] + \"}$\" for i in xlabels[1:-1]\n",
    "]\n",
    "\n",
    "plt.xticks(\n",
    "    range(len(theoretical_values)), xlabels, rotation=0, fontsize=15\n",
    "), plt.xlabel(r\"$q_4$\")\n",
    "\n",
    "plt.savefig(\"../img/Stewart_tournament_results.pdf\", bbox_inches=\"tight\")\n"
   ]
  },
  {
   "cell_type": "code",
   "execution_count": 25,
   "metadata": {},
   "outputs": [],
   "source": [
    "players = [[Fraction(p[i]).limit_denominator() for p in ps] for i in range(4)]\n"
   ]
  },
  {
   "cell_type": "code",
   "execution_count": 26,
   "metadata": {},
   "outputs": [],
   "source": [
    "table = pd.DataFrame(\n",
    "    [\n",
    "        players[0],\n",
    "        players[1],\n",
    "        players[2],\n",
    "        players[3],\n",
    "        simulated_scores,\n",
    "        theoretical_values,\n",
    "    ]\n",
    ").transpose()\n"
   ]
  },
  {
   "cell_type": "code",
   "execution_count": 84,
   "metadata": {},
   "outputs": [],
   "source": [
    "table.columns = [\n",
    "    r\"$p_1$\",\n",
    "    r\"$p_2$\",\n",
    "    r\"$p_3$\",\n",
    "    r\"$p_4$\",\n",
    "    r\"$\\frac{1}{10} \\sum\\limits_{i = 1} ^ {10} u_q^{(i)} (p)$\",\n",
    "    r\"$\\frac{1}{10} \\sum\\limits_{i = 1} ^ {10} U_q^{(i)} (p)$\",\n",
    "]\n"
   ]
  },
  {
   "cell_type": "code",
   "execution_count": 85,
   "metadata": {},
   "outputs": [
    {
     "data": {
      "text/html": [
       "<div>\n",
       "<style scoped>\n",
       "    .dataframe tbody tr th:only-of-type {\n",
       "        vertical-align: middle;\n",
       "    }\n",
       "\n",
       "    .dataframe tbody tr th {\n",
       "        vertical-align: top;\n",
       "    }\n",
       "\n",
       "    .dataframe thead th {\n",
       "        text-align: right;\n",
       "    }\n",
       "</style>\n",
       "<table border=\"1\" class=\"dataframe\">\n",
       "  <thead>\n",
       "    <tr style=\"text-align: right;\">\n",
       "      <th></th>\n",
       "      <th>$p_1$</th>\n",
       "      <th>$p_2$</th>\n",
       "      <th>$p_3$</th>\n",
       "      <th>$p_4$</th>\n",
       "      <th>$\\frac{1}{10} \\sum\\limits_{i = 1} ^ {10} u_q^{(i)} (p)$</th>\n",
       "      <th>$\\frac{1}{10} \\sum\\limits_{i = 1} ^ {10} U_q^{(i)} (p)$</th>\n",
       "    </tr>\n",
       "  </thead>\n",
       "  <tbody>\n",
       "    <tr>\n",
       "      <th>0</th>\n",
       "      <td>1/5</td>\n",
       "      <td>1/5</td>\n",
       "      <td>1/5</td>\n",
       "      <td>1/5</td>\n",
       "      <td>2.07675</td>\n",
       "      <td>2.07173</td>\n",
       "    </tr>\n",
       "    <tr>\n",
       "      <th>1</th>\n",
       "      <td>1/5</td>\n",
       "      <td>1/5</td>\n",
       "      <td>1/5</td>\n",
       "      <td>2/5</td>\n",
       "      <td>2.12906</td>\n",
       "      <td>2.12359</td>\n",
       "    </tr>\n",
       "    <tr>\n",
       "      <th>2</th>\n",
       "      <td>1/5</td>\n",
       "      <td>1/5</td>\n",
       "      <td>1/5</td>\n",
       "      <td>3/5</td>\n",
       "      <td>2.15484</td>\n",
       "      <td>2.15064</td>\n",
       "    </tr>\n",
       "    <tr>\n",
       "      <th>3</th>\n",
       "      <td>1/5</td>\n",
       "      <td>1/5</td>\n",
       "      <td>1/5</td>\n",
       "      <td>4/5</td>\n",
       "      <td>2.17088</td>\n",
       "      <td>2.16632</td>\n",
       "    </tr>\n",
       "    <tr>\n",
       "      <th>4</th>\n",
       "      <td>1/5</td>\n",
       "      <td>1/5</td>\n",
       "      <td>2/5</td>\n",
       "      <td>1/5</td>\n",
       "      <td>2.05783</td>\n",
       "      <td>2.05034</td>\n",
       "    </tr>\n",
       "  </tbody>\n",
       "</table>\n",
       "</div>"
      ],
      "text/plain": [
       "  $p_1$ $p_2$ $p_3$ $p_4$  \\\n",
       "0   1/5   1/5   1/5   1/5   \n",
       "1   1/5   1/5   1/5   2/5   \n",
       "2   1/5   1/5   1/5   3/5   \n",
       "3   1/5   1/5   1/5   4/5   \n",
       "4   1/5   1/5   2/5   1/5   \n",
       "\n",
       "  $\\frac{1}{10} \\sum\\limits_{i = 1} ^ {10} u_q^{(i)} (p)$  \\\n",
       "0                                            2.07675        \n",
       "1                                            2.12906        \n",
       "2                                            2.15484        \n",
       "3                                            2.17088        \n",
       "4                                            2.05783        \n",
       "\n",
       "  $\\frac{1}{10} \\sum\\limits_{i = 1} ^ {10} U_q^{(i)} (p)$  \n",
       "0                                            2.07173       \n",
       "1                                            2.12359       \n",
       "2                                            2.15064       \n",
       "3                                            2.16632       \n",
       "4                                            2.05034       "
      ]
     },
     "execution_count": 85,
     "metadata": {},
     "output_type": "execute_result"
    }
   ],
   "source": [
    "table.head()\n"
   ]
  },
  {
   "cell_type": "code",
   "execution_count": 86,
   "metadata": {},
   "outputs": [],
   "source": [
    "textfile = open(\"../tex/stewart_plotkin_simulation.tex\", \"w\")\n",
    "textfile.write(table.to_latex())\n",
    "textfile.close()\n"
   ]
  },
  {
   "cell_type": "markdown",
   "metadata": {},
   "source": [
    "**Mean player vs Average Utility**"
   ]
  },
  {
   "cell_type": "code",
   "execution_count": 36,
   "metadata": {},
   "outputs": [],
   "source": [
    "p_one, p_two = np.linspace(0, 1, 50), np.linspace(0, 1, 50)\n"
   ]
  },
  {
   "cell_type": "code",
   "execution_count": 38,
   "metadata": {},
   "outputs": [
    {
     "data": {
      "image/png": "[encoded data removed]",
      "text/plain": [
       "<Figure size 489.6x288 with 2 Axes>"
      ]
     },
     "metadata": {
      "needs_background": "light"
     },
     "output_type": "display_data"
    }
   ],
   "source": [
    "axl.seed(11)\n",
    "opponents = [np.random.random(4) for _ in range(4)]\n",
    "mean_player = [np.mean([opponents[i][j] for i in range(4)]) for j in range(4)]\n",
    "\n",
    "av_utility = -opt_mo.tournament_utility((p_1, p_2, p_1, p_2), opponents)\n",
    "mn_utility = opt_mo.match_utility((p_1, p_2, p_1, p_2), mean_player)\n",
    "\n",
    "plt.figure(figsize=[6.8, 4])\n",
    "expr = sym.lambdify((p_1, p_2), abs(av_utility - mn_utility).simplify())\n",
    "\n",
    "X, Y = np.meshgrid(p_one, p_two)\n",
    "Z = expr(X, Y)\n",
    "\n",
    "plt.contourf(X, Y, Z)\n",
    "cbar = plt.colorbar()\n",
    "plt.title(\"Tournament size $N=4$\"), plt.xlabel(\"$p_1$\"), plt.ylabel(\"$p_2$\")\n",
    "cbar.ax.get_yaxis().labelpad = 15\n",
    "cbar.set_label(\n",
    "    r\"$|\\frac{1}{N} \\sum_{i=1} ^ {N} {u_q}^{(i)} (p) - u_{\\frac {1}{N} \\sum_{i=1} ^ N q^{(i)}}(p)$|\",\n",
    "    rotation=270,\n",
    "    labelpad=+45,\n",
    "    y=0.45,\n",
    ")\n",
    "plt.tight_layout()\n",
    "plt.savefig(\"../img/mean_vs_average_heatman.pdf\", bbox_inches=\"tight\")\n"
   ]
  }
 ],
 "metadata": {
  "anaconda-cloud": {},
  "kernelspec": {
   "display_name": "opt-mo",
   "language": "python",
   "name": "opt-mo"
  },
  "language_info": {
   "codemirror_mode": {
    "name": "ipython",
    "version": 3
   },
   "file_extension": ".py",
   "mimetype": "text/x-python",
   "name": "python",
   "nbconvert_exporter": "python",
   "pygments_lexer": "ipython3",
   "version": "3.6.7"
  }
 },
 "nbformat": 4,
 "nbformat_minor": 1
}
