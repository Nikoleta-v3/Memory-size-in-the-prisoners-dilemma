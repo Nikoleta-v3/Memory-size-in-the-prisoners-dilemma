{
 "cells": [
  {
   "cell_type": "code",
   "execution_count": 1,
   "metadata": {
    "collapsed": true
   },
   "outputs": [],
   "source": [
    "import axelrod as axl\n",
    "from fractions import Fraction"
   ]
  },
  {
   "cell_type": "code",
   "execution_count": 2,
   "metadata": {
    "collapsed": true
   },
   "outputs": [],
   "source": [
    "import warnings\n",
    "warnings.filterwarnings('ignore')"
   ]
  },
  {
   "cell_type": "code",
   "execution_count": 3,
   "metadata": {
    "collapsed": true
   },
   "outputs": [],
   "source": [
    "import itertools\n",
    "import numpy as np"
   ]
  },
  {
   "cell_type": "code",
   "execution_count": 68,
   "metadata": {
    "collapsed": true
   },
   "outputs": [],
   "source": [
    "import opt_mo\n",
    "import pandas as pd\n",
    "import sympy as sym"
   ]
  },
  {
   "cell_type": "markdown",
   "metadata": {},
   "source": [
    "Though Stewart and Plotkin tournament had a total of 19 strategies today we will consider only the memory\n",
    "one ones. These are:\n",
    "    \n",
    "- cooperator\n",
    "- defector\n",
    "- random\n",
    "- tit for tat\n",
    "- grudger\n",
    "- generous tit for tat\n",
    "- win stay lose shift\n",
    "- ZDGTFT2\n",
    "- ZDExtort2\n",
    "- joss"
   ]
  },
  {
   "cell_type": "code",
   "execution_count": 5,
   "metadata": {
    "collapsed": true
   },
   "outputs": [],
   "source": [
    "transitions = [(1, 1, 1, 1), (0, 0, 0, 0), (1/2, 1/2, 1/2, 1/2), (1, 0, 1, 0), (1, 0, 0, 0),\n",
    "               (1, 1/3, 1, 1/3), (1, 0, 0, 1), (1, 1/8, 1, 1/4), (8/9, 1/2, 1/3, 0), (0.9, 0, 0.9, 0)]"
   ]
  },
  {
   "cell_type": "code",
   "execution_count": 6,
   "metadata": {},
   "outputs": [
    {
     "data": {
      "text/plain": [
       "10"
      ]
     },
     "execution_count": 6,
     "metadata": {},
     "output_type": "execute_result"
    }
   ],
   "source": [
    "len(transitions)"
   ]
  },
  {
   "cell_type": "code",
   "execution_count": 7,
   "metadata": {
    "collapsed": true
   },
   "outputs": [],
   "source": [
    "strategies = [axl.MemoryOnePlayer(p) for p in transitions]"
   ]
  },
  {
   "cell_type": "code",
   "execution_count": 8,
   "metadata": {
    "collapsed": true
   },
   "outputs": [],
   "source": [
    "ps = list(itertools.product(np.linspace(0, 1, 4), repeat=4))"
   ]
  },
  {
   "cell_type": "code",
   "execution_count": 9,
   "metadata": {
    "collapsed": true
   },
   "outputs": [],
   "source": [
    "players = [axl.MemoryOnePlayer(p) for p in ps]"
   ]
  },
  {
   "cell_type": "code",
   "execution_count": 10,
   "metadata": {
    "collapsed": true
   },
   "outputs": [],
   "source": [
    "number_of_players = len(strategies) + 1"
   ]
  },
  {
   "cell_type": "code",
   "execution_count": 11,
   "metadata": {
    "collapsed": true
   },
   "outputs": [],
   "source": [
    "edges = [(i, number_of_players - 1) for i in range(number_of_players - 1)]"
   ]
  },
  {
   "cell_type": "markdown",
   "metadata": {},
   "source": [
    "Simulated values\n",
    "----------------"
   ]
  },
  {
   "cell_type": "code",
   "execution_count": 12,
   "metadata": {
    "collapsed": true
   },
   "outputs": [],
   "source": [
    "simulated_scores = []\n",
    "for player in players:\n",
    "    tournament = axl.Tournament(players=strategies + [player], turns=200, \n",
    "                                repetitions=100, edges=edges)\n",
    "    results = tournament.play(progress_bar=False)\n",
    "    simulated_scores.append(np.mean(results.normalised_scores[-1]))"
   ]
  },
  {
   "cell_type": "markdown",
   "metadata": {},
   "source": [
    "**Theoretical values**"
   ]
  },
  {
   "cell_type": "code",
   "execution_count": 13,
   "metadata": {
    "collapsed": true
   },
   "outputs": [],
   "source": [
    "theoretical_values = []\n",
    "for player in ps:\n",
    "    utility = -opt_mo.tournament_utility(player, transitions)\n",
    "    theoretical_values.append(utility)"
   ]
  },
  {
   "cell_type": "code",
   "execution_count": 91,
   "metadata": {
    "collapsed": true
   },
   "outputs": [],
   "source": [
    "difference = [(simulated_scores[i] - theoretical_values[i], i) for i in range(len(simulated_scores))]\n",
    "difference.sort()"
   ]
  },
  {
   "cell_type": "code",
   "execution_count": 92,
   "metadata": {
    "collapsed": true
   },
   "outputs": [],
   "source": [
    "display = difference[:10]"
   ]
  },
  {
   "cell_type": "code",
   "execution_count": 93,
   "metadata": {},
   "outputs": [],
   "source": [
    "columns = [[*ps[i], theoretical_values[i], simulated_scores[i]] for _, i in difference[:10]]"
   ]
  },
  {
   "cell_type": "code",
   "execution_count": 94,
   "metadata": {
    "collapsed": true
   },
   "outputs": [],
   "source": [
    "labels = ['$p_1$', '$p_2$', '$p_3$', '$p_4$', r'$\\sum\\limits_{i = 1} ^ N u_q ^ {(i)} u(p)$', \n",
    "          r'$\\sum\\limits_{i = 1} ^ N u_q ^ {(i)} U(p)$']"
   ]
  },
  {
   "cell_type": "code",
   "execution_count": 95,
   "metadata": {},
   "outputs": [],
   "source": [
    "table = pd.DataFrame(columns)\n",
    "table.columns = labels"
   ]
  },
  {
   "cell_type": "code",
   "execution_count": 96,
   "metadata": {},
   "outputs": [
    {
     "data": {
      "text/html": [
       "<div>\n",
       "<style scoped>\n",
       "    .dataframe tbody tr th:only-of-type {\n",
       "        vertical-align: middle;\n",
       "    }\n",
       "\n",
       "    .dataframe tbody tr th {\n",
       "        vertical-align: top;\n",
       "    }\n",
       "\n",
       "    .dataframe thead th {\n",
       "        text-align: right;\n",
       "    }\n",
       "</style>\n",
       "<table border=\"1\" class=\"dataframe\">\n",
       "  <thead>\n",
       "    <tr style=\"text-align: right;\">\n",
       "      <th></th>\n",
       "      <th>$p_1$</th>\n",
       "      <th>$p_2$</th>\n",
       "      <th>$p_3$</th>\n",
       "      <th>$p_4$</th>\n",
       "      <th>$\\sum\\limits_{i = 1} ^ N u_q ^ {(i)} u(p)$</th>\n",
       "      <th>$\\sum\\limits_{i = 1} ^ N u_q ^ {(i)} U(p)$</th>\n",
       "    </tr>\n",
       "  </thead>\n",
       "  <tbody>\n",
       "    <tr>\n",
       "      <th>4</th>\n",
       "      <td>0.0</td>\n",
       "      <td>0.000000</td>\n",
       "      <td>0.000000</td>\n",
       "      <td>0.666667</td>\n",
       "      <td>2.191268</td>\n",
       "      <td>2.200970</td>\n",
       "    </tr>\n",
       "    <tr>\n",
       "      <th>8</th>\n",
       "      <td>0.0</td>\n",
       "      <td>0.333333</td>\n",
       "      <td>0.000000</td>\n",
       "      <td>0.666667</td>\n",
       "      <td>2.199277</td>\n",
       "      <td>2.211010</td>\n",
       "    </tr>\n",
       "    <tr>\n",
       "      <th>1</th>\n",
       "      <td>0.0</td>\n",
       "      <td>0.000000</td>\n",
       "      <td>0.333333</td>\n",
       "      <td>1.000000</td>\n",
       "      <td>2.165901</td>\n",
       "      <td>2.173365</td>\n",
       "    </tr>\n",
       "    <tr>\n",
       "      <th>0</th>\n",
       "      <td>0.0</td>\n",
       "      <td>0.333333</td>\n",
       "      <td>0.333333</td>\n",
       "      <td>1.000000</td>\n",
       "      <td>2.158921</td>\n",
       "      <td>2.166100</td>\n",
       "    </tr>\n",
       "    <tr>\n",
       "      <th>6</th>\n",
       "      <td>0.0</td>\n",
       "      <td>0.000000</td>\n",
       "      <td>0.666667</td>\n",
       "      <td>1.000000</td>\n",
       "      <td>2.156748</td>\n",
       "      <td>2.166955</td>\n",
       "    </tr>\n",
       "    <tr>\n",
       "      <th>7</th>\n",
       "      <td>0.0</td>\n",
       "      <td>0.000000</td>\n",
       "      <td>0.666667</td>\n",
       "      <td>0.666667</td>\n",
       "      <td>2.145524</td>\n",
       "      <td>2.156880</td>\n",
       "    </tr>\n",
       "    <tr>\n",
       "      <th>3</th>\n",
       "      <td>0.0</td>\n",
       "      <td>0.333333</td>\n",
       "      <td>0.666667</td>\n",
       "      <td>1.000000</td>\n",
       "      <td>2.139927</td>\n",
       "      <td>2.149585</td>\n",
       "    </tr>\n",
       "    <tr>\n",
       "      <th>9</th>\n",
       "      <td>0.0</td>\n",
       "      <td>0.000000</td>\n",
       "      <td>1.000000</td>\n",
       "      <td>0.333333</td>\n",
       "      <td>2.186932</td>\n",
       "      <td>2.198790</td>\n",
       "    </tr>\n",
       "    <tr>\n",
       "      <th>2</th>\n",
       "      <td>0.0</td>\n",
       "      <td>0.333333</td>\n",
       "      <td>1.000000</td>\n",
       "      <td>1.000000</td>\n",
       "      <td>2.149520</td>\n",
       "      <td>2.157840</td>\n",
       "    </tr>\n",
       "    <tr>\n",
       "      <th>5</th>\n",
       "      <td>0.0</td>\n",
       "      <td>0.333333</td>\n",
       "      <td>1.000000</td>\n",
       "      <td>0.666667</td>\n",
       "      <td>2.157784</td>\n",
       "      <td>2.167540</td>\n",
       "    </tr>\n",
       "  </tbody>\n",
       "</table>\n",
       "</div>"
      ],
      "text/plain": [
       "   $p_1$     $p_2$     $p_3$     $p_4$  \\\n",
       "4    0.0  0.000000  0.000000  0.666667   \n",
       "8    0.0  0.333333  0.000000  0.666667   \n",
       "1    0.0  0.000000  0.333333  1.000000   \n",
       "0    0.0  0.333333  0.333333  1.000000   \n",
       "6    0.0  0.000000  0.666667  1.000000   \n",
       "7    0.0  0.000000  0.666667  0.666667   \n",
       "3    0.0  0.333333  0.666667  1.000000   \n",
       "9    0.0  0.000000  1.000000  0.333333   \n",
       "2    0.0  0.333333  1.000000  1.000000   \n",
       "5    0.0  0.333333  1.000000  0.666667   \n",
       "\n",
       "   $\\sum\\limits_{i = 1} ^ N u_q ^ {(i)} u(p)$  \\\n",
       "4                                    2.191268   \n",
       "8                                    2.199277   \n",
       "1                                    2.165901   \n",
       "0                                    2.158921   \n",
       "6                                    2.156748   \n",
       "7                                    2.145524   \n",
       "3                                    2.139927   \n",
       "9                                    2.186932   \n",
       "2                                    2.149520   \n",
       "5                                    2.157784   \n",
       "\n",
       "   $\\sum\\limits_{i = 1} ^ N u_q ^ {(i)} U(p)$  \n",
       "4                                    2.200970  \n",
       "8                                    2.211010  \n",
       "1                                    2.173365  \n",
       "0                                    2.166100  \n",
       "6                                    2.166955  \n",
       "7                                    2.156880  \n",
       "3                                    2.149585  \n",
       "9                                    2.198790  \n",
       "2                                    2.157840  \n",
       "5                                    2.167540  "
      ]
     },
     "execution_count": 96,
     "metadata": {},
     "output_type": "execute_result"
    }
   ],
   "source": [
    "table.sort_values('$p_2$'). sort_values('$p_3$')"
   ]
  },
  {
   "cell_type": "code",
   "execution_count": 97,
   "metadata": {},
   "outputs": [],
   "source": [
    "table = table.replace(0.333333, sym.S(1) / 3)\n",
    "table = table.replace(0.666667, sym.S(2) / 3)"
   ]
  },
  {
   "cell_type": "code",
   "execution_count": 98,
   "metadata": {},
   "outputs": [],
   "source": [
    "tex = table.to_latex().replace('0.333333', r'$\\frac{1}{3}$').replace('0.666667', r'$\\frac{2}{3}$')"
   ]
  },
  {
   "cell_type": "code",
   "execution_count": 99,
   "metadata": {},
   "outputs": [],
   "source": [
    "textfile = open('../tex/stewart_results.txt', 'w') \n",
    "textfile.write(tex)\n",
    "textfile.close()"
   ]
  }
 ],
 "metadata": {
  "kernelspec": {
   "display_name": "opt-mo",
   "language": "python",
   "name": "opt-mo"
  },
  "language_info": {
   "codemirror_mode": {
    "name": "ipython",
    "version": 3
   },
   "file_extension": ".py",
   "mimetype": "text/x-python",
   "name": "python",
   "nbconvert_exporter": "python",
   "pygments_lexer": "ipython3",
   "version": "3.5.5"
  }
 },
 "nbformat": 4,
 "nbformat_minor": 2
}
