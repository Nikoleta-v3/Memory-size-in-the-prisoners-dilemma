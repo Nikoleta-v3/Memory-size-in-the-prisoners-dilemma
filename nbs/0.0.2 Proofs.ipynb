{
 "cells": [
  {
   "cell_type": "code",
   "execution_count": 1,
   "metadata": {},
   "outputs": [
    {
     "name": "stderr",
     "output_type": "stream",
     "text": [
      "//anaconda3/envs/opt-mo/lib/python3.6/site-packages/sklearn/externals/joblib/__init__.py:15: DeprecationWarning: sklearn.externals.joblib is deprecated in 0.21 and will be removed in 0.23. Please import this functionality directly from joblib, which can be installed with: pip install joblib. If this warning is raised when loading pickled models, you may need to re-serialize those models with scikit-learn 0.21+.\n",
      "  warnings.warn(msg, category=DeprecationWarning)\n"
     ]
    }
   ],
   "source": [
    "import opt_mo\n",
    "import numpy as np\n",
    "import sympy as sym\n",
    "import itertools\n",
    "\n",
    "sym.init_printing()\n"
   ]
  },
  {
   "cell_type": "code",
   "execution_count": 2,
   "metadata": {},
   "outputs": [],
   "source": [
    "p_1, p_2, p_3, p_4 = sym.symbols(\"p_1, p_2, p_3, p_4\")\n",
    "q_1, q_2, q_3, q_4 = sym.symbols(\"q_1, q_2, q_3, q_4\")\n"
   ]
  },
  {
   "cell_type": "code",
   "execution_count": 3,
   "metadata": {},
   "outputs": [],
   "source": [
    "p = (p_1, p_2, p_3, p_4)\n",
    "q = (q_1, q_2, q_3, q_4)\n"
   ]
  },
  {
   "cell_type": "code",
   "execution_count": 4,
   "metadata": {},
   "outputs": [],
   "source": [
    "pi_1, pi_2, pi_3, pi_4 = sym.symbols(\"pi_1, pi_2, pi_3, pi_4\")\n",
    "pi = (pi_1, pi_2, pi_3, pi_4)\n"
   ]
  },
  {
   "cell_type": "code",
   "execution_count": 5,
   "metadata": {},
   "outputs": [],
   "source": [
    "R, S, T, P = sym.symbols(\"R, S, T, P\")"
   ]
  },
  {
   "cell_type": "code",
   "execution_count": 48,
   "metadata": {},
   "outputs": [],
   "source": [
    "def pd_utility(S_p, x, y):\n",
    "    \"\"\"\n",
    "    Returns the utility as a function\n",
    "    of p, q vectors. Based on Press and Dyson, 2012.\n",
    "    \"\"\"\n",
    "    B = sym.Matrix(opt_mo.make_B(S_p, x, y))\n",
    "    unit = sym.Matrix(opt_mo.make_B((1, 1, 1, 1), x, y))\n",
    "    return B.det() / unit.det()"
   ]
  },
  {
   "cell_type": "markdown",
   "metadata": {},
   "source": [
    "**Theorem 1 Proof**"
   ]
  },
  {
   "cell_type": "markdown",
   "metadata": {},
   "source": [
    "As discrubed in Section 2 the utility of a memory one player against another is given by the steady states of M\n",
    "multiplied by the payoffs."
   ]
  },
  {
   "cell_type": "code",
   "execution_count": 6,
   "metadata": {},
   "outputs": [],
   "source": [
    "M = opt_mo.mem_one_match_markov_chain(player=p, opponent=q)\n"
   ]
  },
  {
   "cell_type": "code",
   "execution_count": 7,
   "metadata": {},
   "outputs": [],
   "source": [
    "ss = opt_mo.steady_states(M, pi)\n"
   ]
  },
  {
   "cell_type": "code",
   "execution_count": 8,
   "metadata": {},
   "outputs": [],
   "source": [
    "v = sym.Matrix([[ss[pi_1]], [ss[pi_2]], [ss[pi_3]], [ss[pi_4]]])\n"
   ]
  },
  {
   "cell_type": "code",
   "execution_count": 9,
   "metadata": {},
   "outputs": [],
   "source": [
    "first_ss = v[0].collect(p_2 * p_4).collect(p_2 * p_3).collect(p_3 * p_4)"
   ]
  },
  {
   "cell_type": "code",
   "execution_count": 10,
   "metadata": {},
   "outputs": [],
   "source": [
    "second_ss = v[1].collect(p_1 * p_3).collect(p_1 * p_4).collect(p_3 * p_4)"
   ]
  },
  {
   "cell_type": "code",
   "execution_count": 11,
   "metadata": {},
   "outputs": [
    {
     "data": {
      "image/png": "[encoded data removed]",
      "text/latex": [
       "$$0$$"
      ],
      "text/plain": [
       "0"
      ]
     },
     "execution_count": 11,
     "metadata": {},
     "output_type": "execute_result"
    }
   ],
   "source": [
    "(sym.fraction(second_ss)[-1] - sym.fraction(first_ss)[-1]).simplify()"
   ]
  },
  {
   "cell_type": "code",
   "execution_count": 12,
   "metadata": {},
   "outputs": [],
   "source": [
    "third_ss = v[2].factor().collect(p_1 * p_2).collect(p_1 * p_4).collect(p_2 * p_4)"
   ]
  },
  {
   "cell_type": "code",
   "execution_count": 13,
   "metadata": {},
   "outputs": [],
   "source": [
    "fourth_ss = v[3].factor()"
   ]
  },
  {
   "cell_type": "code",
   "execution_count": 14,
   "metadata": {},
   "outputs": [
    {
     "data": {
      "image/png": "[encoded data removed]",
      "text/latex": [
       "$$0$$"
      ],
      "text/plain": [
       "0"
      ]
     },
     "execution_count": 14,
     "metadata": {},
     "output_type": "execute_result"
    }
   ],
   "source": [
    "(sym.fraction(third_ss)[-1] - sym.fraction(fourth_ss)[-1]).expand()"
   ]
  },
  {
   "cell_type": "code",
   "execution_count": 15,
   "metadata": {},
   "outputs": [
    {
     "data": {
      "image/png": "[encoded data removed]",
      "text/latex": [
       "$$0$$"
      ],
      "text/plain": [
       "0"
      ]
     },
     "execution_count": 15,
     "metadata": {},
     "output_type": "execute_result"
    }
   ],
   "source": [
    "(sym.fraction(third_ss)[-1] - sym.fraction(second_ss)[-1]).simplify()"
   ]
  },
  {
   "cell_type": "code",
   "execution_count": 16,
   "metadata": {},
   "outputs": [],
   "source": [
    "utility = v.dot(np.array([R, S, T, P]))"
   ]
  },
  {
   "cell_type": "code",
   "execution_count": 46,
   "metadata": {},
   "outputs": [],
   "source": [
    "S_p = sym.Matrix([[R, S, T, P]])"
   ]
  },
  {
   "cell_type": "code",
   "execution_count": 49,
   "metadata": {},
   "outputs": [],
   "source": [
    "utility = pd_utility(S_p, p, q)"
   ]
  },
  {
   "cell_type": "code",
   "execution_count": 59,
   "metadata": {},
   "outputs": [],
   "source": [
    "numerator, denominator = sym.fraction(utility.simplify())"
   ]
  },
  {
   "cell_type": "code",
   "execution_count": 60,
   "metadata": {},
   "outputs": [
    {
     "data": {
      "image/png": "[encoded data removed]",
      "text/latex": [
       "$$- P p_{1} p_{2} q_{1} q_{2} + P p_{1} p_{2} q_{1} + P p_{1} p_{2} q_{2} q_{3} - P p_{1} p_{2} q_{3} + P p_{1} p_{3} q_{1} q_{3} - P p_{1} p_{3} q_{2} q_{3} + P p_{1} q_{1} q_{2} - P p_{1} q_{1} + P p_{2} p_{3} q_{1} q_{2} - P p_{2} p_{3} q_{1} q_{3} - P p_{2} p_{3} q_{2} + P p_{2} p_{3} q_{3} - P p_{2} q_{2} q_{3} + P p_{2} q_{2} + P p_{2} q_{3} - P p_{2} - P p_{3} q_{1} q_{2} + P p_{3} q_{2} q_{3} + P p_{3} q_{2} - P p_{3} q_{3} - P q_{2} + P - R p_{2} p_{3} q_{2} q_{4} + R p_{2} p_{3} q_{3} q_{4} - R p_{2} p_{4} q_{2} q_{3} + R p_{2} p_{4} q_{2} q_{4} + R p_{2} p_{4} q_{3} - R p_{2} p_{4} q_{4} + R p_{3} p_{4} q_{2} q_{3} - R p_{3} p_{4} q_{3} q_{4} + R p_{3} q_{2} q_{4} - R p_{4} q_{2} q_{4} + R p_{4} q_{4} - S p_{1} p_{3} q_{1} q_{4} + S p_{1} p_{3} q_{2} q_{4} + S p_{1} p_{4} q_{1} q_{2} - S p_{1} p_{4} q_{1} - S p_{1} p_{4} q_{2} q_{4} + S p_{1} p_{4} q_{4} - S p_{3} p_{4} q_{1} q_{2} + S p_{3} p_{4} q_{1} q_{4} + S p_{3} p_{4} q_{2} - S p_{3} p_{4} q_{4} - S p_{3} q_{2} q_{4} + S p_{3} q_{4} + S p_{4} q_{2} q_{4} - S p_{4} q_{2} - S p_{4} q_{4} + S p_{4} + T p_{1} p_{2} q_{1} q_{4} - T p_{1} p_{2} q_{3} q_{4} - T p_{1} p_{4} q_{1} q_{3} + T p_{1} p_{4} q_{3} q_{4} - T p_{1} q_{1} q_{4} + T p_{2} p_{4} q_{1} q_{3} - T p_{2} p_{4} q_{1} q_{4} - T p_{2} p_{4} q_{3} + T p_{2} p_{4} q_{4} + T p_{2} q_{3} q_{4} - T p_{2} q_{4} + T p_{4} q_{1} q_{4} - T p_{4} q_{3} q_{4} + T p_{4} q_{3} - T p_{4} q_{4} + T q_{4}$$"
      ],
      "text/plain": [
       "-P⋅p₁⋅p₂⋅q₁⋅q₂ + P⋅p₁⋅p₂⋅q₁ + P⋅p₁⋅p₂⋅q₂⋅q₃ - P⋅p₁⋅p₂⋅q₃ + P⋅p₁⋅p₃⋅q₁⋅q₃ - P⋅p\n",
       "₁⋅p₃⋅q₂⋅q₃ + P⋅p₁⋅q₁⋅q₂ - P⋅p₁⋅q₁ + P⋅p₂⋅p₃⋅q₁⋅q₂ - P⋅p₂⋅p₃⋅q₁⋅q₃ - P⋅p₂⋅p₃⋅q₂\n",
       " + P⋅p₂⋅p₃⋅q₃ - P⋅p₂⋅q₂⋅q₃ + P⋅p₂⋅q₂ + P⋅p₂⋅q₃ - P⋅p₂ - P⋅p₃⋅q₁⋅q₂ + P⋅p₃⋅q₂⋅q\n",
       "₃ + P⋅p₃⋅q₂ - P⋅p₃⋅q₃ - P⋅q₂ + P - R⋅p₂⋅p₃⋅q₂⋅q₄ + R⋅p₂⋅p₃⋅q₃⋅q₄ - R⋅p₂⋅p₄⋅q₂⋅\n",
       "q₃ + R⋅p₂⋅p₄⋅q₂⋅q₄ + R⋅p₂⋅p₄⋅q₃ - R⋅p₂⋅p₄⋅q₄ + R⋅p₃⋅p₄⋅q₂⋅q₃ - R⋅p₃⋅p₄⋅q₃⋅q₄ +\n",
       " R⋅p₃⋅q₂⋅q₄ - R⋅p₄⋅q₂⋅q₄ + R⋅p₄⋅q₄ - S⋅p₁⋅p₃⋅q₁⋅q₄ + S⋅p₁⋅p₃⋅q₂⋅q₄ + S⋅p₁⋅p₄⋅q\n",
       "₁⋅q₂ - S⋅p₁⋅p₄⋅q₁ - S⋅p₁⋅p₄⋅q₂⋅q₄ + S⋅p₁⋅p₄⋅q₄ - S⋅p₃⋅p₄⋅q₁⋅q₂ + S⋅p₃⋅p₄⋅q₁⋅q₄\n",
       " + S⋅p₃⋅p₄⋅q₂ - S⋅p₃⋅p₄⋅q₄ - S⋅p₃⋅q₂⋅q₄ + S⋅p₃⋅q₄ + S⋅p₄⋅q₂⋅q₄ - S⋅p₄⋅q₂ - S⋅p\n",
       "₄⋅q₄ + S⋅p₄ + T⋅p₁⋅p₂⋅q₁⋅q₄ - T⋅p₁⋅p₂⋅q₃⋅q₄ - T⋅p₁⋅p₄⋅q₁⋅q₃ + T⋅p₁⋅p₄⋅q₃⋅q₄ - \n",
       "T⋅p₁⋅q₁⋅q₄ + T⋅p₂⋅p₄⋅q₁⋅q₃ - T⋅p₂⋅p₄⋅q₁⋅q₄ - T⋅p₂⋅p₄⋅q₃ + T⋅p₂⋅p₄⋅q₄ + T⋅p₂⋅q₃\n",
       "⋅q₄ - T⋅p₂⋅q₄ + T⋅p₄⋅q₁⋅q₄ - T⋅p₄⋅q₃⋅q₄ + T⋅p₄⋅q₃ - T⋅p₄⋅q₄ + T⋅q₄"
      ]
     },
     "execution_count": 60,
     "metadata": {},
     "output_type": "execute_result"
    }
   ],
   "source": [
    "numerator"
   ]
  },
  {
   "cell_type": "code",
   "execution_count": 61,
   "metadata": {},
   "outputs": [],
   "source": [
    "numerator_elements = [[numerator.coeff(f1 * f2).factor() * f1 * f2 for f2 in p] for f1 in p]"
   ]
  },
  {
   "cell_type": "code",
   "execution_count": 62,
   "metadata": {},
   "outputs": [],
   "source": [
    "flat_elements = list(itertools.chain.from_iterable(numerator_elements))"
   ]
  },
  {
   "cell_type": "code",
   "execution_count": 63,
   "metadata": {},
   "outputs": [],
   "source": [
    "cross_prod = sum(flat_elements) / 2"
   ]
  },
  {
   "cell_type": "code",
   "execution_count": 64,
   "metadata": {},
   "outputs": [
    {
     "data": {
      "image/png": "[encoded data removed]",
      "text/latex": [
       "$$- p_{1} p_{2} \\left(q_{1} - q_{3}\\right) \\left(P q_{2} - P - T q_{4}\\right) + p_{1} p_{3} \\left(q_{1} - q_{2}\\right) \\left(P q_{3} - S q_{4}\\right) + p_{1} p_{4} \\left(q_{1} - q_{4}\\right) \\left(S q_{2} - S - T q_{3}\\right) + p_{2} p_{3} \\left(q_{2} - q_{3}\\right) \\left(P q_{1} - P - R q_{4}\\right) - p_{2} p_{4} \\left(q_{3} - q_{4}\\right) \\left(R q_{2} - R - T q_{1} + T\\right) + p_{3} p_{4} \\left(q_{2} - q_{4}\\right) \\left(R q_{3} - S q_{1} + S\\right)$$"
      ],
      "text/plain": [
       "-p₁⋅p₂⋅(q₁ - q₃)⋅(P⋅q₂ - P - T⋅q₄) + p₁⋅p₃⋅(q₁ - q₂)⋅(P⋅q₃ - S⋅q₄) + p₁⋅p₄⋅(q₁\n",
       " - q₄)⋅(S⋅q₂ - S - T⋅q₃) + p₂⋅p₃⋅(q₂ - q₃)⋅(P⋅q₁ - P - R⋅q₄) - p₂⋅p₄⋅(q₃ - q₄)\n",
       "⋅(R⋅q₂ - R - T⋅q₁ + T) + p₃⋅p₄⋅(q₂ - q₄)⋅(R⋅q₃ - S⋅q₁ + S)"
      ]
     },
     "execution_count": 64,
     "metadata": {},
     "output_type": "execute_result"
    }
   ],
   "source": [
    "cross_prod"
   ]
  },
  {
   "cell_type": "code",
   "execution_count": 66,
   "metadata": {},
   "outputs": [
    {
     "data": {
      "text/plain": [
       "'- p_{1} p_{2} (q_{1} - q_{3}) (P q_{2} - P - T q_{4}) + p_{1} p_{3} (q_{1} - q_{2}) (P q_{3} - S q_{4}) + p_{1} p_{4} (q_{1} - q_{4}) (S q_{2} - S - T q_{3}) + p_{2} p_{3} (q_{2} - q_{3}) (P q_{1} - P - R q_{4}) - p_{2} p_{4} (q_{3} - q_{4}) (R q_{2} - R - T q_{1} + T) + p_{3} p_{4} (q_{2} - q_{4}) (R q_{3} - S q_{1} + S)'"
      ]
     },
     "execution_count": 66,
     "metadata": {},
     "output_type": "execute_result"
    }
   ],
   "source": [
    "sym.latex(sum(flat_elements) / 2).replace(\"\\\\left\", \"\").replace(\"\\\\right\", \"\")"
   ]
  },
  {
   "cell_type": "code",
   "execution_count": 67,
   "metadata": {},
   "outputs": [],
   "source": [
    "linear_expr = numerator.subs({p_2: 0, p_3: 0, p_4: 0}).coeff(p_1).factor() * p_1\n",
    "linear_expr += numerator.subs({p_1: 0, p_3: 0, p_4: 0}).coeff(p_2).factor() * p_2\n",
    "linear_expr += numerator.subs({p_1: 0, p_2: 0, p_4: 0}).coeff(p_3).factor() * p_3\n",
    "linear_expr += numerator.subs({p_1: 0, p_2: 0, p_3: 0}).coeff(p_4).factor() * p_4"
   ]
  },
  {
   "cell_type": "code",
   "execution_count": 68,
   "metadata": {},
   "outputs": [
    {
     "data": {
      "image/png": "[encoded data removed]",
      "text/latex": [
       "$$p_{1} q_{1} \\left(P q_{2} - P - T q_{4}\\right) - p_{2} \\left(q_{3} - 1\\right) \\left(P q_{2} - P - T q_{4}\\right) + p_{3} \\left(- P q_{1} q_{2} + P q_{2} q_{3} + P q_{2} - P q_{3} + R q_{2} q_{4} - S q_{2} q_{4} + S q_{4}\\right) + p_{4} \\left(- R q_{2} q_{4} + R q_{4} + S q_{2} q_{4} - S q_{2} - S q_{4} + S + T q_{1} q_{4} - T q_{3} q_{4} + T q_{3} - T q_{4}\\right)$$"
      ],
      "text/plain": [
       "p₁⋅q₁⋅(P⋅q₂ - P - T⋅q₄) - p₂⋅(q₃ - 1)⋅(P⋅q₂ - P - T⋅q₄) + p₃⋅(-P⋅q₁⋅q₂ + P⋅q₂⋅\n",
       "q₃ + P⋅q₂ - P⋅q₃ + R⋅q₂⋅q₄ - S⋅q₂⋅q₄ + S⋅q₄) + p₄⋅(-R⋅q₂⋅q₄ + R⋅q₄ + S⋅q₂⋅q₄ -\n",
       " S⋅q₂ - S⋅q₄ + S + T⋅q₁⋅q₄ - T⋅q₃⋅q₄ + T⋅q₃ - T⋅q₄)"
      ]
     },
     "execution_count": 68,
     "metadata": {},
     "output_type": "execute_result"
    }
   ],
   "source": [
    "linear_expr"
   ]
  },
  {
   "cell_type": "code",
   "execution_count": 69,
   "metadata": {},
   "outputs": [
    {
     "data": {
      "text/plain": [
       "'p_{1} q_{1} (P q_{2} - P - T q_{4}) - p_{2} (q_{3} - 1) (P q_{2} - P - T q_{4}) + p_{3} (- P q_{1} q_{2} + P q_{2} q_{3} + P q_{2} - P q_{3} + R q_{2} q_{4} - S q_{2} q_{4} + S q_{4}) + p_{4} (- R q_{2} q_{4} + R q_{4} + S q_{2} q_{4} - S q_{2} - S q_{4} + S + T q_{1} q_{4} - T q_{3} q_{4} + T q_{3} - T q_{4})'"
      ]
     },
     "execution_count": 69,
     "metadata": {},
     "output_type": "execute_result"
    }
   ],
   "source": [
    "sym.latex(linear_expr).replace(\"\\\\left\", \"\").replace(\"\\\\right\", \"\")"
   ]
  },
  {
   "cell_type": "code",
   "execution_count": 70,
   "metadata": {},
   "outputs": [],
   "source": [
    "constant = numerator.subs({p_2: 0, p_3: 0, p_4: 0, p_1: 0})"
   ]
  },
  {
   "cell_type": "code",
   "execution_count": 71,
   "metadata": {},
   "outputs": [
    {
     "data": {
      "image/png": "[encoded data removed]",
      "text/latex": [
       "$$- P q_{2} + P + T q_{4}$$"
      ],
      "text/plain": [
       "-P⋅q₂ + P + T⋅q₄"
      ]
     },
     "execution_count": 71,
     "metadata": {},
     "output_type": "execute_result"
    }
   ],
   "source": [
    "constant"
   ]
  },
  {
   "cell_type": "code",
   "execution_count": 72,
   "metadata": {},
   "outputs": [
    {
     "data": {
      "text/plain": [
       "'- P q_{2} + P + T q_{4}'"
      ]
     },
     "execution_count": 72,
     "metadata": {},
     "output_type": "execute_result"
    }
   ],
   "source": [
    "sym.latex(constant)"
   ]
  },
  {
   "cell_type": "code",
   "execution_count": 33,
   "metadata": {},
   "outputs": [
    {
     "data": {
      "image/png": "[encoded data removed]",
      "text/latex": [
       "$$- 2 P p_{1} p_{2} q_{1} q_{2} + 2 P p_{1} p_{2} q_{1} + 2 P p_{1} p_{2} q_{2} q_{3} - 2 P p_{1} p_{2} q_{3} + 2 P p_{1} p_{3} q_{1} q_{3} - 2 P p_{1} p_{3} q_{2} q_{3} + 2 P p_{1} q_{1} q_{2} - 2 P p_{1} q_{1} + 2 P p_{2} p_{3} q_{1} q_{2} - 2 P p_{2} p_{3} q_{1} q_{3} - 2 P p_{2} p_{3} q_{2} + 2 P p_{2} p_{3} q_{3} - 2 P p_{2} q_{2} q_{3} + 2 P p_{2} q_{2} + 2 P p_{2} q_{3} - 2 P p_{2} - 2 P p_{3} q_{1} q_{2} + 2 P p_{3} q_{2} q_{3} + 2 P p_{3} q_{2} - 2 P p_{3} q_{3} - 2 R p_{2} p_{3} q_{2} q_{4} + 2 R p_{2} p_{3} q_{3} q_{4} - 2 R p_{2} p_{4} q_{2} q_{3} + 2 R p_{2} p_{4} q_{2} q_{4} + 2 R p_{2} p_{4} q_{3} - 2 R p_{2} p_{4} q_{4} + 2 R p_{3} p_{4} q_{2} q_{3} - 2 R p_{3} p_{4} q_{3} q_{4} + 2 R p_{3} q_{2} q_{4} - 2 R p_{4} q_{2} q_{4} + 2 R p_{4} q_{4} - 2 S p_{1} p_{3} q_{1} q_{4} + 2 S p_{1} p_{3} q_{2} q_{4} + 2 S p_{1} p_{4} q_{1} q_{2} - 2 S p_{1} p_{4} q_{1} - 2 S p_{1} p_{4} q_{2} q_{4} + 2 S p_{1} p_{4} q_{4} - 2 S p_{3} p_{4} q_{1} q_{2} + 2 S p_{3} p_{4} q_{1} q_{4} + 2 S p_{3} p_{4} q_{2} - 2 S p_{3} p_{4} q_{4} - 2 S p_{3} q_{2} q_{4} + 2 S p_{3} q_{4} + 2 S p_{4} q_{2} q_{4} - 2 S p_{4} q_{2} - 2 S p_{4} q_{4} + 2 S p_{4} + 2 T p_{1} p_{2} q_{1} q_{4} - 2 T p_{1} p_{2} q_{3} q_{4} - 2 T p_{1} p_{4} q_{1} q_{3} + 2 T p_{1} p_{4} q_{3} q_{4} - 2 T p_{1} q_{1} q_{4} + 2 T p_{2} p_{4} q_{1} q_{3} - 2 T p_{2} p_{4} q_{1} q_{4} - 2 T p_{2} p_{4} q_{3} + 2 T p_{2} p_{4} q_{4} + 2 T p_{2} q_{3} q_{4} - 2 T p_{2} q_{4} + 2 T p_{4} q_{1} q_{4} - 2 T p_{4} q_{3} q_{4} + 2 T p_{4} q_{3} - 2 T p_{4} q_{4}$$"
      ],
      "text/plain": [
       "-2⋅P⋅p₁⋅p₂⋅q₁⋅q₂ + 2⋅P⋅p₁⋅p₂⋅q₁ + 2⋅P⋅p₁⋅p₂⋅q₂⋅q₃ - 2⋅P⋅p₁⋅p₂⋅q₃ + 2⋅P⋅p₁⋅p₃⋅q\n",
       "₁⋅q₃ - 2⋅P⋅p₁⋅p₃⋅q₂⋅q₃ + 2⋅P⋅p₁⋅q₁⋅q₂ - 2⋅P⋅p₁⋅q₁ + 2⋅P⋅p₂⋅p₃⋅q₁⋅q₂ - 2⋅P⋅p₂⋅p\n",
       "₃⋅q₁⋅q₃ - 2⋅P⋅p₂⋅p₃⋅q₂ + 2⋅P⋅p₂⋅p₃⋅q₃ - 2⋅P⋅p₂⋅q₂⋅q₃ + 2⋅P⋅p₂⋅q₂ + 2⋅P⋅p₂⋅q₃ -\n",
       " 2⋅P⋅p₂ - 2⋅P⋅p₃⋅q₁⋅q₂ + 2⋅P⋅p₃⋅q₂⋅q₃ + 2⋅P⋅p₃⋅q₂ - 2⋅P⋅p₃⋅q₃ - 2⋅R⋅p₂⋅p₃⋅q₂⋅q\n",
       "₄ + 2⋅R⋅p₂⋅p₃⋅q₃⋅q₄ - 2⋅R⋅p₂⋅p₄⋅q₂⋅q₃ + 2⋅R⋅p₂⋅p₄⋅q₂⋅q₄ + 2⋅R⋅p₂⋅p₄⋅q₃ - 2⋅R⋅p\n",
       "₂⋅p₄⋅q₄ + 2⋅R⋅p₃⋅p₄⋅q₂⋅q₃ - 2⋅R⋅p₃⋅p₄⋅q₃⋅q₄ + 2⋅R⋅p₃⋅q₂⋅q₄ - 2⋅R⋅p₄⋅q₂⋅q₄ + 2⋅\n",
       "R⋅p₄⋅q₄ - 2⋅S⋅p₁⋅p₃⋅q₁⋅q₄ + 2⋅S⋅p₁⋅p₃⋅q₂⋅q₄ + 2⋅S⋅p₁⋅p₄⋅q₁⋅q₂ - 2⋅S⋅p₁⋅p₄⋅q₁ -\n",
       " 2⋅S⋅p₁⋅p₄⋅q₂⋅q₄ + 2⋅S⋅p₁⋅p₄⋅q₄ - 2⋅S⋅p₃⋅p₄⋅q₁⋅q₂ + 2⋅S⋅p₃⋅p₄⋅q₁⋅q₄ + 2⋅S⋅p₃⋅p\n",
       "₄⋅q₂ - 2⋅S⋅p₃⋅p₄⋅q₄ - 2⋅S⋅p₃⋅q₂⋅q₄ + 2⋅S⋅p₃⋅q₄ + 2⋅S⋅p₄⋅q₂⋅q₄ - 2⋅S⋅p₄⋅q₂ - 2⋅\n",
       "S⋅p₄⋅q₄ + 2⋅S⋅p₄ + 2⋅T⋅p₁⋅p₂⋅q₁⋅q₄ - 2⋅T⋅p₁⋅p₂⋅q₃⋅q₄ - 2⋅T⋅p₁⋅p₄⋅q₁⋅q₃ + 2⋅T⋅p\n",
       "₁⋅p₄⋅q₃⋅q₄ - 2⋅T⋅p₁⋅q₁⋅q₄ + 2⋅T⋅p₂⋅p₄⋅q₁⋅q₃ - 2⋅T⋅p₂⋅p₄⋅q₁⋅q₄ - 2⋅T⋅p₂⋅p₄⋅q₃ +\n",
       " 2⋅T⋅p₂⋅p₄⋅q₄ + 2⋅T⋅p₂⋅q₃⋅q₄ - 2⋅T⋅p₂⋅q₄ + 2⋅T⋅p₄⋅q₁⋅q₄ - 2⋅T⋅p₄⋅q₃⋅q₄ + 2⋅T⋅p\n",
       "₄⋅q₃ - 2⋅T⋅p₄⋅q₄"
      ]
     },
     "execution_count": 33,
     "metadata": {},
     "output_type": "execute_result"
    }
   ],
   "source": [
    "((constant - linear_expr - cross_prod) - numerator).simplify()"
   ]
  },
  {
   "cell_type": "code",
   "execution_count": 36,
   "metadata": {},
   "outputs": [
    {
     "data": {
      "image/png": "[encoded data removed]",
      "text/latex": [
       "$$0$$"
      ],
      "text/plain": [
       "0"
      ]
     },
     "execution_count": 36,
     "metadata": {},
     "output_type": "execute_result"
    }
   ],
   "source": [
    "((cross_prod + linear_expr + constant) - numerator).factor()"
   ]
  },
  {
   "cell_type": "markdown",
   "metadata": {},
   "source": [
    "**Denominator**"
   ]
  },
  {
   "cell_type": "code",
   "execution_count": 59,
   "metadata": {},
   "outputs": [],
   "source": [
    "denominator_elements = [[denominator.coeff(f1 * f2) * f1 * f2 for f2 in p] for f1 in p]"
   ]
  },
  {
   "cell_type": "code",
   "execution_count": 60,
   "metadata": {},
   "outputs": [],
   "source": [
    "flat_elements = list(itertools.chain.from_iterable(denominator_elements))"
   ]
  },
  {
   "cell_type": "code",
   "execution_count": 61,
   "metadata": {},
   "outputs": [],
   "source": [
    "cross_prod = sum(flat_elements) / 2"
   ]
  },
  {
   "cell_type": "code",
   "execution_count": 62,
   "metadata": {},
   "outputs": [
    {
     "data": {
      "image/png": "[encoded data removed]",
      "text/latex": [
       "$$p_{1} p_{2} \\left(q_{1} q_{2} - q_{1} q_{4} - q_{1} - q_{2} q_{3} + q_{3} q_{4} + q_{3}\\right) + p_{1} p_{3} \\left(- q_{1} q_{3} + q_{1} q_{4} + q_{2} q_{3} - q_{2} q_{4}\\right) + p_{1} p_{4} \\left(- q_{1} q_{2} + q_{1} q_{3} + q_{1} + q_{2} q_{4} - q_{3} q_{4} - q_{4}\\right) + p_{2} p_{3} \\left(- q_{1} q_{2} + q_{1} q_{3} + q_{2} q_{4} + q_{2} - q_{3} q_{4} - q_{3}\\right) + p_{2} p_{4} \\left(- q_{1} q_{3} + q_{1} q_{4} + q_{2} q_{3} - q_{2} q_{4}\\right) + p_{3} p_{4} \\left(q_{1} q_{2} - q_{1} q_{4} - q_{2} q_{3} - q_{2} + q_{3} q_{4} + q_{4}\\right)$$"
      ],
      "text/plain": [
       "p₁⋅p₂⋅(q₁⋅q₂ - q₁⋅q₄ - q₁ - q₂⋅q₃ + q₃⋅q₄ + q₃) + p₁⋅p₃⋅(-q₁⋅q₃ + q₁⋅q₄ + q₂⋅q\n",
       "₃ - q₂⋅q₄) + p₁⋅p₄⋅(-q₁⋅q₂ + q₁⋅q₃ + q₁ + q₂⋅q₄ - q₃⋅q₄ - q₄) + p₂⋅p₃⋅(-q₁⋅q₂ \n",
       "+ q₁⋅q₃ + q₂⋅q₄ + q₂ - q₃⋅q₄ - q₃) + p₂⋅p₄⋅(-q₁⋅q₃ + q₁⋅q₄ + q₂⋅q₃ - q₂⋅q₄) + \n",
       "p₃⋅p₄⋅(q₁⋅q₂ - q₁⋅q₄ - q₂⋅q₃ - q₂ + q₃⋅q₄ + q₄)"
      ]
     },
     "execution_count": 62,
     "metadata": {},
     "output_type": "execute_result"
    }
   ],
   "source": [
    "cross_prod"
   ]
  },
  {
   "cell_type": "code",
   "execution_count": 63,
   "metadata": {},
   "outputs": [
    {
     "data": {
      "text/plain": [
       "'p_{1} p_{2} (q_{1} q_{2} - q_{1} q_{4} - q_{1} - q_{2} q_{3} + q_{3} q_{4} + q_{3}) + p_{1} p_{3} (- q_{1} q_{3} + q_{1} q_{4} + q_{2} q_{3} - q_{2} q_{4}) + p_{1} p_{4} (- q_{1} q_{2} + q_{1} q_{3} + q_{1} + q_{2} q_{4} - q_{3} q_{4} - q_{4}) + p_{2} p_{3} (- q_{1} q_{2} + q_{1} q_{3} + q_{2} q_{4} + q_{2} - q_{3} q_{4} - q_{3}) + p_{2} p_{4} (- q_{1} q_{3} + q_{1} q_{4} + q_{2} q_{3} - q_{2} q_{4}) + p_{3} p_{4} (q_{1} q_{2} - q_{1} q_{4} - q_{2} q_{3} - q_{2} + q_{3} q_{4} + q_{4})'"
      ]
     },
     "execution_count": 63,
     "metadata": {},
     "output_type": "execute_result"
    }
   ],
   "source": [
    "sym.latex(cross_prod).replace(\"\\\\left\", \"\").replace(\"\\\\right\", \"\")"
   ]
  },
  {
   "cell_type": "code",
   "execution_count": 64,
   "metadata": {},
   "outputs": [],
   "source": [
    "linear_expr = denominator.subs({p_2: 0, p_3: 0, p_4: 0}).coeff(p_1) * p_1\n",
    "linear_expr += denominator.subs({p_1: 0, p_3: 0, p_4: 0}).coeff(p_2) * p_2\n",
    "linear_expr += denominator.subs({p_1: 0, p_2: 0, p_4: 0}).coeff(p_3) * p_3\n",
    "linear_expr += denominator.subs({p_1: 0, p_2: 0, p_3: 0}).coeff(p_4) * p_4"
   ]
  },
  {
   "cell_type": "code",
   "execution_count": 65,
   "metadata": {},
   "outputs": [
    {
     "data": {
      "text/plain": [
       "'p_{1} (- q_{1} q_{2} + q_{1} q_{4} + q_{1}) + p_{2} (q_{2} q_{3} - q_{2} - q_{3} q_{4} - q_{3} + q_{4} + 1) + p_{3} (q_{1} q_{2} - q_{2} q_{3} - q_{2} + q_{3} - q_{4}) + p_{4} (- q_{1} q_{4} + q_{2} + q_{3} q_{4} - q_{3} + q_{4} - 1)'"
      ]
     },
     "execution_count": 65,
     "metadata": {},
     "output_type": "execute_result"
    }
   ],
   "source": [
    "sym.latex(linear_expr).replace(\"\\\\left\", \"\").replace(\"\\\\right\", \"\")"
   ]
  },
  {
   "cell_type": "code",
   "execution_count": 66,
   "metadata": {},
   "outputs": [],
   "source": [
    "constant = denominator.subs({p_2: 0, p_3: 0, p_4: 0, p_1: 0})"
   ]
  },
  {
   "cell_type": "code",
   "execution_count": 67,
   "metadata": {},
   "outputs": [
    {
     "data": {
      "image/png": "[encoded data removed]",
      "text/latex": [
       "$$q_{2} - q_{4} - 1$$"
      ],
      "text/plain": [
       "q₂ - q₄ - 1"
      ]
     },
     "execution_count": 67,
     "metadata": {},
     "output_type": "execute_result"
    }
   ],
   "source": [
    "constant"
   ]
  },
  {
   "cell_type": "code",
   "execution_count": 68,
   "metadata": {},
   "outputs": [
    {
     "data": {
      "text/plain": [
       "'q_{2} - q_{4} - 1'"
      ]
     },
     "execution_count": 68,
     "metadata": {},
     "output_type": "execute_result"
    }
   ],
   "source": [
    "sym.latex(constant)"
   ]
  }
 ],
 "metadata": {
  "kernelspec": {
   "display_name": "opt-mo",
   "language": "python",
   "name": "opt-mo"
  },
  "language_info": {
   "codemirror_mode": {
    "name": "ipython",
    "version": 3
   },
   "file_extension": ".py",
   "mimetype": "text/x-python",
   "name": "python",
   "nbconvert_exporter": "python",
   "pygments_lexer": "ipython3",
   "version": "3.6.7"
  }
 },
 "nbformat": 4,
 "nbformat_minor": 2
}
