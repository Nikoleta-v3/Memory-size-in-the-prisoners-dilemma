{
 "cells": [
  {
   "cell_type": "code",
   "execution_count": 12,
   "metadata": {},
   "outputs": [],
   "source": [
    "import opt_mo\n",
    "import numpy as np\n",
    "import sympy as sym\n",
    "import itertools\n",
    "\n",
    "sym.init_printing()\n"
   ]
  },
  {
   "cell_type": "code",
   "execution_count": 2,
   "metadata": {},
   "outputs": [],
   "source": [
    "p_1, p_2, p_3, p_4 = sym.symbols(\"p_1, p_2, p_3, p_4\")\n",
    "q_1, q_2, q_3, q_4 = sym.symbols(\"q_1, q_2, q_3, q_4\")\n"
   ]
  },
  {
   "cell_type": "code",
   "execution_count": 3,
   "metadata": {},
   "outputs": [],
   "source": [
    "p = (p_1, p_2, p_3, p_4)\n",
    "q = (q_1, q_2, q_3, q_4)\n"
   ]
  },
  {
   "cell_type": "code",
   "execution_count": 4,
   "metadata": {},
   "outputs": [],
   "source": [
    "pi_1, pi_2, pi_3, pi_4 = sym.symbols(\"pi_1, pi_2, pi_3, pi_4\")\n",
    "pi = (pi_1, pi_2, pi_3, pi_4)\n"
   ]
  },
  {
   "cell_type": "markdown",
   "metadata": {},
   "source": [
    "**Theorem 1 Proof**"
   ]
  },
  {
   "cell_type": "markdown",
   "metadata": {},
   "source": [
    "As discrubed in Section 2 the utility of a memory one player against another is given by the steady states of M\n",
    "multiplied by the payoffs."
   ]
  },
  {
   "cell_type": "code",
   "execution_count": 5,
   "metadata": {},
   "outputs": [],
   "source": [
    "M = opt_mo.mem_one_match_markov_chain(player=p, opponent=q)\n"
   ]
  },
  {
   "cell_type": "code",
   "execution_count": 6,
   "metadata": {},
   "outputs": [],
   "source": [
    "ss = opt_mo.steady_states(M, pi)\n"
   ]
  },
  {
   "cell_type": "code",
   "execution_count": 7,
   "metadata": {},
   "outputs": [],
   "source": [
    "v = sym.Matrix([[ss[pi_1]], [ss[pi_2]], [ss[pi_3]], [ss[pi_4]]])\n"
   ]
  },
  {
   "cell_type": "code",
   "execution_count": 8,
   "metadata": {},
   "outputs": [],
   "source": [
    "utility = v.dot(np.array([3, 0, 5, 1]))"
   ]
  },
  {
   "cell_type": "code",
   "execution_count": 10,
   "metadata": {},
   "outputs": [],
   "source": [
    "expr = utility.factor()"
   ]
  },
  {
   "cell_type": "code",
   "execution_count": 11,
   "metadata": {},
   "outputs": [],
   "source": [
    "numerator, denominator = sym.fraction(expr)"
   ]
  },
  {
   "cell_type": "code",
   "execution_count": 29,
   "metadata": {},
   "outputs": [
    {
     "data": {
      "image/png": "[encoded data removed]",
      "text/latex": [
       "$$p_{1} p_{2} q_{1} q_{2} - 5 p_{1} p_{2} q_{1} q_{4} - p_{1} p_{2} q_{1} - p_{1} p_{2} q_{2} q_{3} + 5 p_{1} p_{2} q_{3} q_{4} + p_{1} p_{2} q_{3} - p_{1} p_{3} q_{1} q_{3} + p_{1} p_{3} q_{2} q_{3} + 5 p_{1} p_{4} q_{1} q_{3} - 5 p_{1} p_{4} q_{3} q_{4} - p_{1} q_{1} q_{2} + 5 p_{1} q_{1} q_{4} + p_{1} q_{1} - p_{2} p_{3} q_{1} q_{2} + p_{2} p_{3} q_{1} q_{3} + 3 p_{2} p_{3} q_{2} q_{4} + p_{2} p_{3} q_{2} - 3 p_{2} p_{3} q_{3} q_{4} - p_{2} p_{3} q_{3} - 5 p_{2} p_{4} q_{1} q_{3} + 5 p_{2} p_{4} q_{1} q_{4} + 3 p_{2} p_{4} q_{2} q_{3} - 3 p_{2} p_{4} q_{2} q_{4} + 2 p_{2} p_{4} q_{3} - 2 p_{2} p_{4} q_{4} + p_{2} q_{2} q_{3} - p_{2} q_{2} - 5 p_{2} q_{3} q_{4} - p_{2} q_{3} + 5 p_{2} q_{4} + p_{2} - 3 p_{3} p_{4} q_{2} q_{3} + 3 p_{3} p_{4} q_{3} q_{4} + p_{3} q_{1} q_{2} - p_{3} q_{2} q_{3} - 3 p_{3} q_{2} q_{4} - p_{3} q_{2} + p_{3} q_{3} - 5 p_{4} q_{1} q_{4} + 3 p_{4} q_{2} q_{4} + 5 p_{4} q_{3} q_{4} - 5 p_{4} q_{3} + 2 p_{4} q_{4} + q_{2} - 5 q_{4} - 1$$"
      ],
      "text/plain": [
       "p₁⋅p₂⋅q₁⋅q₂ - 5⋅p₁⋅p₂⋅q₁⋅q₄ - p₁⋅p₂⋅q₁ - p₁⋅p₂⋅q₂⋅q₃ + 5⋅p₁⋅p₂⋅q₃⋅q₄ + p₁⋅p₂⋅q\n",
       "₃ - p₁⋅p₃⋅q₁⋅q₃ + p₁⋅p₃⋅q₂⋅q₃ + 5⋅p₁⋅p₄⋅q₁⋅q₃ - 5⋅p₁⋅p₄⋅q₃⋅q₄ - p₁⋅q₁⋅q₂ + 5⋅p\n",
       "₁⋅q₁⋅q₄ + p₁⋅q₁ - p₂⋅p₃⋅q₁⋅q₂ + p₂⋅p₃⋅q₁⋅q₃ + 3⋅p₂⋅p₃⋅q₂⋅q₄ + p₂⋅p₃⋅q₂ - 3⋅p₂⋅\n",
       "p₃⋅q₃⋅q₄ - p₂⋅p₃⋅q₃ - 5⋅p₂⋅p₄⋅q₁⋅q₃ + 5⋅p₂⋅p₄⋅q₁⋅q₄ + 3⋅p₂⋅p₄⋅q₂⋅q₃ - 3⋅p₂⋅p₄⋅\n",
       "q₂⋅q₄ + 2⋅p₂⋅p₄⋅q₃ - 2⋅p₂⋅p₄⋅q₄ + p₂⋅q₂⋅q₃ - p₂⋅q₂ - 5⋅p₂⋅q₃⋅q₄ - p₂⋅q₃ + 5⋅p₂\n",
       "⋅q₄ + p₂ - 3⋅p₃⋅p₄⋅q₂⋅q₃ + 3⋅p₃⋅p₄⋅q₃⋅q₄ + p₃⋅q₁⋅q₂ - p₃⋅q₂⋅q₃ - 3⋅p₃⋅q₂⋅q₄ - \n",
       "p₃⋅q₂ + p₃⋅q₃ - 5⋅p₄⋅q₁⋅q₄ + 3⋅p₄⋅q₂⋅q₄ + 5⋅p₄⋅q₃⋅q₄ - 5⋅p₄⋅q₃ + 2⋅p₄⋅q₄ + q₂ \n",
       "- 5⋅q₄ - 1"
      ]
     },
     "execution_count": 29,
     "metadata": {},
     "output_type": "execute_result"
    }
   ],
   "source": [
    "numerator\n"
   ]
  },
  {
   "cell_type": "code",
   "execution_count": 13,
   "metadata": {},
   "outputs": [],
   "source": [
    "numerator_elements = [[numerator.coeff(f1 * f2) * f1 * f2 for f2 in p] for f1 in p]"
   ]
  },
  {
   "cell_type": "code",
   "execution_count": 15,
   "metadata": {},
   "outputs": [],
   "source": [
    "flat_elements = list(itertools.chain.from_iterable(numerator_elements))"
   ]
  },
  {
   "cell_type": "code",
   "execution_count": 22,
   "metadata": {},
   "outputs": [],
   "source": [
    "cross_prod = sum(flat_elements) / 2"
   ]
  },
  {
   "cell_type": "code",
   "execution_count": 33,
   "metadata": {},
   "outputs": [
    {
     "data": {
      "image/png": "[encoded data removed]",
      "text/latex": [
       "$$p_{1} p_{2} \\left(q_{1} q_{2} - 5 q_{1} q_{4} - q_{1} - q_{2} q_{3} + 5 q_{3} q_{4} + q_{3}\\right) + p_{1} p_{3} \\left(- q_{1} q_{3} + q_{2} q_{3}\\right) + p_{1} p_{4} \\left(5 q_{1} q_{3} - 5 q_{3} q_{4}\\right) + p_{2} p_{3} \\left(- q_{1} q_{2} + q_{1} q_{3} + 3 q_{2} q_{4} + q_{2} - 3 q_{3} q_{4} - q_{3}\\right) + p_{2} p_{4} \\left(- 5 q_{1} q_{3} + 5 q_{1} q_{4} + 3 q_{2} q_{3} - 3 q_{2} q_{4} + 2 q_{3} - 2 q_{4}\\right) + p_{3} p_{4} \\left(- 3 q_{2} q_{3} + 3 q_{3} q_{4}\\right)$$"
      ],
      "text/plain": [
       "p₁⋅p₂⋅(q₁⋅q₂ - 5⋅q₁⋅q₄ - q₁ - q₂⋅q₃ + 5⋅q₃⋅q₄ + q₃) + p₁⋅p₃⋅(-q₁⋅q₃ + q₂⋅q₃) +\n",
       " p₁⋅p₄⋅(5⋅q₁⋅q₃ - 5⋅q₃⋅q₄) + p₂⋅p₃⋅(-q₁⋅q₂ + q₁⋅q₃ + 3⋅q₂⋅q₄ + q₂ - 3⋅q₃⋅q₄ - \n",
       "q₃) + p₂⋅p₄⋅(-5⋅q₁⋅q₃ + 5⋅q₁⋅q₄ + 3⋅q₂⋅q₃ - 3⋅q₂⋅q₄ + 2⋅q₃ - 2⋅q₄) + p₃⋅p₄⋅(-3\n",
       "⋅q₂⋅q₃ + 3⋅q₃⋅q₄)"
      ]
     },
     "execution_count": 33,
     "metadata": {},
     "output_type": "execute_result"
    }
   ],
   "source": [
    "cross_prod"
   ]
  },
  {
   "cell_type": "code",
   "execution_count": 23,
   "metadata": {},
   "outputs": [
    {
     "data": {
      "text/plain": [
       "'p_{1} p_{2} (q_{1} q_{2} - 5 q_{1} q_{4} - q_{1} - q_{2} q_{3} + 5 q_{3} q_{4} + q_{3}) + p_{1} p_{3} (- q_{1} q_{3} + q_{2} q_{3}) + p_{1} p_{4} (5 q_{1} q_{3} - 5 q_{3} q_{4}) + p_{2} p_{3} (- q_{1} q_{2} + q_{1} q_{3} + 3 q_{2} q_{4} + q_{2} - 3 q_{3} q_{4} - q_{3}) + p_{2} p_{4} (- 5 q_{1} q_{3} + 5 q_{1} q_{4} + 3 q_{2} q_{3} - 3 q_{2} q_{4} + 2 q_{3} - 2 q_{4}) + p_{3} p_{4} (- 3 q_{2} q_{3} + 3 q_{3} q_{4})'"
      ]
     },
     "execution_count": 23,
     "metadata": {},
     "output_type": "execute_result"
    }
   ],
   "source": [
    "sym.latex(sum(flat_elements) / 2).replace(\"\\\\left\", \"\").replace(\"\\\\right\", \"\")"
   ]
  },
  {
   "cell_type": "code",
   "execution_count": 42,
   "metadata": {},
   "outputs": [],
   "source": [
    "linear_expr = numerator.subs({p_2: 0, p_3: 0, p_4: 0}).coeff(p_1) * p_1\n",
    "linear_expr += numerator.subs({p_1: 0, p_3: 0, p_4: 0}).coeff(p_2) * p_2\n",
    "linear_expr += numerator.subs({p_1: 0, p_2: 0, p_4: 0}).coeff(p_3) * p_3\n",
    "linear_expr += numerator.subs({p_1: 0, p_2: 0, p_3: 0}).coeff(p_4) * p_4"
   ]
  },
  {
   "cell_type": "code",
   "execution_count": 43,
   "metadata": {},
   "outputs": [
    {
     "data": {
      "image/png": "[encoded data removed]",
      "text/latex": [
       "$$p_{1} \\left(- q_{1} q_{2} + 5 q_{1} q_{4} + q_{1}\\right) + p_{2} \\left(q_{2} q_{3} - q_{2} - 5 q_{3} q_{4} - q_{3} + 5 q_{4} + 1\\right) + p_{3} \\left(q_{1} q_{2} - q_{2} q_{3} - 3 q_{2} q_{4} - q_{2} + q_{3}\\right) + p_{4} \\left(- 5 q_{1} q_{4} + 3 q_{2} q_{4} + 5 q_{3} q_{4} - 5 q_{3} + 2 q_{4}\\right)$$"
      ],
      "text/plain": [
       "p₁⋅(-q₁⋅q₂ + 5⋅q₁⋅q₄ + q₁) + p₂⋅(q₂⋅q₃ - q₂ - 5⋅q₃⋅q₄ - q₃ + 5⋅q₄ + 1) + p₃⋅(q\n",
       "₁⋅q₂ - q₂⋅q₃ - 3⋅q₂⋅q₄ - q₂ + q₃) + p₄⋅(-5⋅q₁⋅q₄ + 3⋅q₂⋅q₄ + 5⋅q₃⋅q₄ - 5⋅q₃ + \n",
       "2⋅q₄)"
      ]
     },
     "execution_count": 43,
     "metadata": {},
     "output_type": "execute_result"
    }
   ],
   "source": [
    "linear_expr"
   ]
  },
  {
   "cell_type": "code",
   "execution_count": 58,
   "metadata": {},
   "outputs": [
    {
     "data": {
      "text/plain": [
       "'p_{1} (- q_{1} q_{2} + 5 q_{1} q_{4} + q_{1}) + p_{2} (q_{2} q_{3} - q_{2} - 5 q_{3} q_{4} - q_{3} + 5 q_{4} + 1) + p_{3} (q_{1} q_{2} - q_{2} q_{3} - 3 q_{2} q_{4} - q_{2} + q_{3}) + p_{4} (- 5 q_{1} q_{4} + 3 q_{2} q_{4} + 5 q_{3} q_{4} - 5 q_{3} + 2 q_{4})'"
      ]
     },
     "execution_count": 58,
     "metadata": {},
     "output_type": "execute_result"
    }
   ],
   "source": [
    "sym.latex(linear_expr).replace(\"\\\\left\", \"\").replace(\"\\\\right\", \"\")"
   ]
  },
  {
   "cell_type": "code",
   "execution_count": 54,
   "metadata": {},
   "outputs": [],
   "source": [
    "constant = numerator.subs({p_2: 0, p_3: 0, p_4: 0, p_1: 0})"
   ]
  },
  {
   "cell_type": "code",
   "execution_count": 55,
   "metadata": {},
   "outputs": [
    {
     "data": {
      "image/png": "[encoded data removed]",
      "text/latex": [
       "$$q_{2} - 5 q_{4} - 1$$"
      ],
      "text/plain": [
       "q₂ - 5⋅q₄ - 1"
      ]
     },
     "execution_count": 55,
     "metadata": {},
     "output_type": "execute_result"
    }
   ],
   "source": [
    "constant"
   ]
  },
  {
   "cell_type": "code",
   "execution_count": 59,
   "metadata": {},
   "outputs": [
    {
     "data": {
      "text/plain": [
       "'q_{2} - 5 q_{4} - 1'"
      ]
     },
     "execution_count": 59,
     "metadata": {},
     "output_type": "execute_result"
    }
   ],
   "source": [
    "sym.latex(constant)"
   ]
  },
  {
   "cell_type": "code",
   "execution_count": 61,
   "metadata": {},
   "outputs": [
    {
     "data": {
      "image/png": "[encoded data removed]",
      "text/latex": [
       "$$0$$"
      ],
      "text/plain": [
       "0"
      ]
     },
     "execution_count": 61,
     "metadata": {},
     "output_type": "execute_result"
    }
   ],
   "source": [
    "((constant + linear_expr + cross_prod) - numerator).simplify()"
   ]
  },
  {
   "cell_type": "markdown",
   "metadata": {},
   "source": [
    "**Denominator**"
   ]
  },
  {
   "cell_type": "code",
   "execution_count": 62,
   "metadata": {},
   "outputs": [],
   "source": [
    "denominator_elements = [[denominator.coeff(f1 * f2) * f1 * f2 for f2 in p] for f1 in p]"
   ]
  },
  {
   "cell_type": "code",
   "execution_count": 66,
   "metadata": {},
   "outputs": [],
   "source": [
    "flat_elements = list(itertools.chain.from_iterable(denominator_elements))"
   ]
  },
  {
   "cell_type": "code",
   "execution_count": 67,
   "metadata": {},
   "outputs": [],
   "source": [
    "cross_prod = sum(flat_elements) / 2"
   ]
  },
  {
   "cell_type": "code",
   "execution_count": 68,
   "metadata": {},
   "outputs": [
    {
     "data": {
      "image/png": "[encoded data removed]",
      "text/latex": [
       "$$p_{1} p_{2} \\left(q_{1} q_{2} - q_{1} q_{4} - q_{1} - q_{2} q_{3} + q_{3} q_{4} + q_{3}\\right) + p_{1} p_{3} \\left(- q_{1} q_{3} + q_{1} q_{4} + q_{2} q_{3} - q_{2} q_{4}\\right) + p_{1} p_{4} \\left(- q_{1} q_{2} + q_{1} q_{3} + q_{1} + q_{2} q_{4} - q_{3} q_{4} - q_{4}\\right) + p_{2} p_{3} \\left(- q_{1} q_{2} + q_{1} q_{3} + q_{2} q_{4} + q_{2} - q_{3} q_{4} - q_{3}\\right) + p_{2} p_{4} \\left(- q_{1} q_{3} + q_{1} q_{4} + q_{2} q_{3} - q_{2} q_{4}\\right) + p_{3} p_{4} \\left(q_{1} q_{2} - q_{1} q_{4} - q_{2} q_{3} - q_{2} + q_{3} q_{4} + q_{4}\\right)$$"
      ],
      "text/plain": [
       "p₁⋅p₂⋅(q₁⋅q₂ - q₁⋅q₄ - q₁ - q₂⋅q₃ + q₃⋅q₄ + q₃) + p₁⋅p₃⋅(-q₁⋅q₃ + q₁⋅q₄ + q₂⋅q\n",
       "₃ - q₂⋅q₄) + p₁⋅p₄⋅(-q₁⋅q₂ + q₁⋅q₃ + q₁ + q₂⋅q₄ - q₃⋅q₄ - q₄) + p₂⋅p₃⋅(-q₁⋅q₂ \n",
       "+ q₁⋅q₃ + q₂⋅q₄ + q₂ - q₃⋅q₄ - q₃) + p₂⋅p₄⋅(-q₁⋅q₃ + q₁⋅q₄ + q₂⋅q₃ - q₂⋅q₄) + \n",
       "p₃⋅p₄⋅(q₁⋅q₂ - q₁⋅q₄ - q₂⋅q₃ - q₂ + q₃⋅q₄ + q₄)"
      ]
     },
     "execution_count": 68,
     "metadata": {},
     "output_type": "execute_result"
    }
   ],
   "source": [
    "cross_prod"
   ]
  },
  {
   "cell_type": "code",
   "execution_count": 70,
   "metadata": {},
   "outputs": [
    {
     "data": {
      "text/plain": [
       "'p_{1} p_{2} (q_{1} q_{2} - q_{1} q_{4} - q_{1} - q_{2} q_{3} + q_{3} q_{4} + q_{3}) + p_{1} p_{3} (- q_{1} q_{3} + q_{1} q_{4} + q_{2} q_{3} - q_{2} q_{4}) + p_{1} p_{4} (- q_{1} q_{2} + q_{1} q_{3} + q_{1} + q_{2} q_{4} - q_{3} q_{4} - q_{4}) + p_{2} p_{3} (- q_{1} q_{2} + q_{1} q_{3} + q_{2} q_{4} + q_{2} - q_{3} q_{4} - q_{3}) + p_{2} p_{4} (- q_{1} q_{3} + q_{1} q_{4} + q_{2} q_{3} - q_{2} q_{4}) + p_{3} p_{4} (q_{1} q_{2} - q_{1} q_{4} - q_{2} q_{3} - q_{2} + q_{3} q_{4} + q_{4})'"
      ]
     },
     "execution_count": 70,
     "metadata": {},
     "output_type": "execute_result"
    }
   ],
   "source": [
    "sym.latex(cross_prod).replace(\"\\\\left\", \"\").replace(\"\\\\right\", \"\")"
   ]
  },
  {
   "cell_type": "code",
   "execution_count": 71,
   "metadata": {},
   "outputs": [],
   "source": [
    "linear_expr = denominator.subs({p_2: 0, p_3: 0, p_4: 0}).coeff(p_1) * p_1\n",
    "linear_expr += denominator.subs({p_1: 0, p_3: 0, p_4: 0}).coeff(p_2) * p_2\n",
    "linear_expr += denominator.subs({p_1: 0, p_2: 0, p_4: 0}).coeff(p_3) * p_3\n",
    "linear_expr += denominator.subs({p_1: 0, p_2: 0, p_3: 0}).coeff(p_4) * p_4"
   ]
  },
  {
   "cell_type": "code",
   "execution_count": 74,
   "metadata": {},
   "outputs": [
    {
     "data": {
      "text/plain": [
       "'p_{1} (- q_{1} q_{2} + q_{1} q_{4} + q_{1}) + p_{2} (q_{2} q_{3} - q_{2} - q_{3} q_{4} - q_{3} + q_{4} + 1) + p_{3} (q_{1} q_{2} - q_{2} q_{3} - q_{2} + q_{3} - q_{4}) + p_{4} (- q_{1} q_{4} + q_{2} + q_{3} q_{4} - q_{3} + q_{4} - 1)'"
      ]
     },
     "execution_count": 74,
     "metadata": {},
     "output_type": "execute_result"
    }
   ],
   "source": [
    "sym.latex(linear_expr).replace(\"\\\\left\", \"\").replace(\"\\\\right\", \"\")"
   ]
  },
  {
   "cell_type": "code",
   "execution_count": 75,
   "metadata": {},
   "outputs": [],
   "source": [
    "constant = denominator.subs({p_2: 0, p_3: 0, p_4: 0, p_1: 0})"
   ]
  },
  {
   "cell_type": "code",
   "execution_count": 76,
   "metadata": {},
   "outputs": [
    {
     "data": {
      "image/png": "[encoded data removed]",
      "text/latex": [
       "$$q_{2} - q_{4} - 1$$"
      ],
      "text/plain": [
       "q₂ - q₄ - 1"
      ]
     },
     "execution_count": 76,
     "metadata": {},
     "output_type": "execute_result"
    }
   ],
   "source": [
    "constant"
   ]
  },
  {
   "cell_type": "code",
   "execution_count": 77,
   "metadata": {},
   "outputs": [
    {
     "data": {
      "text/plain": [
       "'q_{2} - q_{4} - 1'"
      ]
     },
     "execution_count": 77,
     "metadata": {},
     "output_type": "execute_result"
    }
   ],
   "source": [
    "sym.latex(constant)"
   ]
  },
  {
   "cell_type": "code",
   "execution_count": 165,
   "metadata": {},
   "outputs": [
    {
     "data": {
      "image/png": "[encoded data removed]",
      "text/latex": [
       "$$\\left[\\begin{matrix}0 & q_{1} q_{2} - 5 q_{1} q_{4} - q_{1} - q_{2} q_{3} + 5 q_{3} q_{4} + q_{3} & - q_{1} q_{3} + q_{2} q_{3} & 5 q_{1} q_{3} - 5 q_{3} q_{4}\\\\q_{1} q_{2} - 5 q_{1} q_{4} - q_{1} - q_{2} q_{3} + 5 q_{3} q_{4} + q_{3} & 0 & - q_{1} q_{2} + q_{1} q_{3} + 3 q_{2} q_{4} + q_{2} - 3 q_{3} q_{4} - q_{3} & - 5 q_{1} q_{3} + 5 q_{1} q_{4} + 3 q_{2} q_{3} - 3 q_{2} q_{4} + 2 q_{3} - 2 q_{4}\\\\- q_{1} q_{3} + q_{2} q_{3} & - q_{1} q_{2} + q_{1} q_{3} + 3 q_{2} q_{4} + q_{2} - 3 q_{3} q_{4} - q_{3} & 0 & - 3 q_{2} q_{3} + 3 q_{3} q_{4}\\\\5 q_{1} q_{3} - 5 q_{3} q_{4} & - 5 q_{1} q_{3} + 5 q_{1} q_{4} + 3 q_{2} q_{3} - 3 q_{2} q_{4} + 2 q_{3} - 2 q_{4} & - 3 q_{2} q_{3} + 3 q_{3} q_{4} & 0\\end{matrix}\\right]$$"
      ],
      "text/plain": [
       "⎡                     0                           q₁⋅q₂ - 5⋅q₁⋅q₄ - q₁ - q₂⋅q₃\n",
       "⎢                                                                             \n",
       "⎢q₁⋅q₂ - 5⋅q₁⋅q₄ - q₁ - q₂⋅q₃ + 5⋅q₃⋅q₄ + q₃                           0      \n",
       "⎢                                                                             \n",
       "⎢              -q₁⋅q₃ + q₂⋅q₃                     -q₁⋅q₂ + q₁⋅q₃ + 3⋅q₂⋅q₄ + q\n",
       "⎢                                                                             \n",
       "⎣             5⋅q₁⋅q₃ - 5⋅q₃⋅q₄               -5⋅q₁⋅q₃ + 5⋅q₁⋅q₄ + 3⋅q₂⋅q₃ - 3\n",
       "\n",
       " + 5⋅q₃⋅q₄ + q₃                      -q₁⋅q₃ + q₂⋅q₃                           \n",
       "                                                                              \n",
       "                      -q₁⋅q₂ + q₁⋅q₃ + 3⋅q₂⋅q₄ + q₂ - 3⋅q₃⋅q₄ - q₃  -5⋅q₁⋅q₃ +\n",
       "                                                                              \n",
       "₂ - 3⋅q₃⋅q₄ - q₃                           0                                  \n",
       "                                                                              \n",
       "⋅q₂⋅q₄ + 2⋅q₃ - 2⋅q₄               -3⋅q₂⋅q₃ + 3⋅q₃⋅q₄                         \n",
       "\n",
       "       5⋅q₁⋅q₃ - 5⋅q₃⋅q₄                  ⎤\n",
       "                                          ⎥\n",
       " 5⋅q₁⋅q₄ + 3⋅q₂⋅q₃ - 3⋅q₂⋅q₄ + 2⋅q₃ - 2⋅q₄⎥\n",
       "                                          ⎥\n",
       "       -3⋅q₂⋅q₃ + 3⋅q₃⋅q₄                 ⎥\n",
       "                                          ⎥\n",
       "               0                          ⎦"
      ]
     },
     "execution_count": 165,
     "metadata": {},
     "output_type": "execute_result"
    }
   ],
   "source": [
    "sym.Matrix(Q_num)"
   ]
  },
  {
   "cell_type": "code",
   "execution_count": 174,
   "metadata": {},
   "outputs": [
    {
     "data": {
      "image/png": "[encoded data removed]",
      "text/latex": [
       "$$p_{1} p_{2} \\left(q_{1} q_{2} - 5 q_{1} q_{4} - q_{1} - q_{2} q_{3} + 5 q_{3} q_{4} + q_{3}\\right) + p_{1} p_{3} \\left(- q_{1} q_{3} + q_{2} q_{3}\\right) + p_{1} p_{4} \\left(5 q_{1} q_{3} - 5 q_{3} q_{4}\\right) - p_{1} q_{1} q_{2} + 5 p_{1} q_{1} q_{4} + p_{1} q_{1} + p_{2} p_{3} \\left(- q_{1} q_{2} + q_{1} q_{3} + 3 q_{2} q_{4} + q_{2} - 3 q_{3} q_{4} - q_{3}\\right) + p_{2} p_{4} \\left(- 5 q_{1} q_{3} + 5 q_{1} q_{4} + 3 q_{2} q_{3} - 3 q_{2} q_{4} + 2 q_{3} - 2 q_{4}\\right) + p_{2} q_{2} q_{3} - p_{2} q_{2} - 5 p_{2} q_{3} q_{4} - p_{2} q_{3} + 5 p_{2} q_{4} + p_{2} - 3 p_{3} p_{4} q_{2} q_{3} + 3 p_{3} p_{4} q_{3} q_{4} + p_{3} q_{1} q_{2} - p_{3} q_{2} q_{3} - 3 p_{3} q_{2} q_{4} - p_{3} q_{2} + p_{3} q_{3} - 5 p_{4} q_{1} q_{4} + 3 p_{4} q_{2} q_{4} + 5 p_{4} q_{3} q_{4} - 5 p_{4} q_{3} + 2 p_{4} q_{4} + q_{2} - 5 q_{4} - 1$$"
      ],
      "text/plain": [
       "p₁⋅p₂⋅(q₁⋅q₂ - 5⋅q₁⋅q₄ - q₁ - q₂⋅q₃ + 5⋅q₃⋅q₄ + q₃) + p₁⋅p₃⋅(-q₁⋅q₃ + q₂⋅q₃) +\n",
       " p₁⋅p₄⋅(5⋅q₁⋅q₃ - 5⋅q₃⋅q₄) - p₁⋅q₁⋅q₂ + 5⋅p₁⋅q₁⋅q₄ + p₁⋅q₁ + p₂⋅p₃⋅(-q₁⋅q₂ + q\n",
       "₁⋅q₃ + 3⋅q₂⋅q₄ + q₂ - 3⋅q₃⋅q₄ - q₃) + p₂⋅p₄⋅(-5⋅q₁⋅q₃ + 5⋅q₁⋅q₄ + 3⋅q₂⋅q₃ - 3⋅\n",
       "q₂⋅q₄ + 2⋅q₃ - 2⋅q₄) + p₂⋅q₂⋅q₃ - p₂⋅q₂ - 5⋅p₂⋅q₃⋅q₄ - p₂⋅q₃ + 5⋅p₂⋅q₄ + p₂ - \n",
       "3⋅p₃⋅p₄⋅q₂⋅q₃ + 3⋅p₃⋅p₄⋅q₃⋅q₄ + p₃⋅q₁⋅q₂ - p₃⋅q₂⋅q₃ - 3⋅p₃⋅q₂⋅q₄ - p₃⋅q₂ + p₃⋅\n",
       "q₃ - 5⋅p₄⋅q₁⋅q₄ + 3⋅p₄⋅q₂⋅q₄ + 5⋅p₄⋅q₃⋅q₄ - 5⋅p₄⋅q₃ + 2⋅p₄⋅q₄ + q₂ - 5⋅q₄ - 1"
      ]
     },
     "execution_count": 174,
     "metadata": {},
     "output_type": "execute_result"
    }
   ],
   "source": [
    "n.collect(p_1 * p_2).collect(p_1 * p_3).collect(p_1 * p_4).collect(p_2 * p_3).collect(p_2 * p_4)"
   ]
  },
  {
   "cell_type": "code",
   "execution_count": 195,
   "metadata": {},
   "outputs": [],
   "source": []
  },
  {
   "cell_type": "code",
   "execution_count": 196,
   "metadata": {},
   "outputs": [],
   "source": [
    "element = [[n.coeff(f1 * f2) * f1 * f2 for f2 in p] for f1 in p]"
   ]
  },
  {
   "cell_type": "code",
   "execution_count": 192,
   "metadata": {},
   "outputs": [],
   "source": [
    "flat_elements = list(itertools.chain.from_iterable(list2d))"
   ]
  },
  {
   "cell_type": "code",
   "execution_count": 194,
   "metadata": {},
   "outputs": [
    {
     "data": {
      "text/plain": [
       "<function __main__.<lambda>(l)>"
      ]
     },
     "execution_count": 194,
     "metadata": {},
     "output_type": "execute_result"
    }
   ],
   "source": [
    "flat_elements"
   ]
  },
  {
   "cell_type": "code",
   "execution_count": 185,
   "metadata": {},
   "outputs": [],
   "source": [
    "expr = 0\n",
    "for i in range(3):\n",
    "    for j in range()\n",
    "    expr+= n.coeff(p[i] * p[i + 1]) * p[i] * p[i + 1]"
   ]
  },
  {
   "cell_type": "code",
   "execution_count": 186,
   "metadata": {},
   "outputs": [
    {
     "data": {
      "image/png": "[encoded data removed]",
      "text/latex": [
       "$$p_{1} p_{2} \\left(q_{1} q_{2} - 5 q_{1} q_{4} - q_{1} - q_{2} q_{3} + 5 q_{3} q_{4} + q_{3}\\right) + p_{2} p_{3} \\left(- q_{1} q_{2} + q_{1} q_{3} + 3 q_{2} q_{4} + q_{2} - 3 q_{3} q_{4} - q_{3}\\right) + p_{3} p_{4} \\left(- 3 q_{2} q_{3} + 3 q_{3} q_{4}\\right)$$"
      ],
      "text/plain": [
       "p₁⋅p₂⋅(q₁⋅q₂ - 5⋅q₁⋅q₄ - q₁ - q₂⋅q₃ + 5⋅q₃⋅q₄ + q₃) + p₂⋅p₃⋅(-q₁⋅q₂ + q₁⋅q₃ + \n",
       "3⋅q₂⋅q₄ + q₂ - 3⋅q₃⋅q₄ - q₃) + p₃⋅p₄⋅(-3⋅q₂⋅q₃ + 3⋅q₃⋅q₄)"
      ]
     },
     "execution_count": 186,
     "metadata": {},
     "output_type": "execute_result"
    }
   ],
   "source": [
    "expr"
   ]
  },
  {
   "cell_type": "code",
   "execution_count": 179,
   "metadata": {},
   "outputs": [
    {
     "data": {
      "image/png": "[encoded data removed]",
      "text/latex": [
       "$$p_{1} p_{2} q_{1} q_{2} - 5 p_{1} p_{2} q_{1} q_{4} - p_{1} p_{2} q_{1} - p_{1} p_{2} q_{2} q_{3} + 5 p_{1} p_{2} q_{3} q_{4} + p_{1} p_{2} q_{3} - p_{1} p_{3} q_{1} q_{3} + p_{1} p_{3} q_{2} q_{3} + 5 p_{1} p_{4} q_{1} q_{3} - 5 p_{1} p_{4} q_{3} q_{4} - 2 p_{1} q_{1} q_{2} - 4 p_{1} q_{1} q_{3} + 10 p_{1} q_{1} q_{4} + 2 p_{1} q_{1} - p_{1} q_{3} - p_{2} p_{3} q_{1} q_{2} + p_{2} p_{3} q_{1} q_{3} + 3 p_{2} p_{3} q_{2} q_{4} + p_{2} p_{3} q_{2} - 3 p_{2} p_{3} q_{3} q_{4} - p_{2} p_{3} q_{3} - 5 p_{2} p_{4} q_{1} q_{3} + 5 p_{2} p_{4} q_{1} q_{4} + 3 p_{2} p_{4} q_{2} q_{3} - 3 p_{2} p_{4} q_{2} q_{4} + 2 p_{2} p_{4} q_{3} - 2 p_{2} p_{4} q_{4} + 4 p_{2} q_{1} q_{3} + p_{2} q_{1} - p_{2} q_{2} q_{3} - 2 p_{2} q_{2} - 7 p_{2} q_{3} q_{4} - 3 p_{2} q_{3} + 7 p_{2} q_{4} + p_{2} - 3 p_{3} p_{4} q_{2} q_{3} + 3 p_{3} p_{4} q_{3} q_{4} + 2 p_{3} q_{1} q_{2} + p_{3} q_{2} q_{3} - 6 p_{3} q_{2} q_{4} - 2 p_{3} q_{2} + 2 p_{3} q_{3} - 10 p_{4} q_{1} q_{4} + 6 p_{4} q_{2} q_{4} + 7 p_{4} q_{3} q_{4} - 7 p_{4} q_{3} + 4 p_{4} q_{4} - q_{1} + 3 q_{2} + 5 q_{3} - 12 q_{4} - 2$$"
      ],
      "text/plain": [
       "p₁⋅p₂⋅q₁⋅q₂ - 5⋅p₁⋅p₂⋅q₁⋅q₄ - p₁⋅p₂⋅q₁ - p₁⋅p₂⋅q₂⋅q₃ + 5⋅p₁⋅p₂⋅q₃⋅q₄ + p₁⋅p₂⋅q\n",
       "₃ - p₁⋅p₃⋅q₁⋅q₃ + p₁⋅p₃⋅q₂⋅q₃ + 5⋅p₁⋅p₄⋅q₁⋅q₃ - 5⋅p₁⋅p₄⋅q₃⋅q₄ - 2⋅p₁⋅q₁⋅q₂ - 4\n",
       "⋅p₁⋅q₁⋅q₃ + 10⋅p₁⋅q₁⋅q₄ + 2⋅p₁⋅q₁ - p₁⋅q₃ - p₂⋅p₃⋅q₁⋅q₂ + p₂⋅p₃⋅q₁⋅q₃ + 3⋅p₂⋅p\n",
       "₃⋅q₂⋅q₄ + p₂⋅p₃⋅q₂ - 3⋅p₂⋅p₃⋅q₃⋅q₄ - p₂⋅p₃⋅q₃ - 5⋅p₂⋅p₄⋅q₁⋅q₃ + 5⋅p₂⋅p₄⋅q₁⋅q₄ \n",
       "+ 3⋅p₂⋅p₄⋅q₂⋅q₃ - 3⋅p₂⋅p₄⋅q₂⋅q₄ + 2⋅p₂⋅p₄⋅q₃ - 2⋅p₂⋅p₄⋅q₄ + 4⋅p₂⋅q₁⋅q₃ + p₂⋅q₁\n",
       " - p₂⋅q₂⋅q₃ - 2⋅p₂⋅q₂ - 7⋅p₂⋅q₃⋅q₄ - 3⋅p₂⋅q₃ + 7⋅p₂⋅q₄ + p₂ - 3⋅p₃⋅p₄⋅q₂⋅q₃ + \n",
       "3⋅p₃⋅p₄⋅q₃⋅q₄ + 2⋅p₃⋅q₁⋅q₂ + p₃⋅q₂⋅q₃ - 6⋅p₃⋅q₂⋅q₄ - 2⋅p₃⋅q₂ + 2⋅p₃⋅q₃ - 10⋅p₄\n",
       "⋅q₁⋅q₄ + 6⋅p₄⋅q₂⋅q₄ + 7⋅p₄⋅q₃⋅q₄ - 7⋅p₄⋅q₃ + 4⋅p₄⋅q₄ - q₁ + 3⋅q₂ + 5⋅q₃ - 12⋅q\n",
       "₄ - 2"
      ]
     },
     "execution_count": 179,
     "metadata": {},
     "output_type": "execute_result"
    }
   ],
   "source": [
    "(n - expr).simplify()"
   ]
  },
  {
   "cell_type": "code",
   "execution_count": null,
   "metadata": {},
   "outputs": [],
   "source": []
  }
 ],
 "metadata": {
  "kernelspec": {
   "display_name": "opt-mo",
   "language": "python",
   "name": "opt-mo"
  },
  "language_info": {
   "codemirror_mode": {
    "name": "ipython",
    "version": 3
   },
   "file_extension": ".py",
   "mimetype": "text/x-python",
   "name": "python",
   "nbconvert_exporter": "python",
   "pygments_lexer": "ipython3",
   "version": "3.6.7"
  }
 },
 "nbformat": 4,
 "nbformat_minor": 2
}
