{
 "cells": [
  {
   "cell_type": "code",
   "execution_count": 37,
   "metadata": {
    "collapsed": true
   },
   "outputs": [],
   "source": [
    "import sympy as sym\n",
    "\n",
    "sym.init_printing()"
   ]
  },
  {
   "cell_type": "code",
   "execution_count": 38,
   "metadata": {
    "collapsed": true
   },
   "outputs": [],
   "source": [
    "import axelrod as axl\n",
    "import numpy as np\n",
    "import opt_mo"
   ]
  },
  {
   "cell_type": "code",
   "execution_count": 39,
   "metadata": {
    "collapsed": true
   },
   "outputs": [],
   "source": [
    "import matplotlib.pyplot as plt\n",
    "\n",
    "% matplotlib inline"
   ]
  },
  {
   "cell_type": "code",
   "execution_count": 40,
   "metadata": {
    "collapsed": true
   },
   "outputs": [],
   "source": [
    "from fractions import Fraction"
   ]
  },
  {
   "cell_type": "code",
   "execution_count": 41,
   "metadata": {
    "collapsed": true
   },
   "outputs": [],
   "source": [
    "import matplotlib\n",
    "font = {'size'   : 15,\n",
    "        'weight': 'bold'}\n",
    "matplotlib.rc('font', **font)"
   ]
  },
  {
   "cell_type": "code",
   "execution_count": 42,
   "metadata": {
    "collapsed": true
   },
   "outputs": [],
   "source": [
    "import scipy\n",
    "from numpy import linalg as LA"
   ]
  },
  {
   "cell_type": "code",
   "execution_count": 43,
   "metadata": {
    "collapsed": true
   },
   "outputs": [],
   "source": [
    "p = sym.symbols('p')\n",
    "q_1, q_2, q_3, q_4 = sym.symbols('q_1, q_2, q_3, q_4')"
   ]
  },
  {
   "cell_type": "code",
   "execution_count": 44,
   "metadata": {
    "collapsed": true
   },
   "outputs": [],
   "source": [
    "ps, q = (p, p, p, p), (q_1 ,q_2 , q_3, q_4)"
   ]
  },
  {
   "cell_type": "markdown",
   "metadata": {},
   "source": [
    "**utility**"
   ]
  },
  {
   "cell_type": "code",
   "execution_count": 45,
   "metadata": {
    "collapsed": true
   },
   "outputs": [],
   "source": [
    "utility = opt_mo.utility(ps, q).simplify()"
   ]
  },
  {
   "cell_type": "code",
   "execution_count": 46,
   "metadata": {
    "collapsed": true
   },
   "outputs": [],
   "source": [
    "def p_plus(q):\n",
    "    \"\"\"\n",
    "    A function that return the plus p root of the differentiated utility's \n",
    "    numerator. \n",
    "    \"\"\"\n",
    "    q_1, q_2, q_3, q_4 = q\n",
    "\n",
    "    delta = (q_2 - 5*q_4 - 1) * (-q_1 + q_2 + 2*q_3 - 2 * q_4) * \\\n",
    "            (q_1 - q_2 - q_3 + q_4) ** 2 + (q_2 - q_4 - 1) ** 2 * \\\n",
    "                                           (-q_1 + q_2 + 2 * q_3 - 2 * q_4) ** 2 -\\\n",
    "            (q_2 - q_4 - 1) * (-q_1 + q_2 + 2 * q_3 - 2 * q_4) *\\\n",
    "            (q_1 - q_2 - q_3 + q_4) * (q_1 - 2 * q_2 - 5 * q_3 + 7 * q_4 + 1)\n",
    "\n",
    "    root = -((q_2 - q_4 - 1)*(-q_1 + q_2 + 2*q_3 - 2*q_4) - np.sqrt(delta))\\\n",
    "           / ((-q_1 + q_2 + 2*q_3 - 2*q_4)*(q_1 - q_2 - q_3 + q_4))\n",
    "\n",
    "    return root"
   ]
  },
  {
   "cell_type": "code",
   "execution_count": 47,
   "metadata": {
    "collapsed": true
   },
   "outputs": [],
   "source": [
    "def p_minus(q):\n",
    "    \"\"\"\n",
    "    A function that return the minus p  root of the differentiated utility's \n",
    "    numerator. \n",
    "    \"\"\"\n",
    "    q_1, q_2, q_3, q_4 = q\n",
    "\n",
    "    delta = (q_2 - 5 * q_4 - 1) * (-q_1 + q_2 + 2 * q_3 - 2 * q_4) * \\\n",
    "            (q_1 - q_2 - q_3 + q_4) ** 2 + (q_2 - q_4 - 1) ** 2 * \\\n",
    "            (-q_1 + q_2 + 2 * q_3 - 2 * q_4) ** 2 - (q_2 - q_4 - 1) * \\\n",
    "            (-q_1 + q_2 + 2 * q_3 - 2 * q_4) * (q_1 - q_2 - q_3 + q_4) * \\\n",
    "            (q_1 - 2 * q_2 - 5 * q_3 + 7 * q_4 + 1)\n",
    "\n",
    "    root = -((q_2 - q_4 - 1) * (-q_1 + q_2 + 2 * q_3 - 2 * q_4) + np.sqrt(\n",
    "        delta)) / ((-q_1 + q_2 + 2 * q_3 - 2 * q_4) * (q_1 - q_2 - q_3 + q_4))\n",
    "\n",
    "    return root"
   ]
  },
  {
   "cell_type": "code",
   "execution_count": 48,
   "metadata": {
    "collapsed": true
   },
   "outputs": [],
   "source": [
    "def solution_set(q):\n",
    "    \"\"\"\n",
    "    create S_q\n",
    "    \"\"\"\n",
    "    solution = set((0, 1))\n",
    "    q_1 ,q_2, q_3, q_4 = q\n",
    "    # ds for constrain\n",
    "    d_0 = q_2 - q_4 - 1\n",
    "    d_1 = q_1 - q_2 - q_3 + q_4\n",
    "    \n",
    "    # roots\n",
    "    \n",
    "    for p in [p_minus(q), p_plus(q)]: \n",
    "        if not np.iscomplex(p):\n",
    "            if (p != sym.nan) and (p != -d_0 / d_1) and (0 < p < 1):\n",
    "                solution.add(p)\n",
    "    \n",
    "    return solution"
   ]
  },
  {
   "cell_type": "code",
   "execution_count": 49,
   "metadata": {
    "collapsed": true
   },
   "outputs": [],
   "source": [
    "def argmax(q, fun=solution_set):\n",
    "    return max(fun(q), key=lambda p: opt_mo.utility((p, p, p, p), q))"
   ]
  },
  {
   "cell_type": "code",
   "execution_count": 50,
   "metadata": {
    "collapsed": true
   },
   "outputs": [],
   "source": [
    "def play_match(player, opponent, repetitions=50):\n",
    "    total = 0 \n",
    "    for rep in range(repetitions):\n",
    "        match = axl.Match(players=[player, opponent], turns=500)\n",
    "        _ = match.play()\n",
    "        \n",
    "        total += match.final_score_per_turn()[0]\n",
    "        \n",
    "    return total / repetitions"
   ]
  },
  {
   "cell_type": "code",
   "execution_count": 51,
   "metadata": {
    "collapsed": true
   },
   "outputs": [],
   "source": [
    "def plot_argmax(q, filename='../img/purely_random_match_one.pdf'):\n",
    "    ps = np.linspace(0, 1, 20)\n",
    "\n",
    "    theoretical = [opt_mo.utility((p, p, p, p), q) for p in ps]\n",
    "    simulated = [play_match(axl.Random(p), axl.MemoryOnePlayer(q)) for p in ps] \n",
    "    plt.figure(figsize=(7,5))\n",
    "    \n",
    "        # title\n",
    "    title = str([str(Fraction(i).limit_denominator()) for i in q])\n",
    "    title = title.replace('[','(').replace(']', ')').replace(\"'\", '')\n",
    "    plt.title('$q={}$'.format(title))\n",
    "    plt.plot(ps, theoretical, linestyle='-', color='maroon', linewidth=2,\n",
    "             zorder=1, label='$u_q(p)$')\n",
    "    plt.scatter(ps, simulated, marker='o', s=120, color='darkgreen', zorder=2,\n",
    "               label='$U_q(p)$', linewidth='2')\n",
    "    plt.axvline(argmax(q), color='orange', linestyle='-', label='$p^*$', linewidth=2, zorder=1)\n",
    "    plt.ylim(0, 5)\n",
    "    \n",
    "    plt.legend()\n",
    "    plt.tight_layout()\n",
    "    plt.xlabel('$p$')\n",
    "    \n",
    "    latex_name = '{}'.format(q)\n",
    "    latex_name = latex_name.replace(\".\", \"*\")\n",
    "    plt.savefig(filename)\n",
    "    plt.show()"
   ]
  },
  {
   "cell_type": "code",
   "execution_count": 52,
   "metadata": {},
   "outputs": [
    {
     "data": {
      "image/png": "[encoded data removed]",
      "text/plain": [
       "<Figure size 504x360 with 1 Axes>"
      ]
     },
     "metadata": {},
     "output_type": "display_data"
    }
   ],
   "source": [
    "plot_argmax((0.1, 0.2, 0.2, 0.3));"
   ]
  },
  {
   "cell_type": "code",
   "execution_count": 53,
   "metadata": {},
   "outputs": [
    {
     "data": {
      "image/png": "[encoded data removed]",
      "text/plain": [
       "<Figure size 504x360 with 1 Axes>"
      ]
     },
     "metadata": {},
     "output_type": "display_data"
    }
   ],
   "source": [
    "plot_argmax((1/3, 2/3, 1, 0), '../img/purely_random_match_two.pdf');"
   ]
  },
  {
   "cell_type": "code",
   "execution_count": 54,
   "metadata": {
    "collapsed": true
   },
   "outputs": [],
   "source": [
    "def tournament(player, opponents, repetitions=20):\n",
    "\n",
    "    tournament = axl.Tournament(players=(opponents + [player]), repetitions=repetitions)\n",
    "    results = tournament.play(progress_bar=False)\n",
    "    \n",
    "    return np.mean(results.normalised_scores[-1])"
   ]
  },
  {
   "cell_type": "code",
   "execution_count": 55,
   "metadata": {
    "collapsed": true
   },
   "outputs": [],
   "source": [
    "def random_set(opponents):\n",
    "    p = sym.symbols('p')\n",
    "    utility = -opt_mo.tournament_utility((p, p, p, p), opponents)\n",
    "    derivative = sym.diff(utility, p). factor()\n",
    "    num, den = sym.fraction(derivative)\n",
    "    \n",
    "    roots =  sym.solveset(num, p)\n",
    "    random_set =set()\n",
    "    for root in roots:\n",
    "        if root.is_real:\n",
    "            if root <= 1 and root >= 0:\n",
    "                random_set.add(root)\n",
    "    random_set |= set((0, 1))\n",
    "    return random_set"
   ]
  },
  {
   "cell_type": "code",
   "execution_count": 56,
   "metadata": {
    "collapsed": true
   },
   "outputs": [],
   "source": [
    "def argmax_tournament(q, fun=random_set):\n",
    "    return max(fun(q), key=lambda p: -opt_mo.tournament_utility((p, p, p, p), q))"
   ]
  },
  {
   "cell_type": "code",
   "execution_count": 62,
   "metadata": {
    "collapsed": true
   },
   "outputs": [],
   "source": [
    "def plot_argmax_tournament(opponents, filename='../img/purely_random_tournament_one.pdf'):\n",
    "    ps = np.linspace(0, 1, 20)\n",
    "    qs = [axl.MemoryOnePlayer(q) for q in opponents]\n",
    "\n",
    "    simulated = [tournament(axl.Random(p), qs) for p in ps]\n",
    "    theoretical = [-opt_mo.tournament_utility((p, p, p, p), opponents) for p in ps]\n",
    "    \n",
    "    plt.figure(figsize=(7, 5))\n",
    "    plt.figure()\n",
    "     \n",
    "    plt.plot(ps, theoretical, linestyle='-', color='maroon', linewidth=2,\n",
    "             zorder=1, label='$u_q(p)$')\n",
    "    plt.scatter(ps, simulated, marker='o', s=120, color='darkgreen', zorder=2,\n",
    "                label='$U_q(p)$', linewidth='2')\n",
    "     \n",
    "    plt.axvline(argmax_tournament(opponents), color='orange', linestyle='-', label='$p^*$', linewidth=2, zorder=1)\n",
    "    \n",
    "    plt.ylim(0, 5)\n",
    "    plt.legend()\n",
    "    plt.title('Tournament size $N={}$'.format(len(opponents)))\n",
    "    plt.tight_layout()\n",
    "    \n",
    "    plt.savefig(filename);"
   ]
  },
  {
   "cell_type": "code",
   "execution_count": 63,
   "metadata": {
    "collapsed": true
   },
   "outputs": [],
   "source": [
    "axl.seed(0)\n",
    "opponents = [np.random.random(4) for _ in range(2)]"
   ]
  },
  {
   "cell_type": "code",
   "execution_count": 64,
   "metadata": {},
   "outputs": [
    {
     "data": {
      "text/plain": [
       "<Figure size 504x360 with 0 Axes>"
      ]
     },
     "metadata": {},
     "output_type": "display_data"
    },
    {
     "data": {
      "image/png": "[encoded data removed]",
      "text/plain": [
       "<Figure size 432x288 with 1 Axes>"
      ]
     },
     "metadata": {},
     "output_type": "display_data"
    }
   ],
   "source": [
    "plot_argmax_tournament(opponents);"
   ]
  },
  {
   "cell_type": "code",
   "execution_count": 65,
   "metadata": {
    "collapsed": true
   },
   "outputs": [],
   "source": [
    "axl.seed(3)\n",
    "opponents = [np.random.random(4) for _ in range(3)]"
   ]
  },
  {
   "cell_type": "code",
   "execution_count": 66,
   "metadata": {},
   "outputs": [
    {
     "data": {
      "text/plain": [
       "<Figure size 504x360 with 0 Axes>"
      ]
     },
     "metadata": {},
     "output_type": "display_data"
    },
    {
     "data": {
      "image/png": "[encoded data removed]",
      "text/plain": [
       "<Figure size 432x288 with 1 Axes>"
      ]
     },
     "metadata": {},
     "output_type": "display_data"
    }
   ],
   "source": [
    "plot_argmax_tournament(opponents, filename='../img/purely_random_tournament_two.pdf');"
   ]
  },
  {
   "cell_type": "code",
   "execution_count": 68,
   "metadata": {
    "collapsed": true
   },
   "outputs": [],
   "source": [
    "def play_match(player, opponent, repetitions=5000):\n",
    "    total = 0 \n",
    "    players = [axl.MemoryOnePlayer(i) for i in [player, opponent]]\n",
    "    for rep in range(repetitions):\n",
    "        match = axl.Match(players=players, turns=5000)\n",
    "        _ = match.play()\n",
    "        \n",
    "        total += match.final_score_per_turn()[0]\n",
    "        \n",
    "    return total / repetitions"
   ]
  },
  {
   "cell_type": "code",
   "execution_count": null,
   "metadata": {},
   "outputs": [],
   "source": [
    "ps =  np.linspace(0, 1, 10)\n",
    "for q, label in zip([(1, 0, 1, 1/3), (1, 1/3, 1, 2/3)], ['linear.pdf', 'constant.pdf']):\n",
    "    opponent = q\n",
    "    \n",
    "    plt.figure()\n",
    "    theoretical = [opt_mo.utility((p, p, p, p), opponent) for p in ps]\n",
    "    simulated = [play_match((p, p ,p, p), opponent) for p in ps]\n",
    "\n",
    "    plt.plot(ps, theoretical, linestyle='-', color='maroon', linewidth=2,\n",
    "             zorder=1, label='$u_q(p)$')\n",
    "    plt.scatter(ps, simulated, marker='o', s=120, color='darkgreen', zorder=2,\n",
    "               label='$U_q(p)$', linewidth='2')\n",
    "    \n",
    "    # title\n",
    "    title = str([str(Fraction(i).limit_denominator()) for i in opponent])\n",
    "    title = title.replace('[','(').replace(']', ')').replace(\"'\", '')\n",
    "    \n",
    "    plt.title(r'$q={}$'.format(title))\n",
    "    plt.legend()\n",
    "    \n",
    "    plt.savefig('../img/{}'.format(label));"
   ]
  },
  {
   "cell_type": "code",
   "execution_count": null,
   "metadata": {
    "collapsed": true
   },
   "outputs": [],
   "source": []
  }
 ],
 "metadata": {
  "kernelspec": {
   "display_name": "opt-mo",
   "language": "python",
   "name": "opt-mo"
  },
  "language_info": {
   "codemirror_mode": {
    "name": "ipython",
    "version": 3
   },
   "file_extension": ".py",
   "mimetype": "text/x-python",
   "name": "python",
   "nbconvert_exporter": "python",
   "pygments_lexer": "ipython3",
   "version": "3.5.5"
  }
 },
 "nbformat": 4,
 "nbformat_minor": 2
}
