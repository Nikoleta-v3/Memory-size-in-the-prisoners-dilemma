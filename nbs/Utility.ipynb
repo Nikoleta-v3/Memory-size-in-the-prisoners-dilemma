{
 "cells": [
  {
   "cell_type": "markdown",
   "metadata": {},
   "source": [
    "# Utility\n",
    "\n",
    "The utility of a player $p$ against an opponent $q$ was define. In this notebook we explore the form of the utility."
   ]
  },
  {
   "cell_type": "markdown",
   "metadata": {},
   "source": [
    "\n",
    "We have studied the numerator and the denominator of $u$ separately. \n",
    "Both the numerator and the denominator can be written as a general quadratic\n",
    "form: \n",
    "\n",
    " $$1/2p^TQp + c^T p$$\n",
    "\n",
    "\n",
    "where $p$ is an $n \\times 1$ column vector of variables, $Q$ is a symetric $n \\times n$ matrix and a real-valued, $n$-dimensional vector $c$.\n",
    "\n",
    "Thus the objective function $u$ is the fraction/ratio of the two quadratic forms.\n",
    "\n",
    "Information on quadratic programming can be found [here](https://neos-guide.org/content/quadratic-programming, http://www.numerical.rl.ac.uk/people/nimg/qp/qp.html)."
   ]
  },
  {
   "cell_type": "code",
   "execution_count": 1,
   "metadata": {},
   "outputs": [],
   "source": [
    "import opt_mo\n",
    "import numpy as np\n",
    "import sympy as sym\n",
    "\n",
    "sym.init_printing()"
   ]
  },
  {
   "cell_type": "code",
   "execution_count": 2,
   "metadata": {},
   "outputs": [],
   "source": [
    "p_1, p_2, p_3, p_4 = sym.symbols(\"p_1, p_2, p_3, p_4\")\n",
    "q_1, q_2, q_3, q_4 = sym.symbols(\"q_1, q_2, q_3, q_4\")"
   ]
  },
  {
   "cell_type": "code",
   "execution_count": 3,
   "metadata": {},
   "outputs": [],
   "source": [
    "p = (p_1, p_2, p_3, p_4)\n",
    "q = (q_1, q_2, q_3, q_4)"
   ]
  },
  {
   "cell_type": "code",
   "execution_count": 4,
   "metadata": {},
   "outputs": [],
   "source": [
    "S_p = sym.Matrix([[3, 0, 5, 1]])"
   ]
  },
  {
   "cell_type": "code",
   "execution_count": 5,
   "metadata": {},
   "outputs": [],
   "source": [
    "def pd_utility(S_x, p, q):\n",
    "    \"\"\"\n",
    "    Returns the utility as a function\n",
    "    of p, q vectors. Based on Press and Dyson, 2012.\n",
    "    \"\"\"\n",
    "    B = opt_mo.make_B(S_x, p, q)\n",
    "    unit= opt_mo.make_B((1, 1, 1, 1), p, q)\n",
    "    return  B.det() / unit.det()"
   ]
  },
  {
   "cell_type": "code",
   "execution_count": 6,
   "metadata": {},
   "outputs": [],
   "source": [
    "utility = pd_utility(S_p, p, q)"
   ]
  },
  {
   "cell_type": "markdown",
   "metadata": {},
   "source": [
    "**Our formulation.**"
   ]
  },
  {
   "cell_type": "code",
   "execution_count": 7,
   "metadata": {},
   "outputs": [],
   "source": [
    "numerator = sym.fraction(utility.simplify())[0]\n",
    "denominator = sym.fraction(utility.simplify())[1]"
   ]
  },
  {
   "cell_type": "markdown",
   "metadata": {},
   "source": [
    "**Numerator**"
   ]
  },
  {
   "cell_type": "code",
   "execution_count": 54,
   "metadata": {},
   "outputs": [],
   "source": [
    "ps = np.array([[p_1, p_2, p_3, p_4]])\n",
    "Q_num = np.array([[numerator.coeff(f1 * f2) for f2 in p] for f1 in p])\n",
    "c_num = np.array([[numerator.subs({p_2:0, p_3:0, p_4:0}).coeff(p_1)], \n",
    "         [numerator.subs({p_1:0, p_3:0, p_4:0}).coeff(p_2)],\n",
    "         [numerator.subs({p_1:0, p_2:0, p_4:0}).coeff(p_3)],\n",
    "         [numerator.subs({p_1:0, p_2:0, p_3:0}).coeff(p_4)]])"
   ]
  },
  {
   "cell_type": "code",
   "execution_count": 69,
   "metadata": {},
   "outputs": [
    {
     "ename": "ValueError",
     "evalue": "shapes (1,4) and (1,4) not aligned: 4 (dim 1) != 1 (dim 0)",
     "output_type": "error",
     "traceback": [
      "\u001b[0;31m---------------------------------------------------------------------------\u001b[0m",
      "\u001b[0;31mValueError\u001b[0m                                Traceback (most recent call last)",
      "\u001b[0;32m<ipython-input-69-b1b9f38992d7>\u001b[0m in \u001b[0;36m<module>\u001b[0;34m()\u001b[0m\n\u001b[0;32m----> 1\u001b[0;31m \u001b[0mexpr\u001b[0m \u001b[0;34m=\u001b[0m \u001b[0mnp\u001b[0m\u001b[0;34m.\u001b[0m\u001b[0mdot\u001b[0m\u001b[0;34m(\u001b[0m\u001b[0mps\u001b[0m\u001b[0;34m,\u001b[0m \u001b[0mQ_num\u001b[0m\u001b[0;34m.\u001b[0m\u001b[0mdot\u001b[0m\u001b[0;34m(\u001b[0m\u001b[0mps\u001b[0m\u001b[0;34m.\u001b[0m\u001b[0mT\u001b[0m\u001b[0;34m)\u001b[0m \u001b[0;34m*\u001b[0m \u001b[0;36m1\u001b[0m\u001b[0;34m/\u001b[0m\u001b[0;36m2\u001b[0m\u001b[0;34m)\u001b[0m\u001b[0;34m+\u001b[0m \u001b[0;34m(\u001b[0m\u001b[0mc_num\u001b[0m\u001b[0;34m.\u001b[0m\u001b[0mT\u001b[0m\u001b[0;34m)\u001b[0m\u001b[0;34m.\u001b[0m\u001b[0mdot\u001b[0m\u001b[0;34m(\u001b[0m\u001b[0mps\u001b[0m\u001b[0;34m)\u001b[0m\u001b[0;34m\u001b[0m\u001b[0m\n\u001b[0m",
      "\u001b[0;31mValueError\u001b[0m: shapes (1,4) and (1,4) not aligned: 4 (dim 1) != 1 (dim 0)"
     ]
    }
   ],
   "source": [
    "expr = np.dot(ps, Q_num.dot(ps.T) * 1/2)+ (c_num.T).dot(ps)"
   ]
  },
  {
   "cell_type": "code",
   "execution_count": 71,
   "metadata": {},
   "outputs": [
    {
     "ename": "TypeError",
     "evalue": "'tuple' object is not callable",
     "output_type": "error",
     "traceback": [
      "\u001b[0;31m---------------------------------------------------------------------------\u001b[0m",
      "\u001b[0;31mTypeError\u001b[0m                                 Traceback (most recent call last)",
      "\u001b[0;32m<ipython-input-71-dcd5fde8e8b8>\u001b[0m in \u001b[0;36m<module>\u001b[0;34m()\u001b[0m\n\u001b[0;32m----> 1\u001b[0;31m \u001b[0mc_num\u001b[0m\u001b[0;34m.\u001b[0m\u001b[0mshape\u001b[0m\u001b[0;34m(\u001b[0m\u001b[0;34m)\u001b[0m\u001b[0;34m\u001b[0m\u001b[0m\n\u001b[0m",
      "\u001b[0;31mTypeError\u001b[0m: 'tuple' object is not callable"
     ]
    }
   ],
   "source": [
    "c_num.shape()"
   ]
  },
  {
   "cell_type": "code",
   "execution_count": 58,
   "metadata": {},
   "outputs": [
    {
     "data": {
      "text/plain": [
       "array([[ -p_1*p_2*q_1*q_2 + 5*p_1*p_2*q_1*q_4 + p_1*p_2*q_1 + p_1*p_2*q_2*q_3 - 5*p_1*p_2*q_3*q_4 - p_1*p_2*q_3 + p_1*p_3*q_1*q_3 - p_1*p_3*q_2*q_3 - 5*p_1*p_4*q_1*q_3 + 5*p_1*p_4*q_3*q_4 + p_1*q_1*q_2 - 5*p_1*q_1*q_4 - p_1*q_1 - p_1*(p_2*(-q_1*q_2 + 5*q_1*q_4 + q_1 + q_2*q_3 - 5*q_3*q_4 - q_3)/2 + p_3*(q_1*q_3 - q_2*q_3)/2 + p_4*(-5*q_1*q_3 + 5*q_3*q_4)/2) - p_1*(q_1*q_2 - 5*q_1*q_4 - q_1) + p_2*p_3*q_1*q_2 - p_2*p_3*q_1*q_3 - 3*p_2*p_3*q_2*q_4 - p_2*p_3*q_2 + 3*p_2*p_3*q_3*q_4 + p_2*p_3*q_3 + 5*p_2*p_4*q_1*q_3 - 5*p_2*p_4*q_1*q_4 - 3*p_2*p_4*q_2*q_3 + 3*p_2*p_4*q_2*q_4 - 2*p_2*p_4*q_3 + 2*p_2*p_4*q_4 - p_2*q_2*q_3 + p_2*q_2 + 5*p_2*q_3*q_4 + p_2*q_3 - 5*p_2*q_4 - p_2*(p_1*(-q_1*q_2 + 5*q_1*q_4 + q_1 + q_2*q_3 - 5*q_3*q_4 - q_3)/2 + p_3*(q_1*q_2 - q_1*q_3 - 3*q_2*q_4 - q_2 + 3*q_3*q_4 + q_3)/2 + p_4*(5*q_1*q_3 - 5*q_1*q_4 - 3*q_2*q_3 + 3*q_2*q_4 - 2*q_3 + 2*q_4)/2) - p_2 + 3*p_3*p_4*q_2*q_3 - 3*p_3*p_4*q_3*q_4 - p_3*q_1*q_2 + p_3*q_2*q_3 + 3*p_3*q_2*q_4 + p_3*q_2 - p_3*q_3 - p_3*(p_1*(q_1*q_3 - q_2*q_3)/2 + p_2*(q_1*q_2 - q_1*q_3 - 3*q_2*q_4 - q_2 + 3*q_3*q_4 + q_3)/2 + p_4*(3*q_2*q_3 - 3*q_3*q_4)/2) + 5*p_4*q_1*q_4 - 3*p_4*q_2*q_4 - 5*p_4*q_3*q_4 + 5*p_4*q_3 - 2*p_4*q_4 - p_4*(p_1*(-5*q_1*q_3 + 5*q_3*q_4)/2 + p_2*(5*q_1*q_3 - 5*q_1*q_4 - 3*q_2*q_3 + 3*q_2*q_4 - 2*q_3 + 2*q_4)/2 + p_3*(3*q_2*q_3 - 3*q_3*q_4)/2) - q_2 + 5*q_4 + 1,\n",
       "        -p_1*p_2*q_1*q_2 + 5*p_1*p_2*q_1*q_4 + p_1*p_2*q_1 + p_1*p_2*q_2*q_3 - 5*p_1*p_2*q_3*q_4 - p_1*p_2*q_3 + p_1*p_3*q_1*q_3 - p_1*p_3*q_2*q_3 - 5*p_1*p_4*q_1*q_3 + 5*p_1*p_4*q_3*q_4 + p_1*q_1*q_2 - 5*p_1*q_1*q_4 - p_1*q_1 - p_1*(p_2*(-q_1*q_2 + 5*q_1*q_4 + q_1 + q_2*q_3 - 5*q_3*q_4 - q_3)/2 + p_3*(q_1*q_3 - q_2*q_3)/2 + p_4*(-5*q_1*q_3 + 5*q_3*q_4)/2) + p_2*p_3*q_1*q_2 - p_2*p_3*q_1*q_3 - 3*p_2*p_3*q_2*q_4 - p_2*p_3*q_2 + 3*p_2*p_3*q_3*q_4 + p_2*p_3*q_3 + 5*p_2*p_4*q_1*q_3 - 5*p_2*p_4*q_1*q_4 - 3*p_2*p_4*q_2*q_3 + 3*p_2*p_4*q_2*q_4 - 2*p_2*p_4*q_3 + 2*p_2*p_4*q_4 - p_2*q_2*q_3 + p_2*q_2 + 5*p_2*q_3*q_4 + p_2*q_3 - 5*p_2*q_4 - p_2*(p_1*(-q_1*q_2 + 5*q_1*q_4 + q_1 + q_2*q_3 - 5*q_3*q_4 - q_3)/2 + p_3*(q_1*q_2 - q_1*q_3 - 3*q_2*q_4 - q_2 + 3*q_3*q_4 + q_3)/2 + p_4*(5*q_1*q_3 - 5*q_1*q_4 - 3*q_2*q_3 + 3*q_2*q_4 - 2*q_3 + 2*q_4)/2) - p_2*(q_1*q_2 - 5*q_1*q_4 - q_1) - p_2 + 3*p_3*p_4*q_2*q_3 - 3*p_3*p_4*q_3*q_4 - p_3*q_1*q_2 + p_3*q_2*q_3 + 3*p_3*q_2*q_4 + p_3*q_2 - p_3*q_3 - p_3*(p_1*(q_1*q_3 - q_2*q_3)/2 + p_2*(q_1*q_2 - q_1*q_3 - 3*q_2*q_4 - q_2 + 3*q_3*q_4 + q_3)/2 + p_4*(3*q_2*q_3 - 3*q_3*q_4)/2) + 5*p_4*q_1*q_4 - 3*p_4*q_2*q_4 - 5*p_4*q_3*q_4 + 5*p_4*q_3 - 2*p_4*q_4 - p_4*(p_1*(-5*q_1*q_3 + 5*q_3*q_4)/2 + p_2*(5*q_1*q_3 - 5*q_1*q_4 - 3*q_2*q_3 + 3*q_2*q_4 - 2*q_3 + 2*q_4)/2 + p_3*(3*q_2*q_3 - 3*q_3*q_4)/2) - q_2 + 5*q_4 + 1,\n",
       "        -p_1*p_2*q_1*q_2 + 5*p_1*p_2*q_1*q_4 + p_1*p_2*q_1 + p_1*p_2*q_2*q_3 - 5*p_1*p_2*q_3*q_4 - p_1*p_2*q_3 + p_1*p_3*q_1*q_3 - p_1*p_3*q_2*q_3 - 5*p_1*p_4*q_1*q_3 + 5*p_1*p_4*q_3*q_4 + p_1*q_1*q_2 - 5*p_1*q_1*q_4 - p_1*q_1 - p_1*(p_2*(-q_1*q_2 + 5*q_1*q_4 + q_1 + q_2*q_3 - 5*q_3*q_4 - q_3)/2 + p_3*(q_1*q_3 - q_2*q_3)/2 + p_4*(-5*q_1*q_3 + 5*q_3*q_4)/2) + p_2*p_3*q_1*q_2 - p_2*p_3*q_1*q_3 - 3*p_2*p_3*q_2*q_4 - p_2*p_3*q_2 + 3*p_2*p_3*q_3*q_4 + p_2*p_3*q_3 + 5*p_2*p_4*q_1*q_3 - 5*p_2*p_4*q_1*q_4 - 3*p_2*p_4*q_2*q_3 + 3*p_2*p_4*q_2*q_4 - 2*p_2*p_4*q_3 + 2*p_2*p_4*q_4 - p_2*q_2*q_3 + p_2*q_2 + 5*p_2*q_3*q_4 + p_2*q_3 - 5*p_2*q_4 - p_2*(p_1*(-q_1*q_2 + 5*q_1*q_4 + q_1 + q_2*q_3 - 5*q_3*q_4 - q_3)/2 + p_3*(q_1*q_2 - q_1*q_3 - 3*q_2*q_4 - q_2 + 3*q_3*q_4 + q_3)/2 + p_4*(5*q_1*q_3 - 5*q_1*q_4 - 3*q_2*q_3 + 3*q_2*q_4 - 2*q_3 + 2*q_4)/2) - p_2 + 3*p_3*p_4*q_2*q_3 - 3*p_3*p_4*q_3*q_4 - p_3*q_1*q_2 + p_3*q_2*q_3 + 3*p_3*q_2*q_4 + p_3*q_2 - p_3*q_3 - p_3*(p_1*(q_1*q_3 - q_2*q_3)/2 + p_2*(q_1*q_2 - q_1*q_3 - 3*q_2*q_4 - q_2 + 3*q_3*q_4 + q_3)/2 + p_4*(3*q_2*q_3 - 3*q_3*q_4)/2) - p_3*(q_1*q_2 - 5*q_1*q_4 - q_1) + 5*p_4*q_1*q_4 - 3*p_4*q_2*q_4 - 5*p_4*q_3*q_4 + 5*p_4*q_3 - 2*p_4*q_4 - p_4*(p_1*(-5*q_1*q_3 + 5*q_3*q_4)/2 + p_2*(5*q_1*q_3 - 5*q_1*q_4 - 3*q_2*q_3 + 3*q_2*q_4 - 2*q_3 + 2*q_4)/2 + p_3*(3*q_2*q_3 - 3*q_3*q_4)/2) - q_2 + 5*q_4 + 1,\n",
       "        -p_1*p_2*q_1*q_2 + 5*p_1*p_2*q_1*q_4 + p_1*p_2*q_1 + p_1*p_2*q_2*q_3 - 5*p_1*p_2*q_3*q_4 - p_1*p_2*q_3 + p_1*p_3*q_1*q_3 - p_1*p_3*q_2*q_3 - 5*p_1*p_4*q_1*q_3 + 5*p_1*p_4*q_3*q_4 + p_1*q_1*q_2 - 5*p_1*q_1*q_4 - p_1*q_1 - p_1*(p_2*(-q_1*q_2 + 5*q_1*q_4 + q_1 + q_2*q_3 - 5*q_3*q_4 - q_3)/2 + p_3*(q_1*q_3 - q_2*q_3)/2 + p_4*(-5*q_1*q_3 + 5*q_3*q_4)/2) + p_2*p_3*q_1*q_2 - p_2*p_3*q_1*q_3 - 3*p_2*p_3*q_2*q_4 - p_2*p_3*q_2 + 3*p_2*p_3*q_3*q_4 + p_2*p_3*q_3 + 5*p_2*p_4*q_1*q_3 - 5*p_2*p_4*q_1*q_4 - 3*p_2*p_4*q_2*q_3 + 3*p_2*p_4*q_2*q_4 - 2*p_2*p_4*q_3 + 2*p_2*p_4*q_4 - p_2*q_2*q_3 + p_2*q_2 + 5*p_2*q_3*q_4 + p_2*q_3 - 5*p_2*q_4 - p_2*(p_1*(-q_1*q_2 + 5*q_1*q_4 + q_1 + q_2*q_3 - 5*q_3*q_4 - q_3)/2 + p_3*(q_1*q_2 - q_1*q_3 - 3*q_2*q_4 - q_2 + 3*q_3*q_4 + q_3)/2 + p_4*(5*q_1*q_3 - 5*q_1*q_4 - 3*q_2*q_3 + 3*q_2*q_4 - 2*q_3 + 2*q_4)/2) - p_2 + 3*p_3*p_4*q_2*q_3 - 3*p_3*p_4*q_3*q_4 - p_3*q_1*q_2 + p_3*q_2*q_3 + 3*p_3*q_2*q_4 + p_3*q_2 - p_3*q_3 - p_3*(p_1*(q_1*q_3 - q_2*q_3)/2 + p_2*(q_1*q_2 - q_1*q_3 - 3*q_2*q_4 - q_2 + 3*q_3*q_4 + q_3)/2 + p_4*(3*q_2*q_3 - 3*q_3*q_4)/2) + 5*p_4*q_1*q_4 - 3*p_4*q_2*q_4 - 5*p_4*q_3*q_4 + 5*p_4*q_3 - 2*p_4*q_4 - p_4*(p_1*(-5*q_1*q_3 + 5*q_3*q_4)/2 + p_2*(5*q_1*q_3 - 5*q_1*q_4 - 3*q_2*q_3 + 3*q_2*q_4 - 2*q_3 + 2*q_4)/2 + p_3*(3*q_2*q_3 - 3*q_3*q_4)/2) - p_4*(q_1*q_2 - 5*q_1*q_4 - q_1) - q_2 + 5*q_4 + 1],\n",
       "       [ -p_1*p_2*q_1*q_2 + 5*p_1*p_2*q_1*q_4 + p_1*p_2*q_1 + p_1*p_2*q_2*q_3 - 5*p_1*p_2*q_3*q_4 - p_1*p_2*q_3 + p_1*p_3*q_1*q_3 - p_1*p_3*q_2*q_3 - 5*p_1*p_4*q_1*q_3 + 5*p_1*p_4*q_3*q_4 + p_1*q_1*q_2 - 5*p_1*q_1*q_4 - p_1*q_1 - p_1*(p_2*(-q_1*q_2 + 5*q_1*q_4 + q_1 + q_2*q_3 - 5*q_3*q_4 - q_3)/2 + p_3*(q_1*q_3 - q_2*q_3)/2 + p_4*(-5*q_1*q_3 + 5*q_3*q_4)/2) - p_1*(-q_2*q_3 + q_2 + 5*q_3*q_4 + q_3 - 5*q_4 - 1) + p_2*p_3*q_1*q_2 - p_2*p_3*q_1*q_3 - 3*p_2*p_3*q_2*q_4 - p_2*p_3*q_2 + 3*p_2*p_3*q_3*q_4 + p_2*p_3*q_3 + 5*p_2*p_4*q_1*q_3 - 5*p_2*p_4*q_1*q_4 - 3*p_2*p_4*q_2*q_3 + 3*p_2*p_4*q_2*q_4 - 2*p_2*p_4*q_3 + 2*p_2*p_4*q_4 - p_2*q_2*q_3 + p_2*q_2 + 5*p_2*q_3*q_4 + p_2*q_3 - 5*p_2*q_4 - p_2*(p_1*(-q_1*q_2 + 5*q_1*q_4 + q_1 + q_2*q_3 - 5*q_3*q_4 - q_3)/2 + p_3*(q_1*q_2 - q_1*q_3 - 3*q_2*q_4 - q_2 + 3*q_3*q_4 + q_3)/2 + p_4*(5*q_1*q_3 - 5*q_1*q_4 - 3*q_2*q_3 + 3*q_2*q_4 - 2*q_3 + 2*q_4)/2) - p_2 + 3*p_3*p_4*q_2*q_3 - 3*p_3*p_4*q_3*q_4 - p_3*q_1*q_2 + p_3*q_2*q_3 + 3*p_3*q_2*q_4 + p_3*q_2 - p_3*q_3 - p_3*(p_1*(q_1*q_3 - q_2*q_3)/2 + p_2*(q_1*q_2 - q_1*q_3 - 3*q_2*q_4 - q_2 + 3*q_3*q_4 + q_3)/2 + p_4*(3*q_2*q_3 - 3*q_3*q_4)/2) + 5*p_4*q_1*q_4 - 3*p_4*q_2*q_4 - 5*p_4*q_3*q_4 + 5*p_4*q_3 - 2*p_4*q_4 - p_4*(p_1*(-5*q_1*q_3 + 5*q_3*q_4)/2 + p_2*(5*q_1*q_3 - 5*q_1*q_4 - 3*q_2*q_3 + 3*q_2*q_4 - 2*q_3 + 2*q_4)/2 + p_3*(3*q_2*q_3 - 3*q_3*q_4)/2) - q_2 + 5*q_4 + 1,\n",
       "        -p_1*p_2*q_1*q_2 + 5*p_1*p_2*q_1*q_4 + p_1*p_2*q_1 + p_1*p_2*q_2*q_3 - 5*p_1*p_2*q_3*q_4 - p_1*p_2*q_3 + p_1*p_3*q_1*q_3 - p_1*p_3*q_2*q_3 - 5*p_1*p_4*q_1*q_3 + 5*p_1*p_4*q_3*q_4 + p_1*q_1*q_2 - 5*p_1*q_1*q_4 - p_1*q_1 - p_1*(p_2*(-q_1*q_2 + 5*q_1*q_4 + q_1 + q_2*q_3 - 5*q_3*q_4 - q_3)/2 + p_3*(q_1*q_3 - q_2*q_3)/2 + p_4*(-5*q_1*q_3 + 5*q_3*q_4)/2) + p_2*p_3*q_1*q_2 - p_2*p_3*q_1*q_3 - 3*p_2*p_3*q_2*q_4 - p_2*p_3*q_2 + 3*p_2*p_3*q_3*q_4 + p_2*p_3*q_3 + 5*p_2*p_4*q_1*q_3 - 5*p_2*p_4*q_1*q_4 - 3*p_2*p_4*q_2*q_3 + 3*p_2*p_4*q_2*q_4 - 2*p_2*p_4*q_3 + 2*p_2*p_4*q_4 - p_2*q_2*q_3 + p_2*q_2 + 5*p_2*q_3*q_4 + p_2*q_3 - 5*p_2*q_4 - p_2*(p_1*(-q_1*q_2 + 5*q_1*q_4 + q_1 + q_2*q_3 - 5*q_3*q_4 - q_3)/2 + p_3*(q_1*q_2 - q_1*q_3 - 3*q_2*q_4 - q_2 + 3*q_3*q_4 + q_3)/2 + p_4*(5*q_1*q_3 - 5*q_1*q_4 - 3*q_2*q_3 + 3*q_2*q_4 - 2*q_3 + 2*q_4)/2) - p_2*(-q_2*q_3 + q_2 + 5*q_3*q_4 + q_3 - 5*q_4 - 1) - p_2 + 3*p_3*p_4*q_2*q_3 - 3*p_3*p_4*q_3*q_4 - p_3*q_1*q_2 + p_3*q_2*q_3 + 3*p_3*q_2*q_4 + p_3*q_2 - p_3*q_3 - p_3*(p_1*(q_1*q_3 - q_2*q_3)/2 + p_2*(q_1*q_2 - q_1*q_3 - 3*q_2*q_4 - q_2 + 3*q_3*q_4 + q_3)/2 + p_4*(3*q_2*q_3 - 3*q_3*q_4)/2) + 5*p_4*q_1*q_4 - 3*p_4*q_2*q_4 - 5*p_4*q_3*q_4 + 5*p_4*q_3 - 2*p_4*q_4 - p_4*(p_1*(-5*q_1*q_3 + 5*q_3*q_4)/2 + p_2*(5*q_1*q_3 - 5*q_1*q_4 - 3*q_2*q_3 + 3*q_2*q_4 - 2*q_3 + 2*q_4)/2 + p_3*(3*q_2*q_3 - 3*q_3*q_4)/2) - q_2 + 5*q_4 + 1,\n",
       "        -p_1*p_2*q_1*q_2 + 5*p_1*p_2*q_1*q_4 + p_1*p_2*q_1 + p_1*p_2*q_2*q_3 - 5*p_1*p_2*q_3*q_4 - p_1*p_2*q_3 + p_1*p_3*q_1*q_3 - p_1*p_3*q_2*q_3 - 5*p_1*p_4*q_1*q_3 + 5*p_1*p_4*q_3*q_4 + p_1*q_1*q_2 - 5*p_1*q_1*q_4 - p_1*q_1 - p_1*(p_2*(-q_1*q_2 + 5*q_1*q_4 + q_1 + q_2*q_3 - 5*q_3*q_4 - q_3)/2 + p_3*(q_1*q_3 - q_2*q_3)/2 + p_4*(-5*q_1*q_3 + 5*q_3*q_4)/2) + p_2*p_3*q_1*q_2 - p_2*p_3*q_1*q_3 - 3*p_2*p_3*q_2*q_4 - p_2*p_3*q_2 + 3*p_2*p_3*q_3*q_4 + p_2*p_3*q_3 + 5*p_2*p_4*q_1*q_3 - 5*p_2*p_4*q_1*q_4 - 3*p_2*p_4*q_2*q_3 + 3*p_2*p_4*q_2*q_4 - 2*p_2*p_4*q_3 + 2*p_2*p_4*q_4 - p_2*q_2*q_3 + p_2*q_2 + 5*p_2*q_3*q_4 + p_2*q_3 - 5*p_2*q_4 - p_2*(p_1*(-q_1*q_2 + 5*q_1*q_4 + q_1 + q_2*q_3 - 5*q_3*q_4 - q_3)/2 + p_3*(q_1*q_2 - q_1*q_3 - 3*q_2*q_4 - q_2 + 3*q_3*q_4 + q_3)/2 + p_4*(5*q_1*q_3 - 5*q_1*q_4 - 3*q_2*q_3 + 3*q_2*q_4 - 2*q_3 + 2*q_4)/2) - p_2 + 3*p_3*p_4*q_2*q_3 - 3*p_3*p_4*q_3*q_4 - p_3*q_1*q_2 + p_3*q_2*q_3 + 3*p_3*q_2*q_4 + p_3*q_2 - p_3*q_3 - p_3*(p_1*(q_1*q_3 - q_2*q_3)/2 + p_2*(q_1*q_2 - q_1*q_3 - 3*q_2*q_4 - q_2 + 3*q_3*q_4 + q_3)/2 + p_4*(3*q_2*q_3 - 3*q_3*q_4)/2) - p_3*(-q_2*q_3 + q_2 + 5*q_3*q_4 + q_3 - 5*q_4 - 1) + 5*p_4*q_1*q_4 - 3*p_4*q_2*q_4 - 5*p_4*q_3*q_4 + 5*p_4*q_3 - 2*p_4*q_4 - p_4*(p_1*(-5*q_1*q_3 + 5*q_3*q_4)/2 + p_2*(5*q_1*q_3 - 5*q_1*q_4 - 3*q_2*q_3 + 3*q_2*q_4 - 2*q_3 + 2*q_4)/2 + p_3*(3*q_2*q_3 - 3*q_3*q_4)/2) - q_2 + 5*q_4 + 1,\n",
       "        -p_1*p_2*q_1*q_2 + 5*p_1*p_2*q_1*q_4 + p_1*p_2*q_1 + p_1*p_2*q_2*q_3 - 5*p_1*p_2*q_3*q_4 - p_1*p_2*q_3 + p_1*p_3*q_1*q_3 - p_1*p_3*q_2*q_3 - 5*p_1*p_4*q_1*q_3 + 5*p_1*p_4*q_3*q_4 + p_1*q_1*q_2 - 5*p_1*q_1*q_4 - p_1*q_1 - p_1*(p_2*(-q_1*q_2 + 5*q_1*q_4 + q_1 + q_2*q_3 - 5*q_3*q_4 - q_3)/2 + p_3*(q_1*q_3 - q_2*q_3)/2 + p_4*(-5*q_1*q_3 + 5*q_3*q_4)/2) + p_2*p_3*q_1*q_2 - p_2*p_3*q_1*q_3 - 3*p_2*p_3*q_2*q_4 - p_2*p_3*q_2 + 3*p_2*p_3*q_3*q_4 + p_2*p_3*q_3 + 5*p_2*p_4*q_1*q_3 - 5*p_2*p_4*q_1*q_4 - 3*p_2*p_4*q_2*q_3 + 3*p_2*p_4*q_2*q_4 - 2*p_2*p_4*q_3 + 2*p_2*p_4*q_4 - p_2*q_2*q_3 + p_2*q_2 + 5*p_2*q_3*q_4 + p_2*q_3 - 5*p_2*q_4 - p_2*(p_1*(-q_1*q_2 + 5*q_1*q_4 + q_1 + q_2*q_3 - 5*q_3*q_4 - q_3)/2 + p_3*(q_1*q_2 - q_1*q_3 - 3*q_2*q_4 - q_2 + 3*q_3*q_4 + q_3)/2 + p_4*(5*q_1*q_3 - 5*q_1*q_4 - 3*q_2*q_3 + 3*q_2*q_4 - 2*q_3 + 2*q_4)/2) - p_2 + 3*p_3*p_4*q_2*q_3 - 3*p_3*p_4*q_3*q_4 - p_3*q_1*q_2 + p_3*q_2*q_3 + 3*p_3*q_2*q_4 + p_3*q_2 - p_3*q_3 - p_3*(p_1*(q_1*q_3 - q_2*q_3)/2 + p_2*(q_1*q_2 - q_1*q_3 - 3*q_2*q_4 - q_2 + 3*q_3*q_4 + q_3)/2 + p_4*(3*q_2*q_3 - 3*q_3*q_4)/2) + 5*p_4*q_1*q_4 - 3*p_4*q_2*q_4 - 5*p_4*q_3*q_4 + 5*p_4*q_3 - 2*p_4*q_4 - p_4*(p_1*(-5*q_1*q_3 + 5*q_3*q_4)/2 + p_2*(5*q_1*q_3 - 5*q_1*q_4 - 3*q_2*q_3 + 3*q_2*q_4 - 2*q_3 + 2*q_4)/2 + p_3*(3*q_2*q_3 - 3*q_3*q_4)/2) - p_4*(-q_2*q_3 + q_2 + 5*q_3*q_4 + q_3 - 5*q_4 - 1) - q_2 + 5*q_4 + 1],\n",
       "       [ -p_1*p_2*q_1*q_2 + 5*p_1*p_2*q_1*q_4 + p_1*p_2*q_1 + p_1*p_2*q_2*q_3 - 5*p_1*p_2*q_3*q_4 - p_1*p_2*q_3 + p_1*p_3*q_1*q_3 - p_1*p_3*q_2*q_3 - 5*p_1*p_4*q_1*q_3 + 5*p_1*p_4*q_3*q_4 + p_1*q_1*q_2 - 5*p_1*q_1*q_4 - p_1*q_1 - p_1*(p_2*(-q_1*q_2 + 5*q_1*q_4 + q_1 + q_2*q_3 - 5*q_3*q_4 - q_3)/2 + p_3*(q_1*q_3 - q_2*q_3)/2 + p_4*(-5*q_1*q_3 + 5*q_3*q_4)/2) - p_1*(-q_1*q_2 + q_2*q_3 + 3*q_2*q_4 + q_2 - q_3) + p_2*p_3*q_1*q_2 - p_2*p_3*q_1*q_3 - 3*p_2*p_3*q_2*q_4 - p_2*p_3*q_2 + 3*p_2*p_3*q_3*q_4 + p_2*p_3*q_3 + 5*p_2*p_4*q_1*q_3 - 5*p_2*p_4*q_1*q_4 - 3*p_2*p_4*q_2*q_3 + 3*p_2*p_4*q_2*q_4 - 2*p_2*p_4*q_3 + 2*p_2*p_4*q_4 - p_2*q_2*q_3 + p_2*q_2 + 5*p_2*q_3*q_4 + p_2*q_3 - 5*p_2*q_4 - p_2*(p_1*(-q_1*q_2 + 5*q_1*q_4 + q_1 + q_2*q_3 - 5*q_3*q_4 - q_3)/2 + p_3*(q_1*q_2 - q_1*q_3 - 3*q_2*q_4 - q_2 + 3*q_3*q_4 + q_3)/2 + p_4*(5*q_1*q_3 - 5*q_1*q_4 - 3*q_2*q_3 + 3*q_2*q_4 - 2*q_3 + 2*q_4)/2) - p_2 + 3*p_3*p_4*q_2*q_3 - 3*p_3*p_4*q_3*q_4 - p_3*q_1*q_2 + p_3*q_2*q_3 + 3*p_3*q_2*q_4 + p_3*q_2 - p_3*q_3 - p_3*(p_1*(q_1*q_3 - q_2*q_3)/2 + p_2*(q_1*q_2 - q_1*q_3 - 3*q_2*q_4 - q_2 + 3*q_3*q_4 + q_3)/2 + p_4*(3*q_2*q_3 - 3*q_3*q_4)/2) + 5*p_4*q_1*q_4 - 3*p_4*q_2*q_4 - 5*p_4*q_3*q_4 + 5*p_4*q_3 - 2*p_4*q_4 - p_4*(p_1*(-5*q_1*q_3 + 5*q_3*q_4)/2 + p_2*(5*q_1*q_3 - 5*q_1*q_4 - 3*q_2*q_3 + 3*q_2*q_4 - 2*q_3 + 2*q_4)/2 + p_3*(3*q_2*q_3 - 3*q_3*q_4)/2) - q_2 + 5*q_4 + 1,\n",
       "        -p_1*p_2*q_1*q_2 + 5*p_1*p_2*q_1*q_4 + p_1*p_2*q_1 + p_1*p_2*q_2*q_3 - 5*p_1*p_2*q_3*q_4 - p_1*p_2*q_3 + p_1*p_3*q_1*q_3 - p_1*p_3*q_2*q_3 - 5*p_1*p_4*q_1*q_3 + 5*p_1*p_4*q_3*q_4 + p_1*q_1*q_2 - 5*p_1*q_1*q_4 - p_1*q_1 - p_1*(p_2*(-q_1*q_2 + 5*q_1*q_4 + q_1 + q_2*q_3 - 5*q_3*q_4 - q_3)/2 + p_3*(q_1*q_3 - q_2*q_3)/2 + p_4*(-5*q_1*q_3 + 5*q_3*q_4)/2) + p_2*p_3*q_1*q_2 - p_2*p_3*q_1*q_3 - 3*p_2*p_3*q_2*q_4 - p_2*p_3*q_2 + 3*p_2*p_3*q_3*q_4 + p_2*p_3*q_3 + 5*p_2*p_4*q_1*q_3 - 5*p_2*p_4*q_1*q_4 - 3*p_2*p_4*q_2*q_3 + 3*p_2*p_4*q_2*q_4 - 2*p_2*p_4*q_3 + 2*p_2*p_4*q_4 - p_2*q_2*q_3 + p_2*q_2 + 5*p_2*q_3*q_4 + p_2*q_3 - 5*p_2*q_4 - p_2*(p_1*(-q_1*q_2 + 5*q_1*q_4 + q_1 + q_2*q_3 - 5*q_3*q_4 - q_3)/2 + p_3*(q_1*q_2 - q_1*q_3 - 3*q_2*q_4 - q_2 + 3*q_3*q_4 + q_3)/2 + p_4*(5*q_1*q_3 - 5*q_1*q_4 - 3*q_2*q_3 + 3*q_2*q_4 - 2*q_3 + 2*q_4)/2) - p_2*(-q_1*q_2 + q_2*q_3 + 3*q_2*q_4 + q_2 - q_3) - p_2 + 3*p_3*p_4*q_2*q_3 - 3*p_3*p_4*q_3*q_4 - p_3*q_1*q_2 + p_3*q_2*q_3 + 3*p_3*q_2*q_4 + p_3*q_2 - p_3*q_3 - p_3*(p_1*(q_1*q_3 - q_2*q_3)/2 + p_2*(q_1*q_2 - q_1*q_3 - 3*q_2*q_4 - q_2 + 3*q_3*q_4 + q_3)/2 + p_4*(3*q_2*q_3 - 3*q_3*q_4)/2) + 5*p_4*q_1*q_4 - 3*p_4*q_2*q_4 - 5*p_4*q_3*q_4 + 5*p_4*q_3 - 2*p_4*q_4 - p_4*(p_1*(-5*q_1*q_3 + 5*q_3*q_4)/2 + p_2*(5*q_1*q_3 - 5*q_1*q_4 - 3*q_2*q_3 + 3*q_2*q_4 - 2*q_3 + 2*q_4)/2 + p_3*(3*q_2*q_3 - 3*q_3*q_4)/2) - q_2 + 5*q_4 + 1,\n",
       "        -p_1*p_2*q_1*q_2 + 5*p_1*p_2*q_1*q_4 + p_1*p_2*q_1 + p_1*p_2*q_2*q_3 - 5*p_1*p_2*q_3*q_4 - p_1*p_2*q_3 + p_1*p_3*q_1*q_3 - p_1*p_3*q_2*q_3 - 5*p_1*p_4*q_1*q_3 + 5*p_1*p_4*q_3*q_4 + p_1*q_1*q_2 - 5*p_1*q_1*q_4 - p_1*q_1 - p_1*(p_2*(-q_1*q_2 + 5*q_1*q_4 + q_1 + q_2*q_3 - 5*q_3*q_4 - q_3)/2 + p_3*(q_1*q_3 - q_2*q_3)/2 + p_4*(-5*q_1*q_3 + 5*q_3*q_4)/2) + p_2*p_3*q_1*q_2 - p_2*p_3*q_1*q_3 - 3*p_2*p_3*q_2*q_4 - p_2*p_3*q_2 + 3*p_2*p_3*q_3*q_4 + p_2*p_3*q_3 + 5*p_2*p_4*q_1*q_3 - 5*p_2*p_4*q_1*q_4 - 3*p_2*p_4*q_2*q_3 + 3*p_2*p_4*q_2*q_4 - 2*p_2*p_4*q_3 + 2*p_2*p_4*q_4 - p_2*q_2*q_3 + p_2*q_2 + 5*p_2*q_3*q_4 + p_2*q_3 - 5*p_2*q_4 - p_2*(p_1*(-q_1*q_2 + 5*q_1*q_4 + q_1 + q_2*q_3 - 5*q_3*q_4 - q_3)/2 + p_3*(q_1*q_2 - q_1*q_3 - 3*q_2*q_4 - q_2 + 3*q_3*q_4 + q_3)/2 + p_4*(5*q_1*q_3 - 5*q_1*q_4 - 3*q_2*q_3 + 3*q_2*q_4 - 2*q_3 + 2*q_4)/2) - p_2 + 3*p_3*p_4*q_2*q_3 - 3*p_3*p_4*q_3*q_4 - p_3*q_1*q_2 + p_3*q_2*q_3 + 3*p_3*q_2*q_4 + p_3*q_2 - p_3*q_3 - p_3*(p_1*(q_1*q_3 - q_2*q_3)/2 + p_2*(q_1*q_2 - q_1*q_3 - 3*q_2*q_4 - q_2 + 3*q_3*q_4 + q_3)/2 + p_4*(3*q_2*q_3 - 3*q_3*q_4)/2) - p_3*(-q_1*q_2 + q_2*q_3 + 3*q_2*q_4 + q_2 - q_3) + 5*p_4*q_1*q_4 - 3*p_4*q_2*q_4 - 5*p_4*q_3*q_4 + 5*p_4*q_3 - 2*p_4*q_4 - p_4*(p_1*(-5*q_1*q_3 + 5*q_3*q_4)/2 + p_2*(5*q_1*q_3 - 5*q_1*q_4 - 3*q_2*q_3 + 3*q_2*q_4 - 2*q_3 + 2*q_4)/2 + p_3*(3*q_2*q_3 - 3*q_3*q_4)/2) - q_2 + 5*q_4 + 1,\n",
       "        -p_1*p_2*q_1*q_2 + 5*p_1*p_2*q_1*q_4 + p_1*p_2*q_1 + p_1*p_2*q_2*q_3 - 5*p_1*p_2*q_3*q_4 - p_1*p_2*q_3 + p_1*p_3*q_1*q_3 - p_1*p_3*q_2*q_3 - 5*p_1*p_4*q_1*q_3 + 5*p_1*p_4*q_3*q_4 + p_1*q_1*q_2 - 5*p_1*q_1*q_4 - p_1*q_1 - p_1*(p_2*(-q_1*q_2 + 5*q_1*q_4 + q_1 + q_2*q_3 - 5*q_3*q_4 - q_3)/2 + p_3*(q_1*q_3 - q_2*q_3)/2 + p_4*(-5*q_1*q_3 + 5*q_3*q_4)/2) + p_2*p_3*q_1*q_2 - p_2*p_3*q_1*q_3 - 3*p_2*p_3*q_2*q_4 - p_2*p_3*q_2 + 3*p_2*p_3*q_3*q_4 + p_2*p_3*q_3 + 5*p_2*p_4*q_1*q_3 - 5*p_2*p_4*q_1*q_4 - 3*p_2*p_4*q_2*q_3 + 3*p_2*p_4*q_2*q_4 - 2*p_2*p_4*q_3 + 2*p_2*p_4*q_4 - p_2*q_2*q_3 + p_2*q_2 + 5*p_2*q_3*q_4 + p_2*q_3 - 5*p_2*q_4 - p_2*(p_1*(-q_1*q_2 + 5*q_1*q_4 + q_1 + q_2*q_3 - 5*q_3*q_4 - q_3)/2 + p_3*(q_1*q_2 - q_1*q_3 - 3*q_2*q_4 - q_2 + 3*q_3*q_4 + q_3)/2 + p_4*(5*q_1*q_3 - 5*q_1*q_4 - 3*q_2*q_3 + 3*q_2*q_4 - 2*q_3 + 2*q_4)/2) - p_2 + 3*p_3*p_4*q_2*q_3 - 3*p_3*p_4*q_3*q_4 - p_3*q_1*q_2 + p_3*q_2*q_3 + 3*p_3*q_2*q_4 + p_3*q_2 - p_3*q_3 - p_3*(p_1*(q_1*q_3 - q_2*q_3)/2 + p_2*(q_1*q_2 - q_1*q_3 - 3*q_2*q_4 - q_2 + 3*q_3*q_4 + q_3)/2 + p_4*(3*q_2*q_3 - 3*q_3*q_4)/2) + 5*p_4*q_1*q_4 - 3*p_4*q_2*q_4 - 5*p_4*q_3*q_4 + 5*p_4*q_3 - 2*p_4*q_4 - p_4*(p_1*(-5*q_1*q_3 + 5*q_3*q_4)/2 + p_2*(5*q_1*q_3 - 5*q_1*q_4 - 3*q_2*q_3 + 3*q_2*q_4 - 2*q_3 + 2*q_4)/2 + p_3*(3*q_2*q_3 - 3*q_3*q_4)/2) - p_4*(-q_1*q_2 + q_2*q_3 + 3*q_2*q_4 + q_2 - q_3) - q_2 + 5*q_4 + 1],\n",
       "       [ -p_1*p_2*q_1*q_2 + 5*p_1*p_2*q_1*q_4 + p_1*p_2*q_1 + p_1*p_2*q_2*q_3 - 5*p_1*p_2*q_3*q_4 - p_1*p_2*q_3 + p_1*p_3*q_1*q_3 - p_1*p_3*q_2*q_3 - 5*p_1*p_4*q_1*q_3 + 5*p_1*p_4*q_3*q_4 + p_1*q_1*q_2 - 5*p_1*q_1*q_4 - p_1*q_1 - p_1*(p_2*(-q_1*q_2 + 5*q_1*q_4 + q_1 + q_2*q_3 - 5*q_3*q_4 - q_3)/2 + p_3*(q_1*q_3 - q_2*q_3)/2 + p_4*(-5*q_1*q_3 + 5*q_3*q_4)/2) - p_1*(5*q_1*q_4 - 3*q_2*q_4 - 5*q_3*q_4 + 5*q_3 - 2*q_4) + p_2*p_3*q_1*q_2 - p_2*p_3*q_1*q_3 - 3*p_2*p_3*q_2*q_4 - p_2*p_3*q_2 + 3*p_2*p_3*q_3*q_4 + p_2*p_3*q_3 + 5*p_2*p_4*q_1*q_3 - 5*p_2*p_4*q_1*q_4 - 3*p_2*p_4*q_2*q_3 + 3*p_2*p_4*q_2*q_4 - 2*p_2*p_4*q_3 + 2*p_2*p_4*q_4 - p_2*q_2*q_3 + p_2*q_2 + 5*p_2*q_3*q_4 + p_2*q_3 - 5*p_2*q_4 - p_2*(p_1*(-q_1*q_2 + 5*q_1*q_4 + q_1 + q_2*q_3 - 5*q_3*q_4 - q_3)/2 + p_3*(q_1*q_2 - q_1*q_3 - 3*q_2*q_4 - q_2 + 3*q_3*q_4 + q_3)/2 + p_4*(5*q_1*q_3 - 5*q_1*q_4 - 3*q_2*q_3 + 3*q_2*q_4 - 2*q_3 + 2*q_4)/2) - p_2 + 3*p_3*p_4*q_2*q_3 - 3*p_3*p_4*q_3*q_4 - p_3*q_1*q_2 + p_3*q_2*q_3 + 3*p_3*q_2*q_4 + p_3*q_2 - p_3*q_3 - p_3*(p_1*(q_1*q_3 - q_2*q_3)/2 + p_2*(q_1*q_2 - q_1*q_3 - 3*q_2*q_4 - q_2 + 3*q_3*q_4 + q_3)/2 + p_4*(3*q_2*q_3 - 3*q_3*q_4)/2) + 5*p_4*q_1*q_4 - 3*p_4*q_2*q_4 - 5*p_4*q_3*q_4 + 5*p_4*q_3 - 2*p_4*q_4 - p_4*(p_1*(-5*q_1*q_3 + 5*q_3*q_4)/2 + p_2*(5*q_1*q_3 - 5*q_1*q_4 - 3*q_2*q_3 + 3*q_2*q_4 - 2*q_3 + 2*q_4)/2 + p_3*(3*q_2*q_3 - 3*q_3*q_4)/2) - q_2 + 5*q_4 + 1,\n",
       "        -p_1*p_2*q_1*q_2 + 5*p_1*p_2*q_1*q_4 + p_1*p_2*q_1 + p_1*p_2*q_2*q_3 - 5*p_1*p_2*q_3*q_4 - p_1*p_2*q_3 + p_1*p_3*q_1*q_3 - p_1*p_3*q_2*q_3 - 5*p_1*p_4*q_1*q_3 + 5*p_1*p_4*q_3*q_4 + p_1*q_1*q_2 - 5*p_1*q_1*q_4 - p_1*q_1 - p_1*(p_2*(-q_1*q_2 + 5*q_1*q_4 + q_1 + q_2*q_3 - 5*q_3*q_4 - q_3)/2 + p_3*(q_1*q_3 - q_2*q_3)/2 + p_4*(-5*q_1*q_3 + 5*q_3*q_4)/2) + p_2*p_3*q_1*q_2 - p_2*p_3*q_1*q_3 - 3*p_2*p_3*q_2*q_4 - p_2*p_3*q_2 + 3*p_2*p_3*q_3*q_4 + p_2*p_3*q_3 + 5*p_2*p_4*q_1*q_3 - 5*p_2*p_4*q_1*q_4 - 3*p_2*p_4*q_2*q_3 + 3*p_2*p_4*q_2*q_4 - 2*p_2*p_4*q_3 + 2*p_2*p_4*q_4 - p_2*q_2*q_3 + p_2*q_2 + 5*p_2*q_3*q_4 + p_2*q_3 - 5*p_2*q_4 - p_2*(p_1*(-q_1*q_2 + 5*q_1*q_4 + q_1 + q_2*q_3 - 5*q_3*q_4 - q_3)/2 + p_3*(q_1*q_2 - q_1*q_3 - 3*q_2*q_4 - q_2 + 3*q_3*q_4 + q_3)/2 + p_4*(5*q_1*q_3 - 5*q_1*q_4 - 3*q_2*q_3 + 3*q_2*q_4 - 2*q_3 + 2*q_4)/2) - p_2*(5*q_1*q_4 - 3*q_2*q_4 - 5*q_3*q_4 + 5*q_3 - 2*q_4) - p_2 + 3*p_3*p_4*q_2*q_3 - 3*p_3*p_4*q_3*q_4 - p_3*q_1*q_2 + p_3*q_2*q_3 + 3*p_3*q_2*q_4 + p_3*q_2 - p_3*q_3 - p_3*(p_1*(q_1*q_3 - q_2*q_3)/2 + p_2*(q_1*q_2 - q_1*q_3 - 3*q_2*q_4 - q_2 + 3*q_3*q_4 + q_3)/2 + p_4*(3*q_2*q_3 - 3*q_3*q_4)/2) + 5*p_4*q_1*q_4 - 3*p_4*q_2*q_4 - 5*p_4*q_3*q_4 + 5*p_4*q_3 - 2*p_4*q_4 - p_4*(p_1*(-5*q_1*q_3 + 5*q_3*q_4)/2 + p_2*(5*q_1*q_3 - 5*q_1*q_4 - 3*q_2*q_3 + 3*q_2*q_4 - 2*q_3 + 2*q_4)/2 + p_3*(3*q_2*q_3 - 3*q_3*q_4)/2) - q_2 + 5*q_4 + 1,\n",
       "        -p_1*p_2*q_1*q_2 + 5*p_1*p_2*q_1*q_4 + p_1*p_2*q_1 + p_1*p_2*q_2*q_3 - 5*p_1*p_2*q_3*q_4 - p_1*p_2*q_3 + p_1*p_3*q_1*q_3 - p_1*p_3*q_2*q_3 - 5*p_1*p_4*q_1*q_3 + 5*p_1*p_4*q_3*q_4 + p_1*q_1*q_2 - 5*p_1*q_1*q_4 - p_1*q_1 - p_1*(p_2*(-q_1*q_2 + 5*q_1*q_4 + q_1 + q_2*q_3 - 5*q_3*q_4 - q_3)/2 + p_3*(q_1*q_3 - q_2*q_3)/2 + p_4*(-5*q_1*q_3 + 5*q_3*q_4)/2) + p_2*p_3*q_1*q_2 - p_2*p_3*q_1*q_3 - 3*p_2*p_3*q_2*q_4 - p_2*p_3*q_2 + 3*p_2*p_3*q_3*q_4 + p_2*p_3*q_3 + 5*p_2*p_4*q_1*q_3 - 5*p_2*p_4*q_1*q_4 - 3*p_2*p_4*q_2*q_3 + 3*p_2*p_4*q_2*q_4 - 2*p_2*p_4*q_3 + 2*p_2*p_4*q_4 - p_2*q_2*q_3 + p_2*q_2 + 5*p_2*q_3*q_4 + p_2*q_3 - 5*p_2*q_4 - p_2*(p_1*(-q_1*q_2 + 5*q_1*q_4 + q_1 + q_2*q_3 - 5*q_3*q_4 - q_3)/2 + p_3*(q_1*q_2 - q_1*q_3 - 3*q_2*q_4 - q_2 + 3*q_3*q_4 + q_3)/2 + p_4*(5*q_1*q_3 - 5*q_1*q_4 - 3*q_2*q_3 + 3*q_2*q_4 - 2*q_3 + 2*q_4)/2) - p_2 + 3*p_3*p_4*q_2*q_3 - 3*p_3*p_4*q_3*q_4 - p_3*q_1*q_2 + p_3*q_2*q_3 + 3*p_3*q_2*q_4 + p_3*q_2 - p_3*q_3 - p_3*(p_1*(q_1*q_3 - q_2*q_3)/2 + p_2*(q_1*q_2 - q_1*q_3 - 3*q_2*q_4 - q_2 + 3*q_3*q_4 + q_3)/2 + p_4*(3*q_2*q_3 - 3*q_3*q_4)/2) - p_3*(5*q_1*q_4 - 3*q_2*q_4 - 5*q_3*q_4 + 5*q_3 - 2*q_4) + 5*p_4*q_1*q_4 - 3*p_4*q_2*q_4 - 5*p_4*q_3*q_4 + 5*p_4*q_3 - 2*p_4*q_4 - p_4*(p_1*(-5*q_1*q_3 + 5*q_3*q_4)/2 + p_2*(5*q_1*q_3 - 5*q_1*q_4 - 3*q_2*q_3 + 3*q_2*q_4 - 2*q_3 + 2*q_4)/2 + p_3*(3*q_2*q_3 - 3*q_3*q_4)/2) - q_2 + 5*q_4 + 1,\n",
       "        -p_1*p_2*q_1*q_2 + 5*p_1*p_2*q_1*q_4 + p_1*p_2*q_1 + p_1*p_2*q_2*q_3 - 5*p_1*p_2*q_3*q_4 - p_1*p_2*q_3 + p_1*p_3*q_1*q_3 - p_1*p_3*q_2*q_3 - 5*p_1*p_4*q_1*q_3 + 5*p_1*p_4*q_3*q_4 + p_1*q_1*q_2 - 5*p_1*q_1*q_4 - p_1*q_1 - p_1*(p_2*(-q_1*q_2 + 5*q_1*q_4 + q_1 + q_2*q_3 - 5*q_3*q_4 - q_3)/2 + p_3*(q_1*q_3 - q_2*q_3)/2 + p_4*(-5*q_1*q_3 + 5*q_3*q_4)/2) + p_2*p_3*q_1*q_2 - p_2*p_3*q_1*q_3 - 3*p_2*p_3*q_2*q_4 - p_2*p_3*q_2 + 3*p_2*p_3*q_3*q_4 + p_2*p_3*q_3 + 5*p_2*p_4*q_1*q_3 - 5*p_2*p_4*q_1*q_4 - 3*p_2*p_4*q_2*q_3 + 3*p_2*p_4*q_2*q_4 - 2*p_2*p_4*q_3 + 2*p_2*p_4*q_4 - p_2*q_2*q_3 + p_2*q_2 + 5*p_2*q_3*q_4 + p_2*q_3 - 5*p_2*q_4 - p_2*(p_1*(-q_1*q_2 + 5*q_1*q_4 + q_1 + q_2*q_3 - 5*q_3*q_4 - q_3)/2 + p_3*(q_1*q_2 - q_1*q_3 - 3*q_2*q_4 - q_2 + 3*q_3*q_4 + q_3)/2 + p_4*(5*q_1*q_3 - 5*q_1*q_4 - 3*q_2*q_3 + 3*q_2*q_4 - 2*q_3 + 2*q_4)/2) - p_2 + 3*p_3*p_4*q_2*q_3 - 3*p_3*p_4*q_3*q_4 - p_3*q_1*q_2 + p_3*q_2*q_3 + 3*p_3*q_2*q_4 + p_3*q_2 - p_3*q_3 - p_3*(p_1*(q_1*q_3 - q_2*q_3)/2 + p_2*(q_1*q_2 - q_1*q_3 - 3*q_2*q_4 - q_2 + 3*q_3*q_4 + q_3)/2 + p_4*(3*q_2*q_3 - 3*q_3*q_4)/2) + 5*p_4*q_1*q_4 - 3*p_4*q_2*q_4 - 5*p_4*q_3*q_4 + 5*p_4*q_3 - 2*p_4*q_4 - p_4*(p_1*(-5*q_1*q_3 + 5*q_3*q_4)/2 + p_2*(5*q_1*q_3 - 5*q_1*q_4 - 3*q_2*q_3 + 3*q_2*q_4 - 2*q_3 + 2*q_4)/2 + p_3*(3*q_2*q_3 - 3*q_3*q_4)/2) - p_4*(5*q_1*q_4 - 3*q_2*q_4 - 5*q_3*q_4 + 5*q_3 - 2*q_4) - q_2 + 5*q_4 + 1]], dtype=object)"
      ]
     },
     "execution_count": 58,
     "metadata": {},
     "output_type": "execute_result"
    }
   ],
   "source": [
    "constant = numerator.expand() - expr\n",
    "constant"
   ]
  },
  {
   "cell_type": "code",
   "execution_count": 32,
   "metadata": {},
   "outputs": [],
   "source": [
    "Q_num = sym.Matrix([[element.factor() for element in row] for row in Q_num])\n",
    "c_num = sym.Matrix([element.factor() for element in c_num])"
   ]
  },
  {
   "cell_type": "code",
   "execution_count": 100,
   "metadata": {},
   "outputs": [],
   "source": [
    "for file, name in zip([Q_num, c_num, constant.simplify()],\n",
    "                      ['q_numerator', 'c_numerator', 'numerator_constant']):\n",
    "    \n",
    "    with open(\"../tex/{}.tex\".format(name), \"w\") as f:\n",
    "        f.write(\"{}\".format(sym.latex(file)))"
   ]
  },
  {
   "cell_type": "code",
   "execution_count": 101,
   "metadata": {},
   "outputs": [
    {
     "data": {
      "image/png": "[encoded data removed]",
      "text/latex": [
       "$$5$$"
      ],
      "text/plain": [
       "5"
      ]
     },
     "execution_count": 101,
     "metadata": {},
     "output_type": "execute_result"
    }
   ],
   "source": [
    "(expr + constant).subs({p_1:0, p_2:0, p_3:0, p_4:0, q_1:1, q_2:1, q_3:1, q_4:1})"
   ]
  },
  {
   "cell_type": "markdown",
   "metadata": {},
   "source": [
    "**Denominator**"
   ]
  },
  {
   "cell_type": "code",
   "execution_count": 102,
   "metadata": {},
   "outputs": [],
   "source": [
    "Q_den = np.array([[denominator.coeff(f1 * f2) for f2 in p] for f1 in p])\n",
    "c_den = np.array([denominator.subs({p_2:0, p_3:0, p_4:0}).coeff(p_1), \n",
    "         denominator.subs({p_1:0, p_3:0, p_4:0}).coeff(p_2),\n",
    "         denominator.subs({p_1:0, p_2:0, p_4:0}).coeff(p_3),\n",
    "         denominator.subs({p_1:0, p_2:0, p_3:0}).coeff(p_4)])"
   ]
  },
  {
   "cell_type": "code",
   "execution_count": 103,
   "metadata": {},
   "outputs": [],
   "source": [
    "expr = np.dot(ps, Q_den.dot(ps.T) * 1/2) + np.dot(c_den, ps.T)"
   ]
  },
  {
   "cell_type": "code",
   "execution_count": 104,
   "metadata": {},
   "outputs": [
    {
     "data": {
      "image/png": "[encoded data removed]",
      "text/latex": [
       "$$- q_{2} + q_{4} + 1$$"
      ],
      "text/plain": [
       "-q₂ + q₄ + 1"
      ]
     },
     "execution_count": 104,
     "metadata": {},
     "output_type": "execute_result"
    }
   ],
   "source": [
    "den_constant = denominator.expand() - expr\n",
    "den_constant.simplify()"
   ]
  },
  {
   "cell_type": "code",
   "execution_count": 105,
   "metadata": {},
   "outputs": [],
   "source": [
    "Q_den = sym.Matrix([[element.factor() for element in row] for row in Q_den])\n",
    "c_den = sym.Matrix([element.factor() for element in c_den])"
   ]
  },
  {
   "cell_type": "code",
   "execution_count": 106,
   "metadata": {},
   "outputs": [],
   "source": [
    "for file, name in zip([sym.Matrix(Q_den), sym.Matrix(c_den), den_constant.simplify()],\n",
    "                      ['q_denominator', 'c_denominator', 'denominator_constant']):\n",
    "    \n",
    "    with open(\"../tex/{}.tex\".format(name), \"w\") as f:\n",
    "        f.write(\"{}\".format(sym.latex(file)))"
   ]
  },
  {
   "cell_type": "code",
   "execution_count": 107,
   "metadata": {},
   "outputs": [
    {
     "data": {
      "image/png": "[encoded data removed]",
      "text/latex": [
       "$$1$$"
      ],
      "text/plain": [
       "1"
      ]
     },
     "execution_count": 107,
     "metadata": {},
     "output_type": "execute_result"
    }
   ],
   "source": [
    "(expr + den_constand).subs({p_1:0, p_2:0, p_3:0, p_4:0, q_1:1, q_2:1, q_3:1, q_4:1})"
   ]
  },
  {
   "cell_type": "code",
   "execution_count": null,
   "metadata": {},
   "outputs": [],
   "source": []
  }
 ],
 "metadata": {
  "anaconda-cloud": {},
  "kernelspec": {
   "display_name": "opt-mo",
   "language": "python",
   "name": "opt-mo"
  },
  "language_info": {
   "codemirror_mode": {
    "name": "ipython",
    "version": 3
   },
   "file_extension": ".py",
   "mimetype": "text/x-python",
   "name": "python",
   "nbconvert_exporter": "python",
   "pygments_lexer": "ipython3",
   "version": "3.6.0"
  }
 },
 "nbformat": 4,
 "nbformat_minor": 1
}
