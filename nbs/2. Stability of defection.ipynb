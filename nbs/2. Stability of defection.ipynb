{
 "cells": [
  {
   "cell_type": "markdown",
   "metadata": {},
   "source": [
    "Stability of defection, optimisation of strategies and the limits of memory in the PD.\n",
    "----------------------"
   ]
  },
  {
   "cell_type": "markdown",
   "metadata": {},
   "source": [
    "## 2. Stability of defection"
   ]
  },
  {
   "cell_type": "code",
   "execution_count": 1,
   "metadata": {},
   "outputs": [],
   "source": [
    "import opt_mo\n",
    "\n",
    "import numpy as np\n",
    "import sympy as sym\n",
    "import itertools\n",
    "import axelrod as axl\n",
    "import matplotlib.pyplot as plt"
   ]
  },
  {
   "cell_type": "code",
   "execution_count": 2,
   "metadata": {},
   "outputs": [],
   "source": [
    "from fractions import Fraction"
   ]
  },
  {
   "cell_type": "code",
   "execution_count": 3,
   "metadata": {},
   "outputs": [],
   "source": [
    "from axelrod.action import Action\n",
    "\n",
    "C, D = Action.C, Action.D"
   ]
  },
  {
   "cell_type": "code",
   "execution_count": 4,
   "metadata": {},
   "outputs": [],
   "source": [
    "import tqdm"
   ]
  },
  {
   "cell_type": "code",
   "execution_count": 5,
   "metadata": {},
   "outputs": [],
   "source": [
    "import matplotlib.transforms as transforms\n",
    "import matplotlib"
   ]
  },
  {
   "cell_type": "code",
   "execution_count": 6,
   "metadata": {},
   "outputs": [],
   "source": [
    "import warnings; warnings.simplefilter('ignore')"
   ]
  },
  {
   "cell_type": "code",
   "execution_count": 7,
   "metadata": {},
   "outputs": [],
   "source": [
    "import operator\n",
    "import functools"
   ]
  },
  {
   "cell_type": "code",
   "execution_count": 8,
   "metadata": {},
   "outputs": [],
   "source": [
    "sym.init_printing()"
   ]
  },
  {
   "cell_type": "code",
   "execution_count": 9,
   "metadata": {},
   "outputs": [],
   "source": [
    "font = {\"size\": 10, \"weight\": \"bold\"}\n",
    "matplotlib.rc(\"font\", **font)"
   ]
  },
  {
   "cell_type": "markdown",
   "metadata": {},
   "source": [
    "Analytical check\n",
    "----------------"
   ]
  },
  {
   "cell_type": "code",
   "execution_count": 10,
   "metadata": {},
   "outputs": [],
   "source": [
    "p_1, p_2, p_3, p_4 = sym.symbols(\"p_1, p_2, p_3, p_4\")\n",
    "q_1, q_2, q_3, q_4 = sym.symbols(\"q_1, q_2, q_3, q_4\")\n",
    "k_1, k_2, k_3, k_4 = sym.symbols(\"k_1, k_2, k_3, k_4\")\n",
    "\n",
    "p, q, k = (p_1, p_2, p_3, p_4), (q_1, q_2, q_3, q_4), (k_1, k_2, k_3, k_4)"
   ]
  },
  {
   "cell_type": "code",
   "execution_count": 11,
   "metadata": {},
   "outputs": [],
   "source": [
    "def get_Q_N_derivative(player, opponent):\n",
    "    x = np.array(player)\n",
    "    \n",
    "    Q = opt_mo.utility.quadratic_term_numerator(opponent)\n",
    "    c = opt_mo.utility.linear_term_numerator(opponent)\n",
    "        \n",
    "    return np.dot(x, Q) + c"
   ]
  },
  {
   "cell_type": "code",
   "execution_count": 12,
   "metadata": {},
   "outputs": [],
   "source": [
    "def get_Q_N(player, opponent):\n",
    "    x = np.array(player)\n",
    "\n",
    "    Q = opt_mo.utility.quadratic_term_numerator(opponent)\n",
    "    c = opt_mo.utility.linear_term_numerator(opponent)\n",
    "    a = opt_mo.utility.constant_term_numerator(opponent)\n",
    "\n",
    "    return np.dot(x, Q.dot(x.T) * 1 / 2) + np.dot(c, x.T) + a"
   ]
  },
  {
   "cell_type": "code",
   "execution_count": 13,
   "metadata": {},
   "outputs": [],
   "source": [
    "def get_Q_D(player, opponent):\n",
    "    x = np.array(player)\n",
    "\n",
    "    Q_bar = opt_mo.utility.quadratic_term_denominator(opponent)\n",
    "    c_bar = opt_mo.utility.linear_term_denominator(opponent)\n",
    "    a_bar = opt_mo.utility.constant_term_denominator(opponent)\n",
    "\n",
    "    return np.dot(x, Q_bar.dot(x.T) * 1 / 2) + np.dot(c_bar, x.T) + a_bar"
   ]
  },
  {
   "cell_type": "code",
   "execution_count": 14,
   "metadata": {},
   "outputs": [],
   "source": [
    "def get_Q_D_derivative(player, opponent):\n",
    "    x = np.array(player)\n",
    "\n",
    "    Q_bar = opt_mo.utility.quadratic_term_denominator(opponent)\n",
    "    c_bar = opt_mo.utility.linear_term_denominator(opponent)\n",
    "    a_bar = opt_mo.utility.constant_term_denominator(opponent)\n",
    "\n",
    "    return np.dot(x, Q_bar) + c_bar"
   ]
  },
  {
   "cell_type": "markdown",
   "metadata": {},
   "source": [
    "**Check quadratic derivative of**\n",
    "\n",
    "\n",
    "$$\\frac{1}{2}pQp^T + cp +a $$"
   ]
  },
  {
   "cell_type": "code",
   "execution_count": 15,
   "metadata": {},
   "outputs": [],
   "source": [
    "expr = get_Q_N(p, q)"
   ]
  },
  {
   "cell_type": "code",
   "execution_count": 16,
   "metadata": {},
   "outputs": [],
   "source": [
    "diff = [sym.diff(expr, i) for i in p]"
   ]
  },
  {
   "cell_type": "code",
   "execution_count": 17,
   "metadata": {},
   "outputs": [],
   "source": [
    "derivatives = get_Q_N_derivative(p, q)"
   ]
  },
  {
   "cell_type": "code",
   "execution_count": 17,
   "metadata": {},
   "outputs": [],
   "source": [
    "for i in range(4):\n",
    "    assert (diff[i] - derivatives[i]).simplify() == 0"
   ]
  },
  {
   "cell_type": "markdown",
   "metadata": {},
   "source": [
    "**Check derivative of utility**"
   ]
  },
  {
   "cell_type": "code",
   "execution_count": 18,
   "metadata": {},
   "outputs": [],
   "source": [
    "def get_written_derivative_of_utility(player, opponents):\n",
    "    sums = 0\n",
    "    for opponent in opponents:\n",
    "        numerator = (get_Q_N_derivative(player, opponent) * get_Q_D(player, opponent) -\n",
    "                      get_Q_D_derivative(player, opponent) * get_Q_N(player, opponent))\n",
    "        \n",
    "        denominator = get_Q_D(player, opponent) ** 2\n",
    "        \n",
    "        sums += numerator / denominator\n",
    "    return (sums) * (1 / len(opponents))"
   ]
  },
  {
   "cell_type": "code",
   "execution_count": 19,
   "metadata": {},
   "outputs": [],
   "source": [
    "for seed in range(100):\n",
    "    num_players = 5\n",
    "    np.random.seed(seed)\n",
    "    opponents = [[np.random.random() for _ in range(4)] for _ in range(num_players)]\n",
    "    \n",
    "    np.random.seed(seed + 1000)\n",
    "    player = [np.random.random() for _ in range(4)]\n",
    "    \n",
    "    written_derivative = get_written_derivative_of_utility(player, opponents)\n",
    "    \n",
    "    utility = opt_mo.tournament_utility(p, opponents)\n",
    "    utility_derivative = [sym.diff(utility, i) for i in p]\n",
    "    utility_derivative = [expr.subs({p_1: player[0], p_2: player[1], p_3: player[2], p_4: player[3]}) for expr\n",
    "                          in utility_derivative]\n",
    "    \n",
    "    differences = written_derivative - utility_derivative\n",
    "    for difference in differences:\n",
    "        assert np.isclose(round(difference, 10), 0)"
   ]
  },
  {
   "cell_type": "code",
   "execution_count": 20,
   "metadata": {},
   "outputs": [],
   "source": [
    "opponents = [q, k]"
   ]
  },
  {
   "cell_type": "code",
   "execution_count": 21,
   "metadata": {},
   "outputs": [],
   "source": [
    "utility = opt_mo.tournament_utility(p, opponents)\n",
    "derivative_of_utility = [sym.diff(utility, i) for i in p]"
   ]
  },
  {
   "cell_type": "code",
   "execution_count": 64,
   "metadata": {},
   "outputs": [],
   "source": [
    "written_derivative = get_written_derivative_of_utility(p, opponents)"
   ]
  },
  {
   "cell_type": "code",
   "execution_count": 65,
   "metadata": {},
   "outputs": [
    {
     "name": "stderr",
     "output_type": "stream",
     "text": [
      "\n",
      "  0%|          | 0/4 [00:00<?, ?it/s]\u001b[A\n",
      " 25%|██▌       | 1/4 [00:06<00:18,  6.28s/it]\u001b[A\n",
      " 50%|█████     | 2/4 [02:27<01:33, 46.69s/it]\u001b[A\n",
      " 75%|███████▌  | 3/4 [02:33<00:34, 34.56s/it]\u001b[A\n",
      "100%|██████████| 4/4 [02:34<00:00, 24.63s/it]\u001b[A"
     ]
    }
   ],
   "source": [
    "for i in tqdm.tqdm(range(4)):\n",
    "    assert (written_derivative[i] - derivative_of_utility[i]).simplify() == 0"
   ]
  },
  {
   "cell_type": "markdown",
   "metadata": {},
   "source": [
    "**Stability of defection**"
   ]
  },
  {
   "cell_type": "markdown",
   "metadata": {},
   "source": [
    "**Check condition for defection stability**"
   ]
  },
  {
   "cell_type": "code",
   "execution_count": 22,
   "metadata": {},
   "outputs": [],
   "source": [
    "opponents = [q, k]"
   ]
  },
  {
   "cell_type": "code",
   "execution_count": 23,
   "metadata": {},
   "outputs": [],
   "source": [
    "utility = opt_mo.tournament_utility(p, opponents)"
   ]
  },
  {
   "cell_type": "code",
   "execution_count": 24,
   "metadata": {},
   "outputs": [],
   "source": [
    "diff_utility = [sym.diff(utility, i) for i in p]"
   ]
  },
  {
   "cell_type": "code",
   "execution_count": 25,
   "metadata": {},
   "outputs": [],
   "source": [
    "diff_utility_at_zero = [expr.subs({p_1: 0, p_2: 0, p_3: 0, p_4: 0}).expand() for expr in diff_utility]"
   ]
  },
  {
   "cell_type": "code",
   "execution_count": 26,
   "metadata": {},
   "outputs": [],
   "source": [
    "def get_derivate_for_p_zeros(opponents):\n",
    "    sums = 0\n",
    "    for opponent in opponents:\n",
    "        lhs = opt_mo.utility.linear_term_numerator(opponent) * opt_mo.utility.constant_term_denominator(opponent)\n",
    "        rhs = opt_mo.utility.linear_term_denominator(opponent) * opt_mo.utility.constant_term_numerator(opponent)\n",
    "        \n",
    "        denominator = opt_mo.utility.constant_term_denominator(opponent) ** 2\n",
    "        \n",
    "        sums +=  (lhs - rhs) / denominator\n",
    "\n",
    "    return (sums) * (1 / len(opponents))"
   ]
  },
  {
   "cell_type": "code",
   "execution_count": 27,
   "metadata": {},
   "outputs": [],
   "source": [
    "expression = get_derivate_for_p_zeros(opponents)"
   ]
  },
  {
   "cell_type": "code",
   "execution_count": 27,
   "metadata": {},
   "outputs": [
    {
     "name": "stderr",
     "output_type": "stream",
     "text": [
      "100%|██████████| 4/4 [00:03<00:00,  1.16it/s]\n"
     ]
    }
   ],
   "source": [
    "for i in tqdm.tqdm(range(4)):\n",
    "    assert (diff_utility_at_zero[i] - expression[i]).simplify() == 0"
   ]
  },
  {
   "cell_type": "code",
   "execution_count": 28,
   "metadata": {},
   "outputs": [],
   "source": [
    "def stackplot(plot, eco, logscale=True):\n",
    "\n",
    "    populations = eco.population_sizes\n",
    "    _, ax = plt.subplots()\n",
    "    figure = ax.get_figure()\n",
    "    turns = range(len(populations))\n",
    "    pops = [\n",
    "        [populations[iturn][ir] for iturn in turns]\n",
    "        for ir in plot.result_set.ranking\n",
    "    ]\n",
    "    ax.stackplot(turns, *pops)\n",
    "\n",
    "    ax.yaxis.tick_left()\n",
    "    ax.yaxis.set_label_position(\"right\")\n",
    "    ax.yaxis.labelpad = 25.0\n",
    "\n",
    "    ax.set_ylim([0.0, 1.0])\n",
    "    #ax.set_xlim([0.0, 10 ** 3])\n",
    "    ax.set_ylabel(\"Relative population size\", fontweight='bold')\n",
    "    ax.set_xlabel(\"Turn\", fontweight='bold')\n",
    "\n",
    "    trans = transforms.blended_transform_factory(ax.transAxes, ax.transData)\n",
    "    ticks = []\n",
    "    for i, n in enumerate(plot.result_set.ranked_names):\n",
    "        x = -0.01\n",
    "        y = (i + 0.5) * 1 / plot.result_set.num_players\n",
    "        if n != 'Defector':\n",
    "            opponent_strings = (n.split(':')[1].replace('[', '').replace(']', '')).split(\",\")\n",
    "            opponent = [Fraction(float(op)).limit_denominator() for op in opponent_strings]\n",
    "            label = '$q_{%s}$'% i\n",
    "#             for p in range(3):\n",
    "#                 label += r'\\frac{' + str(opponent[p].numerator) + '}{' + str(opponent[p].denominator) + '},'\n",
    "#             label += r'\\frac{' + str(opponent[3].numerator) + '}{' + str(opponent[3].denominator) + '})$'\n",
    "#             print(label)\n",
    "            n = label\n",
    "        ax.annotate(\n",
    "            n,\n",
    "            xy=(x, y),\n",
    "            xycoords=trans,\n",
    "            clip_on=False,\n",
    "            va=\"center\",\n",
    "            ha=\"right\",\n",
    "            fontsize=10,\n",
    "        )\n",
    "        ticks.append(y)\n",
    "    ax.set_yticks(ticks)\n",
    "    ax.tick_params(direction=\"out\")\n",
    "    ax.set_yticklabels([])    \n",
    "    if logscale:\n",
    "        ax.set_xscale(\"log\")\n",
    "    for tick in ax.yaxis.get_majorticklabels():  # example for xaxis\n",
    "        tick.set_fontsize(20) \n",
    "        \n",
    "    plt.tight_layout()\n",
    "    plt.xlim(0, 10 **2)\n",
    "    return figure"
   ]
  },
  {
   "cell_type": "code",
   "execution_count": 29,
   "metadata": {},
   "outputs": [
    {
     "name": "stdout",
     "output_type": "stream",
     "text": [
      "Found at: 5\n"
     ]
    }
   ],
   "source": [
    "for seed in range(2, 10):\n",
    "    np.random.seed(seed)\n",
    "    opponents = [[np.round(np.random.random(), 5) for _ in range(4)] for _ in range(3)]\n",
    "\n",
    "    derivative = get_derivate_for_p_zeros(opponents)\n",
    "    \n",
    "    if all([el < 0 for el in derivative]):\n",
    "        print('Found at: %s' % seed)\n",
    "        break"
   ]
  },
  {
   "cell_type": "code",
   "execution_count": 30,
   "metadata": {},
   "outputs": [],
   "source": [
    "defection_stable_opponents_set = [axl.MemoryOnePlayer(ps, initial=D) for ps in opponents] + [axl.Defector()]"
   ]
  },
  {
   "cell_type": "code",
   "execution_count": 31,
   "metadata": {},
   "outputs": [],
   "source": [
    "tournament = axl.Tournament(defection_stable_opponents_set)\n",
    "results = tournament.play(progress_bar=False)\n",
    "eco = axl.Ecosystem(results)\n",
    "eco.reproduce(500)"
   ]
  },
  {
   "cell_type": "code",
   "execution_count": 32,
   "metadata": {},
   "outputs": [
    {
     "data": {
      "image/png": "[encoded data removed]",
      "text/plain": [
       "<Figure size 432x288 with 1 Axes>"
      ]
     },
     "metadata": {
      "needs_background": "light"
     },
     "output_type": "display_data"
    }
   ],
   "source": [
    "plot = axl.Plot(results)\n",
    "p = stackplot(plot, eco,)"
   ]
  },
  {
   "cell_type": "code",
   "execution_count": 33,
   "metadata": {},
   "outputs": [],
   "source": [
    "p.savefig('../img/population_defection_takes_over.pdf', bbox_inches='tight')"
   ]
  },
  {
   "cell_type": "code",
   "execution_count": 39,
   "metadata": {},
   "outputs": [],
   "source": [
    "for seed in range(5000):\n",
    "    np.random.seed(4)\n",
    "    opponents = [[round(np.random.random(), 5) for _ in range(4)] for _ in range(3)]\n",
    "    \n",
    "    np.random.seed(seed)\n",
    "    other_opponent =[[np.random.random() for _ in range(4)]]\n",
    "    \n",
    "    derivative = get_derivate_for_p_zeros(opponents + other_opponent)\n",
    "    if all([el < 0 for el in derivative]):\n",
    "        print('Found at: %s' % seed)\n",
    "        break"
   ]
  },
  {
   "cell_type": "code",
   "execution_count": 40,
   "metadata": {},
   "outputs": [],
   "source": [
    "defection_stable_opponents_set = [axl.MemoryOnePlayer(ps, initial=C) for ps in opponents]\n",
    "defection_stable_opponents_set += [axl.Defector()]"
   ]
  },
  {
   "cell_type": "code",
   "execution_count": 58,
   "metadata": {},
   "outputs": [],
   "source": [
    "tournament = axl.Tournament(defection_stable_opponents_set)\n",
    "results = tournament.play(progress_bar=False)\n",
    "eco = axl.Ecosystem(results)\n",
    "eco.reproduce(50000)"
   ]
  },
  {
   "cell_type": "code",
   "execution_count": 59,
   "metadata": {},
   "outputs": [
    {
     "data": {
      "image/png": "[encoded data removed]",
      "text/plain": [
       "<Figure size 432x288 with 1 Axes>"
      ]
     },
     "metadata": {
      "needs_background": "light"
     },
     "output_type": "display_data"
    }
   ],
   "source": [
    "plot = axl.Plot(results)\n",
    "p = stackplot(plot, eco)\n",
    "\n",
    "p.savefig('../img/population_defection_fails.pdf', bbox_inches='tight')"
   ]
  },
  {
   "cell_type": "code",
   "execution_count": 89,
   "metadata": {},
   "outputs": [],
   "source": []
  }
 ],
 "metadata": {
  "kernelspec": {
   "display_name": "opt-mo",
   "language": "python",
   "name": "opt-mo"
  },
  "language_info": {
   "codemirror_mode": {
    "name": "ipython",
    "version": 3
   },
   "file_extension": ".py",
   "mimetype": "text/x-python",
   "name": "python",
   "nbconvert_exporter": "python",
   "pygments_lexer": "ipython3",
   "version": "3.6.7"
  }
 },
 "nbformat": 4,
 "nbformat_minor": 2
}
