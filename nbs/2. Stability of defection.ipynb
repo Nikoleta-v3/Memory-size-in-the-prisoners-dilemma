{
 "cells": [
  {
   "cell_type": "markdown",
   "metadata": {},
   "source": [
    "Stability of defection, optimisation of strategies and the limits of memory in the PD.\n",
    "----------------------"
   ]
  },
  {
   "cell_type": "markdown",
   "metadata": {},
   "source": [
    "## 2. Stability of defection"
   ]
  },
  {
   "cell_type": "code",
   "execution_count": 5,
   "metadata": {},
   "outputs": [],
   "source": [
    "import opt_mo\n",
    "\n",
    "import numpy as np\n",
    "import sympy as sym\n",
    "import itertools\n",
    "import axelrod as axl\n",
    "import matplotlib.pyplot as plt"
   ]
  },
  {
   "cell_type": "code",
   "execution_count": 89,
   "metadata": {},
   "outputs": [],
   "source": [
    "import matplotlib.transforms as transforms"
   ]
  },
  {
   "cell_type": "code",
   "execution_count": 6,
   "metadata": {},
   "outputs": [],
   "source": [
    "import warnings; warnings.simplefilter('ignore')"
   ]
  },
  {
   "cell_type": "code",
   "execution_count": 7,
   "metadata": {},
   "outputs": [],
   "source": [
    "import operator\n",
    "import functools"
   ]
  },
  {
   "cell_type": "code",
   "execution_count": 8,
   "metadata": {},
   "outputs": [],
   "source": [
    "sym.init_printing()"
   ]
  },
  {
   "cell_type": "markdown",
   "metadata": {},
   "source": [
    "Analytical check\n",
    "----------------"
   ]
  },
  {
   "cell_type": "code",
   "execution_count": 9,
   "metadata": {},
   "outputs": [],
   "source": [
    "p_1, p_2, p_3, p_4 = sym.symbols(\"p_1, p_2, p_3, p_4\")\n",
    "q_1, q_2, q_3, q_4 = sym.symbols(\"q_1, q_2, q_3, q_4\")\n",
    "k_1, k_2, k_3, k_4 = sym.symbols(\"k_1, k_2, k_3, k_4\")\n",
    "\n",
    "p, q, k = (p_1, p_2, p_3, p_4), (q_1, q_2, q_3, q_4), (k_1, k_2, k_3, k_4)"
   ]
  },
  {
   "cell_type": "code",
   "execution_count": 10,
   "metadata": {},
   "outputs": [],
   "source": [
    "utility = opt_mo.tournament_utility(p, (q, k))"
   ]
  },
  {
   "cell_type": "code",
   "execution_count": 11,
   "metadata": {},
   "outputs": [],
   "source": [
    "diff_utility = [sym.diff(utility, i) for i in p]"
   ]
  },
  {
   "cell_type": "code",
   "execution_count": 12,
   "metadata": {},
   "outputs": [],
   "source": [
    "diff_defector = [diff.subs({p_1:0, p_2:0, p_3:0, p_4:0}).simplify() for diff in diff_utility]"
   ]
  },
  {
   "cell_type": "code",
   "execution_count": 13,
   "metadata": {},
   "outputs": [],
   "source": [
    "differences = []\n",
    "for opponent in (q, k):\n",
    "    rhs = opt_mo.utility.linear_term_numerator(opponent) * opt_mo.utility.constant_term_denominator(opponent)\n",
    "    lhs = opt_mo.utility.linear_term_denominator(opponent) * opt_mo.utility.constant_term_numerator(opponent)\n",
    "    \n",
    "    product = []\n",
    "    for other_opponent in (q, k):\n",
    "        if opponent != other_opponent:\n",
    "            product.append(opt_mo.utility.constant_term_denominator(other_opponent))\n",
    "\n",
    "    product = functools.reduce(operator.mul, product, 1)\n",
    "    differences.append((rhs - lhs) * product ** 2)\n",
    "    \n",
    "differences = sum(differences)"
   ]
  },
  {
   "cell_type": "code",
   "execution_count": 14,
   "metadata": {},
   "outputs": [],
   "source": [
    "written_diff = [differences[i].simplify() for i in range(4)]"
   ]
  },
  {
   "cell_type": "code",
   "execution_count": 15,
   "metadata": {},
   "outputs": [],
   "source": [
    "for i in range(4):\n",
    "    assert (sym.fraction(diff_defector[i])[0] - written_diff[i]).simplify() == 0"
   ]
  },
  {
   "cell_type": "markdown",
   "metadata": {},
   "source": [
    "Numerical check\n",
    "---------------"
   ]
  },
  {
   "cell_type": "code",
   "execution_count": 16,
   "metadata": {},
   "outputs": [],
   "source": [
    "def defection_stability_condition(opponents):\n",
    "    differences = []\n",
    "    for opponent in opponents:\n",
    "        rhs = opt_mo.utility.linear_term_numerator(opponent) * opt_mo.utility.constant_term_denominator(opponent)\n",
    "        lhs = opt_mo.utility.linear_term_denominator(opponent) * opt_mo.utility.constant_term_numerator(opponent)\n",
    "        \n",
    "        differences.append(rhs - lhs)\n",
    "    total = sum(differences)\n",
    "    \n",
    "    return all([row <= 10 ** -8 for row in total])"
   ]
  },
  {
   "cell_type": "code",
   "execution_count": 205,
   "metadata": {},
   "outputs": [],
   "source": [
    "def stackplot(plot, eco, title, logscale=True):\n",
    "\n",
    "    populations = eco.population_sizes\n",
    "    _, ax = plt.subplots()\n",
    "    figure = ax.get_figure()\n",
    "    turns = range(len(populations))\n",
    "    pops = [\n",
    "        [populations[iturn][ir] for iturn in turns]\n",
    "        for ir in plot.result_set.ranking\n",
    "    ]\n",
    "    ax.stackplot(turns, *pops)\n",
    "\n",
    "    ax.yaxis.tick_left()\n",
    "    ax.yaxis.set_label_position(\"right\")\n",
    "    ax.yaxis.labelpad = 25.0\n",
    "\n",
    "    ax.set_ylim([0.0, 1.0])\n",
    "    ax.set_ylabel(\"Relative population size\")\n",
    "    ax.set_xlabel(\"Turn\")\n",
    "    ax.set_title(title)\n",
    "\n",
    "    trans = transforms.blended_transform_factory(ax.transAxes, ax.transData)\n",
    "    ticks = []\n",
    "    for i, n in enumerate(plot.result_set.ranked_names):\n",
    "        x = -0.01\n",
    "        y = (i + 0.5) * 1 / plot.result_set.num_players\n",
    "        ax.annotate(\n",
    "            n,\n",
    "            xy=(x, y),\n",
    "            xycoords=trans,\n",
    "            clip_on=False,\n",
    "            va=\"center\",\n",
    "            ha=\"right\",\n",
    "            fontsize=10,\n",
    "        )\n",
    "        ticks.append(y)\n",
    "    ax.set_yticks(ticks)\n",
    "    ax.tick_params(direction=\"out\")\n",
    "    ax.set_yticklabels([])\n",
    "    \n",
    "    if logscale:\n",
    "        ax.set_xscale(\"log\")\n",
    "\n",
    "    plt.tight_layout()\n",
    "    return figure"
   ]
  },
  {
   "cell_type": "code",
   "execution_count": 200,
   "metadata": {},
   "outputs": [],
   "source": [
    "first_opponent = [1/2, 7/10, 3/5, 1/2]\n",
    "second_opponent = [2/5, 3/5, 2/5, 4/5]"
   ]
  },
  {
   "cell_type": "code",
   "execution_count": 201,
   "metadata": {},
   "outputs": [
    {
     "data": {
      "text/plain": [
       "True"
      ]
     },
     "execution_count": 201,
     "metadata": {},
     "output_type": "execute_result"
    }
   ],
   "source": [
    "defection_stability_condition([first_opponent, second_opponent])"
   ]
  },
  {
   "cell_type": "code",
   "execution_count": 202,
   "metadata": {},
   "outputs": [],
   "source": [
    "defection_stable_opponents_set = [axl.MemoryOnePlayer(ps) for ps in\n",
    "                                  [first_opponent, second_opponent]] + [axl.Defector()]"
   ]
  },
  {
   "cell_type": "code",
   "execution_count": 203,
   "metadata": {},
   "outputs": [],
   "source": [
    "tournament = axl.Tournament(defection_stable_opponents_set)\n",
    "results = tournament.play(progress_bar=False)\n",
    "eco = axl.Ecosystem(results)\n",
    "eco.reproduce(500)"
   ]
  },
  {
   "cell_type": "code",
   "execution_count": 204,
   "metadata": {},
   "outputs": [
    {
     "data": {
      "image/png": "[encoded data removed]",
      "text/plain": [
       "<Figure size 432x288 with 1 Axes>"
      ]
     },
     "metadata": {
      "needs_background": "light"
     },
     "output_type": "display_data"
    }
   ],
   "source": [
    "plot = axl.Plot(results)\n",
    "p = stackplot(plot, eco, title='Here')"
   ]
  },
  {
   "cell_type": "code",
   "execution_count": 110,
   "metadata": {},
   "outputs": [],
   "source": [
    "different_second_opponent = [1/4, 1/25, 13/20, 1/25]"
   ]
  },
  {
   "cell_type": "code",
   "execution_count": 111,
   "metadata": {},
   "outputs": [
    {
     "data": {
      "text/plain": [
       "False"
      ]
     },
     "execution_count": 111,
     "metadata": {},
     "output_type": "execute_result"
    }
   ],
   "source": [
    "defection_stability_condition([first_opponent, different_second_opponent])"
   ]
  },
  {
   "cell_type": "code",
   "execution_count": 112,
   "metadata": {},
   "outputs": [],
   "source": [
    "defection_unstable_opponents_set = [axl.MemoryOnePlayer(ps) for ps in\n",
    "                                    [first_opponent, different_second_opponent]] + [axl.Defector()]"
   ]
  },
  {
   "cell_type": "code",
   "execution_count": 113,
   "metadata": {},
   "outputs": [],
   "source": [
    "tournament = axl.Tournament(defection_unstable_opponents_set)\n",
    "results = tournament.play(progress_bar=False)\n",
    "eco = axl.Ecosystem(results)\n",
    "eco.reproduce(200)"
   ]
  },
  {
   "cell_type": "code",
   "execution_count": 114,
   "metadata": {},
   "outputs": [
    {
     "data": {
      "image/png": "[encoded data removed]",
      "text/plain": [
       "<Figure size 432x288 with 1 Axes>"
      ]
     },
     "metadata": {
      "needs_background": "light"
     },
     "output_type": "display_data"
    }
   ],
   "source": [
    "plot = axl.Plot(results)\n",
    "p = stackplot(plot, eco, title='Here')"
   ]
  },
  {
   "cell_type": "code",
   "execution_count": null,
   "metadata": {},
   "outputs": [],
   "source": []
  }
 ],
 "metadata": {
  "kernelspec": {
   "display_name": "opt-mo",
   "language": "python",
   "name": "opt-mo"
  },
  "language_info": {
   "codemirror_mode": {
    "name": "ipython",
    "version": 3
   },
   "file_extension": ".py",
   "mimetype": "text/x-python",
   "name": "python",
   "nbconvert_exporter": "python",
   "pygments_lexer": "ipython3",
   "version": "3.6.7"
  }
 },
 "nbformat": 4,
 "nbformat_minor": 2
}
