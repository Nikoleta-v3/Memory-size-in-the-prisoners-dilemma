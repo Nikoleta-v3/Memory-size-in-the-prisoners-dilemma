{
 "cells": [
  {
   "cell_type": "code",
   "execution_count": 7,
   "metadata": {},
   "outputs": [],
   "source": [
    "import itertools\n",
    "import random\n",
    "\n",
    "import axelrod as axl\n",
    "import matplotlib\n",
    "import matplotlib.pyplot as plt\n",
    "import numpy as np\n",
    "import skopt\n",
    "import tqdm\n",
    "from skopt.plots import plot_convergence"
   ]
  },
  {
   "cell_type": "code",
   "execution_count": 2,
   "metadata": {},
   "outputs": [],
   "source": [
    "import sqlalchemy as sa\n",
    "import pandas as pd"
   ]
  },
  {
   "cell_type": "code",
   "execution_count": 3,
   "metadata": {},
   "outputs": [],
   "source": [
    "from functools import partial"
   ]
  },
  {
   "cell_type": "code",
   "execution_count": 4,
   "metadata": {},
   "outputs": [],
   "source": [
    "from scipy import stats"
   ]
  },
  {
   "cell_type": "code",
   "execution_count": 5,
   "metadata": {},
   "outputs": [],
   "source": [
    "import opt_mo"
   ]
  },
  {
   "cell_type": "code",
   "execution_count": 6,
   "metadata": {},
   "outputs": [],
   "source": [
    "font = {\"size\": 10, \"weight\": \"bold\"}\n",
    "matplotlib.rc(\"font\", **font)\n"
   ]
  },
  {
   "cell_type": "markdown",
   "metadata": {},
   "source": [
    "Numerical Experiments\n",
    "---------------------\n",
    "\n",
    "An example of the Bayesion optimisation and the change of the utility over the iterations."
   ]
  },
  {
   "cell_type": "code",
   "execution_count": 219,
   "metadata": {},
   "outputs": [],
   "source": [
    "def bayesian(opponents, n_calls=60):\n",
    "    method_params = {\"n_random_starts\": 20, \"n_calls\": n_calls}\n",
    "    bounds = [(0, 1.0) for _ in range(4)]\n",
    "    objective = opt_mo.memory_one_best_response.prepare_objective_optimisation(\n",
    "        opponents=opponents\n",
    "    )\n",
    "\n",
    "    result = skopt.gp_minimize(\n",
    "        func=objective,\n",
    "        dimensions=bounds,\n",
    "        acq_func=\"EI\",\n",
    "        random_state=0,\n",
    "        **method_params\n",
    "    )\n",
    "\n",
    "    return result"
   ]
  },
  {
   "cell_type": "code",
   "execution_count": 220,
   "metadata": {},
   "outputs": [],
   "source": [
    "opponents = [[1/3, 1/3, 1/3, 1/3], [1/3, 1/3, 1/3, 1/3]]"
   ]
  },
  {
   "cell_type": "code",
   "execution_count": 221,
   "metadata": {},
   "outputs": [],
   "source": [
    "values = np.minimum.accumulate(res.func_vals, 0)\n",
    "values = [-x for x in values]"
   ]
  },
  {
   "cell_type": "code",
   "execution_count": 222,
   "metadata": {},
   "outputs": [
    {
     "data": {
      "image/png": "[encoded data removed]",
      "text/plain": [
       "<Figure size 432x288 with 1 Axes>"
      ]
     },
     "metadata": {
      "needs_background": "light"
     },
     "output_type": "display_data"
    }
   ],
   "source": [
    "fig, ax = plt.subplots()\n",
    "\n",
    "plt.plot(range(len(values)), values, \"--o\", color='black')\n",
    "plt.xlabel(\"Number of calls $n$\",)\n",
    "plt.ylabel(r\"Utility\");\n",
    "\n",
    "fig.savefig('../img/bayesian_example.pdf')"
   ]
  },
  {
   "cell_type": "markdown",
   "metadata": {},
   "source": [
    "# Memory-one best responses in $N=2$"
   ]
  },
  {
   "cell_type": "code",
   "execution_count": 15,
   "metadata": {},
   "outputs": [],
   "source": [
    "color = matplotlib.cm.viridis(0.3)"
   ]
  },
  {
   "cell_type": "code",
   "execution_count": 9,
   "metadata": {},
   "outputs": [],
   "source": [
    "def read_sql_data_frame(path):\n",
    "    engine = sa.create_engine(\"sqlite:///%s\" % path)\n",
    "    connection = engine.connect()\n",
    "\n",
    "    return pd.read_sql(\"experiments\", connection)"
   ]
  },
  {
   "cell_type": "code",
   "execution_count": 10,
   "metadata": {},
   "outputs": [],
   "source": [
    "df = read_sql_data_frame('../data/without_gambler/main.db')"
   ]
  },
  {
   "cell_type": "code",
   "execution_count": 226,
   "metadata": {},
   "outputs": [
    {
     "data": {
      "text/html": [
       "<div>\n",
       "<style scoped>\n",
       "    .dataframe tbody tr th:only-of-type {\n",
       "        vertical-align: middle;\n",
       "    }\n",
       "\n",
       "    .dataframe tbody tr th {\n",
       "        vertical-align: top;\n",
       "    }\n",
       "\n",
       "    .dataframe thead th {\n",
       "        text-align: right;\n",
       "    }\n",
       "</style>\n",
       "<table border=\"1\" class=\"dataframe\">\n",
       "  <thead>\n",
       "    <tr style=\"text-align: right;\">\n",
       "      <th></th>\n",
       "      <th>exp_index</th>\n",
       "      <th>first_opponent_q_1</th>\n",
       "      <th>first_opponent_q_2</th>\n",
       "      <th>first_opponent_q_3</th>\n",
       "      <th>first_opponent_q_4</th>\n",
       "      <th>second_opponent_q_1</th>\n",
       "      <th>second_opponent_q_2</th>\n",
       "      <th>second_opponent_q_3</th>\n",
       "      <th>second_opponent_q_4</th>\n",
       "      <th>mem_one_p_1</th>\n",
       "      <th>...</th>\n",
       "      <th>mem_one_cycle_length</th>\n",
       "      <th>reactive_p_1</th>\n",
       "      <th>reactive_p_2</th>\n",
       "      <th>reactive_p_3</th>\n",
       "      <th>reactive_p_4</th>\n",
       "      <th>evol_reactive_p_1</th>\n",
       "      <th>evol_reactive_p_2</th>\n",
       "      <th>evol_reactive_p_3</th>\n",
       "      <th>evol_reactive_p_4</th>\n",
       "      <th>reactive_cycle_length</th>\n",
       "    </tr>\n",
       "  </thead>\n",
       "  <tbody>\n",
       "    <tr>\n",
       "      <th>count</th>\n",
       "      <td>483.000000</td>\n",
       "      <td>483.000000</td>\n",
       "      <td>483.000000</td>\n",
       "      <td>483.000000</td>\n",
       "      <td>483.000000</td>\n",
       "      <td>483.000000</td>\n",
       "      <td>483.000000</td>\n",
       "      <td>483.000000</td>\n",
       "      <td>483.000000</td>\n",
       "      <td>483.000000</td>\n",
       "      <td>...</td>\n",
       "      <td>483.000000</td>\n",
       "      <td>483.000000</td>\n",
       "      <td>483.000000</td>\n",
       "      <td>483.000000</td>\n",
       "      <td>483.000000</td>\n",
       "      <td>483.000000</td>\n",
       "      <td>483.000000</td>\n",
       "      <td>483.000000</td>\n",
       "      <td>483.000000</td>\n",
       "      <td>483.000000</td>\n",
       "    </tr>\n",
       "    <tr>\n",
       "      <th>mean</th>\n",
       "      <td>248.925466</td>\n",
       "      <td>0.484615</td>\n",
       "      <td>0.507831</td>\n",
       "      <td>0.507528</td>\n",
       "      <td>0.488985</td>\n",
       "      <td>0.508080</td>\n",
       "      <td>0.505944</td>\n",
       "      <td>0.507904</td>\n",
       "      <td>0.489102</td>\n",
       "      <td>0.261048</td>\n",
       "      <td>...</td>\n",
       "      <td>1.981366</td>\n",
       "      <td>0.049856</td>\n",
       "      <td>0.098304</td>\n",
       "      <td>0.049856</td>\n",
       "      <td>0.098304</td>\n",
       "      <td>0.049815</td>\n",
       "      <td>0.029763</td>\n",
       "      <td>0.049815</td>\n",
       "      <td>0.029763</td>\n",
       "      <td>1.414079</td>\n",
       "    </tr>\n",
       "    <tr>\n",
       "      <th>std</th>\n",
       "      <td>150.315735</td>\n",
       "      <td>0.288894</td>\n",
       "      <td>0.280764</td>\n",
       "      <td>0.300710</td>\n",
       "      <td>0.292734</td>\n",
       "      <td>0.279743</td>\n",
       "      <td>0.278234</td>\n",
       "      <td>0.285332</td>\n",
       "      <td>0.281164</td>\n",
       "      <td>0.409250</td>\n",
       "      <td>...</td>\n",
       "      <td>3.680957</td>\n",
       "      <td>0.216014</td>\n",
       "      <td>0.210380</td>\n",
       "      <td>0.216014</td>\n",
       "      <td>0.210380</td>\n",
       "      <td>0.217493</td>\n",
       "      <td>0.090679</td>\n",
       "      <td>0.217493</td>\n",
       "      <td>0.090679</td>\n",
       "      <td>5.318328</td>\n",
       "    </tr>\n",
       "    <tr>\n",
       "      <th>min</th>\n",
       "      <td>0.000000</td>\n",
       "      <td>0.001510</td>\n",
       "      <td>0.000426</td>\n",
       "      <td>0.001315</td>\n",
       "      <td>0.001682</td>\n",
       "      <td>0.000452</td>\n",
       "      <td>0.000210</td>\n",
       "      <td>0.000403</td>\n",
       "      <td>0.000720</td>\n",
       "      <td>0.000000</td>\n",
       "      <td>...</td>\n",
       "      <td>1.000000</td>\n",
       "      <td>0.000000</td>\n",
       "      <td>0.000000</td>\n",
       "      <td>0.000000</td>\n",
       "      <td>0.000000</td>\n",
       "      <td>0.000000</td>\n",
       "      <td>0.000000</td>\n",
       "      <td>0.000000</td>\n",
       "      <td>0.000000</td>\n",
       "      <td>1.000000</td>\n",
       "    </tr>\n",
       "    <tr>\n",
       "      <th>25%</th>\n",
       "      <td>120.500000</td>\n",
       "      <td>0.232438</td>\n",
       "      <td>0.255488</td>\n",
       "      <td>0.242222</td>\n",
       "      <td>0.240294</td>\n",
       "      <td>0.260540</td>\n",
       "      <td>0.269000</td>\n",
       "      <td>0.274238</td>\n",
       "      <td>0.240010</td>\n",
       "      <td>0.000000</td>\n",
       "      <td>...</td>\n",
       "      <td>1.000000</td>\n",
       "      <td>0.000000</td>\n",
       "      <td>0.000000</td>\n",
       "      <td>0.000000</td>\n",
       "      <td>0.000000</td>\n",
       "      <td>0.000000</td>\n",
       "      <td>0.000000</td>\n",
       "      <td>0.000000</td>\n",
       "      <td>0.000000</td>\n",
       "      <td>1.000000</td>\n",
       "    </tr>\n",
       "    <tr>\n",
       "      <th>50%</th>\n",
       "      <td>241.000000</td>\n",
       "      <td>0.483433</td>\n",
       "      <td>0.524563</td>\n",
       "      <td>0.528550</td>\n",
       "      <td>0.462532</td>\n",
       "      <td>0.510761</td>\n",
       "      <td>0.522525</td>\n",
       "      <td>0.518428</td>\n",
       "      <td>0.485283</td>\n",
       "      <td>0.000000</td>\n",
       "      <td>...</td>\n",
       "      <td>1.000000</td>\n",
       "      <td>0.000000</td>\n",
       "      <td>0.000000</td>\n",
       "      <td>0.000000</td>\n",
       "      <td>0.000000</td>\n",
       "      <td>0.000000</td>\n",
       "      <td>0.000000</td>\n",
       "      <td>0.000000</td>\n",
       "      <td>0.000000</td>\n",
       "      <td>1.000000</td>\n",
       "    </tr>\n",
       "    <tr>\n",
       "      <th>75%</th>\n",
       "      <td>361.500000</td>\n",
       "      <td>0.743838</td>\n",
       "      <td>0.750516</td>\n",
       "      <td>0.764257</td>\n",
       "      <td>0.752342</td>\n",
       "      <td>0.743589</td>\n",
       "      <td>0.731092</td>\n",
       "      <td>0.744064</td>\n",
       "      <td>0.737207</td>\n",
       "      <td>0.542148</td>\n",
       "      <td>...</td>\n",
       "      <td>2.000000</td>\n",
       "      <td>0.000000</td>\n",
       "      <td>0.078344</td>\n",
       "      <td>0.000000</td>\n",
       "      <td>0.078344</td>\n",
       "      <td>0.000000</td>\n",
       "      <td>0.000000</td>\n",
       "      <td>0.000000</td>\n",
       "      <td>0.000000</td>\n",
       "      <td>1.000000</td>\n",
       "    </tr>\n",
       "    <tr>\n",
       "      <th>max</th>\n",
       "      <td>515.000000</td>\n",
       "      <td>0.995695</td>\n",
       "      <td>0.996837</td>\n",
       "      <td>0.999550</td>\n",
       "      <td>0.998631</td>\n",
       "      <td>0.998728</td>\n",
       "      <td>0.999020</td>\n",
       "      <td>0.999129</td>\n",
       "      <td>0.998740</td>\n",
       "      <td>1.000000</td>\n",
       "      <td>...</td>\n",
       "      <td>55.000000</td>\n",
       "      <td>1.000000</td>\n",
       "      <td>1.000000</td>\n",
       "      <td>1.000000</td>\n",
       "      <td>1.000000</td>\n",
       "      <td>1.000000</td>\n",
       "      <td>0.999771</td>\n",
       "      <td>1.000000</td>\n",
       "      <td>0.999771</td>\n",
       "      <td>117.000000</td>\n",
       "    </tr>\n",
       "  </tbody>\n",
       "</table>\n",
       "<p>8 rows × 27 columns</p>\n",
       "</div>"
      ],
      "text/plain": [
       "        exp_index  first_opponent_q_1  first_opponent_q_2  first_opponent_q_3  \\\n",
       "count  483.000000          483.000000          483.000000          483.000000   \n",
       "mean   248.925466            0.484615            0.507831            0.507528   \n",
       "std    150.315735            0.288894            0.280764            0.300710   \n",
       "min      0.000000            0.001510            0.000426            0.001315   \n",
       "25%    120.500000            0.232438            0.255488            0.242222   \n",
       "50%    241.000000            0.483433            0.524563            0.528550   \n",
       "75%    361.500000            0.743838            0.750516            0.764257   \n",
       "max    515.000000            0.995695            0.996837            0.999550   \n",
       "\n",
       "       first_opponent_q_4  second_opponent_q_1  second_opponent_q_2  \\\n",
       "count          483.000000           483.000000           483.000000   \n",
       "mean             0.488985             0.508080             0.505944   \n",
       "std              0.292734             0.279743             0.278234   \n",
       "min              0.001682             0.000452             0.000210   \n",
       "25%              0.240294             0.260540             0.269000   \n",
       "50%              0.462532             0.510761             0.522525   \n",
       "75%              0.752342             0.743589             0.731092   \n",
       "max              0.998631             0.998728             0.999020   \n",
       "\n",
       "       second_opponent_q_3  second_opponent_q_4  mem_one_p_1  \\\n",
       "count           483.000000           483.000000   483.000000   \n",
       "mean              0.507904             0.489102     0.261048   \n",
       "std               0.285332             0.281164     0.409250   \n",
       "min               0.000403             0.000720     0.000000   \n",
       "25%               0.274238             0.240010     0.000000   \n",
       "50%               0.518428             0.485283     0.000000   \n",
       "75%               0.744064             0.737207     0.542148   \n",
       "max               0.999129             0.998740     1.000000   \n",
       "\n",
       "               ...            mem_one_cycle_length  reactive_p_1  \\\n",
       "count          ...                      483.000000    483.000000   \n",
       "mean           ...                        1.981366      0.049856   \n",
       "std            ...                        3.680957      0.216014   \n",
       "min            ...                        1.000000      0.000000   \n",
       "25%            ...                        1.000000      0.000000   \n",
       "50%            ...                        1.000000      0.000000   \n",
       "75%            ...                        2.000000      0.000000   \n",
       "max            ...                       55.000000      1.000000   \n",
       "\n",
       "       reactive_p_2  reactive_p_3  reactive_p_4  evol_reactive_p_1  \\\n",
       "count    483.000000    483.000000    483.000000         483.000000   \n",
       "mean       0.098304      0.049856      0.098304           0.049815   \n",
       "std        0.210380      0.216014      0.210380           0.217493   \n",
       "min        0.000000      0.000000      0.000000           0.000000   \n",
       "25%        0.000000      0.000000      0.000000           0.000000   \n",
       "50%        0.000000      0.000000      0.000000           0.000000   \n",
       "75%        0.078344      0.000000      0.078344           0.000000   \n",
       "max        1.000000      1.000000      1.000000           1.000000   \n",
       "\n",
       "       evol_reactive_p_2  evol_reactive_p_3  evol_reactive_p_4  \\\n",
       "count         483.000000         483.000000         483.000000   \n",
       "mean            0.029763           0.049815           0.029763   \n",
       "std             0.090679           0.217493           0.090679   \n",
       "min             0.000000           0.000000           0.000000   \n",
       "25%             0.000000           0.000000           0.000000   \n",
       "50%             0.000000           0.000000           0.000000   \n",
       "75%             0.000000           0.000000           0.000000   \n",
       "max             0.999771           1.000000           0.999771   \n",
       "\n",
       "       reactive_cycle_length  \n",
       "count             483.000000  \n",
       "mean                1.414079  \n",
       "std                 5.318328  \n",
       "min                 1.000000  \n",
       "25%                 1.000000  \n",
       "50%                 1.000000  \n",
       "75%                 1.000000  \n",
       "max               117.000000  \n",
       "\n",
       "[8 rows x 27 columns]"
      ]
     },
     "execution_count": 226,
     "metadata": {},
     "output_type": "execute_result"
    }
   ],
   "source": [
    "df.describe()"
   ]
  },
  {
   "cell_type": "code",
   "execution_count": 227,
   "metadata": {},
   "outputs": [
    {
     "data": {
      "image/png": "[encoded data removed]",
      "text/plain": [
       "<Figure size 720x468 with 4 Axes>"
      ]
     },
     "metadata": {
      "needs_background": "light"
     },
     "output_type": "display_data"
    }
   ],
   "source": [
    "fig, axes = plt.subplots(nrows=2, ncols=2, figsize=(10, 6.5))\n",
    "\n",
    "for i in range(4):\n",
    "    index = (int(i / 2), i % 2)\n",
    "    axes[index].hist(df['first_opponent_q_{}'.format(i + 1)], color=color)\n",
    "    \n",
    "    axes[index].set_title('Distribution of $q^{(1)}_%s$' % (i + 1))\n",
    "\n",
    "plt.savefig('../img/first_opponent_probabilities.pdf')"
   ]
  },
  {
   "cell_type": "code",
   "execution_count": 228,
   "metadata": {},
   "outputs": [
    {
     "data": {
      "image/png": "[encoded data removed]",
      "text/plain": [
       "<Figure size 720x468 with 4 Axes>"
      ]
     },
     "metadata": {
      "needs_background": "light"
     },
     "output_type": "display_data"
    }
   ],
   "source": [
    "fig, axes = plt.subplots(nrows=2, ncols=2, figsize=(10, 6.5))\n",
    "\n",
    "for i in range(4):\n",
    "    index = (int(i / 2), i % 2)\n",
    "    #axes[index].hist(df['first_opponent_q_{}'.format(i + 1)], color=colors[0], label='$q^{(1)}$')\n",
    "    axes[index].hist(df['second_opponent_q_{}'.format(i + 1)], color=color);\n",
    "    \n",
    "    axes[index].set_title('Distribution of $q^{(2)}_%s$' % (i + 1))\n",
    "\n",
    "plt.savefig('../img/second_opponent_probabilities.pdf')"
   ]
  },
  {
   "cell_type": "markdown",
   "metadata": {},
   "source": [
    "**SSerror analysis**"
   ]
  },
  {
   "cell_type": "code",
   "execution_count": 229,
   "metadata": {},
   "outputs": [
    {
     "name": "stderr",
     "output_type": "stream",
     "text": [
      "/home/nightwing/rsc/Memory-size-in-the-prisoners-dilemma/src/opt_mo/tools.py:98: RuntimeWarning: invalid value encountered in double_scalars\n",
      "  + T * tilde_vector[2]\n"
     ]
    }
   ],
   "source": [
    "df[\"is_ZD\"] = df.apply(\n",
    "    lambda row: opt_mo.tools.is_ZD(\n",
    "        vector=[\n",
    "            row[\"mem_one_p_1\"],\n",
    "            row[\"mem_one_p_2\"],\n",
    "            row[\"mem_one_p_3\"],\n",
    "            row[\"mem_one_p_4\"],\n",
    "        ]\n",
    "    ),\n",
    "    axis=1,\n",
    ")\n",
    "df[\"SSerror\"] = df.apply(\n",
    "    lambda row: opt_mo.tools.get_least_squares(\n",
    "        vector=[\n",
    "            row[\"mem_one_p_1\"],\n",
    "            row[\"mem_one_p_2\"],\n",
    "            row[\"mem_one_p_3\"],\n",
    "            row[\"mem_one_p_4\"],\n",
    "        ]\n",
    "    ),\n",
    "    axis=1,\n",
    ")"
   ]
  },
  {
   "cell_type": "code",
   "execution_count": 230,
   "metadata": {},
   "outputs": [
    {
     "data": {
      "text/plain": [
       "(0, 2.4705882352941178, 0.0)"
      ]
     },
     "execution_count": 230,
     "metadata": {},
     "output_type": "execute_result"
    }
   ],
   "source": [
    "sum(df[\"is_ZD\"]), max(df[\"SSerror\"]), min(df[\"SSerror\"])"
   ]
  },
  {
   "cell_type": "code",
   "execution_count": 231,
   "metadata": {},
   "outputs": [
    {
     "data": {
      "image/png": "[encoded data removed]",
      "text/plain": [
       "<Figure size 576x324 with 1 Axes>"
      ]
     },
     "metadata": {
      "needs_background": "light"
     },
     "output_type": "display_data"
    }
   ],
   "source": [
    "fig, axes = plt.subplots(figsize=(8, 4.5))\n",
    "\n",
    "axes.hist(df[\"SSerror\"], bins=20, color=color);\n",
    "axes.axvline(\n",
    "    np.mean(df[\"SSerror\"]), color=\"red\", linestyle=\"dashed\", linewidth=3,\n",
    "    label=\"mean=%s\" % round(np.mean(df[\"SSerror\"]), 3)\n",
    ")\n",
    "axes.set_xticks(np.linspace(0, 2.5, 6))\n",
    "\n",
    "axes.axvline(\n",
    "    np.median(df[\"SSerror\"]),\n",
    "    color=\"black\",\n",
    "    linestyle=\"dashed\",\n",
    "    linewidth=3,\n",
    "    label=\"median=%s\" % round(np.median(df[\"SSerror\"]), 3),\n",
    ")\n",
    "axes.legend();\n",
    "\n",
    "plt.savefig('../img/best_respones_sserror.pdf')"
   ]
  },
  {
   "cell_type": "code",
   "execution_count": 124,
   "metadata": {},
   "outputs": [],
   "source": [
    "def describe(df, stats):\n",
    "    d = df.describe(percentiles=[.05, .25, .5, .95])\n",
    "    return d.append(df.reindex_axis(d.columns, 1).agg(stats))"
   ]
  },
  {
   "cell_type": "code",
   "execution_count": 125,
   "metadata": {},
   "outputs": [
    {
     "name": "stderr",
     "output_type": "stream",
     "text": [
      "/home/nightwing/anaconda3/envs/opt-mo/lib/python3.6/site-packages/ipykernel_launcher.py:3: FutureWarning: '.reindex_axis' is deprecated and will be removed in a future version. Use '.reindex' instead.\n",
      "  This is separate from the ipykernel package so we can avoid doing imports until\n"
     ]
    }
   ],
   "source": [
    "sserror_table = pd.DataFrame(describe(df, ['median', 'skew', 'kurt'])['SSerror'])\n",
    "with open(\"../tex/sserror_table.tex\", \"w\") as f:\n",
    "    f.write(sserror_table.round(5).to_latex())"
   ]
  },
  {
   "cell_type": "markdown",
   "metadata": {},
   "source": [
    "# Memory-one best responses in evolutionary dynamics"
   ]
  },
  {
   "cell_type": "code",
   "execution_count": 126,
   "metadata": {},
   "outputs": [
    {
     "name": "stderr",
     "output_type": "stream",
     "text": [
      "/home/nightwing/rsc/Memory-size-in-the-prisoners-dilemma/src/opt_mo/tools.py:98: RuntimeWarning: invalid value encountered in double_scalars\n",
      "  + T * tilde_vector[2]\n"
     ]
    }
   ],
   "source": [
    "df[\"evol_is_ZD\"] = df.apply(\n",
    "    lambda row: opt_mo.tools.is_ZD(\n",
    "        vector=[\n",
    "            row[\"evol_mem_one_p_1\"],\n",
    "            row[\"evol_mem_one_p_2\"],\n",
    "            row[\"evol_mem_one_p_3\"],\n",
    "            row[\"evol_mem_one_p_4\"],\n",
    "        ]\n",
    "    ),\n",
    "    axis=1,\n",
    ")\n",
    "df[\"evol_SSerror\"] = df.apply(\n",
    "    lambda row: opt_mo.tools.get_least_squares(\n",
    "        vector=[\n",
    "            row[\"evol_mem_one_p_1\"],\n",
    "            row[\"evol_mem_one_p_2\"],\n",
    "            row[\"evol_mem_one_p_3\"],\n",
    "            row[\"evol_mem_one_p_4\"],\n",
    "        ]\n",
    "    ),\n",
    "    axis=1,\n",
    ")\n"
   ]
  },
  {
   "cell_type": "code",
   "execution_count": 127,
   "metadata": {},
   "outputs": [
    {
     "data": {
      "image/png": "[encoded data removed]",
      "text/plain": [
       "<Figure size 576x324 with 1 Axes>"
      ]
     },
     "metadata": {
      "needs_background": "light"
     },
     "output_type": "display_data"
    }
   ],
   "source": [
    "fig, axes = plt.subplots(figsize=(8, 4.5))\n",
    "\n",
    "axes.hist(df[\"evol_SSerror\"], bins=20, color=color);\n",
    "axes.axvline(\n",
    "    np.mean(df[\"evol_SSerror\"]), color=\"red\", linestyle=\"dashed\", linewidth=3,\n",
    "    label=\"mean=%s\" % round(np.mean(df[\"evol_SSerror\"]), 3)\n",
    ")\n",
    "axes.set_xticks(np.linspace(0, 1.5, 6))\n",
    "axes.axvline(\n",
    "    np.median(df[\"evol_SSerror\"]),\n",
    "    color=\"black\",\n",
    "    linestyle=\"dashed\",\n",
    "    linewidth=3,\n",
    "    label=\"median=%s\" % round(np.median(df[\"evol_SSerror\"]), 3)\n",
    ")\n",
    "axes.legend();\n",
    "\n",
    "plt.savefig('../img/evo_sserror.pdf')"
   ]
  },
  {
   "cell_type": "code",
   "execution_count": 128,
   "metadata": {},
   "outputs": [
    {
     "name": "stderr",
     "output_type": "stream",
     "text": [
      "/home/nightwing/anaconda3/envs/opt-mo/lib/python3.6/site-packages/ipykernel_launcher.py:3: FutureWarning: '.reindex_axis' is deprecated and will be removed in a future version. Use '.reindex' instead.\n",
      "  This is separate from the ipykernel package so we can avoid doing imports until\n"
     ]
    }
   ],
   "source": [
    "evo_sserror_table = pd.DataFrame(pd.DataFrame(describe(df, ['median', 'skew', 'kurt'])['evol_SSerror']))\n",
    "with open(\"../tex/evo_sserror_table.tex\", \"w\") as f:\n",
    "    f.write(evo_sserror_table.round(5).to_latex())"
   ]
  },
  {
   "cell_type": "markdown",
   "metadata": {},
   "source": [
    "**Compairing behaviour based on the transition probabilities**"
   ]
  },
  {
   "cell_type": "code",
   "execution_count": 129,
   "metadata": {},
   "outputs": [
    {
     "data": {
      "image/png": "[encoded data removed]",
      "text/plain": [
       "<Figure size 720x468 with 4 Axes>"
      ]
     },
     "metadata": {
      "needs_background": "light"
     },
     "output_type": "display_data"
    }
   ],
   "source": [
    "fig, axes = plt.subplots(nrows=2, ncols=2, figsize=(10, 6.5))\n",
    "\n",
    "for i in range(4):\n",
    "    index = (int(i / 2), i % 2)\n",
    "\n",
    "    axes[index].violinplot(\n",
    "        [df[\"mem_one_p_{}\".format(i + 1)], df[\"evol_mem_one_p_{}\".format(i + 1)]],\n",
    "        showmeans=True,\n",
    "    )\n",
    "    boxes = axes[index].boxplot(\n",
    "        [df[\"mem_one_p_{}\".format(i + 1)], df[\"evol_mem_one_p_{}\".format(i + 1)]], showfliers=False\n",
    "    )\n",
    "    for bp in boxes['medians']:\n",
    "        bp.set_color('red')\n",
    "        bp.set_linewidth(2)\n",
    "    for bp in boxes['caps']:\n",
    "        bp.set_color('black')\n",
    "        bp.set_linewidth(2)\n",
    "    for bp in boxes['whiskers']:\n",
    "        bp.set_color('black')\n",
    "        bp.set_linewidth(2)\n",
    "    for bp in boxes['boxes']:\n",
    "        bp.set_color('black')\n",
    "        bp.set_linewidth(2)\n",
    "\n",
    "    axes[index].set_title('Distribution of $p_%s$' % (i + 1), fontweight= 'medium')\n",
    "    axes[index].set_ylabel('Probability of cooperating', fontweight= 'medium')\n",
    "    matplotlib.pyplot.subplots_adjust(wspace = 0.2, hspace = 0.3)\n",
    "\n",
    "    plt.setp(axes[index], xticks=[1, 2], xticklabels=[\"tournaments\", \"evolutionary dynamics\"])\n",
    "    \n",
    "plt.savefig('../img/behaviour_violin_plots.pdf')"
   ]
  },
  {
   "cell_type": "code",
   "execution_count": 130,
   "metadata": {},
   "outputs": [],
   "source": [
    "def test_ranksum(sample_one, sample_two, alpha=0.05):\n",
    "    _, p = stats.ranksums(df['SSerror'], df['evol_SSerror'])\n",
    "    \n",
    "    if p > alpha:\n",
    "        print(r'Fail to reject $h_0$')\n",
    "    else:\n",
    "        print(r'Reject $h_0$')\n",
    "    return p"
   ]
  },
  {
   "cell_type": "code",
   "execution_count": 131,
   "metadata": {},
   "outputs": [
    {
     "name": "stdout",
     "output_type": "stream",
     "text": [
      "Reject $h_0$\n",
      "Reject $h_0$\n",
      "Reject $h_0$\n",
      "Reject $h_0$\n"
     ]
    }
   ],
   "source": [
    "means = []\n",
    "for i in range(4):\n",
    "    means.append((np.median(df['mem_one_p_{}'.format(i + 1)]),\n",
    "                  np.median(df['evol_mem_one_p_{}'.format(i + 1)]),\n",
    "                  round(test_ranksum(df['mem_one_p_{}'.format(i + 1)],\n",
    "                                     df['evol_mem_one_p_{}'.format(i + 1)]), 3)))"
   ]
  },
  {
   "cell_type": "code",
   "execution_count": 132,
   "metadata": {},
   "outputs": [],
   "source": [
    "tests_table = pd.DataFrame(means, columns=['Τournament', 'Evolutionary Settings',\n",
    "                                           'p-values'])\n",
    "tests_table['Best Response Median in:'] = ['Distribution $p_1$', 'Distribution $p_2$',\n",
    "                                           'Distribution $p_3$', 'Distribution $p_4$']\n",
    "cols = ['Best Response Median in:', 'Τournament', 'Evolutionary Settings', 'p-values']\n",
    "tests_table = tests_table[cols] "
   ]
  },
  {
   "cell_type": "code",
   "execution_count": 133,
   "metadata": {},
   "outputs": [],
   "source": [
    "with open(\"../tex/medians_tests.tex\", \"w\") as f:\n",
    "    f.write(tests_table.to_latex().replace('\\$', '$').replace('\\_', '_'))"
   ]
  },
  {
   "cell_type": "markdown",
   "metadata": {},
   "source": [
    "# Longer Memory best responses"
   ]
  },
  {
   "cell_type": "code",
   "execution_count": 11,
   "metadata": {},
   "outputs": [],
   "source": [
    "df_with_gambler = read_sql_data_frame('../data/with_gambler/the_main.db')"
   ]
  },
  {
   "cell_type": "code",
   "execution_count": 12,
   "metadata": {},
   "outputs": [],
   "source": [
    "utility = []\n",
    "x = []\n",
    "for i, row in df_with_gambler.iterrows():\n",
    "    x.append(i)\n",
    "    p = (row[\"mem_one_p_1\"], row[\"mem_one_p_2\"], row[\"mem_one_p_3\"], row[\"mem_one_p_4\"])\n",
    "    q_1 = (\n",
    "        row[\"first_opponent_q_1\"],\n",
    "        row[\"first_opponent_q_2\"],\n",
    "        row[\"first_opponent_q_3\"],\n",
    "        row[\"first_opponent_q_4\"],\n",
    "    )\n",
    "    q_2 = (\n",
    "        row[\"second_opponent_q_1\"],\n",
    "        row[\"second_opponent_q_2\"],\n",
    "        row[\"second_opponent_q_3\"],\n",
    "        row[\"second_opponent_q_4\"],\n",
    "    )\n",
    "    utility.append(opt_mo.tournament_utility(p, [q_1, q_2]))"
   ]
  },
  {
   "cell_type": "code",
   "execution_count": 13,
   "metadata": {},
   "outputs": [],
   "source": [
    "df_with_gambler[\"mem_one_utility\"] = utility\n",
    "x = range(len(df_with_gambler[\"gambler_utility\"]))"
   ]
  },
  {
   "cell_type": "code",
   "execution_count": 16,
   "metadata": {},
   "outputs": [
    {
     "data": {
      "image/png": "[encoded data removed]",
      "text/plain": [
       "<Figure size 432x288 with 1 Axes>"
      ]
     },
     "metadata": {
      "needs_background": "light"
     },
     "output_type": "display_data"
    }
   ],
   "source": [
    "fig, axes = plt.subplots()\n",
    "\n",
    "plt.scatter(df_with_gambler[\"mem_one_utility\"],\n",
    "            df_with_gambler[\"gambler_utility\"],\n",
    "            label=\"Gambler(2, 1, 1)\", color=color);\n",
    "\n",
    "plt.ylabel(\"Long Memory Utility\", fontsize=10, fontweight=\"bold\")\n",
    "plt.xlabel(\"Memory One Utility\", fontsize=10, fontweight=\"bold\");\n",
    "\n",
    "fig.tight_layout()\n",
    "\n",
    "plt.savefig('../img/gambler_performance_against_mem_one.pdf')"
   ]
  },
  {
   "cell_type": "code",
   "execution_count": null,
   "metadata": {},
   "outputs": [],
   "source": []
  }
 ],
 "metadata": {
  "kernelspec": {
   "display_name": "opt-mo",
   "language": "python",
   "name": "opt-mo"
  },
  "language_info": {
   "codemirror_mode": {
    "name": "ipython",
    "version": 3
   },
   "file_extension": ".py",
   "mimetype": "text/x-python",
   "name": "python",
   "nbconvert_exporter": "python",
   "pygments_lexer": "ipython3",
   "version": "3.6.7"
  }
 },
 "nbformat": 4,
 "nbformat_minor": 2
}
