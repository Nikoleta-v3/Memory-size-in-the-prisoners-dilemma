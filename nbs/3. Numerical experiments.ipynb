{
 "cells": [
  {
   "cell_type": "code",
   "execution_count": 1,
   "metadata": {},
   "outputs": [],
   "source": [
    "import itertools\n",
    "import random\n",
    "\n",
    "import axelrod as axl\n",
    "import matplotlib\n",
    "import matplotlib.pyplot as plt\n",
    "import numpy as np\n",
    "import skopt\n",
    "import tqdm\n",
    "from skopt.plots import plot_convergence"
   ]
  },
  {
   "cell_type": "code",
   "execution_count": 2,
   "metadata": {},
   "outputs": [],
   "source": [
    "import sqlalchemy as sa\n",
    "import pandas as pd"
   ]
  },
  {
   "cell_type": "code",
   "execution_count": 3,
   "metadata": {},
   "outputs": [],
   "source": [
    "from functools import partial"
   ]
  },
  {
   "cell_type": "code",
   "execution_count": 4,
   "metadata": {},
   "outputs": [],
   "source": [
    "from scipy import stats"
   ]
  },
  {
   "cell_type": "code",
   "execution_count": 5,
   "metadata": {},
   "outputs": [],
   "source": [
    "import opt_mo"
   ]
  },
  {
   "cell_type": "code",
   "execution_count": 6,
   "metadata": {},
   "outputs": [],
   "source": [
    "font = {\"size\": 10, \"weight\": \"bold\"}\n",
    "matplotlib.rc(\"font\", **font)\n"
   ]
  },
  {
   "cell_type": "markdown",
   "metadata": {},
   "source": [
    "Numerical Experiments\n",
    "---------------------\n",
    "\n",
    "An example of the Bayesion optimisation and the change of the utility over the iterations."
   ]
  },
  {
   "cell_type": "code",
   "execution_count": 7,
   "metadata": {},
   "outputs": [],
   "source": [
    "def bayesian(opponents, n_calls=60):\n",
    "    method_params = {\"n_random_starts\": 20, \"n_calls\": n_calls}\n",
    "    bounds = [(0, 1.0) for _ in range(4)]\n",
    "    objective = opt_mo.memory_one_best_response.prepare_objective_optimisation(\n",
    "        opponents=opponents\n",
    "    )\n",
    "\n",
    "    result = skopt.gp_minimize(\n",
    "        func=objective,\n",
    "        dimensions=bounds,\n",
    "        acq_func=\"EI\",\n",
    "        random_state=0,\n",
    "        **method_params\n",
    "    )\n",
    "\n",
    "    return result"
   ]
  },
  {
   "cell_type": "code",
   "execution_count": 8,
   "metadata": {},
   "outputs": [],
   "source": [
    "opponents = [[1/3, 1/3, 1/3, 1/3], [1/3, 1/3, 1/3, 1/3]]"
   ]
  },
  {
   "cell_type": "code",
   "execution_count": 28,
   "metadata": {},
   "outputs": [],
   "source": [
    "res = bayesian(opponents)"
   ]
  },
  {
   "cell_type": "code",
   "execution_count": 29,
   "metadata": {},
   "outputs": [],
   "source": [
    "values = np.minimum.accumulate(res.func_vals, 0)\n",
    "values = [-x for x in values]"
   ]
  },
  {
   "cell_type": "code",
   "execution_count": 30,
   "metadata": {},
   "outputs": [
    {
     "data": {
      "image/png": "[encoded data removed]",
      "text/plain": [
       "<Figure size 432x288 with 1 Axes>"
      ]
     },
     "metadata": {
      "needs_background": "light"
     },
     "output_type": "display_data"
    }
   ],
   "source": [
    "fig, ax = plt.subplots()\n",
    "\n",
    "plt.plot(range(len(values)), values, \"--o\", color='black')\n",
    "plt.xlabel(\"Number of calls $n$\",)\n",
    "plt.ylabel(r\"Utility\");\n",
    "\n",
    "fig.savefig('../img/bayesian_example.pdf')"
   ]
  },
  {
   "cell_type": "markdown",
   "metadata": {},
   "source": [
    "# Memory-one best responses in $N=2$"
   ]
  },
  {
   "cell_type": "code",
   "execution_count": 17,
   "metadata": {},
   "outputs": [],
   "source": [
    "color = matplotlib.cm.viridis(0.3)"
   ]
  },
  {
   "cell_type": "code",
   "execution_count": 89,
   "metadata": {},
   "outputs": [],
   "source": [
    "df = pd.read_csv('../data/numerical_experiments_without_gambler.csv', index_col=0) #read_sql_data_frame('../data/data/without_gambler/the_main.db')"
   ]
  },
  {
   "cell_type": "code",
   "execution_count": 90,
   "metadata": {},
   "outputs": [
    {
     "data": {
      "text/html": [
       "<div>\n",
       "<style scoped>\n",
       "    .dataframe tbody tr th:only-of-type {\n",
       "        vertical-align: middle;\n",
       "    }\n",
       "\n",
       "    .dataframe tbody tr th {\n",
       "        vertical-align: top;\n",
       "    }\n",
       "\n",
       "    .dataframe thead th {\n",
       "        text-align: right;\n",
       "    }\n",
       "</style>\n",
       "<table border=\"1\" class=\"dataframe\">\n",
       "  <thead>\n",
       "    <tr style=\"text-align: right;\">\n",
       "      <th></th>\n",
       "      <th>exp_index</th>\n",
       "      <th>first_opponent_q_1</th>\n",
       "      <th>first_opponent_q_2</th>\n",
       "      <th>first_opponent_q_3</th>\n",
       "      <th>first_opponent_q_4</th>\n",
       "      <th>second_opponent_q_1</th>\n",
       "      <th>second_opponent_q_2</th>\n",
       "      <th>second_opponent_q_3</th>\n",
       "      <th>second_opponent_q_4</th>\n",
       "      <th>mem_one_p_1</th>\n",
       "      <th>...</th>\n",
       "      <th>mem_one_cycle_length</th>\n",
       "      <th>reactive_p_1</th>\n",
       "      <th>reactive_p_2</th>\n",
       "      <th>reactive_p_3</th>\n",
       "      <th>reactive_p_4</th>\n",
       "      <th>evol_reactive_p_1</th>\n",
       "      <th>evol_reactive_p_2</th>\n",
       "      <th>evol_reactive_p_3</th>\n",
       "      <th>evol_reactive_p_4</th>\n",
       "      <th>reactive_cycle_length</th>\n",
       "    </tr>\n",
       "  </thead>\n",
       "  <tbody>\n",
       "    <tr>\n",
       "      <th>count</th>\n",
       "      <td>1000.000000</td>\n",
       "      <td>1000.000000</td>\n",
       "      <td>1000.000000</td>\n",
       "      <td>1000.000000</td>\n",
       "      <td>1000.000000</td>\n",
       "      <td>1000.000000</td>\n",
       "      <td>1000.000000</td>\n",
       "      <td>1000.000000</td>\n",
       "      <td>1000.000000</td>\n",
       "      <td>1000.000000</td>\n",
       "      <td>...</td>\n",
       "      <td>1000.000000</td>\n",
       "      <td>1000.000000</td>\n",
       "      <td>1000.000000</td>\n",
       "      <td>1000.000000</td>\n",
       "      <td>1000.000000</td>\n",
       "      <td>1000.000000</td>\n",
       "      <td>1000.000000</td>\n",
       "      <td>1000.000000</td>\n",
       "      <td>1000.000000</td>\n",
       "      <td>1000.000000</td>\n",
       "    </tr>\n",
       "    <tr>\n",
       "      <th>mean</th>\n",
       "      <td>499.500000</td>\n",
       "      <td>0.487114</td>\n",
       "      <td>0.507529</td>\n",
       "      <td>0.506513</td>\n",
       "      <td>0.496405</td>\n",
       "      <td>0.520443</td>\n",
       "      <td>0.500516</td>\n",
       "      <td>0.506080</td>\n",
       "      <td>0.493446</td>\n",
       "      <td>0.268355</td>\n",
       "      <td>...</td>\n",
       "      <td>3.575000</td>\n",
       "      <td>0.053408</td>\n",
       "      <td>0.100361</td>\n",
       "      <td>0.053408</td>\n",
       "      <td>0.100361</td>\n",
       "      <td>0.051514</td>\n",
       "      <td>0.026964</td>\n",
       "      <td>0.051514</td>\n",
       "      <td>0.026964</td>\n",
       "      <td>1.271000</td>\n",
       "    </tr>\n",
       "    <tr>\n",
       "      <th>std</th>\n",
       "      <td>288.819436</td>\n",
       "      <td>0.290850</td>\n",
       "      <td>0.286879</td>\n",
       "      <td>0.289602</td>\n",
       "      <td>0.291581</td>\n",
       "      <td>0.291042</td>\n",
       "      <td>0.282002</td>\n",
       "      <td>0.287517</td>\n",
       "      <td>0.287634</td>\n",
       "      <td>0.412731</td>\n",
       "      <td>...</td>\n",
       "      <td>53.461599</td>\n",
       "      <td>0.221819</td>\n",
       "      <td>0.220163</td>\n",
       "      <td>0.221819</td>\n",
       "      <td>0.220163</td>\n",
       "      <td>0.220051</td>\n",
       "      <td>0.087560</td>\n",
       "      <td>0.220051</td>\n",
       "      <td>0.087560</td>\n",
       "      <td>3.719327</td>\n",
       "    </tr>\n",
       "    <tr>\n",
       "      <th>min</th>\n",
       "      <td>0.000000</td>\n",
       "      <td>0.001186</td>\n",
       "      <td>0.000426</td>\n",
       "      <td>0.000538</td>\n",
       "      <td>0.001145</td>\n",
       "      <td>0.000254</td>\n",
       "      <td>0.000210</td>\n",
       "      <td>0.000403</td>\n",
       "      <td>0.000720</td>\n",
       "      <td>0.000000</td>\n",
       "      <td>...</td>\n",
       "      <td>1.000000</td>\n",
       "      <td>0.000000</td>\n",
       "      <td>0.000000</td>\n",
       "      <td>0.000000</td>\n",
       "      <td>0.000000</td>\n",
       "      <td>0.000000</td>\n",
       "      <td>0.000000</td>\n",
       "      <td>0.000000</td>\n",
       "      <td>0.000000</td>\n",
       "      <td>1.000000</td>\n",
       "    </tr>\n",
       "    <tr>\n",
       "      <th>25%</th>\n",
       "      <td>249.750000</td>\n",
       "      <td>0.225239</td>\n",
       "      <td>0.252376</td>\n",
       "      <td>0.254374</td>\n",
       "      <td>0.247647</td>\n",
       "      <td>0.261301</td>\n",
       "      <td>0.264528</td>\n",
       "      <td>0.262221</td>\n",
       "      <td>0.248554</td>\n",
       "      <td>0.000000</td>\n",
       "      <td>...</td>\n",
       "      <td>1.000000</td>\n",
       "      <td>0.000000</td>\n",
       "      <td>0.000000</td>\n",
       "      <td>0.000000</td>\n",
       "      <td>0.000000</td>\n",
       "      <td>0.000000</td>\n",
       "      <td>0.000000</td>\n",
       "      <td>0.000000</td>\n",
       "      <td>0.000000</td>\n",
       "      <td>1.000000</td>\n",
       "    </tr>\n",
       "    <tr>\n",
       "      <th>50%</th>\n",
       "      <td>499.500000</td>\n",
       "      <td>0.487043</td>\n",
       "      <td>0.522296</td>\n",
       "      <td>0.519162</td>\n",
       "      <td>0.478272</td>\n",
       "      <td>0.515770</td>\n",
       "      <td>0.498159</td>\n",
       "      <td>0.515061</td>\n",
       "      <td>0.487578</td>\n",
       "      <td>0.000000</td>\n",
       "      <td>...</td>\n",
       "      <td>1.000000</td>\n",
       "      <td>0.000000</td>\n",
       "      <td>0.000000</td>\n",
       "      <td>0.000000</td>\n",
       "      <td>0.000000</td>\n",
       "      <td>0.000000</td>\n",
       "      <td>0.000000</td>\n",
       "      <td>0.000000</td>\n",
       "      <td>0.000000</td>\n",
       "      <td>1.000000</td>\n",
       "    </tr>\n",
       "    <tr>\n",
       "      <th>75%</th>\n",
       "      <td>749.250000</td>\n",
       "      <td>0.735435</td>\n",
       "      <td>0.751023</td>\n",
       "      <td>0.763515</td>\n",
       "      <td>0.764454</td>\n",
       "      <td>0.774857</td>\n",
       "      <td>0.731178</td>\n",
       "      <td>0.749466</td>\n",
       "      <td>0.750983</td>\n",
       "      <td>0.570298</td>\n",
       "      <td>...</td>\n",
       "      <td>2.000000</td>\n",
       "      <td>0.000000</td>\n",
       "      <td>0.036286</td>\n",
       "      <td>0.000000</td>\n",
       "      <td>0.036286</td>\n",
       "      <td>0.000000</td>\n",
       "      <td>0.000000</td>\n",
       "      <td>0.000000</td>\n",
       "      <td>0.000000</td>\n",
       "      <td>1.000000</td>\n",
       "    </tr>\n",
       "    <tr>\n",
       "      <th>max</th>\n",
       "      <td>999.000000</td>\n",
       "      <td>0.998462</td>\n",
       "      <td>0.998575</td>\n",
       "      <td>0.999550</td>\n",
       "      <td>0.999766</td>\n",
       "      <td>0.998728</td>\n",
       "      <td>0.999653</td>\n",
       "      <td>0.999129</td>\n",
       "      <td>0.998740</td>\n",
       "      <td>1.000000</td>\n",
       "      <td>...</td>\n",
       "      <td>1690.000000</td>\n",
       "      <td>1.000000</td>\n",
       "      <td>1.000000</td>\n",
       "      <td>1.000000</td>\n",
       "      <td>1.000000</td>\n",
       "      <td>1.000000</td>\n",
       "      <td>0.999809</td>\n",
       "      <td>1.000000</td>\n",
       "      <td>0.999809</td>\n",
       "      <td>117.000000</td>\n",
       "    </tr>\n",
       "  </tbody>\n",
       "</table>\n",
       "<p>8 rows × 27 columns</p>\n",
       "</div>"
      ],
      "text/plain": [
       "         exp_index  first_opponent_q_1  first_opponent_q_2  \\\n",
       "count  1000.000000         1000.000000         1000.000000   \n",
       "mean    499.500000            0.487114            0.507529   \n",
       "std     288.819436            0.290850            0.286879   \n",
       "min       0.000000            0.001186            0.000426   \n",
       "25%     249.750000            0.225239            0.252376   \n",
       "50%     499.500000            0.487043            0.522296   \n",
       "75%     749.250000            0.735435            0.751023   \n",
       "max     999.000000            0.998462            0.998575   \n",
       "\n",
       "       first_opponent_q_3  first_opponent_q_4  second_opponent_q_1  \\\n",
       "count         1000.000000         1000.000000          1000.000000   \n",
       "mean             0.506513            0.496405             0.520443   \n",
       "std              0.289602            0.291581             0.291042   \n",
       "min              0.000538            0.001145             0.000254   \n",
       "25%              0.254374            0.247647             0.261301   \n",
       "50%              0.519162            0.478272             0.515770   \n",
       "75%              0.763515            0.764454             0.774857   \n",
       "max              0.999550            0.999766             0.998728   \n",
       "\n",
       "       second_opponent_q_2  second_opponent_q_3  second_opponent_q_4  \\\n",
       "count          1000.000000          1000.000000          1000.000000   \n",
       "mean              0.500516             0.506080             0.493446   \n",
       "std               0.282002             0.287517             0.287634   \n",
       "min               0.000210             0.000403             0.000720   \n",
       "25%               0.264528             0.262221             0.248554   \n",
       "50%               0.498159             0.515061             0.487578   \n",
       "75%               0.731178             0.749466             0.750983   \n",
       "max               0.999653             0.999129             0.998740   \n",
       "\n",
       "       mem_one_p_1          ...            mem_one_cycle_length  reactive_p_1  \\\n",
       "count  1000.000000          ...                     1000.000000   1000.000000   \n",
       "mean      0.268355          ...                        3.575000      0.053408   \n",
       "std       0.412731          ...                       53.461599      0.221819   \n",
       "min       0.000000          ...                        1.000000      0.000000   \n",
       "25%       0.000000          ...                        1.000000      0.000000   \n",
       "50%       0.000000          ...                        1.000000      0.000000   \n",
       "75%       0.570298          ...                        2.000000      0.000000   \n",
       "max       1.000000          ...                     1690.000000      1.000000   \n",
       "\n",
       "       reactive_p_2  reactive_p_3  reactive_p_4  evol_reactive_p_1  \\\n",
       "count   1000.000000   1000.000000   1000.000000        1000.000000   \n",
       "mean       0.100361      0.053408      0.100361           0.051514   \n",
       "std        0.220163      0.221819      0.220163           0.220051   \n",
       "min        0.000000      0.000000      0.000000           0.000000   \n",
       "25%        0.000000      0.000000      0.000000           0.000000   \n",
       "50%        0.000000      0.000000      0.000000           0.000000   \n",
       "75%        0.036286      0.000000      0.036286           0.000000   \n",
       "max        1.000000      1.000000      1.000000           1.000000   \n",
       "\n",
       "       evol_reactive_p_2  evol_reactive_p_3  evol_reactive_p_4  \\\n",
       "count        1000.000000        1000.000000        1000.000000   \n",
       "mean            0.026964           0.051514           0.026964   \n",
       "std             0.087560           0.220051           0.087560   \n",
       "min             0.000000           0.000000           0.000000   \n",
       "25%             0.000000           0.000000           0.000000   \n",
       "50%             0.000000           0.000000           0.000000   \n",
       "75%             0.000000           0.000000           0.000000   \n",
       "max             0.999809           1.000000           0.999809   \n",
       "\n",
       "       reactive_cycle_length  \n",
       "count            1000.000000  \n",
       "mean                1.271000  \n",
       "std                 3.719327  \n",
       "min                 1.000000  \n",
       "25%                 1.000000  \n",
       "50%                 1.000000  \n",
       "75%                 1.000000  \n",
       "max               117.000000  \n",
       "\n",
       "[8 rows x 27 columns]"
      ]
     },
     "execution_count": 90,
     "metadata": {},
     "output_type": "execute_result"
    }
   ],
   "source": [
    "df.describe()"
   ]
  },
  {
   "cell_type": "code",
   "execution_count": 91,
   "metadata": {},
   "outputs": [
    {
     "data": {
      "image/png": "[encoded data removed]",
      "text/plain": [
       "<Figure size 720x468 with 4 Axes>"
      ]
     },
     "metadata": {
      "needs_background": "light"
     },
     "output_type": "display_data"
    }
   ],
   "source": [
    "fig, axes = plt.subplots(nrows=2, ncols=2, figsize=(10, 6.5))\n",
    "\n",
    "for i in range(4):\n",
    "    index = (int(i / 2), i % 2)\n",
    "    axes[index].hist(df['first_opponent_q_{}'.format(i + 1)], color=color)\n",
    "    \n",
    "    axes[index].set_title('Distribution of $q^{(1)}_%s$' % (i + 1))\n",
    "\n",
    "plt.savefig('../img/first_opponent_probabilities.pdf')"
   ]
  },
  {
   "cell_type": "code",
   "execution_count": 92,
   "metadata": {},
   "outputs": [
    {
     "data": {
      "image/png": "[encoded data removed]",
      "text/plain": [
       "<Figure size 720x468 with 4 Axes>"
      ]
     },
     "metadata": {
      "needs_background": "light"
     },
     "output_type": "display_data"
    }
   ],
   "source": [
    "fig, axes = plt.subplots(nrows=2, ncols=2, figsize=(10, 6.5))\n",
    "\n",
    "for i in range(4):\n",
    "    index = (int(i / 2), i % 2)\n",
    "    #axes[index].hist(df['first_opponent_q_{}'.format(i + 1)], color=colors[0], label='$q^{(1)}$')\n",
    "    axes[index].hist(df['second_opponent_q_{}'.format(i + 1)], color=color);\n",
    "    \n",
    "    axes[index].set_title('Distribution of $q^{(2)}_%s$' % (i + 1))\n",
    "\n",
    "plt.savefig('../img/second_opponent_probabilities.pdf')"
   ]
  },
  {
   "cell_type": "markdown",
   "metadata": {},
   "source": [
    "**SSerror analysis**"
   ]
  },
  {
   "cell_type": "code",
   "execution_count": 93,
   "metadata": {},
   "outputs": [
    {
     "name": "stderr",
     "output_type": "stream",
     "text": [
      "/Users/silversurfer/Documents/rsc/Memory-size-in-the-prisoners-dilemma/src/opt_mo/tools.py:98: RuntimeWarning: invalid value encountered in double_scalars\n",
      "  + T * tilde_vector[2]\n"
     ]
    }
   ],
   "source": [
    "df[\"is_ZD\"] = df.apply(\n",
    "    lambda row: opt_mo.tools.is_ZD(\n",
    "        vector=[\n",
    "            row[\"mem_one_p_1\"],\n",
    "            row[\"mem_one_p_2\"],\n",
    "            row[\"mem_one_p_3\"],\n",
    "            row[\"mem_one_p_4\"],\n",
    "        ]\n",
    "    ),\n",
    "    axis=1,\n",
    ")\n",
    "df[\"SSerror\"] = df.apply(\n",
    "    lambda row: opt_mo.tools.get_least_squares(\n",
    "        vector=[\n",
    "            row[\"mem_one_p_1\"],\n",
    "            row[\"mem_one_p_2\"],\n",
    "            row[\"mem_one_p_3\"],\n",
    "            row[\"mem_one_p_4\"],\n",
    "        ]\n",
    "    ),\n",
    "    axis=1,\n",
    ")"
   ]
  },
  {
   "cell_type": "code",
   "execution_count": 94,
   "metadata": {},
   "outputs": [
    {
     "data": {
      "text/plain": [
       "(0, 2.4705882352941178, 0.0)"
      ]
     },
     "execution_count": 94,
     "metadata": {},
     "output_type": "execute_result"
    }
   ],
   "source": [
    "sum(df[\"is_ZD\"]), max(df[\"SSerror\"]), min(df[\"SSerror\"])"
   ]
  },
  {
   "cell_type": "code",
   "execution_count": 95,
   "metadata": {},
   "outputs": [
    {
     "data": {
      "image/png": "[encoded data removed]",
      "text/plain": [
       "<Figure size 576x324 with 1 Axes>"
      ]
     },
     "metadata": {
      "needs_background": "light"
     },
     "output_type": "display_data"
    }
   ],
   "source": [
    "fig, axes = plt.subplots(figsize=(8, 4.5))\n",
    "\n",
    "weights = np.ones_like(df[\"SSerror\"]) / len(df[\"SSerror\"])\n",
    "\n",
    "axes.hist(df[\"SSerror\"], weights=weights, bins=20, color=color, label='SSE',);\n",
    "axes.axvline(\n",
    "    np.mean(df[\"SSerror\"]), color=\"red\", linestyle=\"dashed\", linewidth=3,\n",
    "    label=\"mean=%s\" % round(np.mean(df[\"SSerror\"]), 3)\n",
    ")\n",
    "#axes.set_xticks(np.linspace(0, 2.5, 6))\n",
    "\n",
    "axes.axvline(\n",
    "    np.median(df[\"SSerror\"]),\n",
    "    color=\"black\",\n",
    "    linestyle=\"dashed\",\n",
    "    linewidth=3,\n",
    "    label=\"median=%s\" % round(np.median(df[\"SSerror\"]), 3),\n",
    ")\n",
    "axes.legend();\n",
    "\n",
    "plt.savefig('../img/best_respones_sserror.pdf')"
   ]
  },
  {
   "cell_type": "code",
   "execution_count": 96,
   "metadata": {},
   "outputs": [],
   "source": [
    "def describe(df, stats):\n",
    "    d = df.describe(percentiles=[.05, .25, .5, .95])\n",
    "    return d.append(df.reindex_axis(d.columns, 1).agg(stats))"
   ]
  },
  {
   "cell_type": "code",
   "execution_count": 97,
   "metadata": {},
   "outputs": [
    {
     "name": "stderr",
     "output_type": "stream",
     "text": [
      "/anaconda3/envs/opt-mo/lib/python3.6/site-packages/ipykernel_launcher.py:3: FutureWarning: '.reindex_axis' is deprecated and will be removed in a future version. Use '.reindex' instead.\n",
      "  This is separate from the ipykernel package so we can avoid doing imports until\n"
     ]
    }
   ],
   "source": [
    "sserror_table = pd.DataFrame(describe(df, ['median', 'skew', 'kurt'])['SSerror'])\n",
    "with open(\"../tex/sserror_table.tex\", \"w\") as f:\n",
    "    f.write(sserror_table.round(5).to_latex().replace('SSerror', 'SSE'))"
   ]
  },
  {
   "cell_type": "markdown",
   "metadata": {},
   "source": [
    "# Memory-one best responses in evolutionary dynamics"
   ]
  },
  {
   "cell_type": "code",
   "execution_count": 98,
   "metadata": {},
   "outputs": [
    {
     "name": "stderr",
     "output_type": "stream",
     "text": [
      "/Users/silversurfer/Documents/rsc/Memory-size-in-the-prisoners-dilemma/src/opt_mo/tools.py:98: RuntimeWarning: invalid value encountered in double_scalars\n",
      "  + T * tilde_vector[2]\n"
     ]
    }
   ],
   "source": [
    "df[\"evol_is_ZD\"] = df.apply(\n",
    "    lambda row: opt_mo.tools.is_ZD(\n",
    "        vector=[\n",
    "            row[\"evol_mem_one_p_1\"],\n",
    "            row[\"evol_mem_one_p_2\"],\n",
    "            row[\"evol_mem_one_p_3\"],\n",
    "            row[\"evol_mem_one_p_4\"],\n",
    "        ]\n",
    "    ),\n",
    "    axis=1,\n",
    ")\n",
    "df[\"evol_SSerror\"] = df.apply(\n",
    "    lambda row: opt_mo.tools.get_least_squares(\n",
    "        vector=[\n",
    "            row[\"evol_mem_one_p_1\"],\n",
    "            row[\"evol_mem_one_p_2\"],\n",
    "            row[\"evol_mem_one_p_3\"],\n",
    "            row[\"evol_mem_one_p_4\"],\n",
    "        ]\n",
    "    ),\n",
    "    axis=1,\n",
    ")\n"
   ]
  },
  {
   "cell_type": "code",
   "execution_count": 99,
   "metadata": {},
   "outputs": [
    {
     "data": {
      "image/png": "[encoded data removed]",
      "text/plain": [
       "<Figure size 576x324 with 1 Axes>"
      ]
     },
     "metadata": {
      "needs_background": "light"
     },
     "output_type": "display_data"
    }
   ],
   "source": [
    "fig, axes = plt.subplots(figsize=(8, 4.5))\n",
    "\n",
    "weights = np.ones_like(df[\"evol_SSerror\"]) / len(df[\"SSerror\"])\n",
    "\n",
    "axes.hist(df[\"evol_SSerror\"], weights=weights, bins=20, color=color, label='SSE',);\n",
    "axes.axvline(\n",
    "    np.mean(df[\"evol_SSerror\"]), color=\"red\", linestyle=\"dashed\", linewidth=3,\n",
    "    label=\"mean=%s\" % round(np.mean(df[\"evol_SSerror\"]), 3)\n",
    ")\n",
    "axes.set_xticks(np.linspace(0, 1.5, 6))\n",
    "axes.axvline(\n",
    "    np.median(df[\"evol_SSerror\"]),\n",
    "    color=\"black\",\n",
    "    linestyle=\"dashed\",\n",
    "    linewidth=3,\n",
    "    label=\"median=%s\" % round(np.median(df[\"evol_SSerror\"]), 3)\n",
    ")\n",
    "axes.legend();\n",
    "\n",
    "plt.savefig('../img/evo_sserror.pdf')"
   ]
  },
  {
   "cell_type": "code",
   "execution_count": 100,
   "metadata": {},
   "outputs": [
    {
     "name": "stderr",
     "output_type": "stream",
     "text": [
      "/anaconda3/envs/opt-mo/lib/python3.6/site-packages/ipykernel_launcher.py:3: FutureWarning: '.reindex_axis' is deprecated and will be removed in a future version. Use '.reindex' instead.\n",
      "  This is separate from the ipykernel package so we can avoid doing imports until\n"
     ]
    }
   ],
   "source": [
    "evo_sserror_table = pd.DataFrame(pd.DataFrame(describe(df, ['median', 'skew', 'kurt'])['evol_SSerror']))\n",
    "with open(\"../tex/evo_sserror_table.tex\", \"w\") as f:\n",
    "    f.write(evo_sserror_table.round(5).to_latex().replace('evol\\\\_SSerror', 'SSE'))"
   ]
  },
  {
   "cell_type": "markdown",
   "metadata": {},
   "source": [
    "**Compairing behaviour based on the transition probabilities**"
   ]
  },
  {
   "cell_type": "code",
   "execution_count": 101,
   "metadata": {},
   "outputs": [
    {
     "data": {
      "image/png": "[encoded data removed]",
      "text/plain": [
       "<Figure size 720x468 with 4 Axes>"
      ]
     },
     "metadata": {
      "needs_background": "light"
     },
     "output_type": "display_data"
    }
   ],
   "source": [
    "fig, axes = plt.subplots(nrows=2, ncols=2, figsize=(10, 6.5))\n",
    "\n",
    "for i in range(4):\n",
    "    index = (int(i / 2), i % 2)\n",
    "\n",
    "    axes[index].violinplot(\n",
    "        [df[\"mem_one_p_{}\".format(i + 1)], df[\"evol_mem_one_p_{}\".format(i + 1)]],\n",
    "        showmeans=True,\n",
    "    )\n",
    "    boxes = axes[index].boxplot(\n",
    "        [df[\"mem_one_p_{}\".format(i + 1)], df[\"evol_mem_one_p_{}\".format(i + 1)]], showfliers=False\n",
    "    )\n",
    "    for bp in boxes['medians']:\n",
    "        bp.set_color('red')\n",
    "        bp.set_linewidth(2)\n",
    "    for bp in boxes['caps']:\n",
    "        bp.set_color('black')\n",
    "        bp.set_linewidth(2)\n",
    "    for bp in boxes['whiskers']:\n",
    "        bp.set_color('black')\n",
    "        bp.set_linewidth(2)\n",
    "    for bp in boxes['boxes']:\n",
    "        bp.set_color('black')\n",
    "        bp.set_linewidth(2)\n",
    "\n",
    "    axes[index].set_title('Distribution of $p_%s$' % (i + 1), fontweight= 'medium')\n",
    "    axes[index].set_ylabel('Probability of cooperating', fontweight= 'medium')\n",
    "    matplotlib.pyplot.subplots_adjust(wspace = 0.2, hspace = 0.3)\n",
    "\n",
    "    plt.setp(axes[index], xticks=[1, 2], xticklabels=[\"tournaments\", \"evolutionary dynamics\"])\n",
    "    \n",
    "plt.savefig('../img/behaviour_violin_plots.pdf')"
   ]
  },
  {
   "cell_type": "code",
   "execution_count": 130,
   "metadata": {},
   "outputs": [],
   "source": [
    "def test_ranksum(sample_one, sample_two, alpha=0.05):\n",
    "    _, p = stats.ranksums(df['SSerror'], df['evol_SSerror'])\n",
    "    \n",
    "    if p > alpha:\n",
    "        print(r'Fail to reject $h_0$')\n",
    "    else:\n",
    "        print(r'Reject $h_0$')\n",
    "    return p"
   ]
  },
  {
   "cell_type": "code",
   "execution_count": 131,
   "metadata": {},
   "outputs": [
    {
     "name": "stdout",
     "output_type": "stream",
     "text": [
      "Reject $h_0$\n",
      "Reject $h_0$\n",
      "Reject $h_0$\n",
      "Reject $h_0$\n"
     ]
    }
   ],
   "source": [
    "means = []\n",
    "for i in range(4):\n",
    "    means.append((np.median(df['mem_one_p_{}'.format(i + 1)]),\n",
    "                  np.median(df['evol_mem_one_p_{}'.format(i + 1)]),\n",
    "                  round(test_ranksum(df['mem_one_p_{}'.format(i + 1)],\n",
    "                                     df['evol_mem_one_p_{}'.format(i + 1)]), 3)))"
   ]
  },
  {
   "cell_type": "code",
   "execution_count": 132,
   "metadata": {},
   "outputs": [],
   "source": [
    "tests_table = pd.DataFrame(means, columns=['Τournament', 'Evolutionary Settings',\n",
    "                                           'p-values'])\n",
    "tests_table['Best Response Median in:'] = ['Distribution $p_1$', 'Distribution $p_2$',\n",
    "                                           'Distribution $p_3$', 'Distribution $p_4$']\n",
    "cols = ['Best Response Median in:', 'Τournament', 'Evolutionary Settings', 'p-values']\n",
    "tests_table = tests_table[cols] "
   ]
  },
  {
   "cell_type": "code",
   "execution_count": 133,
   "metadata": {},
   "outputs": [],
   "source": [
    "with open(\"../tex/medians_tests.tex\", \"w\") as f:\n",
    "    f.write(tests_table.to_latex().replace('\\$', '$').replace('\\_', '_'))"
   ]
  },
  {
   "cell_type": "markdown",
   "metadata": {},
   "source": [
    "# Longer Memory best responses"
   ]
  },
  {
   "cell_type": "code",
   "execution_count": 13,
   "metadata": {},
   "outputs": [],
   "source": [
    "df_with_gambler = pd.read_csv('../data/numerical_experiments_with_gambler.csv', index_col=0)"
   ]
  },
  {
   "cell_type": "code",
   "execution_count": 14,
   "metadata": {},
   "outputs": [
    {
     "data": {
      "text/html": [
       "<div>\n",
       "<style scoped>\n",
       "    .dataframe tbody tr th:only-of-type {\n",
       "        vertical-align: middle;\n",
       "    }\n",
       "\n",
       "    .dataframe tbody tr th {\n",
       "        vertical-align: top;\n",
       "    }\n",
       "\n",
       "    .dataframe thead th {\n",
       "        text-align: right;\n",
       "    }\n",
       "</style>\n",
       "<table border=\"1\" class=\"dataframe\">\n",
       "  <thead>\n",
       "    <tr style=\"text-align: right;\">\n",
       "      <th></th>\n",
       "      <th>exp_index</th>\n",
       "      <th>first_opponent_q_1</th>\n",
       "      <th>first_opponent_q_2</th>\n",
       "      <th>first_opponent_q_3</th>\n",
       "      <th>first_opponent_q_4</th>\n",
       "      <th>second_opponent_q_1</th>\n",
       "      <th>second_opponent_q_2</th>\n",
       "      <th>second_opponent_q_3</th>\n",
       "      <th>second_opponent_q_4</th>\n",
       "      <th>mem_one_p_1</th>\n",
       "      <th>...</th>\n",
       "      <th>gambler_paramater_p_8</th>\n",
       "      <th>gambler_paramater_p_9</th>\n",
       "      <th>gambler_paramater_p_10</th>\n",
       "      <th>gambler_paramater_p_11</th>\n",
       "      <th>gambler_paramater_p_12</th>\n",
       "      <th>gambler_paramater_p_13</th>\n",
       "      <th>gambler_paramater_p_14</th>\n",
       "      <th>gambler_paramater_p_15</th>\n",
       "      <th>gambler_paramater_p_16</th>\n",
       "      <th>gambler_utility</th>\n",
       "    </tr>\n",
       "  </thead>\n",
       "  <tbody>\n",
       "    <tr>\n",
       "      <th>count</th>\n",
       "      <td>132.000000</td>\n",
       "      <td>132.000000</td>\n",
       "      <td>132.000000</td>\n",
       "      <td>132.000000</td>\n",
       "      <td>132.000000</td>\n",
       "      <td>132.000000</td>\n",
       "      <td>132.000000</td>\n",
       "      <td>132.000000</td>\n",
       "      <td>132.000000</td>\n",
       "      <td>132.000000</td>\n",
       "      <td>...</td>\n",
       "      <td>132.000000</td>\n",
       "      <td>132.000000</td>\n",
       "      <td>132.000000</td>\n",
       "      <td>132.000000</td>\n",
       "      <td>132.000000</td>\n",
       "      <td>132.000000</td>\n",
       "      <td>132.000000</td>\n",
       "      <td>132.000000</td>\n",
       "      <td>132.000000</td>\n",
       "      <td>132.000000</td>\n",
       "    </tr>\n",
       "    <tr>\n",
       "      <th>mean</th>\n",
       "      <td>201.931818</td>\n",
       "      <td>0.480995</td>\n",
       "      <td>0.538389</td>\n",
       "      <td>0.512436</td>\n",
       "      <td>0.487729</td>\n",
       "      <td>0.479222</td>\n",
       "      <td>0.495657</td>\n",
       "      <td>0.503454</td>\n",
       "      <td>0.516967</td>\n",
       "      <td>0.233582</td>\n",
       "      <td>...</td>\n",
       "      <td>0.480770</td>\n",
       "      <td>0.039245</td>\n",
       "      <td>0.088109</td>\n",
       "      <td>0.505360</td>\n",
       "      <td>0.515286</td>\n",
       "      <td>0.193236</td>\n",
       "      <td>0.207470</td>\n",
       "      <td>0.516041</td>\n",
       "      <td>0.486931</td>\n",
       "      <td>3.145435</td>\n",
       "    </tr>\n",
       "    <tr>\n",
       "      <th>std</th>\n",
       "      <td>115.706010</td>\n",
       "      <td>0.294389</td>\n",
       "      <td>0.285051</td>\n",
       "      <td>0.304387</td>\n",
       "      <td>0.291484</td>\n",
       "      <td>0.274676</td>\n",
       "      <td>0.281024</td>\n",
       "      <td>0.294230</td>\n",
       "      <td>0.280097</td>\n",
       "      <td>0.406768</td>\n",
       "      <td>...</td>\n",
       "      <td>0.390135</td>\n",
       "      <td>0.191679</td>\n",
       "      <td>0.276112</td>\n",
       "      <td>0.415186</td>\n",
       "      <td>0.417217</td>\n",
       "      <td>0.380998</td>\n",
       "      <td>0.381502</td>\n",
       "      <td>0.395150</td>\n",
       "      <td>0.410030</td>\n",
       "      <td>0.565649</td>\n",
       "    </tr>\n",
       "    <tr>\n",
       "      <th>min</th>\n",
       "      <td>0.000000</td>\n",
       "      <td>0.006326</td>\n",
       "      <td>0.000426</td>\n",
       "      <td>0.001495</td>\n",
       "      <td>0.012198</td>\n",
       "      <td>0.000452</td>\n",
       "      <td>0.000210</td>\n",
       "      <td>0.000616</td>\n",
       "      <td>0.016723</td>\n",
       "      <td>0.000000</td>\n",
       "      <td>...</td>\n",
       "      <td>0.000000</td>\n",
       "      <td>0.000000</td>\n",
       "      <td>0.000000</td>\n",
       "      <td>0.000000</td>\n",
       "      <td>0.000000</td>\n",
       "      <td>0.000000</td>\n",
       "      <td>0.000000</td>\n",
       "      <td>0.000000</td>\n",
       "      <td>0.000000</td>\n",
       "      <td>1.980030</td>\n",
       "    </tr>\n",
       "    <tr>\n",
       "      <th>25%</th>\n",
       "      <td>106.750000</td>\n",
       "      <td>0.220494</td>\n",
       "      <td>0.301608</td>\n",
       "      <td>0.251172</td>\n",
       "      <td>0.246691</td>\n",
       "      <td>0.232415</td>\n",
       "      <td>0.251065</td>\n",
       "      <td>0.261954</td>\n",
       "      <td>0.254314</td>\n",
       "      <td>0.000000</td>\n",
       "      <td>...</td>\n",
       "      <td>0.000000</td>\n",
       "      <td>0.000000</td>\n",
       "      <td>0.000000</td>\n",
       "      <td>0.000000</td>\n",
       "      <td>0.017140</td>\n",
       "      <td>0.000000</td>\n",
       "      <td>0.000000</td>\n",
       "      <td>0.058378</td>\n",
       "      <td>0.028802</td>\n",
       "      <td>2.712280</td>\n",
       "    </tr>\n",
       "    <tr>\n",
       "      <th>50%</th>\n",
       "      <td>224.500000</td>\n",
       "      <td>0.462602</td>\n",
       "      <td>0.567308</td>\n",
       "      <td>0.535672</td>\n",
       "      <td>0.452518</td>\n",
       "      <td>0.497835</td>\n",
       "      <td>0.511847</td>\n",
       "      <td>0.514264</td>\n",
       "      <td>0.515285</td>\n",
       "      <td>0.000000</td>\n",
       "      <td>...</td>\n",
       "      <td>0.458376</td>\n",
       "      <td>0.000000</td>\n",
       "      <td>0.000000</td>\n",
       "      <td>0.537248</td>\n",
       "      <td>0.530552</td>\n",
       "      <td>0.000000</td>\n",
       "      <td>0.000000</td>\n",
       "      <td>0.523236</td>\n",
       "      <td>0.489406</td>\n",
       "      <td>3.195172</td>\n",
       "    </tr>\n",
       "    <tr>\n",
       "      <th>75%</th>\n",
       "      <td>311.250000</td>\n",
       "      <td>0.711099</td>\n",
       "      <td>0.781662</td>\n",
       "      <td>0.742976</td>\n",
       "      <td>0.771237</td>\n",
       "      <td>0.703374</td>\n",
       "      <td>0.724862</td>\n",
       "      <td>0.768369</td>\n",
       "      <td>0.755946</td>\n",
       "      <td>0.217462</td>\n",
       "      <td>...</td>\n",
       "      <td>0.904801</td>\n",
       "      <td>0.000000</td>\n",
       "      <td>0.000000</td>\n",
       "      <td>0.998510</td>\n",
       "      <td>1.000000</td>\n",
       "      <td>0.000000</td>\n",
       "      <td>0.121471</td>\n",
       "      <td>0.965031</td>\n",
       "      <td>0.976869</td>\n",
       "      <td>3.552405</td>\n",
       "    </tr>\n",
       "    <tr>\n",
       "      <th>max</th>\n",
       "      <td>344.000000</td>\n",
       "      <td>0.979050</td>\n",
       "      <td>0.982372</td>\n",
       "      <td>0.983062</td>\n",
       "      <td>0.998631</td>\n",
       "      <td>0.998260</td>\n",
       "      <td>0.996817</td>\n",
       "      <td>0.999129</td>\n",
       "      <td>0.998740</td>\n",
       "      <td>1.000000</td>\n",
       "      <td>...</td>\n",
       "      <td>1.000000</td>\n",
       "      <td>1.000000</td>\n",
       "      <td>1.000000</td>\n",
       "      <td>1.000000</td>\n",
       "      <td>1.000000</td>\n",
       "      <td>1.000000</td>\n",
       "      <td>1.000000</td>\n",
       "      <td>1.000000</td>\n",
       "      <td>1.000000</td>\n",
       "      <td>4.377580</td>\n",
       "    </tr>\n",
       "  </tbody>\n",
       "</table>\n",
       "<p>8 rows × 45 columns</p>\n",
       "</div>"
      ],
      "text/plain": [
       "        exp_index  first_opponent_q_1  first_opponent_q_2  first_opponent_q_3  \\\n",
       "count  132.000000          132.000000          132.000000          132.000000   \n",
       "mean   201.931818            0.480995            0.538389            0.512436   \n",
       "std    115.706010            0.294389            0.285051            0.304387   \n",
       "min      0.000000            0.006326            0.000426            0.001495   \n",
       "25%    106.750000            0.220494            0.301608            0.251172   \n",
       "50%    224.500000            0.462602            0.567308            0.535672   \n",
       "75%    311.250000            0.711099            0.781662            0.742976   \n",
       "max    344.000000            0.979050            0.982372            0.983062   \n",
       "\n",
       "       first_opponent_q_4  second_opponent_q_1  second_opponent_q_2  \\\n",
       "count          132.000000           132.000000           132.000000   \n",
       "mean             0.487729             0.479222             0.495657   \n",
       "std              0.291484             0.274676             0.281024   \n",
       "min              0.012198             0.000452             0.000210   \n",
       "25%              0.246691             0.232415             0.251065   \n",
       "50%              0.452518             0.497835             0.511847   \n",
       "75%              0.771237             0.703374             0.724862   \n",
       "max              0.998631             0.998260             0.996817   \n",
       "\n",
       "       second_opponent_q_3  second_opponent_q_4  mem_one_p_1       ...         \\\n",
       "count           132.000000           132.000000   132.000000       ...          \n",
       "mean              0.503454             0.516967     0.233582       ...          \n",
       "std               0.294230             0.280097     0.406768       ...          \n",
       "min               0.000616             0.016723     0.000000       ...          \n",
       "25%               0.261954             0.254314     0.000000       ...          \n",
       "50%               0.514264             0.515285     0.000000       ...          \n",
       "75%               0.768369             0.755946     0.217462       ...          \n",
       "max               0.999129             0.998740     1.000000       ...          \n",
       "\n",
       "       gambler_paramater_p_8  gambler_paramater_p_9  gambler_paramater_p_10  \\\n",
       "count             132.000000             132.000000              132.000000   \n",
       "mean                0.480770               0.039245                0.088109   \n",
       "std                 0.390135               0.191679                0.276112   \n",
       "min                 0.000000               0.000000                0.000000   \n",
       "25%                 0.000000               0.000000                0.000000   \n",
       "50%                 0.458376               0.000000                0.000000   \n",
       "75%                 0.904801               0.000000                0.000000   \n",
       "max                 1.000000               1.000000                1.000000   \n",
       "\n",
       "       gambler_paramater_p_11  gambler_paramater_p_12  gambler_paramater_p_13  \\\n",
       "count              132.000000              132.000000              132.000000   \n",
       "mean                 0.505360                0.515286                0.193236   \n",
       "std                  0.415186                0.417217                0.380998   \n",
       "min                  0.000000                0.000000                0.000000   \n",
       "25%                  0.000000                0.017140                0.000000   \n",
       "50%                  0.537248                0.530552                0.000000   \n",
       "75%                  0.998510                1.000000                0.000000   \n",
       "max                  1.000000                1.000000                1.000000   \n",
       "\n",
       "       gambler_paramater_p_14  gambler_paramater_p_15  gambler_paramater_p_16  \\\n",
       "count              132.000000              132.000000              132.000000   \n",
       "mean                 0.207470                0.516041                0.486931   \n",
       "std                  0.381502                0.395150                0.410030   \n",
       "min                  0.000000                0.000000                0.000000   \n",
       "25%                  0.000000                0.058378                0.028802   \n",
       "50%                  0.000000                0.523236                0.489406   \n",
       "75%                  0.121471                0.965031                0.976869   \n",
       "max                  1.000000                1.000000                1.000000   \n",
       "\n",
       "       gambler_utility  \n",
       "count       132.000000  \n",
       "mean          3.145435  \n",
       "std           0.565649  \n",
       "min           1.980030  \n",
       "25%           2.712280  \n",
       "50%           3.195172  \n",
       "75%           3.552405  \n",
       "max           4.377580  \n",
       "\n",
       "[8 rows x 45 columns]"
      ]
     },
     "execution_count": 14,
     "metadata": {},
     "output_type": "execute_result"
    }
   ],
   "source": [
    "df_with_gambler.describe()"
   ]
  },
  {
   "cell_type": "code",
   "execution_count": 18,
   "metadata": {},
   "outputs": [
    {
     "data": {
      "image/png": "[encoded data removed]",
      "text/plain": [
       "<Figure size 720x468 with 4 Axes>"
      ]
     },
     "metadata": {
      "needs_background": "light"
     },
     "output_type": "display_data"
    }
   ],
   "source": [
    "fig, axes = plt.subplots(nrows=2, ncols=2, figsize=(10, 6.5))\n",
    "\n",
    "for i in range(4):\n",
    "    index = (int(i / 2), i % 2)\n",
    "    axes[index].hist(df_with_gambler['first_opponent_q_{}'.format(i + 1)], color=color)\n",
    "    \n",
    "    axes[index].set_title('Distribution of $q^{(1)}_%s$' % (i + 1))\n",
    "    \n",
    "plt.savefig('../img/first_opponent_probabilities_with_gambler.pdf')"
   ]
  },
  {
   "cell_type": "code",
   "execution_count": 19,
   "metadata": {},
   "outputs": [
    {
     "data": {
      "image/png": "[encoded data removed]",
      "text/plain": [
       "<Figure size 720x468 with 4 Axes>"
      ]
     },
     "metadata": {
      "needs_background": "light"
     },
     "output_type": "display_data"
    }
   ],
   "source": [
    "fig, axes = plt.subplots(nrows=2, ncols=2, figsize=(10, 6.5))\n",
    "\n",
    "for i in range(4):\n",
    "    index = (int(i / 2), i % 2)\n",
    "    #axes[index].hist(df['first_opponent_q_{}'.format(i + 1)], color=colors[0], label='$q^{(1)}$')\n",
    "    axes[index].hist(df_with_gambler['second_opponent_q_{}'.format(i + 1)], color=color);\n",
    "    \n",
    "    axes[index].set_title('Distribution of $q^{(2)}_%s$' % (i + 1))\n",
    "\n",
    "plt.savefig('../img/second_opponent_probabilities_with_gambler.pdf')"
   ]
  },
  {
   "cell_type": "code",
   "execution_count": 20,
   "metadata": {},
   "outputs": [],
   "source": [
    "utility = []\n",
    "x = []\n",
    "for i, row in df_with_gambler.iterrows():\n",
    "    x.append(i)\n",
    "    p = (row[\"mem_one_p_1\"], row[\"mem_one_p_2\"], row[\"mem_one_p_3\"], row[\"mem_one_p_4\"])\n",
    "    q_1 = (\n",
    "        row[\"first_opponent_q_1\"],\n",
    "        row[\"first_opponent_q_2\"],\n",
    "        row[\"first_opponent_q_3\"],\n",
    "        row[\"first_opponent_q_4\"],\n",
    "    )\n",
    "    q_2 = (\n",
    "        row[\"second_opponent_q_1\"],\n",
    "        row[\"second_opponent_q_2\"],\n",
    "        row[\"second_opponent_q_3\"],\n",
    "        row[\"second_opponent_q_4\"],\n",
    "    )\n",
    "    utility.append(opt_mo.tournament_utility(p, [q_1, q_2]))"
   ]
  },
  {
   "cell_type": "code",
   "execution_count": 21,
   "metadata": {},
   "outputs": [],
   "source": [
    "df_with_gambler[\"mem_one_utility\"] = utility\n",
    "x = range(len(df_with_gambler[\"gambler_utility\"]))"
   ]
  },
  {
   "cell_type": "code",
   "execution_count": 22,
   "metadata": {},
   "outputs": [
    {
     "data": {
      "image/png": "[encoded data removed]",
      "text/plain": [
       "<Figure size 432x288 with 1 Axes>"
      ]
     },
     "metadata": {
      "needs_background": "light"
     },
     "output_type": "display_data"
    }
   ],
   "source": [
    "fig, axes = plt.subplots()\n",
    "\n",
    "plt.scatter(df_with_gambler[\"mem_one_utility\"],\n",
    "            df_with_gambler[\"gambler_utility\"],\n",
    "            label=\"Gambler(2, 1, 1)\", color=color);\n",
    "\n",
    "plt.ylabel(\"Long Memory Utility\", fontsize=10, fontweight=\"bold\")\n",
    "plt.xlabel(\"Memory One Utility\", fontsize=10, fontweight=\"bold\");\n",
    "\n",
    "fig.tight_layout()\n",
    "\n",
    "plt.savefig('../img/gambler_performance_against_mem_one.pdf')"
   ]
  },
  {
   "cell_type": "code",
   "execution_count": null,
   "metadata": {},
   "outputs": [],
   "source": []
  }
 ],
 "metadata": {
  "kernelspec": {
   "display_name": "opt-mo",
   "language": "python",
   "name": "opt-mo"
  },
  "language_info": {
   "codemirror_mode": {
    "name": "ipython",
    "version": 3
   },
   "file_extension": ".py",
   "mimetype": "text/x-python",
   "name": "python",
   "nbconvert_exporter": "python",
   "pygments_lexer": "ipython3",
   "version": "3.6.7"
  }
 },
 "nbformat": 4,
 "nbformat_minor": 2
}
