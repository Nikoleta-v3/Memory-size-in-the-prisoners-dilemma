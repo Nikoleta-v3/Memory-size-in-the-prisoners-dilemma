{
 "cells": [
  {
   "cell_type": "markdown",
   "metadata": {},
   "source": [
    "Stability of defection, optimisation of strategies and the limits of memory in the PD.\n",
    "-----------------------"
   ]
  },
  {
   "cell_type": "markdown",
   "metadata": {},
   "source": [
    "## 4. Formulation including noise"
   ]
  },
  {
   "cell_type": "code",
   "execution_count": 1,
   "metadata": {},
   "outputs": [],
   "source": [
    "import opt_mo\n",
    "import numpy as np\n",
    "import sympy as sym\n",
    "\n",
    "sym.init_printing()\n"
   ]
  },
  {
   "cell_type": "code",
   "execution_count": 2,
   "metadata": {},
   "outputs": [],
   "source": [
    "import itertools\n",
    "import axelrod as axl\n",
    "\n",
    "from fractions import Fraction\n"
   ]
  },
  {
   "cell_type": "code",
   "execution_count": 3,
   "metadata": {},
   "outputs": [],
   "source": [
    "import pandas as pd\n"
   ]
  },
  {
   "cell_type": "code",
   "execution_count": 4,
   "metadata": {},
   "outputs": [],
   "source": [
    "import matplotlib.pyplot as plt\n",
    "import matplotlib\n"
   ]
  },
  {
   "cell_type": "code",
   "execution_count": 5,
   "metadata": {},
   "outputs": [],
   "source": [
    "font = {\"size\": 10, \"weight\": \"bold\"}\n",
    "matplotlib.rc(\"font\", **font)\n"
   ]
  },
  {
   "cell_type": "code",
   "execution_count": 6,
   "metadata": {},
   "outputs": [],
   "source": [
    "p_n = sym.symbols(\"p_n\")"
   ]
  },
  {
   "cell_type": "code",
   "execution_count": 7,
   "metadata": {},
   "outputs": [],
   "source": [
    "p_1, p_2, p_3, p_4 = sym.symbols(\"p_1, p_2, p_3, p_4\")\n",
    "q_1, q_2, q_3, q_4 = sym.symbols(\"q_1, q_2, q_3, q_4\")\n"
   ]
  },
  {
   "cell_type": "code",
   "execution_count": 8,
   "metadata": {},
   "outputs": [],
   "source": [
    "p = (p_1, p_2, p_3, p_4)\n",
    "q = (q_1, q_2, q_3, q_4)\n"
   ]
  },
  {
   "cell_type": "code",
   "execution_count": 9,
   "metadata": {},
   "outputs": [],
   "source": [
    "p = [p_i * p_n for p_i in p]\n",
    "q = [q_i * p_n for q_i in q]"
   ]
  },
  {
   "cell_type": "markdown",
   "metadata": {},
   "source": [
    "Utility\n",
    "-------"
   ]
  },
  {
   "cell_type": "markdown",
   "metadata": {},
   "source": [
    "The markov chain $M$."
   ]
  },
  {
   "cell_type": "code",
   "execution_count": 10,
   "metadata": {},
   "outputs": [],
   "source": [
    "M = opt_mo.mem_one_match_markov_chain(player=p, opponent=q)\n"
   ]
  },
  {
   "cell_type": "code",
   "execution_count": 11,
   "metadata": {},
   "outputs": [],
   "source": [
    "with open(\"../tex/m_matrix_with_noise.tex\", \"w\") as f:\n",
    "    f.write(\"M = {}\".format(sym.latex(sym.Matrix(M))))"
   ]
  },
  {
   "cell_type": "markdown",
   "metadata": {},
   "source": [
    "Let $v$ be the stationary vector of $M$, where $M$ is the transition matrix $M(p,q)$."
   ]
  },
  {
   "cell_type": "code",
   "execution_count": 14,
   "metadata": {},
   "outputs": [],
   "source": [
    "R, S, T, P = sym.symbols(\"R, S, T, P\")\n",
    "payoffs = np.array([R, S, T, P])\n"
   ]
  },
  {
   "cell_type": "code",
   "execution_count": 15,
   "metadata": {},
   "outputs": [],
   "source": [
    "def pd_utility(S_p, x, y):\n",
    "    \"\"\"\n",
    "    Returns the utility as a function\n",
    "    of p, q vectors. Based on Press and Dyson, 2012.\n",
    "    \"\"\"\n",
    "    B = sym.Matrix(opt_mo.make_B(S_p, x, y))\n",
    "    unit = sym.Matrix(opt_mo.make_B((1, 1, 1, 1), x, y))\n",
    "    return B.det() / unit.det()\n"
   ]
  },
  {
   "cell_type": "code",
   "execution_count": 16,
   "metadata": {},
   "outputs": [],
   "source": [
    "S_p = sym.Matrix([[R, S, T, P]])"
   ]
  },
  {
   "cell_type": "code",
   "execution_count": 17,
   "metadata": {},
   "outputs": [],
   "source": [
    "utility = pd_utility(S_p, p, q)\n"
   ]
  },
  {
   "cell_type": "code",
   "execution_count": 18,
   "metadata": {},
   "outputs": [],
   "source": [
    "numerator = sym.fraction(utility.simplify())[0]\n",
    "denominator = sym.fraction(utility.simplify())[1]\n"
   ]
  },
  {
   "cell_type": "markdown",
   "metadata": {},
   "source": [
    "**Numerator**"
   ]
  },
  {
   "cell_type": "code",
   "execution_count": 48,
   "metadata": {},
   "outputs": [],
   "source": [
    "from sympy.abc import *"
   ]
  },
  {
   "cell_type": "code",
   "execution_count": 42,
   "metadata": {},
   "outputs": [],
   "source": [
    "ps = np.array((p_1, p_2, p_3, p_4))\n",
    "Q_num = np.array([[numerator.coeff(f1 * f2) for f2 in (p_1, p_2, p_3, p_4)] for f1 in (p_1, p_2, p_3, p_4)])\n",
    "c_num = np.array(\n",
    "    [\n",
    "        numerator.subs({p_2: 0, p_3: 0, p_4: 0}).coeff(p_1),\n",
    "        numerator.subs({p_1: 0, p_3: 0, p_4: 0}).coeff(p_2),\n",
    "        numerator.subs({p_1: 0, p_2: 0, p_4: 0}).coeff(p_3),\n",
    "        numerator.subs({p_1: 0, p_2: 0, p_3: 0}).coeff(p_4),\n",
    "    ]\n",
    ")\n"
   ]
  },
  {
   "cell_type": "code",
   "execution_count": 64,
   "metadata": {},
   "outputs": [
    {
     "data": {
      "image/png": "[encoded data removed]",
      "text/latex": [
       "$$\\left[\\begin{matrix}0 & - p_{n}^{3} \\left(q_{1} - q_{3}\\right) \\left(P p_{n} q_{2} - P - T p_{n} q_{4}\\right) & p_{n}^{4} \\left(q_{1} - q_{2}\\right) \\left(P q_{3} - S q_{4}\\right) & p_{n}^{3} \\left(q_{1} - q_{4}\\right) \\left(S p_{n} q_{2} - S - T p_{n} q_{3}\\right)\\\\- p_{n}^{3} \\left(q_{1} - q_{3}\\right) \\left(P p_{n} q_{2} - P - T p_{n} q_{4}\\right) & 0 & p_{n}^{3} \\left(q_{2} - q_{3}\\right) \\left(P p_{n} q_{1} - P - R p_{n} q_{4}\\right) & - p_{n}^{3} \\left(q_{3} - q_{4}\\right) \\left(R p_{n} q_{2} - R - T p_{n} q_{1} + T\\right)\\\\p_{n}^{4} \\left(q_{1} - q_{2}\\right) \\left(P q_{3} - S q_{4}\\right) & p_{n}^{3} \\left(q_{2} - q_{3}\\right) \\left(P p_{n} q_{1} - P - R p_{n} q_{4}\\right) & 0 & p_{n}^{3} \\left(q_{2} - q_{4}\\right) \\left(R p_{n} q_{3} - S p_{n} q_{1} + S\\right)\\\\p_{n}^{3} \\left(q_{1} - q_{4}\\right) \\left(S p_{n} q_{2} - S - T p_{n} q_{3}\\right) & - p_{n}^{3} \\left(q_{3} - q_{4}\\right) \\left(R p_{n} q_{2} - R - T p_{n} q_{1} + T\\right) & p_{n}^{3} \\left(q_{2} - q_{4}\\right) \\left(R p_{n} q_{3} - S p_{n} q_{1} + S\\right) & 0\\end{matrix}\\right]$$"
      ],
      "text/plain": [
       "⎡                                             3                               \n",
       "⎢                  0                       -pₙ ⋅(q₁ - q₃)⋅(P⋅pₙ⋅q₂ - P - T⋅pₙ⋅\n",
       "⎢                                                                             \n",
       "⎢   3                                                                         \n",
       "⎢-pₙ ⋅(q₁ - q₃)⋅(P⋅pₙ⋅q₂ - P - T⋅pₙ⋅q₄)                      0                \n",
       "⎢                                                                             \n",
       "⎢       4                                    3                                \n",
       "⎢     pₙ ⋅(q₁ - q₂)⋅(P⋅q₃ - S⋅q₄)          pₙ ⋅(q₂ - q₃)⋅(P⋅pₙ⋅q₁ - P - R⋅pₙ⋅q\n",
       "⎢                                                                             \n",
       "⎢  3                                        3                                 \n",
       "⎣pₙ ⋅(q₁ - q₄)⋅(S⋅pₙ⋅q₂ - S - T⋅pₙ⋅q₃)   -pₙ ⋅(q₃ - q₄)⋅(R⋅pₙ⋅q₂ - R - T⋅pₙ⋅q₁\n",
       "\n",
       "              4                                   3                           \n",
       "q₄)         pₙ ⋅(q₁ - q₂)⋅(P⋅q₃ - S⋅q₄)         pₙ ⋅(q₁ - q₄)⋅(S⋅pₙ⋅q₂ - S - T\n",
       "                                                                              \n",
       "         3                                       3                            \n",
       "       pₙ ⋅(q₂ - q₃)⋅(P⋅pₙ⋅q₁ - P - R⋅pₙ⋅q₄)  -pₙ ⋅(q₃ - q₄)⋅(R⋅pₙ⋅q₂ - R - T⋅\n",
       "                                                                              \n",
       "                                                  3                           \n",
       "₄)                       0                      pₙ ⋅(q₂ - q₄)⋅(R⋅pₙ⋅q₃ - S⋅pₙ⋅\n",
       "                                                                              \n",
       "         3                                                                    \n",
       " + T)  pₙ ⋅(q₂ - q₄)⋅(R⋅pₙ⋅q₃ - S⋅pₙ⋅q₁ + S)                      0           \n",
       "\n",
       "          ⎤\n",
       "⋅pₙ⋅q₃)   ⎥\n",
       "          ⎥\n",
       "          ⎥\n",
       "pₙ⋅q₁ + T)⎥\n",
       "          ⎥\n",
       "          ⎥\n",
       "q₁ + S)   ⎥\n",
       "          ⎥\n",
       "          ⎥\n",
       "          ⎦"
      ]
     },
     "execution_count": 64,
     "metadata": {},
     "output_type": "execute_result"
    }
   ],
   "source": [
    "sym.Matrix(Q_num).applyfunc(sym.factor)"
   ]
  },
  {
   "cell_type": "code",
   "execution_count": 24,
   "metadata": {},
   "outputs": [
    {
     "data": {
      "image/png": "[encoded data removed]",
      "text/latex": [
       "$$\\left[\\begin{matrix}P p_{n}^{3} q_{1} q_{2} - P p_{n}^{2} q_{1} - T p_{n}^{3} q_{1} q_{4}\\\\- P p_{n}^{3} q_{2} q_{3} + P p_{n}^{2} q_{2} + P p_{n}^{2} q_{3} - P p_{n} + T p_{n}^{3} q_{3} q_{4} - T p_{n}^{2} q_{4}\\\\- P p_{n}^{3} q_{1} q_{2} + P p_{n}^{3} q_{2} q_{3} + P p_{n}^{2} q_{2} - P p_{n}^{2} q_{3} + R p_{n}^{3} q_{2} q_{4} - S p_{n}^{3} q_{2} q_{4} + S p_{n}^{2} q_{4}\\\\- R p_{n}^{3} q_{2} q_{4} + R p_{n}^{2} q_{4} + S p_{n}^{3} q_{2} q_{4} - S p_{n}^{2} q_{2} - S p_{n}^{2} q_{4} + S p_{n} + T p_{n}^{3} q_{1} q_{4} - T p_{n}^{3} q_{3} q_{4} + T p_{n}^{2} q_{3} - T p_{n}^{2} q_{4}\\end{matrix}\\right]$$"
      ],
      "text/plain": [
       "⎡                                            3             2          3       \n",
       "⎢                                        P⋅pₙ ⋅q₁⋅q₂ - P⋅pₙ ⋅q₁ - T⋅pₙ ⋅q₁⋅q₄ \n",
       "⎢                                                                             \n",
       "⎢                               3             2          2                 3  \n",
       "⎢                         - P⋅pₙ ⋅q₂⋅q₃ + P⋅pₙ ⋅q₂ + P⋅pₙ ⋅q₃ - P⋅pₙ + T⋅pₙ ⋅q\n",
       "⎢                                                                             \n",
       "⎢                    3             3             2          2          3      \n",
       "⎢              - P⋅pₙ ⋅q₁⋅q₂ + P⋅pₙ ⋅q₂⋅q₃ + P⋅pₙ ⋅q₂ - P⋅pₙ ⋅q₃ + R⋅pₙ ⋅q₂⋅q₄\n",
       "⎢                                                                             \n",
       "⎢      3             2          3             2          2                 3  \n",
       "⎣- R⋅pₙ ⋅q₂⋅q₄ + R⋅pₙ ⋅q₄ + S⋅pₙ ⋅q₂⋅q₄ - S⋅pₙ ⋅q₂ - S⋅pₙ ⋅q₄ + S⋅pₙ + T⋅pₙ ⋅q\n",
       "\n",
       "                                        ⎤\n",
       "                                        ⎥\n",
       "                                        ⎥\n",
       "           2                            ⎥\n",
       "₃⋅q₄ - T⋅pₙ ⋅q₄                         ⎥\n",
       "                                        ⎥\n",
       "       3             2                  ⎥\n",
       " - S⋅pₙ ⋅q₂⋅q₄ + S⋅pₙ ⋅q₄               ⎥\n",
       "                                        ⎥\n",
       "           3             2          2   ⎥\n",
       "₁⋅q₄ - T⋅pₙ ⋅q₃⋅q₄ + T⋅pₙ ⋅q₃ - T⋅pₙ ⋅q₄⎦"
      ]
     },
     "execution_count": 24,
     "metadata": {},
     "output_type": "execute_result"
    }
   ],
   "source": [
    "sym.Matrix(c_num)"
   ]
  },
  {
   "cell_type": "code",
   "execution_count": 25,
   "metadata": {},
   "outputs": [],
   "source": [
    "expr = np.dot(ps, Q_num.dot(ps.T) * 1 / 2) + np.dot(c_num, ps.T)\n",
    "constant = numerator.expand() - expr\n"
   ]
  },
  {
   "cell_type": "code",
   "execution_count": 59,
   "metadata": {},
   "outputs": [
    {
     "data": {
      "image/png": "[encoded data removed]",
      "text/latex": [
       "$$P + p_{n} \\left(- P q_{2} + T q_{4}\\right)$$"
      ],
      "text/plain": [
       "P + pₙ⋅(-P⋅q₂ + T⋅q₄)"
      ]
     },
     "execution_count": 59,
     "metadata": {},
     "output_type": "execute_result"
    }
   ],
   "source": [
    "constant.simplify().collect(p_n)\n"
   ]
  },
  {
   "cell_type": "code",
   "execution_count": 65,
   "metadata": {},
   "outputs": [],
   "source": [
    "for file, name in zip(\n",
    "    [sym.Matrix(Q_num).applyfunc(sym.factor), sym.Matrix(c_num).applyfunc(sym.factor), constant.simplify().collect(p_n)],\n",
    "    [\"q_numerator\", \"c_numerator\", \"numerator_constant\"],\n",
    "):\n",
    "\n",
    "    with open(\"../tex/{}_with_noise.tex\".format(name), \"w\") as f:\n",
    "        f.write(\"{}\".format(sym.latex(file)))\n"
   ]
  },
  {
   "cell_type": "markdown",
   "metadata": {},
   "source": [
    "**Denominator**"
   ]
  },
  {
   "cell_type": "code",
   "execution_count": 33,
   "metadata": {},
   "outputs": [],
   "source": [
    "Q_den = np.array([[denominator.coeff(f1 * f2) for f2 in (p_1, p_2, p_3, p_4)] for f1 in (p_1, p_2, p_3, p_4)])\n",
    "c_den = np.array(\n",
    "    [\n",
    "        denominator.subs({p_2: 0, p_3: 0, p_4: 0}).coeff(p_1),\n",
    "        denominator.subs({p_1: 0, p_3: 0, p_4: 0}).coeff(p_2),\n",
    "        denominator.subs({p_1: 0, p_2: 0, p_4: 0}).coeff(p_3),\n",
    "        denominator.subs({p_1: 0, p_2: 0, p_3: 0}).coeff(p_4),\n",
    "    ]\n",
    ")\n"
   ]
  },
  {
   "cell_type": "code",
   "execution_count": 34,
   "metadata": {},
   "outputs": [],
   "source": [
    "expr = np.dot(ps, Q_den.dot(ps.T) * 1 / 2) + np.dot(c_den, ps.T)\n",
    "den_constant = denominator.expand() - expr\n"
   ]
  },
  {
   "cell_type": "code",
   "execution_count": 31,
   "metadata": {},
   "outputs": [],
   "source": [
    "Q_den = sym.Matrix([[element.factor() for element in row] for row in Q_den])\n",
    "c_den = sym.Matrix([element.factor() for element in c_den])\n"
   ]
  },
  {
   "cell_type": "code",
   "execution_count": 37,
   "metadata": {},
   "outputs": [
    {
     "data": {
      "image/png": "[encoded data removed]",
      "text/latex": [
       "$$\\left[\\begin{matrix}0 & - p_{n}^{4} q_{1} q_{2} + p_{n}^{4} q_{1} q_{4} + p_{n}^{4} q_{2} q_{3} - p_{n}^{4} q_{3} q_{4} + p_{n}^{3} q_{1} - p_{n}^{3} q_{3} & p_{n}^{4} q_{1} q_{3} - p_{n}^{4} q_{1} q_{4} - p_{n}^{4} q_{2} q_{3} + p_{n}^{4} q_{2} q_{4} & p_{n}^{4} q_{1} q_{2} - p_{n}^{4} q_{1} q_{3} - p_{n}^{4} q_{2} q_{4} + p_{n}^{4} q_{3} q_{4} - p_{n}^{3} q_{1} + p_{n}^{3} q_{4}\\\\- p_{n}^{4} q_{1} q_{2} + p_{n}^{4} q_{1} q_{4} + p_{n}^{4} q_{2} q_{3} - p_{n}^{4} q_{3} q_{4} + p_{n}^{3} q_{1} - p_{n}^{3} q_{3} & 0 & p_{n}^{4} q_{1} q_{2} - p_{n}^{4} q_{1} q_{3} - p_{n}^{4} q_{2} q_{4} + p_{n}^{4} q_{3} q_{4} - p_{n}^{3} q_{2} + p_{n}^{3} q_{3} & p_{n}^{4} q_{1} q_{3} - p_{n}^{4} q_{1} q_{4} - p_{n}^{4} q_{2} q_{3} + p_{n}^{4} q_{2} q_{4}\\\\p_{n}^{4} q_{1} q_{3} - p_{n}^{4} q_{1} q_{4} - p_{n}^{4} q_{2} q_{3} + p_{n}^{4} q_{2} q_{4} & p_{n}^{4} q_{1} q_{2} - p_{n}^{4} q_{1} q_{3} - p_{n}^{4} q_{2} q_{4} + p_{n}^{4} q_{3} q_{4} - p_{n}^{3} q_{2} + p_{n}^{3} q_{3} & 0 & - p_{n}^{4} q_{1} q_{2} + p_{n}^{4} q_{1} q_{4} + p_{n}^{4} q_{2} q_{3} - p_{n}^{4} q_{3} q_{4} + p_{n}^{3} q_{2} - p_{n}^{3} q_{4}\\\\p_{n}^{4} q_{1} q_{2} - p_{n}^{4} q_{1} q_{3} - p_{n}^{4} q_{2} q_{4} + p_{n}^{4} q_{3} q_{4} - p_{n}^{3} q_{1} + p_{n}^{3} q_{4} & p_{n}^{4} q_{1} q_{3} - p_{n}^{4} q_{1} q_{4} - p_{n}^{4} q_{2} q_{3} + p_{n}^{4} q_{2} q_{4} & - p_{n}^{4} q_{1} q_{2} + p_{n}^{4} q_{1} q_{4} + p_{n}^{4} q_{2} q_{3} - p_{n}^{4} q_{3} q_{4} + p_{n}^{3} q_{2} - p_{n}^{3} q_{4} & 0\\end{matrix}\\right]$$"
      ],
      "text/plain": [
       "⎡                                                                       4     \n",
       "⎢                                0                                  - pₙ ⋅q₁⋅q\n",
       "⎢                                                                             \n",
       "⎢    4           4           4           4           3        3               \n",
       "⎢- pₙ ⋅q₁⋅q₂ + pₙ ⋅q₁⋅q₄ + pₙ ⋅q₂⋅q₃ - pₙ ⋅q₃⋅q₄ + pₙ ⋅q₁ - pₙ ⋅q₃            \n",
       "⎢                                                                             \n",
       "⎢            4           4           4           4                     4      \n",
       "⎢          pₙ ⋅q₁⋅q₃ - pₙ ⋅q₁⋅q₄ - pₙ ⋅q₂⋅q₃ + pₙ ⋅q₂⋅q₄             pₙ ⋅q₁⋅q₂\n",
       "⎢                                                                             \n",
       "⎢   4           4           4           4           3        3                \n",
       "⎣ pₙ ⋅q₁⋅q₂ - pₙ ⋅q₁⋅q₃ - pₙ ⋅q₂⋅q₄ + pₙ ⋅q₃⋅q₄ - pₙ ⋅q₁ + pₙ ⋅q₄             \n",
       "\n",
       "      4           4           4           3        3                 4        \n",
       "₂ + pₙ ⋅q₁⋅q₄ + pₙ ⋅q₂⋅q₃ - pₙ ⋅q₃⋅q₄ + pₙ ⋅q₁ - pₙ ⋅q₃            pₙ ⋅q₁⋅q₃ -\n",
       "                                                                              \n",
       "                                                            4           4     \n",
       "                      0                                   pₙ ⋅q₁⋅q₂ - pₙ ⋅q₁⋅q\n",
       "                                                                              \n",
       "     4           4           4           3        3                           \n",
       " - pₙ ⋅q₁⋅q₃ - pₙ ⋅q₂⋅q₄ + pₙ ⋅q₃⋅q₄ - pₙ ⋅q₂ + pₙ ⋅q₃                        \n",
       "                                                                              \n",
       "  4           4           4           4                      4           4    \n",
       "pₙ ⋅q₁⋅q₃ - pₙ ⋅q₁⋅q₄ - pₙ ⋅q₂⋅q₃ + pₙ ⋅q₂⋅q₄            - pₙ ⋅q₁⋅q₂ + pₙ ⋅q₁⋅\n",
       "\n",
       "   4           4           4                     4           4           4    \n",
       " pₙ ⋅q₁⋅q₄ - pₙ ⋅q₂⋅q₃ + pₙ ⋅q₂⋅q₄             pₙ ⋅q₁⋅q₂ - pₙ ⋅q₁⋅q₃ - pₙ ⋅q₂⋅\n",
       "                                                                              \n",
       "      4           4           3        3                  4           4       \n",
       "₃ - pₙ ⋅q₂⋅q₄ + pₙ ⋅q₃⋅q₄ - pₙ ⋅q₂ + pₙ ⋅q₃             pₙ ⋅q₁⋅q₃ - pₙ ⋅q₁⋅q₄ \n",
       "                                                                              \n",
       "                                                  4           4           4   \n",
       "           0                                  - pₙ ⋅q₁⋅q₂ + pₙ ⋅q₁⋅q₄ + pₙ ⋅q₂\n",
       "                                                                              \n",
       "       4           4           3        3                                     \n",
       "q₄ + pₙ ⋅q₂⋅q₃ - pₙ ⋅q₃⋅q₄ + pₙ ⋅q₂ - pₙ ⋅q₄                                  \n",
       "\n",
       "       4           3        3    ⎤\n",
       "q₄ + pₙ ⋅q₃⋅q₄ - pₙ ⋅q₁ + pₙ ⋅q₄ ⎥\n",
       "                                 ⎥\n",
       "    4           4                ⎥\n",
       "- pₙ ⋅q₂⋅q₃ + pₙ ⋅q₂⋅q₄          ⎥\n",
       "                                 ⎥\n",
       "        4           3        3   ⎥\n",
       "⋅q₃ - pₙ ⋅q₃⋅q₄ + pₙ ⋅q₂ - pₙ ⋅q₄⎥\n",
       "                                 ⎥\n",
       "                                 ⎥\n",
       "0                                ⎦"
      ]
     },
     "execution_count": 37,
     "metadata": {},
     "output_type": "execute_result"
    }
   ],
   "source": [
    "sym.Matrix(Q_den)"
   ]
  },
  {
   "cell_type": "code",
   "execution_count": 66,
   "metadata": {},
   "outputs": [],
   "source": [
    "for file, name in zip(\n",
    "    [sym.Matrix(Q_den).applyfunc(sym.factor), sym.Matrix(c_den).applyfunc(sym.factor), den_constant.simplify().collect(p_n)],\n",
    "    [\"q_denominator\", \"c_denominator\", \"denominator_constant\"],\n",
    "):\n",
    "\n",
    "    with open(\"../tex/{}_with_noise.tex\".format(name), \"w\") as f:\n",
    "        f.write(\"{}\".format(sym.latex(file)))\n"
   ]
  },
  {
   "cell_type": "code",
   "execution_count": null,
   "metadata": {},
   "outputs": [],
   "source": []
  }
 ],
 "metadata": {
  "anaconda-cloud": {},
  "kernelspec": {
   "display_name": "opt-mo",
   "language": "python",
   "name": "opt-mo"
  },
  "language_info": {
   "codemirror_mode": {
    "name": "ipython",
    "version": 3
   },
   "file_extension": ".py",
   "mimetype": "text/x-python",
   "name": "python",
   "nbconvert_exporter": "python",
   "pygments_lexer": "ipython3",
   "version": "3.6.7"
  }
 },
 "nbformat": 4,
 "nbformat_minor": 1
}
