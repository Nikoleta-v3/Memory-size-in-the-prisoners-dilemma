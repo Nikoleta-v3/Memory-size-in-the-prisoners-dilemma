{
 "cells": [
  {
   "cell_type": "code",
   "execution_count": 7,
   "metadata": {},
   "outputs": [],
   "source": [
    "import axelrod as axl\n",
    "import numpy as np\n",
    "\n",
    "from axelrod.action import Action\n",
    "from axelrod.strategies.lookerup import Plays\n",
    "\n",
    "import opt_mo\n",
    "\n",
    "C, D = Action.C, Action.D"
   ]
  },
  {
   "cell_type": "code",
   "execution_count": 46,
   "metadata": {},
   "outputs": [],
   "source": [
    "import matplotlib.pyplot as plt\n",
    "import matplotlib"
   ]
  },
  {
   "cell_type": "code",
   "execution_count": 2,
   "metadata": {},
   "outputs": [],
   "source": [
    "params = [1, 1, 2]"
   ]
  },
  {
   "cell_type": "code",
   "execution_count": 28,
   "metadata": {},
   "outputs": [],
   "source": [
    "df_with_g = opt_mo.tools.read_sql_data_frame('../data/with_gambler/main.db')"
   ]
  },
  {
   "cell_type": "code",
   "execution_count": 55,
   "metadata": {},
   "outputs": [],
   "source": [
    "def get_cooperation_rates(row):\n",
    "    op_one = row[1:5].values\n",
    "    op_two = row[5:9].values\n",
    "    \n",
    "    opponents = [axl.MemoryOnePlayer(p) for p in [op_one, op_two]]\n",
    "\n",
    "    ps = row[9:13].values\n",
    "    best_response = axl.MemoryOnePlayer(ps)\n",
    "    \n",
    "    pattern = row[27:-1].values\n",
    "    \n",
    "    parameters = Plays(\n",
    "    self_plays=params[0], op_plays=params[1], op_openings=params[2]\n",
    "    )\n",
    "    size = opt_mo.get_lookup_table_size(params)\n",
    "\n",
    "    initial_action = [\n",
    "        np.random.choice([C, D], p=[pattern[0], 1 - pattern[0]])\n",
    "        for _ in range(size)\n",
    "    ]\n",
    "\n",
    "    gambler = axl.Gambler(\n",
    "        pattern=pattern[1:],\n",
    "        parameters=parameters,\n",
    "        initial_actions=initial_action,\n",
    "    )\n",
    "    \n",
    "    edges = [(0, 2), (0, 3), (1, 2), (1, 3)]\n",
    "    \n",
    "    players = [best_response, gambler] + opponents\n",
    "    \n",
    "    tournament = axl.Tournament(\n",
    "        players=players, turns=500, edges=edges, repetitions=100\n",
    "    )\n",
    "    results = tournament.play(progress_bar=False)\n",
    "    \n",
    "    return results.cooperating_rating[:2]"
   ]
  },
  {
   "cell_type": "code",
   "execution_count": 56,
   "metadata": {},
   "outputs": [
    {
     "name": "stderr",
     "output_type": "stream",
     "text": [
      "/home/nightwing/anaconda3/envs/opt-mo/lib/python3.6/site-packages/axelrod/result_set.py:413: RuntimeWarning: invalid value encountered in true_divide\n",
      "  / sum(map(np.array, self.match_lengths))\n"
     ]
    }
   ],
   "source": [
    "best_coop = []\n",
    "gambler_coop = []\n",
    "for i, row in df_with_g.iterrows():\n",
    "    result = get_cooperation_rates(row)\n",
    "    \n",
    "    best_coop.append(result[0]), gambler_coop.append(result[-1])"
   ]
  },
  {
   "cell_type": "code",
   "execution_count": 57,
   "metadata": {},
   "outputs": [],
   "source": [
    "x = len(gambler_coop)"
   ]
  },
  {
   "cell_type": "code",
   "execution_count": 58,
   "metadata": {},
   "outputs": [
    {
     "data": {
      "image/png": "[encoded data removed]",
      "text/plain": [
       "<Figure size 432x288 with 1 Axes>"
      ]
     },
     "metadata": {
      "needs_background": "light"
     },
     "output_type": "display_data"
    }
   ],
   "source": [
    "fig, ax = plt.subplots()\n",
    "\n",
    "plt.scatter(range(x), gambler_coop, label=\"Gambler(2, 1, 1)\", color=\"black\")\n",
    "plt.scatter(\n",
    "    range(x),\n",
    "    best_coop,\n",
    "    marker=\"x\",\n",
    "    label=\"Best response memory-one\",\n",
    "    color=\"red\",\n",
    "    s=70,\n",
    ")\n",
    "\n",
    "plt.ylabel(\"Cooperating Ratio\", fontsize=10, fontweight=\"bold\")\n",
    "lgd = plt.legend(\n",
    "    bbox_to_anchor=(0.0, 1.02, 1.0, 0.102),\n",
    "    loc=3,\n",
    "    ncol=2,\n",
    "    mode=\"expand\",\n",
    "    borderaxespad=0.0,\n",
    ")\n",
    "\n",
    "fig.tight_layout()"
   ]
  },
  {
   "cell_type": "code",
   "execution_count": null,
   "metadata": {},
   "outputs": [],
   "source": []
  }
 ],
 "metadata": {
  "kernelspec": {
   "display_name": "opt-mo",
   "language": "python",
   "name": "opt-mo"
  },
  "language_info": {
   "codemirror_mode": {
    "name": "ipython",
    "version": 3
   },
   "file_extension": ".py",
   "mimetype": "text/x-python",
   "name": "python",
   "nbconvert_exporter": "python",
   "pygments_lexer": "ipython3",
   "version": "3.6.7"
  }
 },
 "nbformat": 4,
 "nbformat_minor": 2
}
